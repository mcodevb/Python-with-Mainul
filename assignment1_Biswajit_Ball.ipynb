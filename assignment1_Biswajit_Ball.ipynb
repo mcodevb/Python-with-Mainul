{
  "cells": [
    {
      "cell_type": "markdown",
      "metadata": {
        "id": "view-in-github",
        "colab_type": "text"
      },
      "source": [
        "<a href=\"https://colab.research.google.com/github/mcodevb/Python-with-Mainul/blob/master/assignment1_Biswajit_Ball.ipynb\" target=\"_parent\"><img src=\"https://colab.research.google.com/assets/colab-badge.svg\" alt=\"Open In Colab\"/></a>"
      ]
    },
    {
      "cell_type": "markdown",
      "id": "983bc7e9",
      "metadata": {
        "id": "983bc7e9"
      },
      "source": [
        "Q1. Write a Python program to check if a number is positive, negative, or zero.\n",
        "Hint: The number is positive if it is greater than 0, negative if it is less than 0, and zero if it equals 0."
      ]
    },
    {
      "cell_type": "code",
      "execution_count": null,
      "id": "acb52147",
      "metadata": {
        "colab": {
          "base_uri": "https://localhost:8080/"
        },
        "id": "acb52147",
        "outputId": "d0430bbf-4256-43c1-b2fe-b32dc46a0943"
      },
      "outputs": [
        {
          "output_type": "stream",
          "name": "stdout",
          "text": [
            "The number is negative\n"
          ]
        }
      ],
      "source": [
        "n1=-15\n",
        "if (n1==0):\n",
        "    print(\"The number is zero\")\n",
        "elif (n1>1):\n",
        "    print(\"The number is positive\")\n",
        "else:\n",
        "    print(\"The number is negative\")"
      ]
    },
    {
      "cell_type": "code",
      "source": [
        "!python --version"
      ],
      "metadata": {
        "colab": {
          "base_uri": "https://localhost:8080/"
        },
        "id": "5Qyf6wVfzg68",
        "outputId": "1e6dda42-d4d9-4435-e40f-f536c433347b"
      },
      "id": "5Qyf6wVfzg68",
      "execution_count": null,
      "outputs": [
        {
          "output_type": "stream",
          "name": "stdout",
          "text": [
            "Python 3.10.11\n"
          ]
        }
      ]
    },
    {
      "cell_type": "markdown",
      "id": "4b63b0b4",
      "metadata": {
        "id": "4b63b0b4"
      },
      "source": [
        "Q2. Write a Python program to check if a number is even or odd.\n",
        "Hint: The number is even if it is divisible by 2 without any remainder, and odd otherwise."
      ]
    },
    {
      "cell_type": "code",
      "execution_count": null,
      "id": "c47e936a",
      "metadata": {
        "id": "c47e936a",
        "outputId": "a4f87aff-9b06-4a6a-c4e0-b94c578a3263"
      },
      "outputs": [
        {
          "name": "stdout",
          "output_type": "stream",
          "text": [
            "The number is even\n"
          ]
        }
      ],
      "source": [
        "n2=4\n",
        "if (n2%2==0):\n",
        "    print(\"The number is even\")\n",
        "else:\n",
        "    print(\"The number is odd\")"
      ]
    },
    {
      "cell_type": "markdown",
      "id": "2ecff357",
      "metadata": {
        "id": "2ecff357"
      },
      "source": [
        "Q3. Write a Python program to check if a year is a leap year.\n",
        "Hint: A leap year is divisible by 4 but not divisible by 100, except if it is also divisible by 400."
      ]
    },
    {
      "cell_type": "code",
      "execution_count": null,
      "id": "730ca7cb",
      "metadata": {
        "id": "730ca7cb",
        "outputId": "04f66487-e103-4a21-fb66-92b5b4a8d185"
      },
      "outputs": [
        {
          "name": "stdout",
          "output_type": "stream",
          "text": [
            "The year is a leap year\n"
          ]
        }
      ],
      "source": [
        "leap_year=2000\n",
        "if (leap_year%4==0):\n",
        "    print(\"The year is a leap year\")\n",
        "elif (leap_year%400==0):\n",
        "    print(\"The year is a leap year\")\n",
        "else:\n",
        "    print(\"The year is not a leap year\")"
      ]
    },
    {
      "cell_type": "markdown",
      "id": "93ac43f3",
      "metadata": {
        "id": "93ac43f3"
      },
      "source": [
        "Q4. Write a Python program to check if a character is a vowel or a consonant.\n",
        "Hint: The character is a vowel if it is 'a', 'e', 'i', 'o', or 'u', and a consonant otherwise."
      ]
    },
    {
      "cell_type": "code",
      "execution_count": null,
      "id": "d90a27de",
      "metadata": {
        "id": "d90a27de",
        "outputId": "8d15bb1e-74f8-4328-b943-fc0b8902cff5"
      },
      "outputs": [
        {
          "name": "stdout",
          "output_type": "stream",
          "text": [
            "The character is a vowel\n"
          ]
        }
      ],
      "source": [
        "vowel=['a', 'e', 'i', 'o', 'u']\n",
        "n3='a'\n",
        "if (n3 in vowel):\n",
        "    print(\"The character is a vowel\")\n",
        "else:\n",
        "    print(\"The character is not a vowel\")"
      ]
    },
    {
      "cell_type": "markdown",
      "id": "8d3a6ad3",
      "metadata": {
        "id": "8d3a6ad3"
      },
      "source": [
        "Q5. Write a Python program to check if a number is prime.\n",
        "Hint: A prime number is a number greater than 1 that has no divisors other than 1 and itself."
      ]
    },
    {
      "cell_type": "code",
      "execution_count": null,
      "id": "7291236c",
      "metadata": {
        "colab": {
          "base_uri": "https://localhost:8080/"
        },
        "id": "7291236c",
        "outputId": "de986bce-2a6e-48cf-a7e9-7f11dfe40750"
      },
      "outputs": [
        {
          "output_type": "stream",
          "name": "stdout",
          "text": [
            "The number is not prime\n"
          ]
        }
      ],
      "source": [
        "n4=77\n",
        "if (n4>1):\n",
        "    for i in range(2,n4):\n",
        "        if (n4%i==0):\n",
        "            print(\"The number is not prime\")\n",
        "            break\n",
        "        \n",
        "    else:\n",
        "        print(\"The number is prime\")"
      ]
    },
    {
      "cell_type": "markdown",
      "id": "fea7e73c",
      "metadata": {
        "id": "fea7e73c"
      },
      "source": [
        "Q6. Write a Python program to check if a string is a palindrome.\n",
        "Hint: A palindrome is a string that reads the same forwards and backward."
      ]
    },
    {
      "cell_type": "code",
      "execution_count": null,
      "id": "b2af2a37",
      "metadata": {
        "colab": {
          "base_uri": "https://localhost:8080/"
        },
        "id": "b2af2a37",
        "outputId": "c974239e-1bbd-4919-fb27-18ed6ca70aec"
      },
      "outputs": [
        {
          "output_type": "stream",
          "name": "stdout",
          "text": [
            "The string is a palindrome\n"
          ]
        }
      ],
      "source": [
        "x=\"121\"\n",
        "y=list(x)\n",
        "y.reverse()\n",
        "z=''.join(y)\n",
        "#print(z)\n",
        "\n",
        "if (x==z):\n",
        "    print(\"The string is a palindrome\")\n",
        "else:\n",
        "    print(\"The string is not a palindrome\")\n"
      ]
    },
    {
      "cell_type": "markdown",
      "id": "b26255f7",
      "metadata": {
        "id": "b26255f7"
      },
      "source": [
        "Q7. Write a Python program to check if a triangle is equilateral, isosceles, or scalene.\n",
        "Hint: An equilateral triangle has all sides equal, an isosceles triangle has two sides equal, and a scalene triangle has all sides different."
      ]
    },
    {
      "cell_type": "code",
      "execution_count": null,
      "id": "9dcb2299",
      "metadata": {
        "colab": {
          "base_uri": "https://localhost:8080/"
        },
        "id": "9dcb2299",
        "outputId": "8cb2bd1b-f029-40de-d60f-6da8b92a6ca8"
      },
      "outputs": [
        {
          "output_type": "stream",
          "name": "stdout",
          "text": [
            "the triange is isosceles\n"
          ]
        }
      ],
      "source": [
        "a=7\n",
        "b=5\n",
        "c=5\n",
        "if (a==b and a==c and a==c):\n",
        "    print(\"The triangle is equilateral\")\n",
        "elif (a==b and a!=c and b!=c or b==c and c!=a and b!=a or c==a and c!=b and a!=b):\n",
        "    print(\"the triange is isosceles\")\n",
        "else:\n",
        "    print(\"The triangle is scalene\")"
      ]
    },
    {
      "cell_type": "markdown",
      "source": [],
      "metadata": {
        "id": "_BXLpTAU5KbD"
      },
      "id": "_BXLpTAU5KbD"
    },
    {
      "cell_type": "markdown",
      "id": "3cb33094",
      "metadata": {
        "id": "3cb33094"
      },
      "source": [
        "Q8. Write a Python program to check if a number is a perfect square.\n",
        "Hint: A perfect square is a number whose square root is an integer."
      ]
    },
    {
      "cell_type": "code",
      "execution_count": null,
      "id": "f0047218",
      "metadata": {
        "colab": {
          "base_uri": "https://localhost:8080/"
        },
        "id": "f0047218",
        "outputId": "f4b1f865-3616-45bc-8b0f-26e8284ba97f"
      },
      "outputs": [
        {
          "output_type": "stream",
          "name": "stdout",
          "text": [
            "The number is not a perfect square\n"
          ]
        }
      ],
      "source": [
        "import math\n",
        "n5=14\n",
        "i=math.sqrt(n5)\n",
        "if (i.is_integer()==True):\n",
        "    print(\"The number is a perfect square\")\n",
        "else:\n",
        "    print(\"The number is not a perfect square\")"
      ]
    },
    {
      "cell_type": "markdown",
      "id": "902059fb",
      "metadata": {
        "id": "902059fb"
      },
      "source": [
        "Q9. Write a Python program to check if a string is a valid email address.\n",
        "Hint: A valid email address follows certain patterns and contains an '@' symbol."
      ]
    },
    {
      "cell_type": "code",
      "execution_count": null,
      "id": "8d21b09e",
      "metadata": {
        "id": "8d21b09e",
        "outputId": "25c7be92-417d-4308-c0dd-b4d047175996"
      },
      "outputs": [
        {
          "name": "stdout",
          "output_type": "stream",
          "text": [
            "The string is a valid email\n"
          ]
        }
      ],
      "source": [
        "email=\"biswajitchem67@gmail.com\"\n",
        "\n",
        "if \"@\" in email:\n",
        "    print(\"The string is a valid email\")\n",
        "else:\n",
        "    print(\"The string is not a valid email\")\n"
      ]
    },
    {
      "cell_type": "markdown",
      "id": "99087ec9",
      "metadata": {
        "id": "99087ec9"
      },
      "source": [
        "Q10. Write a Python program to check if a number is a power of two. \n",
        "Hint: A number is a power of two if it can be expressed as 2 raised to an integer exponent."
      ]
    },
    {
      "cell_type": "code",
      "execution_count": null,
      "id": "ed51308f",
      "metadata": {
        "colab": {
          "base_uri": "https://localhost:8080/"
        },
        "id": "ed51308f",
        "outputId": "7bbcc992-fb2f-4221-ccf1-e516dab82ffc"
      },
      "outputs": [
        {
          "output_type": "stream",
          "name": "stdout",
          "text": [
            "The number is a power of two\n"
          ]
        }
      ],
      "source": [
        "n6=16\n",
        "\n",
        "if (n6==0):\n",
        "    print(\"The number is not power of two\")\n",
        "\n",
        "while (n6 !=1):\n",
        "    if (n6%2 !=0):\n",
        "        print(\"The number is not power of two\")\n",
        "        break\n",
        "    n6=n6//2\n",
        "    \n",
        "else:\n",
        "    print(\"The number is a power of two\")\n",
        "\n"
      ]
    },
    {
      "cell_type": "markdown",
      "id": "48376eaa",
      "metadata": {
        "id": "48376eaa"
      },
      "source": [
        "Q11. Write a Python program to check if a given year is a century year.\n",
        "Hint: A century year is evenly divisible by 100.\n"
      ]
    },
    {
      "cell_type": "code",
      "execution_count": null,
      "id": "9e03533e",
      "metadata": {
        "id": "9e03533e",
        "outputId": "8b8be326-57e7-4e5c-ce6a-8d19e727c7d8"
      },
      "outputs": [
        {
          "name": "stdout",
          "output_type": "stream",
          "text": [
            "The year is a century year\n"
          ]
        }
      ],
      "source": [
        "century_year=2000\n",
        "if (century_year<=0):\n",
        "    print(\"Value error\")\n",
        "elif (century_year<100):\n",
        "    print(\"1st century\")\n",
        "elif (century_year%100==0):\n",
        "    print(\"The year is a century year\")\n",
        "else:\n",
        "    print(\"The year is not a century year\")\n"
      ]
    },
    {
      "cell_type": "markdown",
      "id": "721feff1",
      "metadata": {
        "id": "721feff1"
      },
      "source": [
        "Q12. Write a Python program to check if a given string is a valid password (with specific conditions, e.g., length, uppercase, lowercase, digits).\n",
        "Hint: A valid password should satisfy certain criteria, such as having a minimum length, and containing uppercase and lowercase letters, and digits."
      ]
    },
    {
      "cell_type": "code",
      "execution_count": null,
      "id": "c4e84aee",
      "metadata": {
        "id": "c4e84aee"
      },
      "outputs": [],
      "source": [
        "password=\"MiNg567\"\n"
      ]
    },
    {
      "cell_type": "markdown",
      "id": "86d1879a",
      "metadata": {
        "id": "86d1879a"
      },
      "source": [
        "Q13. Write a Python program to check if a number is a Fibonacci number.\n",
        "\n",
        "1.   List item\n",
        "2.   List item\n",
        "\n",
        "\n",
        "Hint: A Fibonacci number is a number that is part of the Fibonacci sequence, where each number is the sum of the two preceding ones."
      ]
    },
    {
      "cell_type": "code",
      "execution_count": null,
      "id": "95b1a298",
      "metadata": {
        "id": "95b1a298",
        "outputId": "0da52828-05be-4aeb-c0cd-c94cb2d486e9"
      },
      "outputs": [
        {
          "name": "stdout",
          "output_type": "stream",
          "text": [
            "The number is a Fibonacci number\n"
          ]
        }
      ],
      "source": [
        "#A number is a Fabonacci number if one or both of (5*n**2 + 4) or (5*n**2 - 4) is a perfect square \n",
        "import math\n",
        "f=5\n",
        "i=(5*f**2 + 4)\n",
        "j=(5*f**2 - 4)\n",
        "\n",
        "i1=math.sqrt(i)\n",
        "j1=math.sqrt(j)\n",
        "\n",
        "if (i1.is_integer()==True or j1.is_integer()==True):\n",
        "    print(\"The number is a Fibonacci number\")\n",
        "else:\n",
        "    print(\"The number is not a Fibonacci number\")"
      ]
    },
    {
      "cell_type": "markdown",
      "id": "fbb9dd17",
      "metadata": {
        "id": "fbb9dd17"
      },
      "source": [
        "Q14. Write a Python program to check if a string is a valid URL.\n",
        "Hint: A valid URL should follow specific form₹atting rules and include components like a scheme (e.g., 'http', 'https') and a domain."
      ]
    },
    {
      "cell_type": "code",
      "execution_count": null,
      "id": "99421d08",
      "metadata": {
        "id": "99421d08",
        "outputId": "bfc98b9d-7af4-43e4-e0ca-5a7f455d50fe"
      },
      "outputs": [
        {
          "name": "stdout",
          "output_type": "stream",
          "text": [
            "The string is a valid URL\n"
          ]
        }
      ],
      "source": [
        "URL=\"https://scholar.google.co.in/\"\n",
        "\n",
        "if \"https\" in URL:\n",
        "    print(\"The string is a valid URL\")\n",
        "else:\n",
        "    print(\"The string is not a valid URL\")"
      ]
    },
    {
      "cell_type": "markdown",
      "id": "ce836588",
      "metadata": {
        "id": "ce836588"
      },
      "source": [
        "Q15. Write a Python program to check if a given number is within a specific range.\n",
        "Hint: The number is within the range if it is greater than or equal to the lower bound and less than or equal to the upper bound."
      ]
    },
    {
      "cell_type": "code",
      "execution_count": null,
      "id": "abb81838",
      "metadata": {
        "id": "abb81838",
        "outputId": "0ee1ddfb-e364-4368-f6df-0918ac1ffdf7"
      },
      "outputs": [
        {
          "name": "stdout",
          "output_type": "stream",
          "text": [
            "The number is not within the specified range\n"
          ]
        }
      ],
      "source": [
        "lower_bound=1\n",
        "upper_bound=100\n",
        "\n",
        "number = 120\n",
        "\n",
        "if (number<=lower_bound):\n",
        "    print(\"The number is not within the specified range\")\n",
        "elif (number>=upper_bound):\n",
        "    print(\"The number is not within the specified range\")\n",
        "else:\n",
        "    print(\"The number is within the specified range\")"
      ]
    },
    {
      "cell_type": "markdown",
      "id": "f62293d8",
      "metadata": {
        "id": "f62293d8"
      },
      "source": [
        "Q16. Write a Python program to check if a list contains duplicate elements.\n",
        "Hint: The list contains duplicate elements if there are two or more elements with the same value. "
      ]
    },
    {
      "cell_type": "code",
      "execution_count": null,
      "id": "7db6fdf4",
      "metadata": {
        "id": "7db6fdf4",
        "outputId": "73e330b3-59ea-4f54-b9a4-69f3e02bd69d"
      },
      "outputs": [
        {
          "name": "stdout",
          "output_type": "stream",
          "text": [
            "The list does not contain duplicate elements\n"
          ]
        }
      ],
      "source": [
        "#numbers = [1, 2, 3, 2, 5, 3, 3, 5, 6, 3, 4, 5, 7]\n",
        "numbers=[1, 2, 3, 4, 5, 6, 7, 8, 9, 10]\n",
        "for i in numbers:\n",
        "    if (numbers.count(i)>1):\n",
        "        print(\"The list contains duplicate elements\")\n",
        "        break\n",
        "else:\n",
        "    print(\"The list does not contain duplicate elements\")\n",
        "    \n",
        "#Another Method:\n",
        "\n",
        "# if (len(numbers) != len(set(numbers))):\n",
        "#     print (\"The list contains duplicate elements\")\n",
        "# else:\n",
        "#     print(\"The list does not contain duplicate elements\")\n"
      ]
    },
    {
      "cell_type": "markdown",
      "id": "e3a1d6bb",
      "metadata": {
        "id": "e3a1d6bb"
      },
      "source": [
        "Q17. Write a Python program to check if a given number is a perfect number.\n",
        "Hint: A perfect number is a positive integer that is equal to the sum of its proper divisors."
      ]
    },
    {
      "cell_type": "code",
      "execution_count": null,
      "id": "44524395",
      "metadata": {
        "id": "44524395",
        "outputId": "0508c93f-d24c-4dd8-82f8-21147d041fcd"
      },
      "outputs": [
        {
          "name": "stdout",
          "output_type": "stream",
          "text": [
            "The number is not a perfect number\n"
          ]
        }
      ],
      "source": [
        "perfect_number=7\n",
        "my_sum=0\n",
        "for i in range (1,perfect_number):\n",
        "    if (perfect_number%i==0):\n",
        "        my_sum +=i\n",
        "if (my_sum==perfect_number):\n",
        "    print(\"The number is a perfect number\")\n",
        "else:\n",
        "    print(\"The number is not a perfect number\")\n",
        "    "
      ]
    },
    {
      "cell_type": "code",
      "execution_count": null,
      "id": "e32b986b",
      "metadata": {
        "id": "e32b986b"
      },
      "outputs": [],
      "source": []
    }
  ],
  "metadata": {
    "kernelspec": {
      "display_name": "Python 3 (ipykernel)",
      "language": "python",
      "name": "python3"
    },
    "language_info": {
      "codemirror_mode": {
        "name": "ipython",
        "version": 3
      },
      "file_extension": ".py",
      "mimetype": "text/x-python",
      "name": "python",
      "nbconvert_exporter": "python",
      "pygments_lexer": "ipython3",
      "version": "3.11.1"
    },
    "colab": {
      "provenance": [],
      "include_colab_link": true
    }
  },
  "nbformat": 4,
  "nbformat_minor": 5
}