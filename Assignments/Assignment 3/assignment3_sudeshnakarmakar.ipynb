{
 "cells": [
  {
   "cell_type": "markdown",
   "id": "73b1bd88",
   "metadata": {},
   "source": [
    "# 1.Write a program to create an null matrix of size n."
   ]
  },
  {
   "cell_type": "code",
   "execution_count": 15,
   "id": "88533ba0",
   "metadata": {},
   "outputs": [
    {
     "data": {
      "text/plain": [
       "[[0, 0, 0, 0, 0, 0],\n",
       " [0, 0, 0, 0, 0, 0],\n",
       " [0, 0, 0, 0, 0, 0],\n",
       " [0, 0, 0, 0, 0, 0],\n",
       " [0, 0, 0, 0, 0, 0],\n",
       " [0, 0, 0, 0, 0, 0]]"
      ]
     },
     "execution_count": 15,
     "metadata": {},
     "output_type": "execute_result"
    }
   ],
   "source": [
    "def matrix(n):\n",
    "    if n>0:\n",
    "        a=[[0 for i in range(n)] for j in range(n)]\n",
    "        return a\n",
    "    else:\n",
    "        return('n must be greater than 0')\n",
    "matrix(6)"
   ]
  },
  {
   "cell_type": "markdown",
   "id": "6cad88f8",
   "metadata": {},
   "source": [
    "# 2.Write a program to create an identity matrix of size n."
   ]
  },
  {
   "cell_type": "code",
   "execution_count": 16,
   "id": "c52e73e1",
   "metadata": {},
   "outputs": [
    {
     "data": {
      "text/plain": [
       "[[1, 0, 0, 0, 0, 0],\n",
       " [0, 1, 0, 0, 0, 0],\n",
       " [0, 0, 1, 0, 0, 0],\n",
       " [0, 0, 0, 1, 0, 0],\n",
       " [0, 0, 0, 0, 1, 0],\n",
       " [0, 0, 0, 0, 0, 1]]"
      ]
     },
     "execution_count": 16,
     "metadata": {},
     "output_type": "execute_result"
    }
   ],
   "source": [
    "def id_mat(n):\n",
    "    if n>0:\n",
    "        a=[[0 for i in range(n)] for j in range(n)]\n",
    "        for k in range(n):\n",
    "            a[k][k]=1\n",
    "        return a        \n",
    "    else:\n",
    "        return('n must be greater than 0')\n",
    "id_mat(6)"
   ]
  },
  {
   "cell_type": "markdown",
   "id": "f1e1284e",
   "metadata": {},
   "source": [
    "# 3.Write a program to create a diagonal matrix from a given list of elements."
   ]
  },
  {
   "cell_type": "code",
   "execution_count": 19,
   "id": "4d07e7c6",
   "metadata": {},
   "outputs": [
    {
     "data": {
      "text/plain": [
       "[[1, 0, 0, 0, 0],\n",
       " [0, 2, 0, 0, 0],\n",
       " [0, 0, 3, 0, 0],\n",
       " [0, 0, 0, 4, 0],\n",
       " [0, 0, 0, 0, 5]]"
      ]
     },
     "execution_count": 19,
     "metadata": {},
     "output_type": "execute_result"
    }
   ],
   "source": [
    "def dia_mat(n):\n",
    "    if n>0:\n",
    "        a=[[0 for i in range(n)] for j in range(n)]\n",
    "        for k in range(n):\n",
    "            a[k][k]=list1[k]\n",
    "        return a        \n",
    "    else:\n",
    "        return('n must be greater than 0')\n",
    "list1=[1,2,3,4,5]\n",
    "dia_mat(len(list1))"
   ]
  },
  {
   "cell_type": "markdown",
   "id": "1bc63b08",
   "metadata": {},
   "source": [
    "# 4.Write a program to create a symmetric matrix from a given square matrix."
   ]
  },
  {
   "cell_type": "code",
   "execution_count": 29,
   "id": "4a00a5b2",
   "metadata": {},
   "outputs": [
    {
     "data": {
      "text/plain": [
       "[[1, 2, 3, 4, 5],\n",
       " [2, 4, 5, 6, 7],\n",
       " [3, 5, 7, 8, 9],\n",
       " [4, 6, 8, 5, 6],\n",
       " [5, 7, 9, 6, 8]]"
      ]
     },
     "execution_count": 29,
     "metadata": {},
     "output_type": "execute_result"
    }
   ],
   "source": [
    "def sym_mat(n):\n",
    "    a=[[0 for i in range(n)] for j in range(n)]\n",
    "    for i in range(n):\n",
    "        for j in range(n):\n",
    "            if(i<=j):\n",
    "                a[i][j]=A[i][j]\n",
    "            else:\n",
    "                a[i][j]=A[j][i]\n",
    "    return a        \n",
    "A=[[1,2,3,4,5],[3,4,5,6,7],[5,6,7,8,9],[2,3,4,5,6],[4,5,6,7,8]]\n",
    "sym_mat(len(A))"
   ]
  },
  {
   "cell_type": "markdown",
   "id": "cc339aea",
   "metadata": {},
   "source": [
    "# 5.Write a program to create a new list that contains the lengths of strings greater than 5 characters from a given list of strings."
   ]
  },
  {
   "cell_type": "code",
   "execution_count": 33,
   "id": "3cbdad48",
   "metadata": {},
   "outputs": [
    {
     "data": {
      "text/plain": [
       "['sudeshna', 'bikram', 'mousumi', 'ritwik']"
      ]
     },
     "execution_count": 33,
     "metadata": {},
     "output_type": "execute_result"
    }
   ],
   "source": [
    "def new_list(n):\n",
    "    a=[]\n",
    "    for i in n:\n",
    "        if(len(i)>5):\n",
    "            a.append(i)\n",
    "    return a\n",
    "new_list(['sudeshna','sunny','bikram','mousumi','ritwik'])    "
   ]
  },
  {
   "cell_type": "markdown",
   "id": "8e29fd17",
   "metadata": {},
   "source": [
    "# 6.Find the value of exp(x)"
   ]
  },
  {
   "cell_type": "code",
   "execution_count": 38,
   "id": "3b513fd7",
   "metadata": {},
   "outputs": [
    {
     "data": {
      "text/plain": [
       "2.7182818284590455"
      ]
     },
     "execution_count": 38,
     "metadata": {},
     "output_type": "execute_result"
    }
   ],
   "source": [
    "def factorial(n):\n",
    "    s=1\n",
    "    i=0\n",
    "    while i<n:\n",
    "        i+=1\n",
    "        s=s*i\n",
    "    return(s)\n",
    "def exp(x):\n",
    "    sum1=1\n",
    "    n=1\n",
    "    while ((x**n)/factorial(n))>0:\n",
    "        sum1=sum1+((x**n)/factorial(n))\n",
    "        n+=1\n",
    "    return(sum1)\n",
    "exp(1)\n",
    "        "
   ]
  },
  {
   "cell_type": "code",
   "execution_count": null,
   "id": "99bf11a4",
   "metadata": {},
   "outputs": [],
   "source": []
  }
 ],
 "metadata": {
  "kernelspec": {
   "display_name": "Python 3 (ipykernel)",
   "language": "python",
   "name": "python3"
  },
  "language_info": {
   "codemirror_mode": {
    "name": "ipython",
    "version": 3
   },
   "file_extension": ".py",
   "mimetype": "text/x-python",
   "name": "python",
   "nbconvert_exporter": "python",
   "pygments_lexer": "ipython3",
   "version": "3.10.9"
  }
 },
 "nbformat": 4,
 "nbformat_minor": 5
}
