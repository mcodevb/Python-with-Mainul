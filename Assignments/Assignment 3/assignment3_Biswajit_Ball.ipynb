{
 "cells": [
  {
   "cell_type": "markdown",
   "id": "c7183308",
   "metadata": {},
   "source": [
    "Q1.Write a program to create an null matrix of size n."
   ]
  },
  {
   "cell_type": "code",
   "execution_count": 4,
   "id": "ec27ad46",
   "metadata": {},
   "outputs": [
    {
     "name": "stdout",
     "output_type": "stream",
     "text": [
      "[[0, 0, 0, 0, 0, 0, 0, 0, 0, 0], [0, 0, 0, 0, 0, 0, 0, 0, 0, 0], [0, 0, 0, 0, 0, 0, 0, 0, 0, 0], [0, 0, 0, 0, 0, 0, 0, 0, 0, 0], [0, 0, 0, 0, 0, 0, 0, 0, 0, 0], [0, 0, 0, 0, 0, 0, 0, 0, 0, 0], [0, 0, 0, 0, 0, 0, 0, 0, 0, 0], [0, 0, 0, 0, 0, 0, 0, 0, 0, 0], [0, 0, 0, 0, 0, 0, 0, 0, 0, 0], [0, 0, 0, 0, 0, 0, 0, 0, 0, 0]]\n"
     ]
    }
   ],
   "source": [
    "from random import *\n",
    "m=10 \n",
    "row=m\n",
    "col=m\n",
    "null_matrix=[[randint(0,0) for _ in range(col)]  for _ in range(row)]\n",
    "print(null_matrix)"
   ]
  },
  {
   "cell_type": "markdown",
   "id": "8543c037",
   "metadata": {},
   "source": [
    "Q2. Write a program to create an identity matrix of size n."
   ]
  },
  {
   "cell_type": "code",
   "execution_count": 11,
   "id": "e772768f",
   "metadata": {},
   "outputs": [
    {
     "name": "stdout",
     "output_type": "stream",
     "text": [
      "[[1, 0, 0, 0, 0, 0, 0, 0, 0, 0], [0, 1, 0, 0, 0, 0, 0, 0, 0, 0], [0, 0, 1, 0, 0, 0, 0, 0, 0, 0], [0, 0, 0, 1, 0, 0, 0, 0, 0, 0], [0, 0, 0, 0, 1, 0, 0, 0, 0, 0], [0, 0, 0, 0, 0, 1, 0, 0, 0, 0], [0, 0, 0, 0, 0, 0, 1, 0, 0, 0], [0, 0, 0, 0, 0, 0, 0, 1, 0, 0], [0, 0, 0, 0, 0, 0, 0, 0, 1, 0], [0, 0, 0, 0, 0, 0, 0, 0, 0, 1]]\n"
     ]
    }
   ],
   "source": [
    "n=10\n",
    "row=n\n",
    "col=n\n",
    "identity_matrix=[[randint(0,0) for _ in range(col)]  for _ in range(row)]\n",
    "\n",
    "for i in range(row):\n",
    "    for j in range(col):\n",
    "        if (i==j):\n",
    "            identity_matrix[i][j]=1\n",
    "        else:\n",
    "            identity_matrix[i][j]=0\n",
    "print(identity_matrix)\n",
    "        "
   ]
  },
  {
   "cell_type": "markdown",
   "id": "dde046e9",
   "metadata": {},
   "source": [
    "Q3. Write a program to create a diagonal matrix from a given list of elements."
   ]
  },
  {
   "cell_type": "code",
   "execution_count": 15,
   "id": "5366bf35",
   "metadata": {},
   "outputs": [
    {
     "name": "stdout",
     "output_type": "stream",
     "text": [
      "[[1, 0, 0, 0, 0], [0, 2, 0, 0, 0], [0, 0, 3, 0, 0], [0, 0, 0, 4, 0], [0, 0, 0, 0, 5]]\n"
     ]
    }
   ],
   "source": [
    "list_of_elements=[1, 2, 3, 4, 5]\n",
    "\n",
    "diagonal_matrix=[[randint(0,0) for _ in range (len(list_of_elements))] for _ in range (len(list_of_elements))]\n",
    "\n",
    "row=len(list_of_elements)\n",
    "col=len(list_of_elements)\n",
    "\n",
    "for i in range(row):\n",
    "    for j in range(col):\n",
    "        if (i==j):\n",
    "            diagonal_matrix[i][j]=list_of_elements[i]\n",
    "        else:\n",
    "            diagonal_matrix[i][j]=0\n",
    "print(diagonal_matrix)\n"
   ]
  },
  {
   "cell_type": "markdown",
   "id": "854e3930",
   "metadata": {},
   "source": [
    "Q4. Write a program to create a symmetric matrix from a given square matrix."
   ]
  },
  {
   "cell_type": "code",
   "execution_count": 29,
   "id": "5faa57b1",
   "metadata": {},
   "outputs": [
    {
     "name": "stdout",
     "output_type": "stream",
     "text": [
      "[[3, 0, 0], [0, 2, 0], [0, 0, 2]]\n"
     ]
    }
   ],
   "source": [
    "sqr_mat_size=3\n",
    "row=sqr_mat_size\n",
    "col=sqr_mat_size\n",
    "\n",
    "sqr_matrix=[[randint(2,3) for _ in range(col)]  for _ in range(row)]\n",
    "\n",
    "transpose_sqr_matrix=[[sqr_matrix[i][j] for i in range(row)]  for j in range(col)]\n",
    "\n",
    "sym_matrix=[[randint(0,0) for _ in range(col)]  for _ in range(row)]\n",
    "\n",
    "for i in range(row):\n",
    "    for j in range(col):\n",
    "        if (sqr_matrix[i][j]==transpose_sqr_matrix[i][j]):\n",
    "            sym_matrix[i][j]=sqr_matrix[i][j]\n",
    "        else:\n",
    "            sym_matrix[i][j]=0\n",
    "\n",
    "print(sym_matrix)\n",
    "\n",
    "\n"
   ]
  },
  {
   "cell_type": "markdown",
   "id": "e0046f07",
   "metadata": {},
   "source": [
    "Q5. Write a program to create a new list that contain the length of strings greater than 5 characters from a given list of strings."
   ]
  },
  {
   "cell_type": "code",
   "execution_count": 35,
   "id": "71f21a84",
   "metadata": {},
   "outputs": [
    {
     "name": "stdout",
     "output_type": "stream",
     "text": [
      "['Elephant', 'Bandel', 'Purulia', 'Santiniketan', 'Monkey', 'Computational Chemistry']\n"
     ]
    }
   ],
   "source": [
    "list_of_strings=['Mango', 'Elephant', 'Cat', 'Bandel', 'Purulia', 'Santiniketan', 'Monkey', 'Tree', 'Computational Chemistry']\n",
    "my_list=[i for i in list_of_strings if len(i) > 5]\n",
    "print(my_list)"
   ]
  },
  {
   "cell_type": "markdown",
   "id": "a9492dcc",
   "metadata": {},
   "source": [
    "Q6. Find the value of exp(x)"
   ]
  },
  {
   "cell_type": "code",
   "execution_count": 39,
   "id": "7ee9aa0b",
   "metadata": {},
   "outputs": [
    {
     "name": "stdout",
     "output_type": "stream",
     "text": [
      "e^x = 12842.305114638451\n"
     ]
    }
   ],
   "source": []
  },
  {
   "cell_type": "markdown",
   "id": "9c973823",
   "metadata": {},
   "source": [
    "Q7. Magician "
   ]
  },
  {
   "cell_type": "code",
   "execution_count": null,
   "id": "2aab9f50",
   "metadata": {},
   "outputs": [],
   "source": []
  }
 ],
 "metadata": {
  "kernelspec": {
   "display_name": "Python 3 (ipykernel)",
   "language": "python",
   "name": "python3"
  },
  "language_info": {
   "codemirror_mode": {
    "name": "ipython",
    "version": 3
   },
   "file_extension": ".py",
   "mimetype": "text/x-python",
   "name": "python",
   "nbconvert_exporter": "python",
   "pygments_lexer": "ipython3",
   "version": "3.11.1"
  }
 },
 "nbformat": 4,
 "nbformat_minor": 5
}
