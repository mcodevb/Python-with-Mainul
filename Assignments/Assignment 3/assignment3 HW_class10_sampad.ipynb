{
 "cells": [
  {
   "cell_type": "markdown",
   "id": "5a65bab1-fdfb-45bd-88ae-7c8adc3aef06",
   "metadata": {},
   "source": [
    "### Q1. Write a program to create an null matrix of size $n$."
   ]
  },
  {
   "cell_type": "code",
   "execution_count": 2,
   "id": "8401d4c5-f9f1-46e2-8788-38819206c100",
   "metadata": {},
   "outputs": [
    {
     "data": {
      "text/plain": [
       "[[0, 0, 0], [0, 0, 0], [0, 0, 0]]"
      ]
     },
     "execution_count": 2,
     "metadata": {},
     "output_type": "execute_result"
    }
   ],
   "source": [
    "def null_matrix(n):\n",
    "    null_mat=[[0 for _ in range(n)] for _ in range(n)]\n",
    "    return null_mat\n",
    "\n",
    "# [[0,0],[0,0]]\n",
    "\n",
    "null_matrix(3)"
   ]
  },
  {
   "cell_type": "code",
   "execution_count": null,
   "id": "e6ee576e",
   "metadata": {},
   "outputs": [],
   "source": [
    "def test(n):\n",
    "    a, b = n, n**2\n",
    "    return a,b"
   ]
  },
  {
   "cell_type": "code",
   "execution_count": 3,
   "id": "00c4fd9b-a5f7-416a-bc19-cb4576622fc7",
   "metadata": {},
   "outputs": [
    {
     "data": {
      "text/plain": [
       "[[0, 0, 0], [0, 0, 0], [0, 0, 0]]"
      ]
     },
     "execution_count": 3,
     "metadata": {},
     "output_type": "execute_result"
    }
   ],
   "source": [
    "def null_matrix(n):\n",
    "    return [[0 for _ in range(n)] for _ in range(n)]\n",
    "\n",
    "\n",
    "null_matrix(3)"
   ]
  },
  {
   "cell_type": "markdown",
   "id": "4a67a1d3-106c-4528-a122-984386852f78",
   "metadata": {},
   "source": [
    "**Q2. Write a program to create an identity matrix of size n.**"
   ]
  },
  {
   "cell_type": "code",
   "execution_count": 3,
   "id": "8e2cc42e-6711-44ea-ad34-d6e0bf874ebf",
   "metadata": {},
   "outputs": [
    {
     "data": {
      "text/plain": [
       "[[1, 0, 0, 0, 0],\n",
       " [0, 1, 0, 0, 0],\n",
       " [0, 0, 1, 0, 0],\n",
       " [0, 0, 0, 1, 0],\n",
       " [0, 0, 0, 0, 1]]"
      ]
     },
     "execution_count": 3,
     "metadata": {},
     "output_type": "execute_result"
    }
   ],
   "source": [
    "def id_matrix(n):\n",
    "    return  [([0]*i+[1]+(n-1-i)*[0]) for i in range(n)]   \n",
    "id_matrix(5)"
   ]
  },
  {
   "cell_type": "code",
   "execution_count": 15,
   "id": "a72f1531",
   "metadata": {},
   "outputs": [
    {
     "data": {
      "text/plain": [
       "[0, 0, 0, 0, 0, 0, 0, 1]"
      ]
     },
     "execution_count": 15,
     "metadata": {},
     "output_type": "execute_result"
    }
   ],
   "source": [
    "i = 7\n",
    "n = 8\n",
    "[0]*i + [1] +(n-i-1)*[0]"
   ]
  },
  {
   "cell_type": "code",
   "execution_count": 4,
   "id": "1760b3ca-3ea3-43d3-8ef6-194775d9177a",
   "metadata": {},
   "outputs": [
    {
     "data": {
      "text/plain": [
       "[[1, 0, 0, 0, 0],\n",
       " [0, 1, 0, 0, 0],\n",
       " [0, 0, 1, 0, 0],\n",
       " [0, 0, 0, 1, 0],\n",
       " [0, 0, 0, 0, 1]]"
      ]
     },
     "execution_count": 4,
     "metadata": {},
     "output_type": "execute_result"
    }
   ],
   "source": [
    "def id_matrix(n):\n",
    "    id_mat=[([0]*i+[1]+(n-1-i)*[0]) for i in range(n)]\n",
    "    return id_mat\n",
    "id_matrix(5)"
   ]
  },
  {
   "cell_type": "code",
   "execution_count": 17,
   "id": "b85936d8",
   "metadata": {},
   "outputs": [
    {
     "name": "stdout",
     "output_type": "stream",
     "text": [
      "[[1, 0, 0], [0, 1, 0], [0, 0, 1]]\n"
     ]
    }
   ],
   "source": [
    "def id_matrix(n):\n",
    "    A = null_matrix(n)\n",
    "#     print(A)\n",
    "    for i in range(n):\n",
    "        A[i][i] = 1\n",
    "        \n",
    "    return A\n",
    "\n",
    "print(id_matrix(3))"
   ]
  },
  {
   "cell_type": "code",
   "execution_count": null,
   "id": "d5d56040",
   "metadata": {},
   "outputs": [],
   "source": [
    "def id_matrix(n):\n",
    "    A = null_matrix(n)\n",
    "    for i in range(n):\n",
    "        for j in range(n):\n",
    "            if i==j:\n",
    "                A[i][j] = 1\n",
    "    return A"
   ]
  },
  {
   "cell_type": "code",
   "execution_count": 20,
   "id": "15c6f069",
   "metadata": {},
   "outputs": [
    {
     "name": "stdout",
     "output_type": "stream",
     "text": [
      "[[1, 0, 0], [0, 1, 0], [0, 0, 1]]\n"
     ]
    }
   ],
   "source": [
    "def id_matrix(n):\n",
    "    return [[1 if i==j else 0 for i in range(n)] for j in range(n)]\n",
    "\n",
    "print(id_matrix(3))"
   ]
  },
  {
   "cell_type": "markdown",
   "id": "402ac751-b001-4853-bb65-88e267c74c4a",
   "metadata": {},
   "source": [
    "**Q3. Write a program to create a diagonal matrix from a given list of elements.**"
   ]
  },
  {
   "cell_type": "code",
   "execution_count": 24,
   "id": "3f72e650-85d7-4687-9845-ee7d5ea08084",
   "metadata": {
    "scrolled": true
   },
   "outputs": [
    {
     "name": "stdout",
     "output_type": "stream",
     "text": [
      "[13, 10, 8, 7, 5]\n"
     ]
    },
    {
     "data": {
      "text/plain": [
       "[[13, 0, 0, 0, 0],\n",
       " [0, 10, 0, 0, 0],\n",
       " [0, 0, 8, 0, 0],\n",
       " [0, 0, 0, 7, 0],\n",
       " [0, 0, 0, 0, 5]]"
      ]
     },
     "execution_count": 24,
     "metadata": {},
     "output_type": "execute_result"
    }
   ],
   "source": [
    "from random import *\n",
    "def diag_matrix(lst):\n",
    "    n = len(lst)\n",
    "    return [[0]*i+[lst[i]]+(n-1-i)*[0] for i in range(n)]   \n",
    "\n",
    "n = 5 \n",
    "list1=[randint(1,20) for i in range(n)]\n",
    "print(list1)\n",
    "diag_matrix(list1)"
   ]
  },
  {
   "cell_type": "code",
   "execution_count": 26,
   "id": "05be5ff2",
   "metadata": {},
   "outputs": [
    {
     "name": "stdout",
     "output_type": "stream",
     "text": [
      "[[1, 0, 0], [0, 2, 0], [0, 0, 3]]\n"
     ]
    }
   ],
   "source": [
    "def diag_matrix(lst):\n",
    "    n = len(lst)\n",
    "    A = null_matrix(n)\n",
    "#     print(A)\n",
    "    for i in range(n):\n",
    "        A[i][i] = lst[i]\n",
    "        \n",
    "    return A\n",
    "\n",
    "print(diag_matrix([1,2,3]))"
   ]
  },
  {
   "cell_type": "markdown",
   "id": "0da7526a-e1ac-4e69-a810-f003cde52587",
   "metadata": {},
   "source": [
    "**Q4. Write a program to create a symmetric matrix from a given square matrix.**"
   ]
  },
  {
   "cell_type": "code",
   "execution_count": 6,
   "id": "fe708086-c84a-4186-8660-1956c24dfa22",
   "metadata": {},
   "outputs": [
    {
     "name": "stdout",
     "output_type": "stream",
     "text": [
      "[[1, 2, 4], [3, 7, 0], [5, 6, 8]]\n",
      "[[2, 5, 9], [5, 14, 6], [9, 6, 16]]\n"
     ]
    }
   ],
   "source": [
    "sq_matrix=[[1,3,5],[2,7,6],[4,0,8]]\n",
    "n = len(sq_matrix)\n",
    "trans_sq_matrix=[[0 for _ in range(n)] for _ in range(n)]     \n",
    "for i in range(n):\n",
    "    for j in range(n):\n",
    "        trans_sq_matrix[i][j]=sq_matrix[j][i]\n",
    "        \n",
    "print(trans_sq_matrix)\n",
    "\n",
    "\n",
    "def sym_matrix():\n",
    "    sym_mat=[[0 for _ in range(n)] for _ in range(n)]\n",
    "    for i in range(len(sq_matrix[0])):\n",
    "        for j in range(len(sq_matrix)):\n",
    "            sym_mat[i][j]=sq_matrix[i][j]+trans_sq_matrix[i][j] # (a+at)t=at+a=a+at\n",
    "    return sym_mat\n",
    "print(sym_matrix())\n"
   ]
  },
  {
   "cell_type": "code",
   "execution_count": 32,
   "id": "88bc83f9",
   "metadata": {},
   "outputs": [
    {
     "data": {
      "text/plain": [
       "[[40, 34, 24, 14, 8, 22],\n",
       " [34, 32, 28, 18, 10, 22],\n",
       " [24, 28, 12, 22, 18, 30],\n",
       " [14, 18, 22, 16, 18, 26],\n",
       " [8, 10, 18, 18, 12, 15],\n",
       " [22, 22, 30, 26, 15, 6]]"
      ]
     },
     "execution_count": 32,
     "metadata": {},
     "output_type": "execute_result"
    }
   ],
   "source": [
    "def symmetrify(sq):\n",
    "    n = len(sq)\n",
    "    return [[ sq[i][j]+ sq[j][i] for i in range(n)] for j in range(n)]     \n",
    "\n",
    "n = 6\n",
    "lst = [[randint(1,20) for _ in range(n)] for _ in range(n)]   \n",
    "symmetrify(lst)"
   ]
  },
  {
   "cell_type": "code",
   "execution_count": null,
   "id": "04653770",
   "metadata": {},
   "outputs": [],
   "source": [
    "def symmetrify2(sq):\n",
    "    n = len(sq)\n",
    "    return [[ sq[i][j]+ sq[j][i] for i in range(n)] for j in range(n)]     \n",
    "\n",
    "n = 6\n",
    "lst = [[randint(1,20) for _ in range(n)] for _ in range(n)]   \n",
    "symmetrify2(lst)"
   ]
  },
  {
   "cell_type": "code",
   "execution_count": 35,
   "id": "329eeee0",
   "metadata": {},
   "outputs": [
    {
     "data": {
      "text/plain": [
       "[[1, 4, 7], [4, 5, 8], [7, 8, 9]]"
      ]
     },
     "execution_count": 35,
     "metadata": {},
     "output_type": "execute_result"
    }
   ],
   "source": [
    "def symmetrify3(A):\n",
    "    n = len(A)\n",
    "    for i in range(n):\n",
    "        for j in range(i+1,n):\n",
    "            A[i][j] = A[j][i]\n",
    "    return A\n",
    "\n",
    "A = [[1,2,3],[4,5,6],[7,8,9]]\n",
    "symmetrify3(A)"
   ]
  },
  {
   "cell_type": "code",
   "execution_count": 40,
   "id": "a9cba511",
   "metadata": {},
   "outputs": [
    {
     "name": "stdout",
     "output_type": "stream",
     "text": [
      "[[1, 2, 3], [2, 5, 6], [3, 6, 9]]\n",
      "[[1, 2, 3], [2, 5, 6], [3, 6, 9]]\n"
     ]
    }
   ],
   "source": [
    "def symmetrify3(A):  # in-place function\n",
    "    n = len(A)\n",
    "    for i in range(n):\n",
    "        for j in range(i):\n",
    "            A[i][j] = A[j][i]\n",
    "    return A\n",
    "\n",
    "A = [[1,2,3],\n",
    "     [4,5,6],\n",
    "     [7,8,9]]\n",
    "print(symmetrify3(A))\n",
    "print(A)"
   ]
  },
  {
   "cell_type": "code",
   "execution_count": 38,
   "id": "086af259",
   "metadata": {
    "scrolled": true
   },
   "outputs": [
    {
     "data": {
      "text/plain": [
       "[[1, 2, 3], [2, 5, 6], [3, 6, 9]]"
      ]
     },
     "execution_count": 38,
     "metadata": {},
     "output_type": "execute_result"
    }
   ],
   "source": [
    "def symmetrify3(A):\n",
    "    n = len(A)\n",
    "    return [[A[i][j] if i < j else A[j][i] for j in range(n)] for i in range(n)]\n",
    "\n",
    "A = [[1,2,3],[4,5,6],[7,8,9]]\n",
    "symmetrify3(A)"
   ]
  },
  {
   "cell_type": "code",
   "execution_count": null,
   "id": "b14583e0",
   "metadata": {},
   "outputs": [],
   "source": [
    "[1, 4, 7\n",
    " 4, 5, 8\n",
    " 7, 8, 9]"
   ]
  },
  {
   "cell_type": "code",
   "execution_count": 7,
   "id": "66644694-9ed5-472b-8849-72dc27273ec5",
   "metadata": {},
   "outputs": [
    {
     "data": {
      "text/plain": [
       "[[32, 30, 10, 10, 12],\n",
       " [30, 34, 12, 32, 8],\n",
       " [10, 12, 16, 20, 6],\n",
       " [10, 32, 20, 34, 10],\n",
       " [12, 8, 6, 10, 16]]"
      ]
     },
     "execution_count": 7,
     "metadata": {},
     "output_type": "execute_result"
    }
   ],
   "source": [
    "from random import *\n",
    "n=5\n",
    "sq_matrix=[[randint(1,20) for i in range(n)] for j in range(n)]\n",
    "\n",
    "trans_sq_matrix=[[0 for i in range(len(sq_matrix[0]))] for i in range(len(sq_matrix))]     \n",
    "for i in range(len(sq_matrix)):\n",
    "    for j in range(len(sq_matrix[0])):\n",
    "        trans_sq_matrix[i][j]=sq_matrix[j][i]\n",
    "\n",
    "# print(sq_matrix)\n",
    "# print(trans_sq_matrix)\n",
    "\n",
    "\n",
    "def sym_matrix():\n",
    "    sym_mat=[[0 for i in range(len(sq_matrix[0]))] for j in range(len(sq_matrix))]\n",
    "    for i in range(len(sq_matrix[0])):\n",
    "        for j in range(len(sq_matrix)):\n",
    "            sym_mat[i][j]=sq_matrix[i][j]+trans_sq_matrix[i][j] # (a+at)t=at+a=a+at\n",
    "    return sym_mat\n",
    "sym_matrix()\n"
   ]
  },
  {
   "cell_type": "markdown",
   "id": "997e14f4-9f36-40e0-b6f5-6f2c1227c800",
   "metadata": {},
   "source": [
    "**Q5. Write a program to create a new list that contains the lengths of strings grater than 5 characters from a given list of strings**"
   ]
  },
  {
   "cell_type": "code",
   "execution_count": 42,
   "id": "b8ffaf2d-f5fc-4c4d-bbf8-e680e6b692ff",
   "metadata": {},
   "outputs": [
    {
     "data": {
      "text/plain": [
       "[6, 6, 8, 8, 7, 8, 6]"
      ]
     },
     "execution_count": 42,
     "metadata": {},
     "output_type": "execute_result"
    }
   ],
   "source": [
    "str_list=['Mainul', 'Ritwik', 'Sunny','Biswajit', 'Subhajit', 'Laha', 'Mousumi', 'Sudeshna', 'Apurba']\n",
    "def len_list(str_list):\n",
    "    len_list=[]\n",
    "    for i in str_list:\n",
    "        if len(i)>5:\n",
    "            len_list.append(len(i))\n",
    "    return len_list\n",
    "len_list(str_list)"
   ]
  },
  {
   "cell_type": "code",
   "execution_count": 45,
   "id": "1b37a49d",
   "metadata": {},
   "outputs": [
    {
     "data": {
      "text/plain": [
       "[6, 6, 8, 8, 7, 8, 6]"
      ]
     },
     "execution_count": 45,
     "metadata": {},
     "output_type": "execute_result"
    }
   ],
   "source": [
    "str_list=['Mainul', 'Ritwik', 'Sunny','Biswajit', 'Subhajit', 'Laha', 'Mousumi', 'Sudeshna', 'Apurba']\n",
    "def len_list(str_list):\n",
    "    return [len(i) for i in str_list if len(i)>5]\n",
    "\n",
    "len_list(str_list)"
   ]
  },
  {
   "cell_type": "code",
   "execution_count": 44,
   "id": "876b7b6b-52b1-4208-a79b-42e48d6f166e",
   "metadata": {},
   "outputs": [
    {
     "name": "stdout",
     "output_type": "stream",
     "text": [
      "[6, 6, 8, 8, 7, 8, 6]\n"
     ]
    },
    {
     "data": {
      "text/plain": [
       "[6, 6, 8, 8, 7, 8, 6]"
      ]
     },
     "execution_count": 44,
     "metadata": {},
     "output_type": "execute_result"
    }
   ],
   "source": [
    "str_list=['Mainul', 'Ritwik', 'Sunny','Biswajit', 'Subhajit', 'Laha', 'Mousumi', 'Sudeshna', 'Apurba']\n",
    "# new_list = [len(i) for i in str_list if len(i)>5]\n",
    "# print(new_list)\n",
    "def len_list():\n",
    "    len_list=[]\n",
    "    for i in str_list:\n",
    "        if len(i)>5:\n",
    "            len_list.append(len(i))\n",
    "    return len_list\n",
    "len_list()"
   ]
  },
  {
   "cell_type": "markdown",
   "id": "ca23e1fa-83cd-4d61-86a3-b327010205ae",
   "metadata": {},
   "source": [
    "**Q6. Find the value of exp(x).**"
   ]
  },
  {
   "cell_type": "code",
   "execution_count": 57,
   "id": "1a7364c2-59af-473d-94d3-d925e5bc94da",
   "metadata": {},
   "outputs": [
    {
     "name": "stdout",
     "output_type": "stream",
     "text": [
      "Enter the value of x\n",
      "100\n",
      "Enter the value of n\n",
      "100\n",
      "1.41546087210088e+43\n"
     ]
    },
    {
     "data": {
      "text/plain": [
       "False"
      ]
     },
     "execution_count": 57,
     "metadata": {},
     "output_type": "execute_result"
    }
   ],
   "source": [
    "def fact(n):                       # function inside a function\n",
    "    \"\"\"Factorial function inside exp(x) infinite sum function\"\"\"\n",
    "    fact=1\n",
    "    for i in range(1,n+1):\n",
    "        fact*=i\n",
    "    return fact\n",
    "    \n",
    "def exp(x,n):\n",
    "    \"\"\"This is exp(x) infinite series sum\"\"\"\n",
    "    sum1=0\n",
    "    for j in range(n+1):\n",
    "        sum1 += ((x**j)/fact(j))  # takes sum upto x^n/n!\n",
    "    return sum1\n",
    "\n",
    "x=eval(input('Enter the value of x\\n'))\n",
    "n=eval(input('Enter the value of n\\n'))\n",
    "print(exp(x,n))\n",
    "m = 10\n",
    "x**n/fact(n) < 0.5*10**(-m)"
   ]
  },
  {
   "cell_type": "code",
   "execution_count": 50,
   "id": "89a970b7",
   "metadata": {},
   "outputs": [
    {
     "data": {
      "text/plain": [
       "5.3e-09"
      ]
     },
     "execution_count": 50,
     "metadata": {},
     "output_type": "execute_result"
    }
   ],
   "source": []
  },
  {
   "cell_type": "code",
   "execution_count": 11,
   "id": "bcb9e9be-b6f3-4a27-8ded-aa592d53a7c3",
   "metadata": {},
   "outputs": [
    {
     "name": "stdin",
     "output_type": "stream",
     "text": [
      "Enter the value of x\n",
      " 1\n",
      "Enter the value of n\n",
      " 100\n"
     ]
    },
    {
     "name": "stdout",
     "output_type": "stream",
     "text": [
      "2.7182818284590455\n"
     ]
    }
   ],
   "source": [
    "from math import *\n",
    "def exp(x,n):\n",
    "    \"\"\"This is exp(x) infinite series sum\"\"\" \n",
    "    sum1=0\n",
    "    for j in range(n+1):\n",
    "        sum1+=((x**j)/factorial(j))  # takes sum upto x^n/n!\n",
    "    return sum1\n",
    "x=eval(input('Enter the value of x\\n'))\n",
    "n=eval(input('Enter the value of n\\n'))\n",
    "print(exp(x,n))"
   ]
  },
  {
   "cell_type": "code",
   "execution_count": 12,
   "id": "b15d4f81-1d8d-47c5-b1a5-9b6c6074145a",
   "metadata": {},
   "outputs": [
    {
     "name": "stdin",
     "output_type": "stream",
     "text": [
      "Enter the value of x\n",
      " 1\n",
      "Enter the value of n\n",
      " 100\n"
     ]
    },
    {
     "name": "stdout",
     "output_type": "stream",
     "text": [
      "0.36787944117144245\n"
     ]
    }
   ],
   "source": [
    "from math import *\n",
    "def exp_(x,n):\n",
    "    \"\"\"This is exp(-x) infinite series sum\"\"\" \n",
    "    sum1=0\n",
    "    for j in range(n+1):\n",
    "        sum1+=(((-1)**j)*(x**j)/factorial(j))  # takes sum upto x^n/n!\n",
    "    return sum1\n",
    "x=eval(input('Enter the value of x\\n'))\n",
    "n=eval(input('Enter the value of n\\n'))\n",
    "print(exp_(x,n))"
   ]
  },
  {
   "cell_type": "markdown",
   "id": "104bbcbe-baff-4405-96f2-9841bf91c673",
   "metadata": {},
   "source": [
    "**Q7. Shuffle and guess**"
   ]
  },
  {
   "cell_type": "code",
   "execution_count": 13,
   "id": "7ebf36bd-aa9f-4f6a-8b4c-b5db2a4347fb",
   "metadata": {},
   "outputs": [
    {
     "name": "stdin",
     "output_type": "stream",
     "text": [
      "Enter whrere is the ball 1\n"
     ]
    },
    {
     "name": "stdout",
     "output_type": "stream",
     "text": [
      "['no', 'no', 'yes', 'no', 'no']\n",
      "try again\n"
     ]
    }
   ],
   "source": [
    "from random import *\n",
    "comb = ['no','no','yes','no','no']\n",
    "shuffle(comb)\n",
    "\n",
    "def guess(n):\n",
    "    if comb[n-1] == 'yes':\n",
    "        print('You are right')\n",
    "    else:\n",
    "        print(comb)\n",
    "        print('try again')\n",
    "n=eval(input('Enter whrere is the ball'))\n",
    "guess(n)"
   ]
  },
  {
   "cell_type": "code",
   "execution_count": null,
   "id": "ded08003-c570-4ff5-894d-cb9dc8333a7a",
   "metadata": {},
   "outputs": [],
   "source": []
  }
 ],
 "metadata": {
  "kernelspec": {
   "display_name": "Python 3 (ipykernel)",
   "language": "python",
   "name": "python3"
  },
  "language_info": {
   "codemirror_mode": {
    "name": "ipython",
    "version": 3
   },
   "file_extension": ".py",
   "mimetype": "text/x-python",
   "name": "python",
   "nbconvert_exporter": "python",
   "pygments_lexer": "ipython3",
   "version": "3.9.13"
  }
 },
 "nbformat": 4,
 "nbformat_minor": 5
}
