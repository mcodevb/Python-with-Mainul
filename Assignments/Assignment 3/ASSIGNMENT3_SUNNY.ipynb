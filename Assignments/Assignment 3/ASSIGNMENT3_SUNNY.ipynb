{
 "cells": [
  {
   "cell_type": "markdown",
   "id": "592e9216",
   "metadata": {},
   "source": [
    "Q1. Write a program to create an null matrix of size n."
   ]
  },
  {
   "cell_type": "code",
   "execution_count": 1,
   "id": "0593116d",
   "metadata": {
    "scrolled": true
   },
   "outputs": [
    {
     "data": {
      "text/plain": [
       "[[0, 0, 0, 0, 0],\n",
       " [0, 0, 0, 0, 0],\n",
       " [0, 0, 0, 0, 0],\n",
       " [0, 0, 0, 0, 0],\n",
       " [0, 0, 0, 0, 0]]"
      ]
     },
     "execution_count": 1,
     "metadata": {},
     "output_type": "execute_result"
    }
   ],
   "source": [
    "def mat(n):\n",
    "    a=[[0 for _ in range(n)] for _ in range(n)]\n",
    "    return a\n",
    "mat(5)"
   ]
  },
  {
   "cell_type": "markdown",
   "id": "cf5e11d6",
   "metadata": {},
   "source": [
    " "
   ]
  },
  {
   "cell_type": "markdown",
   "id": "11b4df45",
   "metadata": {},
   "source": [
    "Q2. Write a program to create an identity matrix of size n."
   ]
  },
  {
   "cell_type": "code",
   "execution_count": 3,
   "id": "b6d28aa8",
   "metadata": {
    "scrolled": true
   },
   "outputs": [
    {
     "data": {
      "text/plain": [
       "[[1, 0, 0, 0, 0],\n",
       " [0, 1, 0, 0, 0],\n",
       " [0, 0, 1, 0, 0],\n",
       " [0, 0, 0, 1, 0],\n",
       " [0, 0, 0, 0, 1]]"
      ]
     },
     "execution_count": 3,
     "metadata": {},
     "output_type": "execute_result"
    }
   ],
   "source": [
    "def Id(n):\n",
    "    a=[[0 for _ in range(n)] for _ in range(n)]\n",
    "    for i in range(n):\n",
    "        a[i][i]=1\n",
    "    return a\n",
    "Id(5)"
   ]
  },
  {
   "cell_type": "markdown",
   "id": "c12a7c4e",
   "metadata": {},
   "source": [
    " "
   ]
  },
  {
   "cell_type": "markdown",
   "id": "20016827",
   "metadata": {},
   "source": [
    "Q3. Write a program to create a diagonal matrix from a given list of elements."
   ]
  },
  {
   "cell_type": "code",
   "execution_count": 4,
   "id": "65347b33",
   "metadata": {},
   "outputs": [
    {
     "data": {
      "text/plain": [
       "[[2, 0, 0, 0, 0],\n",
       " [0, 3, 0, 0, 0],\n",
       " [0, 0, 1, 0, 0],\n",
       " [0, 0, 0, 7, 0],\n",
       " [0, 0, 0, 0, 6]]"
      ]
     },
     "execution_count": 4,
     "metadata": {},
     "output_type": "execute_result"
    }
   ],
   "source": [
    "def diag(x):\n",
    "    n=len(x)\n",
    "    a=[[0 for _ in range(n)] for _ in range(n)]\n",
    "    for i in range(n):\n",
    "        a[i][i]=x[i]\n",
    "    return a\n",
    "diag([2,3,1,7,6])"
   ]
  },
  {
   "cell_type": "markdown",
   "id": "0abde9d7",
   "metadata": {},
   "source": [
    " "
   ]
  },
  {
   "cell_type": "markdown",
   "id": "43b5e5fb",
   "metadata": {},
   "source": [
    "Q4. write a program to create a symmetric matrix from a given square matrix."
   ]
  },
  {
   "cell_type": "code",
   "execution_count": 5,
   "id": "f48dc8d0",
   "metadata": {},
   "outputs": [
    {
     "data": {
      "text/plain": [
       "[[4, 5, 5, 3, 4],\n",
       " [5, 10, 4, 5, 7],\n",
       " [5, 4, 10, 9, 6],\n",
       " [3, 5, 9, 4, 9],\n",
       " [4, 7, 6, 9, 8]]"
      ]
     },
     "execution_count": 5,
     "metadata": {},
     "output_type": "execute_result"
    }
   ],
   "source": [
    "def symm(A):\n",
    "    B=[[(A[i][j]+A[j][i]) for i in range(len(A))] for j in range(len(A[0]))]\n",
    "    return B\n",
    "symm([[2,1,3,2,1],[4,5,3,3,2],[2,1,5,3,4],[1,2,6,2,3],[3,5,2,6,4]])"
   ]
  },
  {
   "cell_type": "markdown",
   "id": "0c257f2f",
   "metadata": {},
   "source": [
    " "
   ]
  },
  {
   "cell_type": "markdown",
   "id": "f526ee3e",
   "metadata": {},
   "source": [
    "Q5. Write a program to create a new list that contains the lengths of strings greater than 5 charecters from a given list of strings."
   ]
  },
  {
   "cell_type": "code",
   "execution_count": 6,
   "id": "8b067562",
   "metadata": {},
   "outputs": [
    {
     "data": {
      "text/plain": [
       "['hgdx,dt', 'gdysr46']"
      ]
     },
     "execution_count": 6,
     "metadata": {},
     "output_type": "execute_result"
    }
   ],
   "source": [
    "def newlst(x):\n",
    "    a=[]\n",
    "    for c in x:\n",
    "        if len(c)>5:\n",
    "            a.append(c)\n",
    "    return a\n",
    "newlst(['hftd','hgdx,dt','gdysr46'])"
   ]
  },
  {
   "cell_type": "markdown",
   "id": "a9b03b27",
   "metadata": {},
   "source": [
    " "
   ]
  },
  {
   "cell_type": "markdown",
   "id": "370f6347",
   "metadata": {},
   "source": [
    "Q6. Find the value of exp(x)"
   ]
  },
  {
   "cell_type": "code",
   "execution_count": 7,
   "id": "6098d732",
   "metadata": {},
   "outputs": [
    {
     "data": {
      "text/plain": [
       "148.41315898276957"
      ]
     },
     "execution_count": 7,
     "metadata": {},
     "output_type": "execute_result"
    }
   ],
   "source": [
    "e=0.0000001\n",
    "\n",
    "def fact(n):\n",
    "    prod=1\n",
    "    i=1\n",
    "    while 1<=i<=n:\n",
    "        prod=prod*i\n",
    "        i+=1\n",
    "    return(prod)\n",
    "\n",
    "def exp(x):\n",
    "    ysum=1\n",
    "    n=1\n",
    "    while ((x**n)/fact(n))>e:\n",
    "        ysum = ysum + ((x**n)/fact(n))\n",
    "        n+=1\n",
    "        \n",
    "    return ysum\n",
    "\n",
    "exp(5)"
   ]
  },
  {
   "cell_type": "markdown",
   "id": "d90c40de",
   "metadata": {},
   "source": [
    "  "
   ]
  },
  {
   "cell_type": "markdown",
   "id": "5cc84b95",
   "metadata": {},
   "source": [
    "Q7. Guess the non zero string."
   ]
  },
  {
   "cell_type": "code",
   "execution_count": 8,
   "id": "b341ae72",
   "metadata": {},
   "outputs": [
    {
     "name": "stdout",
     "output_type": "stream",
     "text": [
      "[' ', ' ', ' ', ' ', 'a']\n"
     ]
    },
    {
     "data": {
      "text/plain": [
       "'wrong'"
      ]
     },
     "execution_count": 8,
     "metadata": {},
     "output_type": "execute_result"
    }
   ],
   "source": [
    "from random import *\n",
    "lst=[' ',' ','a',' ',' ']\n",
    "def guess(n):\n",
    "    shuffle(lst)\n",
    "    print(lst)\n",
    "    if lst[n-1]=='a':\n",
    "        return 'correct'\n",
    "    else:\n",
    "        return 'wrong'\n",
    "guess(3)                  #give the value between 1 and 5(len(lst))"
   ]
  }
 ],
 "metadata": {
  "kernelspec": {
   "display_name": "Python 3 (ipykernel)",
   "language": "python",
   "name": "python3"
  },
  "language_info": {
   "codemirror_mode": {
    "name": "ipython",
    "version": 3
   },
   "file_extension": ".py",
   "mimetype": "text/x-python",
   "name": "python",
   "nbconvert_exporter": "python",
   "pygments_lexer": "ipython3",
   "version": "3.10.9"
  }
 },
 "nbformat": 4,
 "nbformat_minor": 5
}
