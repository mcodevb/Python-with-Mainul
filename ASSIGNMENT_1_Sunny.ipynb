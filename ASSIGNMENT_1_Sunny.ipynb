{
  "cells": [
    {
      "cell_type": "markdown",
      "metadata": {
        "id": "view-in-github",
        "colab_type": "text"
      },
      "source": [
        "<a href=\"https://colab.research.google.com/github/mcodevb/Python-with-Mainul/blob/master/ASSIGNMENT_1_Sunny.ipynb\" target=\"_parent\"><img src=\"https://colab.research.google.com/assets/colab-badge.svg\" alt=\"Open In Colab\"/></a>"
      ]
    },
    {
      "cell_type": "markdown",
      "id": "08b35230",
      "metadata": {
        "id": "08b35230"
      },
      "source": [
        "Q1. Write a Python program to check if a number is positive, negative, or zero."
      ]
    },
    {
      "cell_type": "code",
      "execution_count": null,
      "id": "b9da74b0",
      "metadata": {
        "id": "b9da74b0",
        "outputId": "5743f572-ac7e-4aee-c295-9fca276c0aaf"
      },
      "outputs": [
        {
          "name": "stdout",
          "output_type": "stream",
          "text": [
            "-2 is negative\n"
          ]
        }
      ],
      "source": [
        "x=-2\n",
        "if(x>0):\n",
        "    print(x,'is positive')\n",
        "elif(x==0):\n",
        "    print('Given number is 0')\n",
        "else:\n",
        "    print(x,'is negative')"
      ]
    },
    {
      "cell_type": "markdown",
      "id": "0fe669df",
      "metadata": {
        "id": "0fe669df"
      },
      "source": [
        "Q2. Write a Python program to check if a number is even or odd."
      ]
    },
    {
      "cell_type": "code",
      "execution_count": null,
      "id": "22b68d73",
      "metadata": {
        "id": "22b68d73",
        "outputId": "435855ce-9ec7-4595-8fb1-03b49a9ccd75"
      },
      "outputs": [
        {
          "name": "stdout",
          "output_type": "stream",
          "text": [
            "10 is even\n"
          ]
        }
      ],
      "source": [
        "n=10\n",
        "if(n%2==0):\n",
        "    print(n,'is even')\n",
        "else:\n",
        "    print(n,'is odd')"
      ]
    },
    {
      "cell_type": "markdown",
      "id": "cb3dc924",
      "metadata": {
        "id": "cb3dc924"
      },
      "source": [
        "Q3. Write a Python program to check if a year is a leap year."
      ]
    },
    {
      "cell_type": "code",
      "execution_count": null,
      "id": "4eeb19c8",
      "metadata": {
        "id": "4eeb19c8",
        "outputId": "ec2f335f-401f-4c5f-977b-750495d0c6b5"
      },
      "outputs": [
        {
          "name": "stdout",
          "output_type": "stream",
          "text": [
            "1900 is not a leap year\n"
          ]
        }
      ],
      "source": [
        "year=1900\n",
        "if (year % 4 == 0):\n",
        "    if(year%100==0):\n",
        "        if(year%400==0):\n",
        "            print(year,'is a leap year')\n",
        "        else:\n",
        "            print(year,'is not a leap year')\n",
        "    else:\n",
        "            print(year,'is a leap year')\n",
        "else:\n",
        "            print(year,'is not a leap year')"
      ]
    },
    {
      "cell_type": "markdown",
      "id": "221d09a9",
      "metadata": {
        "id": "221d09a9"
      },
      "source": [
        "Q4. Write a Python program to check if a character is a vowel or a consonant."
      ]
    },
    {
      "cell_type": "code",
      "execution_count": null,
      "id": "2c509327",
      "metadata": {
        "id": "2c509327",
        "outputId": "ce315e5b-ad28-4c34-94bd-0a2d7db1c72c"
      },
      "outputs": [
        {
          "name": "stdout",
          "output_type": "stream",
          "text": [
            "d is consonant\n"
          ]
        }
      ],
      "source": [
        "char='d'\n",
        "if char in 'aeiou':\n",
        "    print(char,'is vowel')\n",
        "else:\n",
        "    print(char,'is consonant')\n"
      ]
    },
    {
      "cell_type": "markdown",
      "id": "781b8b8d",
      "metadata": {
        "id": "781b8b8d"
      },
      "source": [
        "Q5. Write a Python program to check if a number is prime."
      ]
    },
    {
      "cell_type": "code",
      "execution_count": null,
      "id": "04f32712",
      "metadata": {
        "id": "04f32712",
        "outputId": "4cfc1022-2e37-4961-b222-fa90d48a3ddc"
      },
      "outputs": [
        {
          "name": "stdout",
          "output_type": "stream",
          "text": [
            "23 is prime\n"
          ]
        }
      ],
      "source": [
        "x=23\n",
        "flag=0\n",
        "if(x<=1):\n",
        "    flag=1\n",
        "else:\n",
        "    sqrt=x**0.5\n",
        "    for a in range(2,int(sqrt)+1):\n",
        "        if(x%a==0):\n",
        "            flag=1\n",
        "if (flag==1):\n",
        "    print(x,'is not prime')\n",
        "else:\n",
        "    print(x,'is prime')\n",
        "\n"
      ]
    },
    {
      "cell_type": "markdown",
      "id": "67744996",
      "metadata": {
        "id": "67744996"
      },
      "source": [
        "Q6. Write a Python program to check if a string is a palindrome."
      ]
    },
    {
      "cell_type": "code",
      "execution_count": null,
      "id": "312988da",
      "metadata": {
        "id": "312988da",
        "outputId": "84918390-7c29-4821-8117-022277fb67d7"
      },
      "outputs": [
        {
          "name": "stdout",
          "output_type": "stream",
          "text": [
            "wasitacaroracatisaw is a palindrome\n"
          ]
        }
      ],
      "source": [
        "a='wasitacaroracatisaw'\n",
        "b=str(a)\n",
        "b_rev=b[::-1]\n",
        "if(b==b_rev):\n",
        "    print(a,'is a palindrome')\n",
        "else:\n",
        "    print(a,'is not a palindrome')"
      ]
    },
    {
      "cell_type": "markdown",
      "id": "116b95e1",
      "metadata": {
        "id": "116b95e1"
      },
      "source": [
        "Q7. Write a Python program to check if a triangle is equilateral, isosceles, or scalene."
      ]
    },
    {
      "cell_type": "code",
      "execution_count": null,
      "id": "6c485a62",
      "metadata": {
        "id": "6c485a62",
        "outputId": "94e6e100-63ae-47b1-fa10-b6d8ed6de79f"
      },
      "outputs": [
        {
          "name": "stdout",
          "output_type": "stream",
          "text": [
            "Triangle is not possible\n"
          ]
        }
      ],
      "source": [
        "# Let the length of sides of the triangle are a, b, c\n",
        "a=5\n",
        "b=5\n",
        "c=10\n",
        "x=[a,b,c]\n",
        "x.sort()\n",
        "if(x[0]+x[1]>x[2]):\n",
        "    if(a==b and b==c):\n",
        "        print('The triangle is equilateral')\n",
        "    elif(a!=b and b!=c and c!=a):\n",
        "        print('The triangle is scalane')\n",
        "    else:\n",
        "        print('The triangle is isosceles')\n",
        "else:\n",
        "    print('Triangle is not possible')\n"
      ]
    },
    {
      "cell_type": "markdown",
      "id": "6bad9523",
      "metadata": {
        "id": "6bad9523"
      },
      "source": [
        "Q.8 Write a Python program to check if a number is a perfect square."
      ]
    },
    {
      "cell_type": "code",
      "execution_count": null,
      "id": "f85bc20f",
      "metadata": {
        "id": "f85bc20f",
        "outputId": "c6920d28-5d64-486b-fc9a-06648e9ef6dc"
      },
      "outputs": [
        {
          "name": "stdout",
          "output_type": "stream",
          "text": [
            "5 is not perfect square\n"
          ]
        }
      ],
      "source": [
        "# Program only for positive integers\n",
        "x=5\n",
        "sqrt=x**0.5\n",
        "if (sqrt-int(sqrt)==0):\n",
        "    print(x,'is perfect square')\n",
        "else:\n",
        "    print(x,'is not perfect square')\n",
        "    "
      ]
    },
    {
      "cell_type": "markdown",
      "id": "dbae34cb",
      "metadata": {
        "id": "dbae34cb"
      },
      "source": [
        "Q.9 Write a Python program to check if a string is a valid email address."
      ]
    },
    {
      "cell_type": "code",
      "execution_count": null,
      "id": "518a225d",
      "metadata": {
        "id": "518a225d",
        "outputId": "d3c16077-12dd-44f3-b075-175a82eb848e"
      },
      "outputs": [
        {
          "name": "stdout",
          "output_type": "stream",
          "text": [
            "abulkalam.sunny@yahoo.com is a valid email.id\n"
          ]
        }
      ],
      "source": [
        "list1=['@gmail.com','@yahoo.com','@outlook.com']\n",
        "x='abulkalam.sunny@yahoo.com'\n",
        "for c in list1:\n",
        "    if x.endswith(c):\n",
        "        print(x,'is a valid email.id')\n",
        "        break\n",
        "else:\n",
        "     print(x,'is not a valid email.id')"
      ]
    },
    {
      "cell_type": "markdown",
      "id": "d41e3a92",
      "metadata": {
        "id": "d41e3a92"
      },
      "source": [
        "Q11. Write a Python program to check if a given year is a century year"
      ]
    },
    {
      "cell_type": "code",
      "execution_count": null,
      "id": "fc273860",
      "metadata": {
        "id": "fc273860",
        "outputId": "5fade31d-b2f4-4614-e6d0-72c452da22cf"
      },
      "outputs": [
        {
          "name": "stdout",
          "output_type": "stream",
          "text": [
            "1900 is century\n"
          ]
        }
      ],
      "source": [
        "x=1900\n",
        "if (x%100==0):\n",
        "    print(x,'is century')\n",
        "else:\n",
        "    print(x,'is not century')\n"
      ]
    },
    {
      "cell_type": "markdown",
      "id": "035ade6e",
      "metadata": {
        "id": "035ade6e"
      },
      "source": [
        "Q12. Write a Python program to check if a given string is a valid password (with specific conditions, e.g., length, uppercase, lowercase, digits)."
      ]
    },
    {
      "cell_type": "code",
      "execution_count": null,
      "id": "b221547d",
      "metadata": {
        "id": "b221547d",
        "outputId": "9b912f31-336c-440d-8a5a-f2cdd95dcbfa"
      },
      "outputs": [
        {
          "name": "stdout",
          "output_type": "stream",
          "text": [
            "Sunny1@ is a valid password\n"
          ]
        }
      ],
      "source": [
        "# Suppose a valid passward consists of length atleast 6, atleast one uppercase and one\n",
        "# lowercase letter, atleast one digit, atleast one special charecter i.e,(@,!,~,$,%,&,*)\n",
        "password='Sunny1@'\n",
        "flag1=0\n",
        "if (len(password)>5):\n",
        "    flag1=1\n",
        "if(flag1==0):\n",
        "    print(password, 'is not a valid password, a valid passward consists of length atleast 6')\n",
        "\n",
        "for x in password:\n",
        "    if x in 'ABCDEFGHIJKLMNOPQRSTUVWXYZ':\n",
        "        flag2=1\n",
        "        break\n",
        "    else:\n",
        "        flag2=0\n",
        "if flag2==0:\n",
        "    print(password, 'is not a valid password, must contain atleast one uppercase letter')\n",
        "\n",
        "for x in password:\n",
        "    if x in 'abcdefghijklmnopqrstuvwxyz':\n",
        "        flag3=1\n",
        "        break\n",
        "    else:\n",
        "        flag3=0\n",
        "if (flag3==0):\n",
        "    print(password, 'is not a valid password, must contain atleast one lowercase letter')\n",
        "\n",
        "for x in password:\n",
        "    if x in ['@','!','~','$','%','&','*']:\n",
        "        flag4=1\n",
        "        break\n",
        "    else:\n",
        "        flag4=0\n",
        "if (flag4==0):\n",
        "    print(password, 'is not a valid password, must contain atleast one special charecter i.e,(@,!,~,$,%,&,*)') \n",
        "\n",
        "for x in password:\n",
        "    if x in '0123456789':\n",
        "        flag5=1\n",
        "        break\n",
        "    else:\n",
        "        flag5=0\n",
        "if (flag5==0):\n",
        "    print(password, 'is not a valid password, must contain atleast one numeric charecter')\n",
        "    \n",
        "if(flag1+flag2+flag3+flag4+flag5==5):\n",
        "    print(password, 'is a valid password')\n",
        "                        \n",
        "    "
      ]
    },
    {
      "cell_type": "markdown",
      "id": "4254a31f",
      "metadata": {
        "id": "4254a31f"
      },
      "source": [
        "Q13. Write a Python program to check if a number is a Fibonacci number."
      ]
    },
    {
      "cell_type": "code",
      "execution_count": null,
      "id": "89fe85fb",
      "metadata": {
        "id": "89fe85fb",
        "outputId": "e9db1f37-48a5-4831-ea0d-e904ccbd0cd4"
      },
      "outputs": [
        {
          "name": "stdout",
          "output_type": "stream",
          "text": [
            "5 is fibonacci number\n"
          ]
        }
      ],
      "source": [
        "x=5\n",
        "a=[0,1]\n",
        "for i in range(x+1):\n",
        "    n=len(a)\n",
        "    a.append(a[n-1]+a[n-2])\n",
        "    if(a[n]>x):\n",
        "        break\n",
        "if(x in a):\n",
        "    print(x,'is fibonacci number')\n",
        "else:\n",
        "    print(x,'is not fibonacci number')\n",
        "        "
      ]
    },
    {
      "cell_type": "markdown",
      "id": "41322659",
      "metadata": {
        "id": "41322659"
      },
      "source": [
        "Q15. Write a Python program to check if a given number is within a specific range."
      ]
    },
    {
      "cell_type": "code",
      "execution_count": null,
      "id": "3835e174",
      "metadata": {
        "id": "3835e174",
        "outputId": "fac7f3d4-8ece-4ac6-8b1e-287dcd92edf9"
      },
      "outputs": [
        {
          "name": "stdout",
          "output_type": "stream",
          "text": [
            "7.001 doesnt belongs to [5,7]\n"
          ]
        }
      ],
      "source": [
        "intrvl=[5,7]\n",
        "intrvl.sort()\n",
        "x=7.001\n",
        "if(x>=intrvl[0] and x<=intrvl[1]):\n",
        "    print(x,'belongs to [{0},{1}]'.format(intrvl[0],intrvl[1]))\n",
        "else:\n",
        "    print(x,'doesnt belongs to [{0},{1}]'.format(intrvl[0],intrvl[1]))"
      ]
    },
    {
      "cell_type": "markdown",
      "id": "1e7c1f55",
      "metadata": {
        "id": "1e7c1f55"
      },
      "source": [
        "Q16. Write a Python program to check if a list contains duplicate elements."
      ]
    },
    {
      "cell_type": "code",
      "execution_count": null,
      "id": "6b0be1c4",
      "metadata": {
        "id": "6b0be1c4",
        "outputId": "dfbbd788-1dd2-4f78-ea78-5edb27f3822d"
      },
      "outputs": [
        {
          "name": "stdout",
          "output_type": "stream",
          "text": [
            "duplicate elements are [1, 2]\n"
          ]
        }
      ],
      "source": [
        "list1=[1,1,2,3,4,2]\n",
        "list2=list1.copy()\n",
        "x=[]\n",
        "for c in list1:\n",
        "    list2.remove(c)\n",
        "    if c in list2:\n",
        "        x.append(c)\n",
        "if (len(x)>0):\n",
        "    print('duplicate elements are',x)\n",
        "else:\n",
        "    print('No duplicate element')"
      ]
    },
    {
      "cell_type": "markdown",
      "id": "5315fa2f",
      "metadata": {
        "id": "5315fa2f"
      },
      "source": [
        "Q17. Write a Python program to check if a given number is a perfect number."
      ]
    },
    {
      "cell_type": "code",
      "execution_count": null,
      "id": "1835db3d",
      "metadata": {
        "id": "1835db3d",
        "outputId": "ac959919-fabb-4345-ddd4-0c638823a902"
      },
      "outputs": [
        {
          "name": "stdout",
          "output_type": "stream",
          "text": [
            "proper divisors of 28 are [1, 2, 4, 7, 14]\n",
            "sum of proper divisors of 28 is 28\n",
            "28 is a perfect number\n"
          ]
        }
      ],
      "source": [
        "n=28\n",
        "x=[]\n",
        "sum=0\n",
        "for i in range(1,n):\n",
        "    if(n%i==0):\n",
        "        x.append(i)\n",
        "        sum=sum+i\n",
        "print('proper divisors of',n ,'are',x)\n",
        "print('sum of proper divisors of',n,'is',sum)\n",
        "if(sum==n):\n",
        "    print(n,'is a perfect number')\n",
        "else:\n",
        "    print(n,'is not a perfect number')\n"
      ]
    },
    {
      "cell_type": "markdown",
      "id": "5a7a3673",
      "metadata": {
        "id": "5a7a3673"
      },
      "source": [
        "Q18. Write a Python program to check the number of unique vowels in a list of words. Also, print them in alphabetical order."
      ]
    },
    {
      "cell_type": "code",
      "execution_count": null,
      "id": "0658b724",
      "metadata": {
        "id": "0658b724",
        "outputId": "5c51e3e8-832e-4a58-de98-8573c0579512"
      },
      "outputs": [
        {
          "name": "stdout",
          "output_type": "stream",
          "text": [
            "unique_vowels of eeeuuiyhhhosddddda are ['a', 'i', 'o'] and the number of unique vowels= 3\n",
            "unique_vowels of sjdfiuafoasfjbvh are ['i', 'o', 'u'] and the number of unique vowels= 3\n"
          ]
        }
      ],
      "source": [
        "list_of_words=['eeeuuiyhhhosddddda','sjdfiuafoasfjbvh']\n",
        "for word in list_of_words:\n",
        "    list1=list(word)\n",
        "    list2=list1.copy()\n",
        "    vowel=[]\n",
        "    for c in list2:\n",
        "        if(c in 'aeiou'):\n",
        "            vowel.append(c)\n",
        "    list3=vowel.copy()\n",
        "    x=[]\n",
        "    for c in vowel:\n",
        "        list3.remove(c)\n",
        "        if c in list3:\n",
        "            x.append(c)\n",
        "    unique_vowels=[i for i in vowel if i not in x]\n",
        "    unique_vowels.sort()\n",
        "    print('unique_vowels of',word, 'are',unique_vowels, 'and the number of unique vowels=',len(unique_vowels))"
      ]
    },
    {
      "cell_type": "markdown",
      "id": "2dfd4cbe",
      "metadata": {
        "id": "2dfd4cbe"
      },
      "source": [
        "Q10. Write a Python program to check if a number is a power of two. "
      ]
    },
    {
      "cell_type": "code",
      "execution_count": null,
      "id": "7d806abf",
      "metadata": {
        "id": "7d806abf",
        "outputId": "67602ce3-bf98-4413-d791-8ddcaed3be75"
      },
      "outputs": [
        {
          "name": "stdout",
          "output_type": "stream",
          "text": [
            "1024 =2^ 10\n"
          ]
        }
      ],
      "source": [
        "# Program is only for natural numbers\n",
        "n=1024\n",
        "x=n\n",
        "for i in range(n):\n",
        "    x=x/2\n",
        "    if(x==1):\n",
        "        print(n,'=2^',i+1)\n",
        "        break\n",
        "    if(x<1):\n",
        "        print(n,'is not a power of 2')\n",
        "        break\n",
        "    "
      ]
    }
  ],
  "metadata": {
    "kernelspec": {
      "display_name": "Python 3 (ipykernel)",
      "language": "python",
      "name": "python3"
    },
    "language_info": {
      "codemirror_mode": {
        "name": "ipython",
        "version": 3
      },
      "file_extension": ".py",
      "mimetype": "text/x-python",
      "name": "python",
      "nbconvert_exporter": "python",
      "pygments_lexer": "ipython3",
      "version": "3.10.9"
    },
    "colab": {
      "provenance": [],
      "include_colab_link": true
    }
  },
  "nbformat": 4,
  "nbformat_minor": 5
}