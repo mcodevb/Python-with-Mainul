{
 "cells": [
  {
   "cell_type": "markdown",
   "id": "bc3d3d85",
   "metadata": {},
   "source": [
    "# Assignments in Python"
   ]
  },
  {
   "cell_type": "markdown",
   "id": "57bce4cc",
   "metadata": {},
   "source": [
    "### Normal assignment"
   ]
  },
  {
   "cell_type": "code",
   "execution_count": 43,
   "id": "b75fdfa0",
   "metadata": {
    "scrolled": false
   },
   "outputs": [
    {
     "name": "stdout",
     "output_type": "stream",
     "text": [
      "5\n"
     ]
    }
   ],
   "source": [
    "a = 5   # the integer value 5 is stored in variable a\n",
    "# print(a)!"
   ]
  },
  {
   "cell_type": "markdown",
   "id": "4a642a29",
   "metadata": {},
   "source": [
    "### Increase a by $1$"
   ]
  },
  {
   "cell_type": "code",
   "execution_count": 40,
   "id": "c890e278",
   "metadata": {
    "scrolled": true
   },
   "outputs": [
    {
     "name": "stdout",
     "output_type": "stream",
     "text": [
      "6\n"
     ]
    }
   ],
   "source": [
    "a = a + 1  # increase a by 1\n",
    "print(a)"
   ]
  },
  {
   "cell_type": "markdown",
   "id": "68d4e457",
   "metadata": {},
   "source": [
    "### Using increment operator"
   ]
  },
  {
   "cell_type": "code",
   "execution_count": 42,
   "id": "b8f63425",
   "metadata": {},
   "outputs": [
    {
     "name": "stdout",
     "output_type": "stream",
     "text": [
      "9\n"
     ]
    }
   ],
   "source": [
    "a += 2   # this increases a by 2 (whatever be on the right hand)\n",
    "print(a)"
   ]
  },
  {
   "cell_type": "markdown",
   "id": "d9b6b560",
   "metadata": {},
   "source": [
    "### Decrease a by $1$"
   ]
  },
  {
   "cell_type": "code",
   "execution_count": 29,
   "id": "c4d547b2",
   "metadata": {},
   "outputs": [
    {
     "name": "stdout",
     "output_type": "stream",
     "text": [
      "6\n"
     ]
    }
   ],
   "source": [
    "a  = a - 1\n",
    "print(a)"
   ]
  },
  {
   "cell_type": "markdown",
   "id": "dbfacea1",
   "metadata": {},
   "source": [
    "### Using decrement operator"
   ]
  },
  {
   "cell_type": "code",
   "execution_count": 30,
   "id": "f8d78fe1",
   "metadata": {
    "scrolled": true
   },
   "outputs": [
    {
     "name": "stdout",
     "output_type": "stream",
     "text": [
      "5\n"
     ]
    }
   ],
   "source": [
    "a -= 1\n",
    "print(a)"
   ]
  },
  {
   "cell_type": "markdown",
   "id": "17d7983c",
   "metadata": {},
   "source": [
    "### Double a"
   ]
  },
  {
   "cell_type": "code",
   "execution_count": 31,
   "id": "6fbd9eb7",
   "metadata": {},
   "outputs": [
    {
     "name": "stdout",
     "output_type": "stream",
     "text": [
      "10\n"
     ]
    }
   ],
   "source": [
    "a = a*2\n",
    "print(a)"
   ]
  },
  {
   "cell_type": "markdown",
   "id": "87dec6e7",
   "metadata": {},
   "source": [
    "### Using *= operator"
   ]
  },
  {
   "cell_type": "code",
   "execution_count": 32,
   "id": "c471d175",
   "metadata": {},
   "outputs": [
    {
     "name": "stdout",
     "output_type": "stream",
     "text": [
      "20\n"
     ]
    }
   ],
   "source": [
    "a *= 4\n",
    "print(a)"
   ]
  },
  {
   "cell_type": "code",
   "execution_count": 33,
   "id": "e300d208",
   "metadata": {},
   "outputs": [
    {
     "name": "stdout",
     "output_type": "stream",
     "text": [
      "10.0\n"
     ]
    }
   ],
   "source": [
    "a = a/2\n",
    "print(a)"
   ]
  },
  {
   "cell_type": "code",
   "execution_count": 34,
   "id": "e9d8f5f1",
   "metadata": {},
   "outputs": [
    {
     "name": "stdout",
     "output_type": "stream",
     "text": [
      "5.0\n"
     ]
    }
   ],
   "source": [
    "a /= 2\n",
    "print(a)"
   ]
  },
  {
   "cell_type": "code",
   "execution_count": 36,
   "id": "60cc2b1d",
   "metadata": {},
   "outputs": [
    {
     "name": "stdout",
     "output_type": "stream",
     "text": [
      "2.0\n"
     ]
    }
   ],
   "source": [
    "a = a % 3\n",
    "print(a)"
   ]
  },
  {
   "cell_type": "code",
   "execution_count": 38,
   "id": "af550dc1",
   "metadata": {},
   "outputs": [
    {
     "name": "stdout",
     "output_type": "stream",
     "text": [
      "2.0\n"
     ]
    }
   ],
   "source": [
    "a %= 3\n",
    "print(a)"
   ]
  },
  {
   "cell_type": "code",
   "execution_count": 48,
   "id": "df9c68cb",
   "metadata": {},
   "outputs": [
    {
     "data": {
      "text/plain": [
       "False"
      ]
     },
     "execution_count": 48,
     "metadata": {},
     "output_type": "execute_result"
    }
   ],
   "source": [
    "b = 3\n",
    "a = 3.0\n",
    "a is b"
   ]
  },
  {
   "cell_type": "code",
   "execution_count": 52,
   "id": "540b0b01",
   "metadata": {},
   "outputs": [
    {
     "data": {
      "text/plain": [
       "False"
      ]
     },
     "execution_count": 52,
     "metadata": {},
     "output_type": "execute_result"
    }
   ],
   "source": [
    "a = [1,2,3,4]\n",
    "6 in a"
   ]
  },
  {
   "cell_type": "code",
   "execution_count": 55,
   "id": "5310b75c",
   "metadata": {},
   "outputs": [
    {
     "data": {
      "text/plain": [
       "16"
      ]
     },
     "execution_count": 55,
     "metadata": {},
     "output_type": "execute_result"
    }
   ],
   "source": [
    "a = 8\n",
    "a << 1"
   ]
  },
  {
   "cell_type": "code",
   "execution_count": 56,
   "id": "438db4ff",
   "metadata": {},
   "outputs": [
    {
     "name": "stdout",
     "output_type": "stream",
     "text": [
      "2\n"
     ]
    }
   ],
   "source": [
    "b  = a >> 2\n",
    "print(b)"
   ]
  },
  {
   "cell_type": "code",
   "execution_count": 59,
   "id": "086cf9c9",
   "metadata": {},
   "outputs": [
    {
     "data": {
      "text/plain": [
       "30"
      ]
     },
     "execution_count": 59,
     "metadata": {},
     "output_type": "execute_result"
    }
   ],
   "source": [
    "15<<1"
   ]
  },
  {
   "cell_type": "code",
   "execution_count": null,
   "id": "bd59e4ec",
   "metadata": {},
   "outputs": [],
   "source": []
  }
 ],
 "metadata": {
  "kernelspec": {
   "display_name": "Python 3 (ipykernel)",
   "language": "python",
   "name": "python3"
  },
  "language_info": {
   "codemirror_mode": {
    "name": "ipython",
    "version": 3
   },
   "file_extension": ".py",
   "mimetype": "text/x-python",
   "name": "python",
   "nbconvert_exporter": "python",
   "pygments_lexer": "ipython3",
   "version": "3.9.13"
  }
 },
 "nbformat": 4,
 "nbformat_minor": 5
}
