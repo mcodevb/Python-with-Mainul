{
 "cells": [
  {
   "cell_type": "markdown",
   "id": "71d1775d-9458-4918-9f38-2dcebafb23eb",
   "metadata": {},
   "source": [
    "1. Write a lambda function that takes two numbers as input and returns their sum."
   ]
  },
  {
   "cell_type": "code",
   "execution_count": 1,
   "id": "90e34a20-9965-48c8-801b-387b79a7615a",
   "metadata": {},
   "outputs": [
    {
     "data": {
      "text/plain": [
       "9"
      ]
     },
     "execution_count": 1,
     "metadata": {},
     "output_type": "execute_result"
    }
   ],
   "source": [
    "f = lambda x, y: x+y\n",
    "f(4, 5)"
   ]
  },
  {
   "cell_type": "markdown",
   "id": "aedf8be5-d452-43c8-bc72-107a05f82aae",
   "metadata": {},
   "source": [
    "2. Write a lambda function that takes a string and returns its length."
   ]
  },
  {
   "cell_type": "code",
   "execution_count": 2,
   "id": "b1cf7b90-2431-4f14-b9a7-ae02fceced84",
   "metadata": {},
   "outputs": [
    {
     "data": {
      "text/plain": [
       "6"
      ]
     },
     "execution_count": 2,
     "metadata": {},
     "output_type": "execute_result"
    }
   ],
   "source": [
    "g = lambda x: len(x)\n",
    "g('python')"
   ]
  },
  {
   "cell_type": "markdown",
   "id": "c0c24f34-08a4-4d9d-9c9b-0f6ac2e9c10c",
   "metadata": {},
   "source": [
    "3. Write a lambda function that takes a list of numbers and returns the maximum value."
   ]
  },
  {
   "cell_type": "code",
   "execution_count": 3,
   "id": "78a81836-92b6-431e-8672-8f127d70120f",
   "metadata": {},
   "outputs": [
    {
     "data": {
      "text/plain": [
       "25"
      ]
     },
     "execution_count": 3,
     "metadata": {},
     "output_type": "execute_result"
    }
   ],
   "source": [
    "l = lambda lst: max(lst)\n",
    "l([-5, 8, 9, 4, 25])"
   ]
  },
  {
   "cell_type": "markdown",
   "id": "58b141f3-5b8f-4ab5-a804-3e0d345b99f2",
   "metadata": {},
   "source": [
    "4. Write a lambda function that takes a list of strings and returns a new list containing only the strings that start with the letter 'A'."
   ]
  },
  {
   "cell_type": "code",
   "execution_count": 4,
   "id": "97be1bcd-0ad8-4031-9ad3-14dff10691ac",
   "metadata": {},
   "outputs": [
    {
     "data": {
      "text/plain": [
       "['Ananda', 'Tanmoy', 'Saheb', 'Tushar', 'Debasish', 'Ramprasad']"
      ]
     },
     "execution_count": 4,
     "metadata": {},
     "output_type": "execute_result"
    }
   ],
   "source": [
    "s = lambda lst1: list(filter(lambda z: 'a' in z.lower(), lst1))\n",
    "s(['Ananda', 'Tanmoy', 'Sntu', 'Saheb', 'Tushar', 'Debrj', 'Debasish', 'Ramprasad'])"
   ]
  },
  {
   "cell_type": "markdown",
   "id": "9e3564e2-e2ac-463c-a283-375722f89032",
   "metadata": {},
   "source": [
    "5. Write a lambda function that takes a dictionary and returns the values sorted in descending order."
   ]
  },
  {
   "cell_type": "code",
   "execution_count": 5,
   "id": "562a0925-bcf1-4096-bac4-65662414ac94",
   "metadata": {},
   "outputs": [
    {
     "data": {
      "text/plain": [
       "[50, 10, -8]"
      ]
     },
     "execution_count": 5,
     "metadata": {},
     "output_type": "execute_result"
    }
   ],
   "source": [
    "d = lambda d: sorted(list(d.values()), reverse = True)\n",
    "d({'b': 10, 'c': 50, 'd': -8})"
   ]
  },
  {
   "cell_type": "markdown",
   "id": "fdaa52ab-f282-4b41-8d2e-a905ed375c60",
   "metadata": {},
   "source": [
    "6. Write a lambda function that takes a list of tuples where each tuple contains a name and an age, and returns a new list of names sorted alphabetically."
   ]
  },
  {
   "cell_type": "code",
   "execution_count": 11,
   "id": "a1a7924c-1320-4df2-8aaa-425ee1258009",
   "metadata": {},
   "outputs": [
    {
     "data": {
      "text/plain": [
       "['Ananda', 'Saheb', 'Tanmoy']"
      ]
     },
     "execution_count": 11,
     "metadata": {},
     "output_type": "execute_result"
    }
   ],
   "source": [
    "f1 = lambda lt: sorted(list(m[0] for m in lt))\n",
    "f1([('Ananda', 30), ('Tanmoy', 50), ('Saheb', 60)])"
   ]
  },
  {
   "cell_type": "markdown",
   "id": "e15a1cb3-0739-4f5b-8511-0a0394569536",
   "metadata": {},
   "source": [
    "7. Write a lambda function that takes a list of numbers and returns a new list containing only the even numbers."
   ]
  },
  {
   "cell_type": "code",
   "execution_count": 7,
   "id": "1d1ee020-0b69-40b4-bcf1-7d7a2691ec1d",
   "metadata": {},
   "outputs": [
    {
     "data": {
      "text/plain": [
       "[2, 6, 8]"
      ]
     },
     "execution_count": 7,
     "metadata": {},
     "output_type": "execute_result"
    }
   ],
   "source": [
    "even = lambda lst3: list(filter(lambda n: n%2==0, lst3))\n",
    "even([2, 3, 5, 6, 7, 8, 9])"
   ]
  },
  {
   "cell_type": "markdown",
   "id": "6dcf4b1a-d4b4-470b-81e2-b8ec1657ec04",
   "metadata": {},
   "source": [
    "8. Write a lambda function that takes a list of strings and returns a new list where each string is reversed."
   ]
  },
  {
   "cell_type": "code",
   "execution_count": 8,
   "id": "32200730-d731-4518-bbc9-b7cce0e9d976",
   "metadata": {},
   "outputs": [
    {
     "data": {
      "text/plain": [
       "['adnanA',\n",
       " 'yomnaT',\n",
       " 'utnS',\n",
       " 'behaS',\n",
       " 'rahsuT',\n",
       " 'jrbeD',\n",
       " 'hsisabeD',\n",
       " 'dasarpmaR']"
      ]
     },
     "execution_count": 8,
     "metadata": {},
     "output_type": "execute_result"
    }
   ],
   "source": [
    "reverse = lambda lst: list(string[::-1] for string in lst)\n",
    "reverse(['Ananda', 'Tanmoy', 'Sntu', 'Saheb', 'Tushar', 'Debrj', 'Debasish', 'Ramprasad'])"
   ]
  },
  {
   "cell_type": "markdown",
   "id": "0259179f-87d5-497b-a05c-faacfd6c2405",
   "metadata": {},
   "source": [
    "9. Write a lambda function that takes a list of dictionaries representing students with keys \"name\" and \"grade\", and returns a new list containing only the students who have a grade higher than 80."
   ]
  },
  {
   "cell_type": "code",
   "execution_count": 9,
   "id": "620fa50d-c53e-4a2d-9156-de0cd0e591e6",
   "metadata": {},
   "outputs": [
    {
     "ename": "TypeError",
     "evalue": "filter expected 2 arguments, got 1",
     "output_type": "error",
     "traceback": [
      "\u001b[0;31m---------------------------------------------------------------------------\u001b[0m",
      "\u001b[0;31mTypeError\u001b[0m                                 Traceback (most recent call last)",
      "\u001b[0;32m/tmp/ipykernel_389499/1479766398.py\u001b[0m in \u001b[0;36m<module>\u001b[0;34m\u001b[0m\n\u001b[1;32m      1\u001b[0m \u001b[0mscore\u001b[0m \u001b[0;34m=\u001b[0m \u001b[0;32mlambda\u001b[0m \u001b[0mlst\u001b[0m\u001b[0;34m:\u001b[0m \u001b[0mlist\u001b[0m\u001b[0;34m(\u001b[0m\u001b[0mmap\u001b[0m\u001b[0;34m(\u001b[0m\u001b[0mlist\u001b[0m\u001b[0;34m(\u001b[0m\u001b[0;32mlambda\u001b[0m \u001b[0mdic\u001b[0m\u001b[0;34m:\u001b[0m \u001b[0mdic\u001b[0m\u001b[0;34m[\u001b[0m\u001b[0;34m'name'\u001b[0m\u001b[0;34m]\u001b[0m\u001b[0;34m,\u001b[0m \u001b[0mlist\u001b[0m\u001b[0;34m(\u001b[0m\u001b[0mfilter\u001b[0m\u001b[0;34m(\u001b[0m\u001b[0;32mlambda\u001b[0m \u001b[0mdic\u001b[0m\u001b[0;34m:\u001b[0m \u001b[0mdic\u001b[0m\u001b[0;34m[\u001b[0m\u001b[0;34m'grade'\u001b[0m\u001b[0;34m]\u001b[0m \u001b[0;34m>\u001b[0m \u001b[0;36m50\u001b[0m\u001b[0;34m)\u001b[0m\u001b[0;34m,\u001b[0m \u001b[0mlst\u001b[0m\u001b[0;34m)\u001b[0m\u001b[0;34m)\u001b[0m\u001b[0;34m)\u001b[0m\u001b[0;34m)\u001b[0m\u001b[0;34m\u001b[0m\u001b[0;34m\u001b[0m\u001b[0m\n\u001b[0;32m----> 2\u001b[0;31m \u001b[0mscore\u001b[0m\u001b[0;34m(\u001b[0m\u001b[0;34m[\u001b[0m\u001b[0;34m{\u001b[0m\u001b[0;34m'name'\u001b[0m\u001b[0;34m:\u001b[0m \u001b[0;34m'p1'\u001b[0m\u001b[0;34m,\u001b[0m \u001b[0;34m'age'\u001b[0m\u001b[0;34m:\u001b[0m \u001b[0;36m30\u001b[0m\u001b[0;34m}\u001b[0m\u001b[0;34m,\u001b[0m \u001b[0;34m{\u001b[0m\u001b[0;34m'name'\u001b[0m\u001b[0;34m:\u001b[0m \u001b[0;34m'p2'\u001b[0m\u001b[0;34m,\u001b[0m \u001b[0;34m'age'\u001b[0m\u001b[0;34m:\u001b[0m \u001b[0;36m52\u001b[0m\u001b[0;34m}\u001b[0m\u001b[0;34m,\u001b[0m \u001b[0;34m{\u001b[0m\u001b[0;34m'name'\u001b[0m\u001b[0;34m:\u001b[0m \u001b[0;34m'p3'\u001b[0m\u001b[0;34m,\u001b[0m \u001b[0;34m'age'\u001b[0m\u001b[0;34m:\u001b[0m \u001b[0;36m27\u001b[0m\u001b[0;34m}\u001b[0m\u001b[0;34m,\u001b[0m \u001b[0;34m{\u001b[0m\u001b[0;34m'name'\u001b[0m\u001b[0;34m:\u001b[0m \u001b[0;34m'p4'\u001b[0m\u001b[0;34m,\u001b[0m \u001b[0;34m'age'\u001b[0m\u001b[0;34m:\u001b[0m \u001b[0;36m18\u001b[0m\u001b[0;34m}\u001b[0m\u001b[0;34m,\u001b[0m \u001b[0;34m{\u001b[0m\u001b[0;34m'name'\u001b[0m\u001b[0;34m:\u001b[0m \u001b[0;34m'p5'\u001b[0m\u001b[0;34m,\u001b[0m \u001b[0;34m'age'\u001b[0m\u001b[0;34m:\u001b[0m \u001b[0;36m35\u001b[0m\u001b[0;34m}\u001b[0m\u001b[0;34m]\u001b[0m\u001b[0;34m)\u001b[0m\u001b[0;34m\u001b[0m\u001b[0;34m\u001b[0m\u001b[0m\n\u001b[0m",
      "\u001b[0;32m/tmp/ipykernel_389499/1479766398.py\u001b[0m in \u001b[0;36m<lambda>\u001b[0;34m(lst)\u001b[0m\n\u001b[0;32m----> 1\u001b[0;31m \u001b[0mscore\u001b[0m \u001b[0;34m=\u001b[0m \u001b[0;32mlambda\u001b[0m \u001b[0mlst\u001b[0m\u001b[0;34m:\u001b[0m \u001b[0mlist\u001b[0m\u001b[0;34m(\u001b[0m\u001b[0mmap\u001b[0m\u001b[0;34m(\u001b[0m\u001b[0mlist\u001b[0m\u001b[0;34m(\u001b[0m\u001b[0;32mlambda\u001b[0m \u001b[0mdic\u001b[0m\u001b[0;34m:\u001b[0m \u001b[0mdic\u001b[0m\u001b[0;34m[\u001b[0m\u001b[0;34m'name'\u001b[0m\u001b[0;34m]\u001b[0m\u001b[0;34m,\u001b[0m \u001b[0mlist\u001b[0m\u001b[0;34m(\u001b[0m\u001b[0mfilter\u001b[0m\u001b[0;34m(\u001b[0m\u001b[0;32mlambda\u001b[0m \u001b[0mdic\u001b[0m\u001b[0;34m:\u001b[0m \u001b[0mdic\u001b[0m\u001b[0;34m[\u001b[0m\u001b[0;34m'grade'\u001b[0m\u001b[0;34m]\u001b[0m \u001b[0;34m>\u001b[0m \u001b[0;36m50\u001b[0m\u001b[0;34m)\u001b[0m\u001b[0;34m,\u001b[0m \u001b[0mlst\u001b[0m\u001b[0;34m)\u001b[0m\u001b[0;34m)\u001b[0m\u001b[0;34m)\u001b[0m\u001b[0;34m)\u001b[0m\u001b[0;34m\u001b[0m\u001b[0;34m\u001b[0m\u001b[0m\n\u001b[0m\u001b[1;32m      2\u001b[0m \u001b[0mscore\u001b[0m\u001b[0;34m(\u001b[0m\u001b[0;34m[\u001b[0m\u001b[0;34m{\u001b[0m\u001b[0;34m'name'\u001b[0m\u001b[0;34m:\u001b[0m \u001b[0;34m'p1'\u001b[0m\u001b[0;34m,\u001b[0m \u001b[0;34m'age'\u001b[0m\u001b[0;34m:\u001b[0m \u001b[0;36m30\u001b[0m\u001b[0;34m}\u001b[0m\u001b[0;34m,\u001b[0m \u001b[0;34m{\u001b[0m\u001b[0;34m'name'\u001b[0m\u001b[0;34m:\u001b[0m \u001b[0;34m'p2'\u001b[0m\u001b[0;34m,\u001b[0m \u001b[0;34m'age'\u001b[0m\u001b[0;34m:\u001b[0m \u001b[0;36m52\u001b[0m\u001b[0;34m}\u001b[0m\u001b[0;34m,\u001b[0m \u001b[0;34m{\u001b[0m\u001b[0;34m'name'\u001b[0m\u001b[0;34m:\u001b[0m \u001b[0;34m'p3'\u001b[0m\u001b[0;34m,\u001b[0m \u001b[0;34m'age'\u001b[0m\u001b[0;34m:\u001b[0m \u001b[0;36m27\u001b[0m\u001b[0;34m}\u001b[0m\u001b[0;34m,\u001b[0m \u001b[0;34m{\u001b[0m\u001b[0;34m'name'\u001b[0m\u001b[0;34m:\u001b[0m \u001b[0;34m'p4'\u001b[0m\u001b[0;34m,\u001b[0m \u001b[0;34m'age'\u001b[0m\u001b[0;34m:\u001b[0m \u001b[0;36m18\u001b[0m\u001b[0;34m}\u001b[0m\u001b[0;34m,\u001b[0m \u001b[0;34m{\u001b[0m\u001b[0;34m'name'\u001b[0m\u001b[0;34m:\u001b[0m \u001b[0;34m'p5'\u001b[0m\u001b[0;34m,\u001b[0m \u001b[0;34m'age'\u001b[0m\u001b[0;34m:\u001b[0m \u001b[0;36m35\u001b[0m\u001b[0;34m}\u001b[0m\u001b[0;34m]\u001b[0m\u001b[0;34m)\u001b[0m\u001b[0;34m\u001b[0m\u001b[0;34m\u001b[0m\u001b[0m\n",
      "\u001b[0;31mTypeError\u001b[0m: filter expected 2 arguments, got 1"
     ]
    }
   ],
   "source": [
    "score = lambda lst: list(map(list(lambda dic: dic['name'], list(filter(lambda dic: dic['grade'] > 50), lst))))\n",
    "score([{'name': 'p1', 'age': 30}, {'name': 'p2', 'age': 52}, {'name': 'p3', 'age': 27}, {'name': 'p4', 'age': 18}, {'name': 'p5', 'age': 35}])"
   ]
  },
  {
   "cell_type": "markdown",
   "id": "0221a794-c341-4a43-b53c-815c659e3054",
   "metadata": {},
   "source": [
    "10. Write a lambda function that takes a list of integers and returns a new list where each integer is squared."
   ]
  },
  {
   "cell_type": "code",
   "execution_count": null,
   "id": "5045d3a9-1076-4411-862d-8a4a013dd14e",
   "metadata": {},
   "outputs": [],
   "source": [
    "square = lambda lst: list(n**2 for n in lst)\n",
    "square([1, 2, 3, 4, 5, 6])"
   ]
  },
  {
   "cell_type": "code",
   "execution_count": null,
   "id": "427aa5cd-c485-4aec-893b-086146578b35",
   "metadata": {},
   "outputs": [],
   "source": []
  }
 ],
 "metadata": {
  "kernelspec": {
   "display_name": "Python 3 (ipykernel)",
   "language": "python",
   "name": "python3"
  },
  "language_info": {
   "codemirror_mode": {
    "name": "ipython",
    "version": 3
   },
   "file_extension": ".py",
   "mimetype": "text/x-python",
   "name": "python",
   "nbconvert_exporter": "python",
   "pygments_lexer": "ipython3",
   "version": "3.7.9"
  }
 },
 "nbformat": 4,
 "nbformat_minor": 5
}
