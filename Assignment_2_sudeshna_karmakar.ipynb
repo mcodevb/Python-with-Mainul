{
  "cells": [
    {
      "cell_type": "markdown",
      "metadata": {
        "id": "view-in-github",
        "colab_type": "text"
      },
      "source": [
        "<a href=\"https://colab.research.google.com/github/mcodevb/Python-with-Mainul/blob/master/Assignment_2_sudeshna_karmakar.ipynb\" target=\"_parent\"><img src=\"https://colab.research.google.com/assets/colab-badge.svg\" alt=\"Open In Colab\"/></a>"
      ]
    },
    {
      "cell_type": "markdown",
      "id": "dd17f50f",
      "metadata": {
        "id": "dd17f50f"
      },
      "source": [
        "1. Write a program to print the numbers from 1 to 10 using a ‘while’ loop.\n",
        "\n",
        "Hint: Start with a counter variable and use a while loop to print the numbers.\n"
      ]
    },
    {
      "cell_type": "code",
      "execution_count": null,
      "id": "4e0d6706",
      "metadata": {
        "id": "4e0d6706",
        "outputId": "aa76be47-ead6-4b32-dc76-4625dff47631"
      },
      "outputs": [
        {
          "name": "stdout",
          "output_type": "stream",
          "text": [
            "1\n",
            "2\n",
            "3\n",
            "4\n",
            "5\n",
            "6\n",
            "7\n",
            "8\n",
            "9\n",
            "10\n"
          ]
        }
      ],
      "source": [
        "i=0\n",
        "while i<10:\n",
        "    i=i+1\n",
        "    print(i)\n",
        "    "
      ]
    },
    {
      "cell_type": "markdown",
      "id": "c3fdf565",
      "metadata": {
        "id": "c3fdf565"
      },
      "source": [
        "2. Write a program to calculate the sum of all even numbers from 1 to 50 using a while\n",
        "loop.\n",
        "\n",
        "\n",
        "Hint: Initialize a variable to store the sum and use a while loop to iterate through the numbers,\n",
        "checking for evenness."
      ]
    },
    {
      "cell_type": "code",
      "execution_count": null,
      "id": "797a9c25",
      "metadata": {
        "id": "797a9c25",
        "outputId": "5dbc2d59-d672-49f0-b6f3-f5819c174110"
      },
      "outputs": [
        {
          "name": "stdout",
          "output_type": "stream",
          "text": [
            "sum of all evens from 1 to 50 is 650\n"
          ]
        }
      ],
      "source": [
        "s=0\n",
        "i=1\n",
        "while i<51:\n",
        "    if(i%2==0):\n",
        "        s=s+i\n",
        "    i=i+1\n",
        "print('sum of all evens from 1 to 50 is',s)"
      ]
    },
    {
      "cell_type": "markdown",
      "id": "6233e89f",
      "metadata": {
        "id": "6233e89f"
      },
      "source": [
        "3. Write a program to print the multiplication table of a given number using a while loop.\n",
        "\n",
        "Hint: Use a counter variable and a while loop to multiply the given number with different values."
      ]
    },
    {
      "cell_type": "code",
      "execution_count": null,
      "id": "2612b1ed",
      "metadata": {
        "id": "2612b1ed",
        "outputId": "257085c8-53d3-42a9-e7f5-044cf6deb12a"
      },
      "outputs": [
        {
          "name": "stdout",
          "output_type": "stream",
          "text": [
            "5 * 1 = 5\n",
            "5 * 2 = 10\n",
            "5 * 3 = 15\n",
            "5 * 4 = 20\n",
            "5 * 5 = 25\n",
            "5 * 6 = 30\n",
            "5 * 7 = 35\n",
            "5 * 8 = 40\n",
            "5 * 9 = 45\n",
            "5 * 10 = 50\n"
          ]
        }
      ],
      "source": [
        "n=5\n",
        "i=0\n",
        "s=1\n",
        "while i<10:\n",
        "    i+=1\n",
        "    s=i*n\n",
        "    print(n,'*',i,'=',s)"
      ]
    },
    {
      "cell_type": "markdown",
      "id": "1a1ceb69",
      "metadata": {
        "id": "1a1ceb69"
      },
      "source": [
        "4. Write a program to find the factorial of a number using a while loop.\n",
        "\n",
        "Hint: The factorial of n is 1*2*3*....*n. Use a counter variable and a while loop to multiply the number\n",
        "with decreasing values."
      ]
    },
    {
      "cell_type": "code",
      "execution_count": null,
      "id": "e080fa9f",
      "metadata": {
        "id": "e080fa9f",
        "outputId": "09fe2cf7-e2bc-4d46-9dcb-1ca86cfce01e"
      },
      "outputs": [
        {
          "name": "stdout",
          "output_type": "stream",
          "text": [
            "The factorial of 5 is 120\n"
          ]
        }
      ],
      "source": [
        "n=5\n",
        "s=1\n",
        "i=0\n",
        "while i<n:\n",
        "    i+=1\n",
        "    s=s*i\n",
        "print('The factorial of',n,'is',s)"
      ]
    },
    {
      "cell_type": "markdown",
      "id": "fa7c3396",
      "metadata": {
        "id": "fa7c3396"
      },
      "source": [
        "5. Write a program to check if a given number is prime or not using a while loop.\n",
        "\n",
        "Hint: Use a while loop to check the divisibility of the number by all numbers less than it. Use the best\n",
        "search range."
      ]
    },
    {
      "cell_type": "code",
      "execution_count": null,
      "id": "5e6ab137",
      "metadata": {
        "colab": {
          "base_uri": "https://localhost:8080/"
        },
        "id": "5e6ab137",
        "outputId": "6918168b-3c8d-4c2f-dfd9-60b3b3169f2d"
      },
      "outputs": [
        {
          "output_type": "stream",
          "name": "stdout",
          "text": [
            "10 is not prime\n"
          ]
        }
      ],
      "source": [
        "n=10\n",
        "x=0\n",
        "s=n**0.5+1\n",
        "i=1\n",
        "if(n<=1):\n",
        "    x=1\n",
        "else:\n",
        "    while i<s:\n",
        "        i+=1\n",
        "        if(n%i==0):\n",
        "            x=1\n",
        "            break\n",
        "if(x==1):        \n",
        "        print(n,'is not prime')\n",
        "else:\n",
        "        print(n,'is prime')"
      ]
    },
    {
      "cell_type": "markdown",
      "id": "e69d6f54",
      "metadata": {
        "id": "e69d6f54"
      },
      "source": [
        "6. Write a program to print the Fibonacci series up to a given number using a while loop.\n",
        "\n",
        "Hint: Use a while loop to generate Fibonacci numbers until they exceed the given number."
      ]
    },
    {
      "cell_type": "code",
      "execution_count": null,
      "id": "e24d57eb",
      "metadata": {
        "colab": {
          "base_uri": "https://localhost:8080/"
        },
        "id": "e24d57eb",
        "outputId": "5669dd82-9bff-4da1-bac4-be41e5005108"
      },
      "outputs": [
        {
          "output_type": "stream",
          "name": "stdout",
          "text": [
            "[0, 1, 1, 2, 3, 5, 8, 13, 21, 34, 55, 89, 144, 233]\n"
          ]
        }
      ],
      "source": [
        "n=300\n",
        "i=0\n",
        "a=[0,1]\n",
        "while i<n:\n",
        "    i+=1\n",
        "    x=a[-1]+a[-2]\n",
        "    if(x>n):\n",
        "        break\n",
        "    a.append(x)\n",
        "print(a)\n"
      ]
    },
    {
      "cell_type": "markdown",
      "id": "7b3e71bc",
      "metadata": {
        "id": "7b3e71bc"
      },
      "source": [
        "7. Write a program to reverse a given number using a while loop.\n",
        "\n",
        "Hint: Use a while loop to extract the digits of the number and reverse their order."
      ]
    },
    {
      "cell_type": "code",
      "execution_count": null,
      "id": "f71aaa45",
      "metadata": {
        "id": "f71aaa45",
        "outputId": "3e2769cf-864e-4476-b3bc-a779969e91d3"
      },
      "outputs": [
        {
          "name": "stdout",
          "output_type": "stream",
          "text": [
            "321\n"
          ]
        }
      ],
      "source": [
        "n=123\n",
        "n=str(n)\n",
        "i=len(n)\n",
        "a=n\n",
        "b=[]\n",
        "while i>0:\n",
        "    i=i-1\n",
        "    b.append(a[i])\n",
        "print(int(''.join(b)))\n",
        "    \n"
      ]
    },
    {
      "cell_type": "markdown",
      "id": "7a647daa",
      "metadata": {
        "id": "7a647daa"
      },
      "source": [
        "8. Write a program to find the sum of digits of a given number using a while loop.\n",
        "\n",
        "Hint: Use a while loop to extract the digits of the number and add them to a running sum."
      ]
    },
    {
      "cell_type": "code",
      "execution_count": null,
      "id": "c4727b51",
      "metadata": {
        "id": "c4727b51",
        "outputId": "5eb2a9a7-5076-4be5-ae9c-6413a8e3191f"
      },
      "outputs": [
        {
          "name": "stdout",
          "output_type": "stream",
          "text": [
            "The sum of digits of 1234 is 10\n"
          ]
        }
      ],
      "source": [
        "n=1234\n",
        "n=str(n)\n",
        "i=len(n)\n",
        "a=n\n",
        "s=0\n",
        "while i>0:\n",
        "    i=i-1\n",
        "    s=s+int(a[i])\n",
        "print('The sum of digits of',int(n),'is',s)\n",
        "    \n",
        "    "
      ]
    },
    {
      "cell_type": "markdown",
      "id": "f5560f43",
      "metadata": {
        "id": "f5560f43"
      },
      "source": [
        "9. Write a program to count the number of digits in a given number using a while loop.\n",
        "\n",
        "Hint: Use a while loop to extract the digits of the number and count them.\n",
        "1"
      ]
    },
    {
      "cell_type": "code",
      "execution_count": null,
      "id": "6ea4a1c4",
      "metadata": {
        "id": "6ea4a1c4",
        "outputId": "ca0d4762-ff78-40ae-cbb5-53da06bfc39e"
      },
      "outputs": [
        {
          "name": "stdout",
          "output_type": "stream",
          "text": [
            "The number of digits in 123 is 3\n"
          ]
        }
      ],
      "source": [
        "n=123\n",
        "b=n\n",
        "i=1\n",
        "while i<n//2:\n",
        "    i+=1\n",
        "    n=n//10\n",
        "    if(n==0):\n",
        "        break\n",
        "print('The number of digits in',b,'is',i)\n",
        "\n"
      ]
    },
    {
      "cell_type": "markdown",
      "id": "67a0596c",
      "metadata": {
        "id": "67a0596c"
      },
      "source": [
        "10. Write a program to print the patterns using nested for loops.\n",
        "\n",
        "Hint: Use two for loops, one for the rows and one for the columns, to print the desired pattern."
      ]
    },
    {
      "cell_type": "code",
      "execution_count": null,
      "id": "45098b22",
      "metadata": {
        "colab": {
          "base_uri": "https://localhost:8080/"
        },
        "id": "45098b22",
        "outputId": "efa89081-43bf-465c-e732-73791c4560ea"
      },
      "outputs": [
        {
          "output_type": "stream",
          "name": "stdout",
          "text": [
            "*       1      *****\n",
            "**      22     ****\n",
            "***     333    ***\n",
            "****    4444   **\n",
            "*****   55555  *\n"
          ]
        }
      ],
      "source": [
        "n=5\n",
        "i=1\n",
        "while i<n+1:\n",
        "    i+=1\n",
        "    j=1\n",
        "    k=-1\n",
        "    l=n\n",
        "    a=[]\n",
        "    b=[]\n",
        "    c=[]\n",
        "    d=[]\n",
        "    e=[]\n",
        "    while j<i:\n",
        "        j+=1\n",
        "        a.append('*')\n",
        "        i=str(i-1)\n",
        "        b.append(i)\n",
        "        i=int(i)+1\n",
        "        while k<n-i+1:\n",
        "            k+=1\n",
        "            c.append(' ')\n",
        "            e.append('*')\n",
        "        while l>i-1:\n",
        "            l-=1\n",
        "            d.append(' ')\n",
        "    print(''.join(a),''.join(c),''.join(b),''.join(d),''.join(e))\n",
        "        "
      ]
    },
    {
      "cell_type": "markdown",
      "id": "f7d30185",
      "metadata": {
        "id": "f7d30185"
      },
      "source": [
        " Sudeshna: 11. Write a Python program to find the prime numbers between a given range.\n",
        " \n",
        "Hint: A prime number is an integer greater than 1 and which is divisible by 1 and itself only."
      ]
    },
    {
      "cell_type": "code",
      "execution_count": null,
      "id": "436fa284",
      "metadata": {
        "colab": {
          "base_uri": "https://localhost:8080/"
        },
        "id": "436fa284",
        "outputId": "970d4479-614f-4cac-96e9-fed5f03bab27"
      },
      "outputs": [
        {
          "output_type": "stream",
          "name": "stdout",
          "text": [
            "The list of prime between -5 and 50 are [2, 3, 5, 7, 11, 13, 17, 19, 23, 29, 31, 37, 41, 43, 47]\n"
          ]
        }
      ],
      "source": [
        "lower_limit=-5\n",
        "upper_limit=50\n",
        "prime_no=[]\n",
        "n=lower_limit-1\n",
        "while n<upper_limit:\n",
        "    x=0\n",
        "    n+=1\n",
        "    if(n<=1):\n",
        "        x=1\n",
        "    else:\n",
        "        i=1\n",
        "        s=int(n**0.5)\n",
        "        while i<s:\n",
        "            i+=1\n",
        "            if(n%i==0):\n",
        "                x=1\n",
        "                break\n",
        "    if(x==0):\n",
        "        prime_no.append(n)\n",
        "print('The list of prime between',lower_limit,'and',upper_limit,'are',prime_no)"
      ]
    },
    {
      "cell_type": "markdown",
      "id": "843845c9",
      "metadata": {
        "id": "843845c9"
      },
      "source": [
        "12. Write a Python program to check if whether there are any prime numbers in a list of n\n",
        "integers and print their sum.\n",
        "\n",
        "Hint: loop through the list of integers and if it is a prime add it to sum."
      ]
    },
    {
      "cell_type": "code",
      "execution_count": null,
      "id": "87758bf8",
      "metadata": {
        "colab": {
          "base_uri": "https://localhost:8080/"
        },
        "id": "87758bf8",
        "outputId": "c3f8df2c-75eb-4f0e-b279-440fdf3e6edd"
      },
      "outputs": [
        {
          "output_type": "stream",
          "name": "stdout",
          "text": [
            "The prime in the list [1, 2, 3, 4, 5, 6, 7] are [2, 3, 5, 7] and their sum is 17\n"
          ]
        }
      ],
      "source": [
        "list1=[1,2,3,4,5,6,7]\n",
        "l=len(list1)\n",
        "i=0\n",
        "sum1=0\n",
        "prime=[]\n",
        "while i<l:\n",
        "    n=list1[i]\n",
        "    i+=1\n",
        "    x=0\n",
        "    if(n<=1):\n",
        "        x=1\n",
        "    else:\n",
        "        j=1\n",
        "        s=int(n**0.5)\n",
        "        while j<s:\n",
        "            j+=1\n",
        "            if(n%j==0):\n",
        "                x=1\n",
        "                break\n",
        "    if(x==0):        \n",
        "        prime.append(n)\n",
        "        sum1=sum1+n\n",
        "print('The prime in the list',list1,'are',prime,'and their sum is',sum1)"
      ]
    },
    {
      "cell_type": "markdown",
      "id": "2874d2de",
      "metadata": {
        "id": "2874d2de"
      },
      "source": [
        "13. Write a Python program to find the common elements between two given lists.\n",
        "\n",
        "Hint: Use a loop to iterate through each element in one list and check if it exists in the other list."
      ]
    },
    {
      "cell_type": "code",
      "execution_count": null,
      "id": "6f488035",
      "metadata": {
        "id": "6f488035",
        "outputId": "7152c1aa-0faa-4e93-dcd6-54251164eef6"
      },
      "outputs": [
        {
          "name": "stdout",
          "output_type": "stream",
          "text": [
            "There is no common elements between [1, 2, 3, 4, 5, 6, 7, 8] and [9, 10, 11]\n"
          ]
        }
      ],
      "source": [
        "list1=[1,2,3,4,5,6,7,8]\n",
        "list2=[9,10,11]\n",
        "list3=[]\n",
        "for a in list1:\n",
        "    if(a in list2):\n",
        "        list3.append(a)\n",
        "if(len(list3)==0):\n",
        "    print('There is no common elements between',list1,'and',list2)\n",
        "else:\n",
        "    print('The common elements between',list1,'and',list2,'are',list3)"
      ]
    },
    {
      "cell_type": "markdown",
      "id": "6845ea83",
      "metadata": {
        "id": "6845ea83"
      },
      "source": [
        "14. Write a Python program to find the sum of all the elements in a given matrix (2D list).\n",
        "\n",
        "Hint: Use nested loops to iterate through each element in the matrix and accumulate the sum."
      ]
    },
    {
      "cell_type": "code",
      "execution_count": null,
      "id": "96f82392",
      "metadata": {
        "id": "96f82392",
        "outputId": "ac946f5a-fc0e-4a68-81d5-74b6f42cdf93"
      },
      "outputs": [
        {
          "name": "stdout",
          "output_type": "stream",
          "text": [
            "The sum of the elements of the matrix [[1, 2, 3], [3, 4, 5]] is 18\n"
          ]
        }
      ],
      "source": [
        "A=[[1,2,3],[3,4,5]]\n",
        "sum=0\n",
        "for i in range(len(A)):\n",
        "    for j in range(len(A[0])):\n",
        "        sum=sum+A[i][j]\n",
        "print('The sum of the elements of the matrix',A,'is',sum)"
      ]
    },
    {
      "cell_type": "markdown",
      "id": "cb38b969",
      "metadata": {
        "id": "cb38b969"
      },
      "source": [
        "15. Write a Python program to transpose a given matrix A and check if it is the same as A,\n",
        "i.e., A is a Symmetric Matrix.\n",
        "\n",
        "Hint: Use nested loops to iterate through the rows and columns of the matrix and swap elements."
      ]
    },
    {
      "cell_type": "code",
      "execution_count": null,
      "id": "59568bb3",
      "metadata": {
        "colab": {
          "base_uri": "https://localhost:8080/"
        },
        "id": "59568bb3",
        "outputId": "908c36f3-0a33-4eb2-c787-4496a35e31c4"
      },
      "outputs": [
        {
          "output_type": "stream",
          "name": "stdout",
          "text": [
            "[[1, 2], [2, 1]] is Symmetric Matrix\n"
          ]
        }
      ],
      "source": [
        "A=[[1,2],[2,1]]\n",
        "At=[[0 for i in range(len(A[0]))] for j in range(len(A))]\n",
        "for i in range(len(A)):\n",
        "    for j in range(len(A[0])):\n",
        "        At[i][j]=A[j][i]\n",
        "if(At==A):\n",
        "    print(A,'is Symmetric Matrix')\n",
        "else:\n",
        "    print(A,'is not Symmetric Matrix')\n"
      ]
    },
    {
      "cell_type": "markdown",
      "id": "2ab2303b",
      "metadata": {
        "id": "2ab2303b"
      },
      "source": [
        "16. Write a Python program to multiply two matrices using nested for loops.\n",
        "\n",
        "Hint: Use nested for loops to iterate through the rows and columns of the matrices and perform the\n",
        "multiplication. Use a temporary variable to accumulate the result."
      ]
    },
    {
      "cell_type": "code",
      "execution_count": null,
      "id": "50015772",
      "metadata": {
        "id": "50015772",
        "outputId": "a84dbaea-0c86-4c35-8ff1-946fa7336c0c"
      },
      "outputs": [
        {
          "name": "stdout",
          "output_type": "stream",
          "text": [
            "The matrix multiplication of [[1, 2], [3, 4]] * [[2, 0], [0, 2]] is [[2, 4], [6, 8]]\n"
          ]
        }
      ],
      "source": [
        "A=[[1,2],\n",
        "   [3,4]]\n",
        "B=[[2,0],\n",
        "   [0,2]]\n",
        "if(len(A[0])!=len(B)):\n",
        "    print('Multiplication is not possible')\n",
        "else:\n",
        "    C=[[0 for i in range(len(A))] for j in range(len(B[0]))]\n",
        "    for i in range(len(A)):\n",
        "        for j in range(len(B[0])):\n",
        "                for k in range(len(B)):\n",
        "                    C[i][j]+=A[i][k]*B[k][j] \n",
        "if(len(A[0])==len(B)):\n",
        "    print('The matrix multiplication of',A,'*',B,'is',C)\n",
        "    "
      ]
    },
    {
      "cell_type": "markdown",
      "id": "f08de277",
      "metadata": {
        "id": "f08de277"
      },
      "source": [
        "17. Write a program to find the prime factors of a given number using a while loop.\n",
        "\n",
        "Hint: Use a while loop to iterate through numbers and check if they are prime factors of the given\n",
        "number."
      ]
    },
    {
      "cell_type": "code",
      "execution_count": null,
      "id": "87800b2f",
      "metadata": {
        "id": "87800b2f",
        "outputId": "763432d5-51c3-4ecc-b57d-d068ea797973"
      },
      "outputs": [
        {
          "name": "stdout",
          "output_type": "stream",
          "text": [
            "The prime factors of 100 is [2, 2, 5, 5]\n"
          ]
        }
      ],
      "source": [
        "n=100\n",
        "b=n\n",
        "lista=[]\n",
        "i=0\n",
        "while i<n+1:\n",
        "    i+=1\n",
        "    j=1\n",
        "    while j<n+1:\n",
        "        j+=1\n",
        "        if (n%j==0):\n",
        "            n=n//j\n",
        "            lista.append(j)\n",
        "            break\n",
        "print('The prime factors of',b,'is',lista)"
      ]
    },
    {
      "cell_type": "markdown",
      "id": "ee67178e",
      "metadata": {
        "id": "ee67178e"
      },
      "source": [
        "18. Write a program to print all possible permutations of a given list using a while loop.\n",
        "\n",
        "Hint :Use a while loop to generate different permutations by swapping elements in the list."
      ]
    },
    {
      "cell_type": "code",
      "execution_count": null,
      "id": "37205a92",
      "metadata": {
        "id": "37205a92",
        "outputId": "cd1bd475-14bc-4659-d32e-d9e2e7e748d9"
      },
      "outputs": [
        {
          "name": "stdout",
          "output_type": "stream",
          "text": [
            "1\n",
            "2\n",
            "3\n"
          ]
        }
      ],
      "source": [
        "list1=[1,2,3]\n",
        "l=len(list1)\n",
        "i=0\n",
        "while i<l:\n",
        "    a_i=list1[i]\n",
        "    print(a_i)\n",
        "    i+=1"
      ]
    },
    {
      "cell_type": "markdown",
      "id": "f99711fd",
      "metadata": {
        "id": "f99711fd"
      },
      "source": [
        "19.Write a program that reads a long paragraph and counts the frequency of each word in it.\n",
        "\n",
        "Hint : Remove the punctuation from the paragraph and use split and then find unique words and their count.\n"
      ]
    },
    {
      "cell_type": "code",
      "execution_count": null,
      "id": "4c08a012",
      "metadata": {
        "id": "4c08a012"
      },
      "outputs": [],
      "source": [
        "n=''"
      ]
    },
    {
      "cell_type": "markdown",
      "id": "9d4b1b04",
      "metadata": {
        "id": "9d4b1b04"
      },
      "source": [
        "20.Write a program to generate the Pascal's triangle up to a given number of rows using nested for loops."
      ]
    },
    {
      "cell_type": "code",
      "execution_count": null,
      "id": "7ff96c51",
      "metadata": {
        "id": "7ff96c51",
        "outputId": "1008ee8e-a48a-4ae0-bf4d-eb33e8772a4f"
      },
      "outputs": [
        {
          "name": "stdout",
          "output_type": "stream",
          "text": [
            "      1 \n",
            "     1 1 \n",
            "    1 2 1 \n",
            "   1 3 3 1 \n",
            "  1 4 6 4 1 \n"
          ]
        }
      ],
      "source": [
        "from math import factorial \n",
        "rows=5\n",
        "for i in range(rows):\n",
        "    for j in range(rows-i+1):\n",
        "        print(end=' ')\n",
        "    for k in range(i+1):\n",
        "        print(factorial(i)//(factorial(k)*factorial(i-k)),end=' ')\n",
        "    print()\n",
        "        \n",
        "\n"
      ]
    },
    {
      "cell_type": "code",
      "execution_count": null,
      "id": "437b5c6a",
      "metadata": {
        "id": "437b5c6a"
      },
      "outputs": [],
      "source": []
    }
  ],
  "metadata": {
    "kernelspec": {
      "display_name": "Python 3 (ipykernel)",
      "language": "python",
      "name": "python3"
    },
    "language_info": {
      "codemirror_mode": {
        "name": "ipython",
        "version": 3
      },
      "file_extension": ".py",
      "mimetype": "text/x-python",
      "name": "python",
      "nbconvert_exporter": "python",
      "pygments_lexer": "ipython3",
      "version": "3.10.9"
    },
    "colab": {
      "provenance": [],
      "include_colab_link": true
    }
  },
  "nbformat": 4,
  "nbformat_minor": 5
}