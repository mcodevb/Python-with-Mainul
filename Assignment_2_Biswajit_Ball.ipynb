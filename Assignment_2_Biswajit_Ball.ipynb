{
  "cells": [
    {
      "cell_type": "markdown",
      "metadata": {
        "id": "view-in-github",
        "colab_type": "text"
      },
      "source": [
        "<a href=\"https://colab.research.google.com/github/mcodevb/Python-with-Mainul/blob/master/Assignment_2_Biswajit_Ball.ipynb\" target=\"_parent\"><img src=\"https://colab.research.google.com/assets/colab-badge.svg\" alt=\"Open In Colab\"/></a>"
      ]
    },
    {
      "cell_type": "markdown",
      "id": "35a7cdf7",
      "metadata": {
        "id": "35a7cdf7"
      },
      "source": [
        "Q1. Write a program to print the numbers from 1 to 10 using a ‘while’ loop.\n",
        "    Hint: Start with a counter variable and use a while loop to print the numbers."
      ]
    },
    {
      "cell_type": "code",
      "execution_count": null,
      "id": "18455e7d",
      "metadata": {
        "id": "18455e7d",
        "outputId": "b3b30cf1-bc76-4c04-ee21-2fb7c70e626b"
      },
      "outputs": [
        {
          "name": "stdout",
          "output_type": "stream",
          "text": [
            "1\n",
            "2\n",
            "3\n",
            "4\n",
            "5\n",
            "6\n",
            "7\n",
            "8\n",
            "9\n",
            "10\n"
          ]
        }
      ],
      "source": [
        "# n=1\n",
        "# while (n<11):\n",
        "#     print(n)\n",
        "#     n+=1\n",
        "\n",
        "n=0\n",
        "while (n<10):\n",
        "    n+=1\n",
        "    print(n)"
      ]
    },
    {
      "cell_type": "markdown",
      "id": "66ddfbf9",
      "metadata": {
        "id": "66ddfbf9"
      },
      "source": [
        "Q2. Write a program to calculate the sum of all even numbers from 1 to 50 using a while loop.\n",
        "    Hint: Initialize a variable to store the sum and use a while loop to iterate through the numbers, checking for evenness"
      ]
    },
    {
      "cell_type": "code",
      "execution_count": null,
      "id": "6add6d35",
      "metadata": {
        "id": "6add6d35",
        "outputId": "33f5897b-baec-4cbd-bcfd-b494a3ab0574"
      },
      "outputs": [
        {
          "name": "stdout",
          "output_type": "stream",
          "text": [
            "2\n",
            "6\n",
            "12\n",
            "20\n",
            "30\n",
            "42\n",
            "56\n",
            "72\n",
            "90\n",
            "110\n",
            "132\n",
            "156\n",
            "182\n",
            "210\n",
            "240\n",
            "272\n",
            "306\n",
            "342\n",
            "380\n",
            "420\n",
            "462\n",
            "506\n",
            "552\n",
            "600\n",
            "650\n"
          ]
        }
      ],
      "source": [
        "i=0\n",
        "sum_even=0\n",
        "\n",
        "while (i<51):\n",
        "    i+=1\n",
        "    if (i%2==0):\n",
        "        sum_even +=i\n",
        "        #print(sum_even)\n",
        "    else:\n",
        "        continue\n",
        "print(sum_even)\n",
        "    \n",
        "#Another Method:\n",
        "#numbers=list(range(1,51))\n",
        "#even_numbers=[i for i in numbers if i%2==0]\n",
        "#print(sum(even_numbers))"
      ]
    },
    {
      "cell_type": "markdown",
      "id": "ebba09bb",
      "metadata": {
        "id": "ebba09bb"
      },
      "source": [
        "Q3. Write a program to print the multiplication table of a given number using a while loop.\n",
        "    Hint: Use a counter variable and a while loop to multiply the given number with different values."
      ]
    },
    {
      "cell_type": "code",
      "execution_count": null,
      "id": "7d5538ee",
      "metadata": {
        "id": "7d5538ee",
        "outputId": "f42adfd1-e08e-4f10-9cf8-b40951f5c033"
      },
      "outputs": [
        {
          "name": "stdout",
          "output_type": "stream",
          "text": [
            "12 x 1 = 12\n",
            "12 x 2 = 24\n",
            "12 x 3 = 36\n",
            "12 x 4 = 48\n",
            "12 x 5 = 60\n",
            "12 x 6 = 72\n",
            "12 x 7 = 84\n",
            "12 x 8 = 96\n",
            "12 x 9 = 108\n",
            "12 x 10 = 120\n",
            "12 x 11 = 132\n",
            "12 x 12 = 144\n"
          ]
        }
      ],
      "source": [
        "N=12\n",
        "i=0\n",
        "while (i<N):\n",
        "    i +=1\n",
        "    print(N, 'x', i, '=' ,N*i)\n",
        "    "
      ]
    },
    {
      "cell_type": "markdown",
      "id": "e3aa4e5d",
      "metadata": {
        "id": "e3aa4e5d"
      },
      "source": [
        "Q4. Write a program to find the factorial of a number using a while loop.\n",
        "    Hint: The factorial of n is 1*2*3*....*n.  Use a counter variable and a while loop to multiply the number with decreasing       values."
      ]
    },
    {
      "cell_type": "code",
      "execution_count": null,
      "id": "2b1861ca",
      "metadata": {
        "id": "2b1861ca",
        "outputId": "21c0bef2-c0c8-462e-84ac-4de683e6029b"
      },
      "outputs": [
        {
          "name": "stdout",
          "output_type": "stream",
          "text": [
            "24\n"
          ]
        }
      ],
      "source": [
        "n=4\n",
        "fac=1\n",
        "while (n>0):\n",
        "    fac *=n\n",
        "    n-=1\n",
        "print(fac)"
      ]
    },
    {
      "cell_type": "markdown",
      "id": "faaca9bb",
      "metadata": {
        "id": "faaca9bb"
      },
      "source": [
        "Q5. Write a program to check if a given number is prime or not using a while loop.\n",
        "    Hint: Use a while loop to check the divisibility of the number by all numbers less than it. Use the best search range."
      ]
    },
    {
      "cell_type": "code",
      "execution_count": null,
      "id": "e9ebdff4",
      "metadata": {
        "id": "e9ebdff4",
        "outputId": "8e75ea3b-2b1b-4679-9f22-d430192faf1d"
      },
      "outputs": [
        {
          "name": "stdout",
          "output_type": "stream",
          "text": [
            "The number is prime\n"
          ]
        }
      ],
      "source": [
        "number=23\n",
        "i=1\n",
        "while (i< int(number//2 + 1)):\n",
        "    i+=1\n",
        "    if (number%i==0):\n",
        "        print(\"The number is not prime\")\n",
        "        break\n",
        "else:\n",
        "    print(\"The number is prime\")\n",
        "    "
      ]
    },
    {
      "cell_type": "markdown",
      "id": "99ba3f44",
      "metadata": {
        "id": "99ba3f44"
      },
      "source": [
        "Q6. Write a program to print the Fibonacci series up to a given number using a while loop.\n",
        "    Hint: Use a while loop to generate Fibonacci numbers until they exceed the given number."
      ]
    },
    {
      "cell_type": "code",
      "execution_count": null,
      "id": "a6afa3d3",
      "metadata": {
        "id": "a6afa3d3",
        "outputId": "aa30e7d2-ee21-4130-b3c1-e7c22500482b"
      },
      "outputs": [
        {
          "name": "stdout",
          "output_type": "stream",
          "text": [
            "Fibonacci series:\n",
            "1\n",
            "1\n",
            "2\n",
            "3\n",
            "5\n"
          ]
        }
      ],
      "source": [
        "upto_num = 5\n",
        "n1=0\n",
        "n2=1\n",
        "i=1\n",
        "\n",
        "if (upto_num==1):\n",
        "    print(\"Fibonacci series:\", n2)\n",
        "else:\n",
        "    print(\"Fibonacci series:\")\n",
        "    print(n2)\n",
        "    while (i<upto_num):\n",
        "        n3 = n1 + n2\n",
        "        n1 = n2\n",
        "        n2 = n3\n",
        "        i+=1\n",
        "        print(n3)"
      ]
    },
    {
      "cell_type": "markdown",
      "id": "dde51c87",
      "metadata": {
        "id": "dde51c87"
      },
      "source": [
        "Q7. Write a program to reverse a given number using a while loop.\n",
        "    Hint: Use a while loop to extract the digits of the number and reverse their order."
      ]
    },
    {
      "cell_type": "code",
      "execution_count": null,
      "id": "33cab0bb",
      "metadata": {
        "id": "33cab0bb",
        "outputId": "88ca3d5b-3451-448d-8e2b-42c94b9e2a3c"
      },
      "outputs": [
        {
          "name": "stdout",
          "output_type": "stream",
          "text": [
            "65432\n"
          ]
        }
      ],
      "source": [
        "num=23456\n",
        "reverse_num=0\n",
        "while (num>0):\n",
        "    last_digit=num%10\n",
        "    reverse_num=reverse_num*10 + last_digit\n",
        "    num //=10\n",
        "print(reverse_num)\n",
        "    "
      ]
    },
    {
      "cell_type": "markdown",
      "id": "d13a6cc1",
      "metadata": {
        "id": "d13a6cc1"
      },
      "source": [
        "Q8. Write a program to find the sum of digits of a given number using a while loop.\n",
        "    Hint: Use a while loop to extract the digits of the number and add them to a running sum."
      ]
    },
    {
      "cell_type": "code",
      "execution_count": null,
      "id": "52ab2784",
      "metadata": {
        "id": "52ab2784",
        "outputId": "0c25de69-e7dc-4e93-97f2-6141cb38cc0d"
      },
      "outputs": [
        {
          "name": "stdout",
          "output_type": "stream",
          "text": [
            "3\n"
          ]
        }
      ],
      "source": [
        "number1=12345\n",
        "sum_number=0\n",
        "while (number1>0):\n",
        "    last_digit=number1%10\n",
        "    sum_number +=last_digit\n",
        "    number1 //=10\n",
        "print(sum_number)"
      ]
    },
    {
      "cell_type": "markdown",
      "id": "c7504133",
      "metadata": {
        "id": "c7504133"
      },
      "source": [
        "Q9. Write a program to count the number of digits in a given number using a while loop.\n",
        "    Hint:  Use a while loop to extract the digits of the number and count them."
      ]
    },
    {
      "cell_type": "code",
      "execution_count": null,
      "id": "47ca583b",
      "metadata": {
        "id": "47ca583b",
        "outputId": "4d13edb9-a2de-4090-cdbe-189c82627d8d"
      },
      "outputs": [
        {
          "data": {
            "text/plain": [
              "6"
            ]
          },
          "execution_count": 19,
          "metadata": {},
          "output_type": "execute_result"
        }
      ],
      "source": [
        "given_number=12345\n",
        "count=0\n",
        "\n",
        "while (given_number>0):\n",
        "    last_digit=given_number%10\n",
        "    count +=1\n",
        "    given_number //=10\n",
        "print(count)\n",
        "    \n",
        "\n",
        "#Another Method:\n",
        "\n",
        "# given_number=123456\n",
        "# given_number=list(str(given_number))\n",
        "# len(given_number)"
      ]
    },
    {
      "cell_type": "markdown",
      "id": "0b7328f8",
      "metadata": {
        "id": "0b7328f8"
      },
      "source": [
        "Q10. Write a program to print the patterns using nested for loops. \n",
        "\n",
        "*          1        *****\n",
        "**         22       ****\n",
        "***        333      ***\n",
        "****       4444     **\n",
        "*****      55555    *\n",
        "\n",
        "Hint: Use two for loops, one for the rows and one for the columns, to print the desired pattern.\n"
      ]
    },
    {
      "cell_type": "code",
      "execution_count": null,
      "id": "3ec49c7e",
      "metadata": {
        "id": "3ec49c7e",
        "outputId": "514534cc-a0b4-4bad-a3b2-289af60154b4"
      },
      "outputs": [
        {
          "name": "stdout",
          "output_type": "stream",
          "text": [
            "1\r\n",
            "22\r\n",
            "333\r\n",
            "4444\r\n",
            "55555\r\n"
          ]
        }
      ],
      "source": [
        "# n=5\n",
        "# for i in range(1,n+1,1):\n",
        "#     for j in range(i):\n",
        "#         print(\"*\", end='')\n",
        "#     print(\"\\r\")\n",
        "\n",
        "\n",
        "for i in range(1,n+1,1):\n",
        "    for j in range(i):\n",
        "        print(i, end='')\n",
        "    print(\"\\r\")\n",
        "\n",
        "# for i in range(n,0,-1):\n",
        "#     for j in range(i):\n",
        "#         print(\"*\", end='')\n",
        "#     print(\"\\r\")\n"
      ]
    },
    {
      "cell_type": "markdown",
      "id": "62fdaaa8",
      "metadata": {
        "id": "62fdaaa8"
      },
      "source": [
        "Q11. Write a Python program to find the prime numbers between a given range.\n",
        "     Hint: A prime number is an integer greater than 1 and which is divisible by 1 and itself only. "
      ]
    },
    {
      "cell_type": "code",
      "execution_count": null,
      "id": "8a82c2de",
      "metadata": {
        "id": "8a82c2de",
        "outputId": "f105c7af-a526-452e-c2ad-72bdb0f1905c"
      },
      "outputs": [
        {
          "name": "stdout",
          "output_type": "stream",
          "text": [
            "3\n",
            "5\n",
            "7\n",
            "11\n",
            "13\n",
            "17\n",
            "19\n"
          ]
        }
      ],
      "source": [
        "start_range=3\n",
        "end_range=21\n",
        "\n",
        "for num in range(start_range, end_range+1):\n",
        "    if num==0 or num==1:\n",
        "        continue\n",
        "    else:\n",
        "        for j in range(2, (num//2)+2):\n",
        "            if (num % j==0):\n",
        "                break\n",
        "        else:\n",
        "            print(num)\n"
      ]
    },
    {
      "cell_type": "markdown",
      "id": "f6ceac96",
      "metadata": {
        "id": "f6ceac96"
      },
      "source": [
        "Q12. Write a Python program to check if whether there are any prime numbers in a list of n integers and print their sum.\n",
        "     Hint: loop through the list of integers and if it is a prime add it to sum."
      ]
    },
    {
      "cell_type": "code",
      "execution_count": null,
      "id": "8e44b3d4",
      "metadata": {
        "id": "8e44b3d4",
        "outputId": "1a204aea-5032-47a9-bc7c-71fe3700cf20"
      },
      "outputs": [
        {
          "name": "stdout",
          "output_type": "stream",
          "text": [
            "12\n"
          ]
        }
      ],
      "source": [
        "list=[2, 5, 7, 8, 10]\n",
        "prime_list=[]\n",
        "\n",
        "for i in list:\n",
        "    if (i<=0) or (i==1):\n",
        "        continue\n",
        "    else: \n",
        "        for j in range(2, (i//2)+2):\n",
        "            if (i%j==0):\n",
        "                break\n",
        "        else:\n",
        "            prime_list.append(i)\n",
        "\n",
        "print(sum(prime_list))\n",
        "        "
      ]
    },
    {
      "cell_type": "markdown",
      "id": "2d51f4bd",
      "metadata": {
        "id": "2d51f4bd"
      },
      "source": [
        "Q13. Write a Python program to find the common elements between two given lists.\n",
        "     Hint: Use a loop to iterate through each element in one list and check if it exists in the other list."
      ]
    },
    {
      "cell_type": "code",
      "execution_count": null,
      "id": "6863159b",
      "metadata": {
        "id": "6863159b",
        "outputId": "c30bf6bb-a62e-4e95-97fd-df9c6b7b9289"
      },
      "outputs": [
        {
          "name": "stdout",
          "output_type": "stream",
          "text": [
            "1\n",
            "2\n",
            "6\n",
            "7\n",
            "8\n"
          ]
        }
      ],
      "source": [
        "list1=[1, 2, 3, 4, 5, 6, 7, 8]\n",
        "list2=[6, 7, 8, 1, 2, 20, 21, 34]\n",
        "\n",
        "for i in list1:\n",
        "    if i in list2:\n",
        "        print(i)"
      ]
    },
    {
      "cell_type": "markdown",
      "id": "8e9c5f50",
      "metadata": {
        "id": "8e9c5f50"
      },
      "source": [
        "Q14. Write a Python program to find the sum of all the elements in a given matrix (2D list).\n",
        "     Hint: Use nested loops to iterate through each element in the matrix and accumulate the sum."
      ]
    },
    {
      "cell_type": "code",
      "execution_count": null,
      "id": "8c75420c",
      "metadata": {
        "id": "8c75420c",
        "outputId": "790014d4-8f49-4ca9-bb27-d2f8cba8bc46"
      },
      "outputs": [
        {
          "name": "stdout",
          "output_type": "stream",
          "text": [
            "21\n"
          ]
        }
      ],
      "source": [
        "given_matrix=[[1, 2, 3], [4, 5, 6]]\n",
        "list=[]\n",
        "for i in given_matrix:\n",
        "    for j in i:\n",
        "        list.append(j)\n",
        "print(sum(list))"
      ]
    },
    {
      "cell_type": "markdown",
      "id": "228eec26",
      "metadata": {
        "id": "228eec26"
      },
      "source": [
        "Q15. Write a Python program to transpose a given matrix  A and check if it is the same as A, i.e., A is a Symmetric Matrix.\n",
        "     Hint: Use nested loops to iterate through the rows and columns of the matrix and swap elements."
      ]
    },
    {
      "cell_type": "code",
      "execution_count": null,
      "id": "b154b8b3",
      "metadata": {
        "id": "b154b8b3",
        "outputId": "2bc282cf-1729-48c3-dd99-4f2dbea5cbb5"
      },
      "outputs": [
        {
          "name": "stdout",
          "output_type": "stream",
          "text": [
            "[1, 2, 6]\n",
            "[7, 3, 11]\n"
          ]
        }
      ],
      "source": [
        "# A = [[1,3],\n",
        "#     [5,7]]\n",
        "\n",
        "# B = [[0, 0], \n",
        "#    [0, 0]]\n",
        "\n",
        "# for i in range (len(A)):\n",
        "#     for j in range (len(A[0])):\n",
        "#         B[j][i]=A[i][j]\n",
        "#         #print(B[j][i])\n",
        "\n",
        "# for r in B:\n",
        "#     print(r)\n",
        "\n",
        "# if (A==B):\n",
        "#     print(\"The matrix A is symmetric\")\n",
        "# else:\n",
        "#     print(\"The matrix A is not symmetric \")\n",
        "\n",
        "X = [[1,7],\n",
        "    [2 ,3],\n",
        "    [6, 11]]\n",
        "\n",
        "\n",
        "#Y = [X[i][j] for i in range(len(X)) for j in range(len(X[0]))]\n",
        "\n",
        "Y = [[X[j][i] for j in range(len(X))] for i in range(len(X[0]))]\n",
        "#print(Y)\n",
        "\n",
        "for r in Y:\n",
        "    print(r)\n",
        "\n"
      ]
    },
    {
      "cell_type": "markdown",
      "id": "dec3ccb4",
      "metadata": {
        "id": "dec3ccb4"
      },
      "source": [
        "Q16. Write a Python program to multiply two matrices using nested for loops.\n",
        "     Hint: Use nested for loops to iterate through the rows and columns of the matrices and perform the multiplication. Use a        temporary variable to accumulate the result"
      ]
    },
    {
      "cell_type": "code",
      "execution_count": null,
      "id": "94df6369",
      "metadata": {
        "id": "94df6369",
        "outputId": "c63c7d32-d5e6-4f00-bdd4-e99d100ff528"
      },
      "outputs": [
        {
          "name": "stdout",
          "output_type": "stream",
          "text": [
            "[5, 10]\n",
            "[13, 22]\n"
          ]
        }
      ],
      "source": [
        "A=[[1, 2],\n",
        "  [3, 4]]\n",
        "\n",
        "B=[[3, 2],\n",
        "  [1, 4]]\n",
        "\n",
        "C=[[0, 0],\n",
        "  [0, 0]]\n",
        "\n",
        "for i in range(len(A)):\n",
        "    for j in range(len(B[0])):\n",
        "        for k in range(len(B)):\n",
        "            C[i][j] += A[i][k] * B[k][j]\n",
        "\n",
        "for r in C:\n",
        "    print(r)"
      ]
    },
    {
      "cell_type": "markdown",
      "id": "233b554a",
      "metadata": {
        "id": "233b554a"
      },
      "source": [
        "Q17. Write a program to find the prime factors of a given number using a while loop.\n",
        "     Hint: Use a while loop to iterate through numbers and check if they are prime factors of the given number."
      ]
    },
    {
      "cell_type": "code",
      "execution_count": null,
      "id": "e9692b13",
      "metadata": {
        "id": "e9692b13",
        "outputId": "c53d80c6-8b2a-49b5-bda7-03886bc1ecde"
      },
      "outputs": [
        {
          "name": "stdout",
          "output_type": "stream",
          "text": [
            "2\n",
            "5\n"
          ]
        }
      ],
      "source": [
        "number_prime_factors=10\n",
        "i=1\n",
        "while(i<(number_prime_factors//2) +1):\n",
        "    i +=1\n",
        "    if (number_prime_factors%i ==0):\n",
        "        print(i)\n",
        "    else:\n",
        "        continue"
      ]
    },
    {
      "cell_type": "markdown",
      "id": "052ed2ed",
      "metadata": {
        "id": "052ed2ed"
      },
      "source": [
        "Q18. Write a program to print all possible permutations of a given list using a while loop.\n",
        "     Hint :Use a while loop to generate different permutations by swapping elements in the list."
      ]
    },
    {
      "cell_type": "code",
      "execution_count": null,
      "id": "171ca32c",
      "metadata": {
        "id": "171ca32c"
      },
      "outputs": [],
      "source": []
    },
    {
      "cell_type": "markdown",
      "id": "c7d107f6",
      "metadata": {
        "id": "c7d107f6"
      },
      "source": [
        "Q19. Write a program that reads a long paragraph and counts the frequency of each word in it.\n",
        "     Hint : Remove the punctuation from the paragraph and use split and then find unique words and their count."
      ]
    },
    {
      "cell_type": "code",
      "execution_count": null,
      "id": "4c93ed79",
      "metadata": {
        "id": "4c93ed79"
      },
      "outputs": [],
      "source": []
    },
    {
      "cell_type": "markdown",
      "id": "89d274b6",
      "metadata": {
        "id": "89d274b6"
      },
      "source": [
        "Q20. Write a program to generate the Pascal's triangle up to a given number of rows using nested for loops.\n",
        "     Hint : Use nested for loops to calculate and print the numbers in each row of Pascal's triangle."
      ]
    },
    {
      "cell_type": "code",
      "execution_count": null,
      "id": "21745f65",
      "metadata": {
        "id": "21745f65"
      },
      "outputs": [],
      "source": []
    }
  ],
  "metadata": {
    "kernelspec": {
      "display_name": "Python 3 (ipykernel)",
      "language": "python",
      "name": "python3"
    },
    "language_info": {
      "codemirror_mode": {
        "name": "ipython",
        "version": 3
      },
      "file_extension": ".py",
      "mimetype": "text/x-python",
      "name": "python",
      "nbconvert_exporter": "python",
      "pygments_lexer": "ipython3",
      "version": "3.11.1"
    },
    "colab": {
      "provenance": [],
      "include_colab_link": true
    }
  },
  "nbformat": 4,
  "nbformat_minor": 5
}