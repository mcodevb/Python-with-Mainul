{
  "cells": [
    {
      "cell_type": "markdown",
      "metadata": {
        "id": "view-in-github",
        "colab_type": "text"
      },
      "source": [
        "<a href=\"https://colab.research.google.com/github/mcodevb/Python-with-Mainul/blob/master/Assignment_1_Mousumi.ipynb\" target=\"_parent\"><img src=\"https://colab.research.google.com/assets/colab-badge.svg\" alt=\"Open In Colab\"/></a>"
      ]
    },
    {
      "cell_type": "markdown",
      "id": "71f76e98",
      "metadata": {
        "id": "71f76e98"
      },
      "source": [
        "Q.1)Write a Python Program to check a number is positive, negative or zero. ## okay"
      ]
    },
    {
      "cell_type": "code",
      "execution_count": null,
      "id": "87890433",
      "metadata": {
        "scrolled": true,
        "colab": {
          "base_uri": "https://localhost:8080/"
        },
        "id": "87890433",
        "outputId": "bda895f2-d6da-408a-d73f-78f74e167826"
      },
      "outputs": [
        {
          "output_type": "stream",
          "name": "stdout",
          "text": [
            "Enter a number: 10\n",
            "10.0 is a positive number\n"
          ]
        }
      ],
      "source": [
        "a=float(input(\"Enter a number: \"))\n",
        "if(a>0):\n",
        "    print('{0} is a positive number'.format(a))\n",
        "elif(a<0):\n",
        "    print('{0} is a negative number'.format(a))\n",
        "else:\n",
        "    print('{0} is equal with zero'.format(a))"
      ]
    },
    {
      "cell_type": "markdown",
      "id": "03d07c8e",
      "metadata": {
        "id": "03d07c8e"
      },
      "source": [
        "Q.2)Write a Python program to check a number is even or odd.   ## okay"
      ]
    },
    {
      "cell_type": "code",
      "execution_count": null,
      "id": "00e24a06",
      "metadata": {
        "id": "00e24a06",
        "outputId": "6d31ed06-cc43-4ca2-d58e-ea0d92823502"
      },
      "outputs": [
        {
          "name": "stdout",
          "output_type": "stream",
          "text": [
            "Enter a number: 39\n",
            "39 is an odd number\n"
          ]
        }
      ],
      "source": [
        "a=int(input(\"Enter a number: \"))\n",
        "if(a%2==0):\n",
        "    print('{0} is even number'.format(a))\n",
        "else:\n",
        "    print('{0} is an odd number'.format(a))"
      ]
    },
    {
      "cell_type": "markdown",
      "id": "f2e5f265",
      "metadata": {
        "id": "f2e5f265"
      },
      "source": [
        "Q.3)Write a Python Program to check a year is a leap year.  ## okay"
      ]
    },
    {
      "cell_type": "code",
      "execution_count": null,
      "id": "caab45d6",
      "metadata": {
        "colab": {
          "base_uri": "https://localhost:8080/"
        },
        "id": "caab45d6",
        "outputId": "32b54426-999b-46ee-cf16-8103da9abc01"
      },
      "outputs": [
        {
          "output_type": "stream",
          "name": "stdout",
          "text": [
            "Enter a year: 1900\n",
            "1900 is not a leap year\n"
          ]
        }
      ],
      "source": [
        "a=int(input(\"Enter a year: \"))\n",
        "if(a%4==0 and a%100!=0):\n",
        "    print('{0} is a leap year'.format(a))\n",
        "elif(a%400==0):\n",
        "    print('{0} is a leap year'.format(a))\n",
        "else:\n",
        "    print('{0} is not a leap year'.format(a))"
      ]
    },
    {
      "cell_type": "markdown",
      "id": "42b28bd0",
      "metadata": {
        "id": "42b28bd0"
      },
      "source": [
        "Q.4)Write a Python Programme to check a charecter is vowel and consonent.  ## okay"
      ]
    },
    {
      "cell_type": "code",
      "execution_count": null,
      "id": "6ebd1b21",
      "metadata": {
        "colab": {
          "base_uri": "https://localhost:8080/"
        },
        "id": "6ebd1b21",
        "outputId": "54ae6be3-b6f9-4f69-b2e2-414c877a5533"
      },
      "outputs": [
        {
          "output_type": "stream",
          "name": "stdout",
          "text": [
            "Give a character= :a\n",
            "a is a vowel\n"
          ]
        }
      ],
      "source": [
        "char=input(\"Give a character= :\")\n",
        "if(char=='a' or char=='e' or char=='i' or char=='o' or char=='u' or char=='A' or char=='E' or char=='I' or char=='O' or char=='U'):\n",
        "    print('{0} is a vowel'.format(char))\n",
        "else:\n",
        "    print('{0} is a consonent'.format(char))\n",
        "    \n",
        "  "
      ]
    },
    {
      "cell_type": "markdown",
      "id": "22c8b5bb",
      "metadata": {
        "id": "22c8b5bb"
      },
      "source": [
        "Q.5)Write a Python Program to check a number is prime or not.  ## okay"
      ]
    },
    {
      "cell_type": "code",
      "execution_count": null,
      "id": "496c09f7",
      "metadata": {
        "colab": {
          "base_uri": "https://localhost:8080/"
        },
        "id": "496c09f7",
        "outputId": "42403137-4c81-4ec9-cf4c-c8dd8cba6ec0"
      },
      "outputs": [
        {
          "output_type": "stream",
          "name": "stdout",
          "text": [
            "Enter a number: 61\n",
            "61 is a prime number\n"
          ]
        }
      ],
      "source": [
        "n=int(input(\"Enter a number: \"))\n",
        "b=0\n",
        "if(n>1):\n",
        "    import math\n",
        "    for i in range(2,int(math.sqrt(n)+1)):\n",
        "        if (n%i==0):\n",
        "            b=b+1\n",
        "            break\n",
        "if(b==0):\n",
        "     print('{0} is a prime number'.format(n))\n",
        "else:\n",
        "    print('{0} is not a prime number'.format(n))"
      ]
    },
    {
      "cell_type": "markdown",
      "id": "9f8e3cb7",
      "metadata": {
        "id": "9f8e3cb7"
      },
      "source": [
        "Q.6)Write a Program to check a string  is palindrome. \n",
        "##  **okay but don't use  str as variable name**"
      ]
    },
    {
      "cell_type": "code",
      "execution_count": null,
      "id": "1dec2938",
      "metadata": {
        "colab": {
          "base_uri": "https://localhost:8080/"
        },
        "id": "1dec2938",
        "outputId": "4766c8c7-cde4-47b5-b557-f87a44dc2946"
      },
      "outputs": [
        {
          "output_type": "stream",
          "name": "stdout",
          "text": [
            "Give a string:   tet\n",
            "Given String is a palindrome\n"
          ]
        }
      ],
      "source": [
        "str=input(\"Give a string:   \")\n",
        "reverse=str[::-1]\n",
        "if(str==reverse):\n",
        "    print('Given String is a palindrome')\n",
        "else:\n",
        "    print('Given string is not a palindrome')\n"
      ]
    },
    {
      "cell_type": "markdown",
      "id": "dcdf9735",
      "metadata": {
        "id": "dcdf9735"
      },
      "source": [
        "Q.7)Write a Python Program to check if a triangle is equilateral ,isosceles or scalene.\n",
        "# okay"
      ]
    },
    {
      "cell_type": "code",
      "execution_count": 14,
      "id": "a274af0e",
      "metadata": {
        "id": "a274af0e",
        "outputId": "61279b65-a4f1-45b1-cdda-c26039b79cbb",
        "colab": {
          "base_uri": "https://localhost:8080/"
        }
      },
      "outputs": [
        {
          "output_type": "stream",
          "name": "stdout",
          "text": [
            "Give sides of triangle\n",
            "a: 4\n",
            "b: 6\n",
            "c: 4\n",
            "Given triangle is isoceles.\n"
          ]
        }
      ],
      "source": [
        "print('Give sides of triangle')\n",
        "a=input(\"a: \")\n",
        "b=input(\"b: \")\n",
        "c=input(\"c: \")\n",
        "if(a==b==c):\n",
        "    print('Given triangle is  equilateral.')\n",
        "elif(a==b!=c or b==c!=a or a==c!=b):\n",
        "    print('Given triangle is isoceles.')\n",
        "else:\n",
        "    print('Given triangle is a scalene.')"
      ]
    },
    {
      "cell_type": "markdown",
      "id": "23f22e8e",
      "metadata": {
        "id": "23f22e8e"
      },
      "source": [
        "Q.8)Write a Python Program to check if a number is a perfect squre.  \n",
        "# okay"
      ]
    },
    {
      "cell_type": "code",
      "execution_count": 16,
      "id": "9cb8071c",
      "metadata": {
        "id": "9cb8071c",
        "outputId": "e470aa96-0c3c-402c-f984-349f73aed31b",
        "colab": {
          "base_uri": "https://localhost:8080/"
        }
      },
      "outputs": [
        {
          "output_type": "stream",
          "name": "stdout",
          "text": [
            "Enter the number x: 64\n",
            "64.0 is a perfect squre\n"
          ]
        }
      ],
      "source": [
        "import math\n",
        "x=float(input(\"Enter the number x: \"))\n",
        "a=int(math.sqrt(x))\n",
        "if(a*a==x):\n",
        "    print('{0} is a perfect squre'.format(x))\n",
        "else:\n",
        "    print('{0} is not a perfect squre'.format(x))"
      ]
    },
    {
      "cell_type": "markdown",
      "id": "314fac0a",
      "metadata": {
        "id": "314fac0a"
      },
      "source": [
        "Q.9)Write a Python Program to a check if a string is a valid email address. \n",
        "  # okay"
      ]
    },
    {
      "cell_type": "code",
      "execution_count": 4,
      "id": "1e23fd5a",
      "metadata": {
        "id": "1e23fd5a",
        "outputId": "43f0beca-9551-44e6-f5b4-199de4ead665",
        "colab": {
          "base_uri": "https://localhost:8080/"
        }
      },
      "outputs": [
        {
          "output_type": "stream",
          "name": "stdout",
          "text": [
            "mousumimondal70270@gmail.com is a valid email id\n"
          ]
        }
      ],
      "source": [
        "list=['@gmail.com','@yahoo.com']\n",
        "x='mousumimondal70270@gmail.com'\n",
        "for b in list:\n",
        "    if x.endswith(b):\n",
        "        print(x,'is a valid email id')\n",
        "        break\n",
        "else:\n",
        "    print(x,'is not a valid email id')\n",
        "    "
      ]
    },
    {
      "cell_type": "markdown",
      "id": "d2aeb13f",
      "metadata": {
        "id": "d2aeb13f"
      },
      "source": [
        "Q.10)Write a Python Program to check if a number is of power two.   \n",
        "# okay"
      ]
    },
    {
      "cell_type": "code",
      "execution_count": 3,
      "id": "4088d133",
      "metadata": {
        "id": "4088d133",
        "outputId": "6fff525d-a59b-4520-fad7-aa669cc433e6",
        "colab": {
          "base_uri": "https://localhost:8080/"
        }
      },
      "outputs": [
        {
          "output_type": "stream",
          "name": "stdout",
          "text": [
            "Give a number a : 256\n",
            "The number 256 is a power of 2\n",
            "\n",
            " 256 = 2^8\n"
          ]
        }
      ],
      "source": [
        "import math\n",
        "a=int(input(\"Give a number a : \"))\n",
        "x=math.log(a,2)\n",
        "y=int(x)\n",
        "if(y==x):\n",
        "    print('The number {0} is a power of 2'.format(a))\n",
        "    print(f\"\\n {a} = 2^{y}\")\n",
        "else:\n",
        "    print('The number {0} is not a power of 2'.format(a))\n"
      ]
    },
    {
      "cell_type": "markdown",
      "id": "7b397d63",
      "metadata": {
        "id": "7b397d63"
      },
      "source": [
        "Q.11)Write a Python Program to check if a given year is a century year. \n",
        "# okay"
      ]
    },
    {
      "cell_type": "code",
      "execution_count": null,
      "id": "fcbe3684",
      "metadata": {
        "id": "fcbe3684",
        "outputId": "d1a41e46-cab0-4e37-c9a3-67d5d61f2ef8"
      },
      "outputs": [
        {
          "name": "stdout",
          "output_type": "stream",
          "text": [
            "Give year : 2150\n",
            "2150 is not a century year.\n"
          ]
        }
      ],
      "source": [
        "a=int(input(\"Give year : \"))\n",
        "if(a%100==0):\n",
        "      print('{0} is a century year.'.format(a))\n",
        "else:\n",
        "      print('{0} is not a century year.'.format(a))\n",
        "      "
      ]
    },
    {
      "cell_type": "markdown",
      "id": "a0e59895",
      "metadata": {
        "id": "a0e59895"
      },
      "source": [
        "Q.12)"
      ]
    },
    {
      "cell_type": "code",
      "execution_count": null,
      "id": "e8fa8a52",
      "metadata": {
        "id": "e8fa8a52"
      },
      "outputs": [],
      "source": [
        "#Should be between 6 to20 charecters.\n",
        "#should have atleat one number 0-9.\n",
        "#Should have atleast one upeercase[A-Z].\n",
        "#Should have one lower case [a-z].\n",
        "#Should have at least one special charecter(@#$%&).\n",
        "\n",
        "\n",
        "\n"
      ]
    },
    {
      "cell_type": "markdown",
      "id": "516ea725",
      "metadata": {
        "id": "516ea725"
      },
      "source": [
        "Q.13)Write a Python Program to check if a number is fibonacci number. # not okay"
      ]
    },
    {
      "cell_type": "code",
      "execution_count": 5,
      "id": "5d4f59f8",
      "metadata": {
        "id": "5d4f59f8",
        "outputId": "2b9d597d-92c8-40bb-bf60-e87b27a463a0",
        "colab": {
          "base_uri": "https://localhost:8080/"
        }
      },
      "outputs": [
        {
          "output_type": "stream",
          "name": "stdout",
          "text": [
            "a= : 55\n",
            "139583862445\n"
          ]
        }
      ],
      "source": [
        "x=0\n",
        "y=1\n",
        "z=0\n",
        "a=int(input(\"a= : \"))\n",
        "if(a>0):\n",
        "    for a in range(0,a):\n",
        "        x=y\n",
        "        y=z\n",
        "        z=x+y\n",
        "    print(z)\n",
        "        \n"
      ]
    },
    {
      "cell_type": "markdown",
      "id": "07a55469",
      "metadata": {
        "id": "07a55469"
      },
      "source": [
        "Q.14)Write a Python Program to check if  a string is a valid URL. # partially okay"
      ]
    },
    {
      "cell_type": "code",
      "execution_count": 8,
      "id": "eac6f819",
      "metadata": {
        "id": "eac6f819",
        "outputId": "8cbec9ff-7a81-4dbc-d407-82a55c7257d8",
        "colab": {
          "base_uri": "https://localhost:8080/"
        }
      },
      "outputs": [
        {
          "output_type": "stream",
          "name": "stdout",
          "text": [
            "https://www.mou.com is a valid url.\n"
          ]
        }
      ],
      "source": [
        "list=['http://','https://']\n",
        "a='https://www.mou.com'\n",
        "for b in list:\n",
        "    if a.startswith(b):\n",
        "        print(a,'is a valid url.')\n",
        "        break\n",
        "else:\n",
        "    print(a,'is not a valid url')"
      ]
    },
    {
      "cell_type": "markdown",
      "id": "8d2568ec",
      "metadata": {
        "id": "8d2568ec"
      },
      "source": [
        " Q.15)Write a Python Program to check if a given number is within specific range. \n",
        " # okay. can be made shorter"
      ]
    },
    {
      "cell_type": "code",
      "execution_count": null,
      "id": "8f416706",
      "metadata": {
        "id": "8f416706",
        "outputId": "683806ab-b661-41af-93e6-aa9079ad3138"
      },
      "outputs": [
        {
          "name": "stdout",
          "output_type": "stream",
          "text": [
            "Give number\n",
            "a=: 12\n",
            "Give range\n",
            "m=:10\n",
            "n=:14\n",
            "12.0 is within range 10.0 and 14.0\n"
          ]
        }
      ],
      "source": [
        "print('Give number')\n",
        "a=float(input(\"a=: \"))\n",
        "print('Give range')\n",
        "m=float(input(\"m=:\" ))\n",
        "n=float(input(\"n=:\" ))\n",
        "if (m<n):\n",
        "    if(m==a or m<a<n or n==a):\n",
        "        print('{0} is within range {1} and {2}'.format(a,m,n))\n",
        "    else:\n",
        "        print('{0} is not in range {1} and {2}'.format(a,m,n))\n",
        "elif (n<m):\n",
        "    if(m==a or n<a<m or n==a):\n",
        "        print('{0} is within range {1} and {2}'.format(a,n,m))\n",
        "    else:\n",
        "        print('{0} is not in range {1} and {2}'.format(a,n,m))\n",
        "else:\n",
        "    if(m==n==a):\n",
        "        print('{0} is within range'.format(a))\n",
        "    else:\n",
        "        print('{0} is not in range'.format(a))\n",
        "\n",
        "     \n"
      ]
    },
    {
      "cell_type": "markdown",
      "id": "d48a5264",
      "metadata": {
        "id": "d48a5264"
      },
      "source": [
        "Q.16)Write a Python program to check if a list contains duplicate elements.\n",
        "# not as per requirement. \n"
      ]
    },
    {
      "cell_type": "code",
      "execution_count": 10,
      "id": "76ef6a12",
      "metadata": {
        "id": "76ef6a12",
        "outputId": "74fbd0e3-4eef-4977-fb2d-b3b550d481a3",
        "colab": {
          "base_uri": "https://localhost:8080/"
        }
      },
      "outputs": [
        {
          "output_type": "stream",
          "name": "stdout",
          "text": [
            "Required Duplicate lst in given list=\n",
            "[34, 1, 3, 13]\n"
          ]
        }
      ],
      "source": [
        "list = [1,2,3,5,9,34,34,1,3,56,13,11,12,13]\n",
        "uni=[]\n",
        "dup=[]\n",
        "for i in list:\n",
        "    if i not in uni:\n",
        "        uni.append(i)\n",
        "    elif i not in dup:\n",
        "        dup.append(i)\n",
        "print('Required Duplicate lst in given list=')\n",
        "print(dup)"
      ]
    },
    {
      "cell_type": "markdown",
      "id": "35add076",
      "metadata": {
        "id": "35add076"
      },
      "source": [
        "Q.17)Write a Python program to check a number is perfect or not. \n",
        "# okay"
      ]
    },
    {
      "cell_type": "code",
      "execution_count": 11,
      "id": "b232c2f6",
      "metadata": {
        "id": "b232c2f6",
        "outputId": "ceef99a8-26c4-424f-ae1c-ccf3f955d376",
        "colab": {
          "base_uri": "https://localhost:8080/"
        }
      },
      "outputs": [
        {
          "output_type": "stream",
          "name": "stdout",
          "text": [
            "Given number=  28\n",
            "28 is a perfect number\n"
          ]
        }
      ],
      "source": [
        "a=int(input(\"Given number=  \"))\n",
        "sum=0\n",
        "for i in range (1,a):   \n",
        "    if(a%i==0):\n",
        "        sum=sum+i\n",
        "if(a==sum):\n",
        "      print('{0} is a perfect number'.format(a))\n",
        "else:\n",
        "      print('{0} is not a perfect number'.format(a))\n",
        "      "
      ]
    },
    {
      "cell_type": "markdown",
      "source": [
        "Q. 18 Unique vowels in a string \n",
        "# okay. list3 is unused. can be made shorter."
      ],
      "metadata": {
        "id": "Kjckf0kMkofx"
      },
      "id": "Kjckf0kMkofx"
    },
    {
      "cell_type": "code",
      "execution_count": 13,
      "id": "6d4244ba",
      "metadata": {
        "id": "6d4244ba",
        "outputId": "2a7d06bf-10f7-4157-88a6-847902493d14",
        "colab": {
          "base_uri": "https://localhost:8080/"
        }
      },
      "outputs": [
        {
          "output_type": "stream",
          "name": "stdout",
          "text": [
            "Give a string : elyzamined\n",
            "Unique vowel in given string=\n",
            "['e', 'a', 'i']\n"
          ]
        }
      ],
      "source": [
        "str=input(\"Give a string : \")\n",
        "list1=[]\n",
        "list2=[]\n",
        "list3=[]\n",
        "for char in str:\n",
        "    if char in 'aeiouAEIOU':\n",
        "        list1.append(char)\n",
        "for char in list1:\n",
        "    if char not in list2:\n",
        "        list2.append(char)\n",
        "    else:\n",
        "        list3.append(char)\n",
        "print('Unique vowel in given string=')\n",
        "print(list2)\n",
        "    "
      ]
    },
    {
      "cell_type": "code",
      "execution_count": 13,
      "id": "afcd47fc",
      "metadata": {
        "id": "afcd47fc"
      },
      "outputs": [],
      "source": []
    },
    {
      "cell_type": "code",
      "execution_count": null,
      "id": "85be4ad6",
      "metadata": {
        "id": "85be4ad6"
      },
      "outputs": [],
      "source": []
    },
    {
      "cell_type": "code",
      "execution_count": null,
      "id": "d8f3a305",
      "metadata": {
        "id": "d8f3a305"
      },
      "outputs": [],
      "source": []
    }
  ],
  "metadata": {
    "kernelspec": {
      "display_name": "Python 3 (ipykernel)",
      "language": "python",
      "name": "python3"
    },
    "language_info": {
      "codemirror_mode": {
        "name": "ipython",
        "version": 3
      },
      "file_extension": ".py",
      "mimetype": "text/x-python",
      "name": "python",
      "nbconvert_exporter": "python",
      "pygments_lexer": "ipython3",
      "version": "3.10.9"
    },
    "colab": {
      "provenance": [],
      "include_colab_link": true
    }
  },
  "nbformat": 4,
  "nbformat_minor": 5
}