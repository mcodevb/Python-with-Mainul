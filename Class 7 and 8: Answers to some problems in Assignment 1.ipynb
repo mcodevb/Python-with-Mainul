{
 "cells": [
  {
   "cell_type": "markdown",
   "id": "b1cc5c1d",
   "metadata": {},
   "source": [
    "### Q. : Write a Python program to check if a string is a valid email address"
   ]
  },
  {
   "cell_type": "code",
   "execution_count": 1,
   "id": "5df2e545",
   "metadata": {
    "scrolled": true
   },
   "outputs": [
    {
     "name": "stdout",
     "output_type": "stream",
     "text": [
      "biswajitchem67@gmail.com is a valid email.\n"
     ]
    }
   ],
   "source": [
    "email = \"biswajitchem67@gmail.com\";\n",
    "# email = \"biswajitchem67@gmail.$com\"\n",
    "\n",
    "parts = email.split(\"@\")    # There must be two parts.\n",
    "isEmail = True\n",
    "errormsg = ''\n",
    "if len(parts) != 2:\n",
    "    isEmail = False\n",
    "    errormsg = 'Email should contain a single \"@\" symbol, somewhere in the middle.'\n",
    "else:\n",
    "    username = parts[0]   # The first part is the username.\n",
    "    domain = parts[1] # The second part is the domain.\n",
    "\n",
    "    # The username and domain name must contain at least one character.\n",
    "    \n",
    "    if (len(username) == 0) or (len(domain) == 0):\n",
    "        isEmail = False\n",
    "        erromsg = errormsg + 'user/domain name missing. '\n",
    "\n",
    "    # The username must not contain any special characters.\n",
    "\n",
    "    for char in username:\n",
    "      if char not in \"abcdefghijklmnopqrstuvwxyz0123456789.\":\n",
    "         isEmail = False\n",
    "         erromsg = errormsg + 'Invalid characters were found in username. '\n",
    "         break\n",
    "\n",
    "    # The domain must not contain any special characters.\n",
    "\n",
    "    for char in domain:\n",
    "      if char not in \"abcdefghijklmnopqrstuvwxyz0123456789.-\":\n",
    "          isEmail = False\n",
    "          erromsg = errormsg + 'Invalid characters were found in the domain name. '\n",
    "          break\n",
    "\n",
    "  # The domain must end in a dot.\n",
    "\n",
    "    if not (('.' in domain) and domain.endswith(tuple('abcdefghijklmnopqrstuvwxyz'))):\n",
    "      isEmail = False\n",
    "\n",
    "\n",
    "if isEmail:\n",
    "  print(f\"{email} is a valid email.\")\n",
    "else:\n",
    "  print(f\"{email} is not a valid email.\")\n"
   ]
  },
  {
   "cell_type": "code",
   "execution_count": 2,
   "id": "b8f58314",
   "metadata": {},
   "outputs": [
    {
     "name": "stdout",
     "output_type": "stream",
     "text": [
      "['', 'apurbagmail.com']\n",
      "\n",
      "0\n"
     ]
    }
   ],
   "source": [
    "a = '@apurbagmail.com'\n",
    "parts = a.split(\"@\")\n",
    "print(parts)\n",
    "print(parts[0])\n",
    "print(len(parts[0]))"
   ]
  },
  {
   "cell_type": "markdown",
   "id": "dab2988b",
   "metadata": {},
   "source": [
    "### Write a Python program to check if a number is a power of two."
   ]
  },
  {
   "cell_type": "code",
   "execution_count": 3,
   "id": "1fa33059",
   "metadata": {},
   "outputs": [
    {
     "name": "stdout",
     "output_type": "stream",
     "text": [
      "256 can be written as 2 ^ 8.\n"
     ]
    }
   ],
   "source": [
    "n = 256\n",
    "if n <= 0:\n",
    "    print(f\"{n} can't be written as a power of 2.\")\n",
    "else:\n",
    "    nn = n\n",
    "    count = 0\n",
    "    \n",
    "    while nn % 2 == 0:\n",
    "        nn //= 2\n",
    "        count += 1\n",
    "        \n",
    "    if nn == 1:\n",
    "        print(f\"{n} can be written as 2 ^ {count}.\")\n",
    "    else:\n",
    "        print(f\"{n} can't be written as a power of 2.\")\n",
    "\n"
   ]
  },
  {
   "cell_type": "code",
   "execution_count": 4,
   "id": "488a56b0",
   "metadata": {},
   "outputs": [
    {
     "data": {
      "text/plain": [
       "True"
      ]
     },
     "execution_count": 4,
     "metadata": {},
     "output_type": "execute_result"
    }
   ],
   "source": [
    "any([True, False, True, False, False])"
   ]
  },
  {
   "cell_type": "code",
   "execution_count": 5,
   "id": "eb6ffa8d",
   "metadata": {},
   "outputs": [
    {
     "name": "stdout",
     "output_type": "stream",
     "text": [
      "Too short! it should be of length >= 8. \n"
     ]
    }
   ],
   "source": [
    "password = 'S#a1233'\n",
    "min_length = 8\n",
    "error_msg = ''\n",
    "isPwd = True\n",
    "isLong =  len(password) >= min_length\n",
    "anyUpper = any([x.isupper() for x in password])\n",
    "anyLower = any([x.islower() for x in password])\n",
    "anyDigit = any([x.isdigit() for x in password])\n",
    "anySpecial = any([x in  \" ~!@#$%^&*()_+{}|:<>?,./\" for x in password])\n",
    "    \n",
    "if (isLong and anyUpper and anyLower and anyDigit and anySpecial):\n",
    "    print(f\"{password} is a valid password\")\n",
    "else:\n",
    "    if(not isLong):\n",
    "        error_msg += 'Too short! it should be of length >= 8. '\n",
    "    if(not anyUpper):\n",
    "        error_msg += 'The passowrd has no uppercase letter. '\n",
    "            \n",
    "    if(not anyLower):\n",
    "        error_msg += 'The passowrd has no lowercase letter. '\n",
    "        \n",
    "    if(not anyDigit):\n",
    "        error_msg += 'The passowrd has no digits. '\n",
    "        \n",
    "    if(not anySpecial):\n",
    "        error_msg += 'The passowrd has no special character. '\n",
    "    print(error_msg)"
   ]
  },
  {
   "cell_type": "code",
   "execution_count": 6,
   "id": "8ad2fddb",
   "metadata": {},
   "outputs": [
    {
     "name": "stdout",
     "output_type": "stream",
     "text": [
      "55 is a fibonacci number.\n"
     ]
    }
   ],
   "source": [
    "num = 55 \n",
    "x = (5*num**2 + 4)**(0.5) \n",
    "y = (5*num**2 - 4)**(0.5)\n",
    "if (x == int(x)) or (y == int(y)):\n",
    "    print(f\"{num} is a fibonacci number.\")\n",
    "else:\n",
    "     print(f\"{num} is not a fibonacci number.\")\n",
    "        \n",
    "    "
   ]
  },
  {
   "cell_type": "code",
   "execution_count": 7,
   "id": "7b499a18",
   "metadata": {},
   "outputs": [
    {
     "name": "stdout",
     "output_type": "stream",
     "text": [
      "4 is in between 0 and 100\n"
     ]
    }
   ],
   "source": [
    "a, b = 0, 100\n",
    "n=eval(input('enter the number\\n'))\n",
    "if a<=n<=b:\n",
    "    print(n, 'is in between', a, 'and', b)\n",
    "else:\n",
    "    print(n, 'is not in the limit')"
   ]
  },
  {
   "cell_type": "code",
   "execution_count": 8,
   "id": "9050dabf",
   "metadata": {},
   "outputs": [
    {
     "name": "stdout",
     "output_type": "stream",
     "text": [
      "[1, 2, 3, 4, 1, 4] has duplicates.\n"
     ]
    }
   ],
   "source": [
    "a = [1,2,3,4,1,4]\n",
    "len_a = len(a)\n",
    "\n",
    "# construct a set from the elements of a\n",
    "b = set(a)\n",
    "len_b = len(b)\n",
    "\n",
    "if len_a == len_b:\n",
    "    print(f\"{a} doesn't have any duplicates.\")\n",
    "else:\n",
    "    print(f\"{a} has duplicates.\")"
   ]
  },
  {
   "cell_type": "code",
   "execution_count": 9,
   "id": "80150745",
   "metadata": {},
   "outputs": [
    {
     "name": "stdout",
     "output_type": "stream",
     "text": [
      "[1, 2, 4, 7, 14]\n",
      "28 is a perfect number\n"
     ]
    }
   ],
   "source": [
    "n = 28\n",
    "divisors =[div for div in range(1,n//2 +1) if n%div==0] # list of divisors excluding n\n",
    "print(divisors)\n",
    "s = sum(divisors)         # sum of the divisors\n",
    "if s==n:         \n",
    "    print(n, 'is a perfect number')\n",
    "else:\n",
    "    print(n, 'is not a perfect number')"
   ]
  },
  {
   "cell_type": "code",
   "execution_count": 10,
   "id": "f725994a",
   "metadata": {},
   "outputs": [
    {
     "name": "stdout",
     "output_type": "stream",
     "text": [
      "word: avocado\n",
      " {'a': 2, 'e': 0, 'i': 0, 'o': 2, 'u': 0}\n",
      " Total = 4\n",
      " Unique Vowels = 2\n",
      "\n",
      "word: cheese\n",
      " {'a': 0, 'e': 3, 'i': 0, 'o': 0, 'u': 0}\n",
      " Total = 3\n",
      " Unique Vowels = 1\n",
      "\n"
     ]
    }
   ],
   "source": [
    "vocabulary = ['avocado','cheese']\n",
    "\n",
    "for word in vocabulary:\n",
    "    lword = word.lower()\n",
    "    a_cnt = lword.count('a')\n",
    "    e_cnt = lword.count('e')\n",
    "    i_cnt = lword.count('i')\n",
    "    o_cnt = lword.count('o')\n",
    "    u_cnt = lword.count('u')\n",
    "    total_cnt = a_cnt + e_cnt + i_cnt + o_cnt + u_cnt\n",
    "    uni_cnt = 0\n",
    "    if a_cnt>0:\n",
    "        uni_cnt +=1\n",
    "    if e_cnt>0:\n",
    "        uni_cnt +=1\n",
    "    if i_cnt>0:\n",
    "        uni_cnt +=1\n",
    "    if o_cnt>0:\n",
    "        uni_cnt +=1\n",
    "    if u_cnt>0:\n",
    "        uni_cnt +=1\n",
    "    counter =  {'a':a_cnt, 'e':e_cnt, 'i':i_cnt, 'o':o_cnt, 'u':u_cnt}\n",
    "    print(f\"word: {word}\\n {counter}\\n Total = {total_cnt}\\n Unique Vowels = {uni_cnt}\\n\")\n",
    "          "
   ]
  },
  {
   "cell_type": "code",
   "execution_count": 11,
   "id": "917aa20b",
   "metadata": {},
   "outputs": [
    {
     "name": "stdout",
     "output_type": "stream",
     "text": [
      "2\n",
      "4\n",
      "6\n",
      "8\n"
     ]
    }
   ],
   "source": [
    "for i in range(2,10,2):\n",
    "    print(i)"
   ]
  },
  {
   "cell_type": "code",
   "execution_count": 12,
   "id": "30290247",
   "metadata": {},
   "outputs": [
    {
     "name": "stdout",
     "output_type": "stream",
     "text": [
      "0\n",
      "1\n",
      "2\n",
      "3\n"
     ]
    }
   ],
   "source": [
    "for x in range(6):\n",
    "  print(x)\n",
    "  if (x==3): break\n",
    "else:\n",
    "  print(\"Finally finished!\")"
   ]
  },
  {
   "cell_type": "code",
   "execution_count": 13,
   "id": "55417fbc",
   "metadata": {},
   "outputs": [
    {
     "name": "stdout",
     "output_type": "stream",
     "text": [
      "5\n",
      "4\n",
      "2\n",
      "1\n"
     ]
    }
   ],
   "source": [
    "x = 6\n",
    "while (x>1):\n",
    "    x = x-1\n",
    "    if (x==3): continue\n",
    "    print(x)"
   ]
  },
  {
   "cell_type": "code",
   "execution_count": 14,
   "id": "aac98bad",
   "metadata": {},
   "outputs": [],
   "source": [
    "def add(x, y):\n",
    "    su = x + y\n",
    "    sub= x - y\n",
    "    pdt = x * y\n",
    "    div = x / y\n",
    "    return su, sub, pdt, div"
   ]
  },
  {
   "cell_type": "code",
   "execution_count": 15,
   "id": "664a7e5f",
   "metadata": {},
   "outputs": [
    {
     "name": "stdout",
     "output_type": "stream",
     "text": [
      "addition =123, subtraction = 77, multiplication = 2300, division = 4.3478260869565215\n"
     ]
    }
   ],
   "source": [
    "a,b,c,d = add(100,23)\n",
    "print(f'addition ={a}, subtraction = {b}, multiplication = {c}, division = {d}')"
   ]
  },
  {
   "cell_type": "code",
   "execution_count": 16,
   "id": "5255784f",
   "metadata": {},
   "outputs": [
    {
     "data": {
      "text/plain": [
       "False"
      ]
     },
     "execution_count": 16,
     "metadata": {},
     "output_type": "execute_result"
    }
   ],
   "source": [
    "'aAd'.isupper()"
   ]
  },
  {
   "cell_type": "code",
   "execution_count": 17,
   "id": "a3fe6393",
   "metadata": {},
   "outputs": [
    {
     "data": {
      "text/plain": [
       "False"
      ]
     },
     "execution_count": 17,
     "metadata": {},
     "output_type": "execute_result"
    }
   ],
   "source": [
    "'2'.islower()"
   ]
  },
  {
   "cell_type": "code",
   "execution_count": 18,
   "id": "a1be4dca",
   "metadata": {},
   "outputs": [
    {
     "name": "stdout",
     "output_type": "stream",
     "text": [
      "[1, 2, 4, 1, 4, 2]\n"
     ]
    }
   ],
   "source": [
    "a = [1, 2, 4, 1, 4, 2]\n",
    "b = [x for x in a if x!=1]\n",
    "print(a)"
   ]
  },
  {
   "cell_type": "code",
   "execution_count": 19,
   "id": "c21e6fe8",
   "metadata": {},
   "outputs": [
    {
     "name": "stdout",
     "output_type": "stream",
     "text": [
      "[1, 2, 4, 1, 4, 2]\n"
     ]
    }
   ],
   "source": [
    "print(a)"
   ]
  },
  {
   "cell_type": "code",
   "execution_count": 20,
   "id": "4f6050bf",
   "metadata": {},
   "outputs": [],
   "source": [
    "del(a[1:3])"
   ]
  },
  {
   "cell_type": "code",
   "execution_count": 21,
   "id": "1dee3e83",
   "metadata": {},
   "outputs": [
    {
     "name": "stdout",
     "output_type": "stream",
     "text": [
      "[1, 1, 4, 2]\n"
     ]
    }
   ],
   "source": [
    "print(a)"
   ]
  },
  {
   "cell_type": "code",
   "execution_count": 22,
   "id": "0726faf5",
   "metadata": {},
   "outputs": [],
   "source": [
    "a= [1,2,3]"
   ]
  },
  {
   "cell_type": "code",
   "execution_count": 23,
   "id": "2b93d37a",
   "metadata": {},
   "outputs": [],
   "source": [
    "a = [[1,2,3],[4,5,6]]"
   ]
  },
  {
   "cell_type": "code",
   "execution_count": 24,
   "id": "15aa3ce0",
   "metadata": {},
   "outputs": [
    {
     "name": "stdout",
     "output_type": "stream",
     "text": [
      "[[1, 2, 3], [4, 5, 6]]\n"
     ]
    }
   ],
   "source": [
    "print(a)"
   ]
  }
 ],
 "metadata": {
  "kernelspec": {
   "display_name": "Python 3 (ipykernel)",
   "language": "python",
   "name": "python3"
  },
  "language_info": {
   "codemirror_mode": {
    "name": "ipython",
    "version": 3
   },
   "file_extension": ".py",
   "mimetype": "text/x-python",
   "name": "python",
   "nbconvert_exporter": "python",
   "pygments_lexer": "ipython3",
   "version": "3.9.13"
  }
 },
 "nbformat": 4,
 "nbformat_minor": 5
}
