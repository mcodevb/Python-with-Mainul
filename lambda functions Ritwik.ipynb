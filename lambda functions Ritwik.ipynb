{
 "cells": [
  {
   "cell_type": "markdown",
   "id": "19986a98",
   "metadata": {},
   "source": [
    "# Construct the following lambda functions"
   ]
  },
  {
   "cell_type": "markdown",
   "id": "a28b39ae",
   "metadata": {},
   "source": [
    "### Q1. Write a lambda function that takes two numbers as input and returns their sum.\n"
   ]
  },
  {
   "cell_type": "code",
   "execution_count": 1,
   "id": "59d763e2",
   "metadata": {},
   "outputs": [
    {
     "name": "stdout",
     "output_type": "stream",
     "text": [
      "5\n"
     ]
    }
   ],
   "source": [
    "Sum = lambda x,y : x+y\n",
    "print(Sum(2,3))"
   ]
  },
  {
   "cell_type": "markdown",
   "id": "b0022242",
   "metadata": {},
   "source": [
    "### Q2. Write a lambda function that takes a string and returns its length."
   ]
  },
  {
   "cell_type": "code",
   "execution_count": 13,
   "id": "1df4c840",
   "metadata": {},
   "outputs": [
    {
     "data": {
      "text/plain": [
       "9"
      ]
     },
     "execution_count": 13,
     "metadata": {},
     "output_type": "execute_result"
    }
   ],
   "source": [
    "length = lambda s : len(s)\n",
    "length('Rameshwar')"
   ]
  },
  {
   "cell_type": "markdown",
   "id": "2ca10e5d",
   "metadata": {},
   "source": [
    "### Q3. Write a lambda function that takes a list of numbers and returns the maximum value."
   ]
  },
  {
   "cell_type": "code",
   "execution_count": 3,
   "id": "12f50204",
   "metadata": {},
   "outputs": [
    {
     "data": {
      "text/plain": [
       "300"
      ]
     },
     "execution_count": 3,
     "metadata": {},
     "output_type": "execute_result"
    }
   ],
   "source": [
    "maximum = lambda lst : max(lst)\n",
    "\n",
    "maximum([50,1,2,300,4,100])"
   ]
  },
  {
   "cell_type": "markdown",
   "id": "7883fca8",
   "metadata": {},
   "source": [
    "### Q4. Write a lambda function that takes a list of strings and returns a new list containing only the strings that start with the letter 'A'."
   ]
  },
  {
   "cell_type": "code",
   "execution_count": 4,
   "id": "2c318366",
   "metadata": {},
   "outputs": [
    {
     "data": {
      "text/plain": [
       "['Amm', 'Anil', 'Abul']"
      ]
     },
     "execution_count": 4,
     "metadata": {},
     "output_type": "execute_result"
    }
   ],
   "source": [
    "starting_with_A = lambda x : x.startswith('A')\n",
    "\n",
    "list(filter(starting_with_A, ['Amm', 'Anil', 'Kamal','Ram', 'Shyamal', 'Abul'] ))"
   ]
  },
  {
   "cell_type": "code",
   "execution_count": null,
   "id": "875136e3",
   "metadata": {},
   "outputs": [],
   "source": []
  },
  {
   "cell_type": "markdown",
   "id": "df28ae0f",
   "metadata": {},
   "source": [
    "### Q5. Write a lambda function that takes a dictionary and returns the values sorted in descending order."
   ]
  },
  {
   "cell_type": "code",
   "execution_count": 5,
   "id": "bf4dfe7e",
   "metadata": {},
   "outputs": [
    {
     "data": {
      "text/plain": [
       "[100, 19, 15, 5, 2]"
      ]
     },
     "execution_count": 5,
     "metadata": {},
     "output_type": "execute_result"
    }
   ],
   "source": [
    "sorting_descending_order = lambda dictionary : (sorted(list(dictionary.values())))[::-1]\n",
    "\n",
    "sorting_descending_order({'a':19, 'b':2, 'c':15, 'd':5, 'e':100})"
   ]
  },
  {
   "cell_type": "code",
   "execution_count": 6,
   "id": "1aeccd5d",
   "metadata": {},
   "outputs": [],
   "source": [
    "# dictionary = {'a':19, 'b':2, 'c':15, 'd':5}\n",
    "\n",
    "# # value = list(dictionary.values())\n",
    "# # print(value)\n",
    "\n",
    "# print((sorted(list(dictionary.values())))[::-1])\n"
   ]
  },
  {
   "cell_type": "markdown",
   "id": "9696a241",
   "metadata": {},
   "source": [
    "### Q6. Write a lambda function that takes a list of tuples where each tuple contains a name and an age, and returns a new list of names sorted alphabetically."
   ]
  },
  {
   "cell_type": "code",
   "execution_count": 7,
   "id": "20e541e5",
   "metadata": {},
   "outputs": [
    {
     "data": {
      "text/plain": [
       "['Amal', 'Kanu', 'Rit']"
      ]
     },
     "execution_count": 7,
     "metadata": {},
     "output_type": "execute_result"
    }
   ],
   "source": [
    "name_sorting = lambda lst : [sorted(lst)[i][0] for i in range(len(lst))]\n",
    "\n",
    "name_sorting( [('Rit',23), ('Kanu',15), ('Amal',52)] )\n",
    "\n"
   ]
  },
  {
   "cell_type": "code",
   "execution_count": 8,
   "id": "d0ced559",
   "metadata": {},
   "outputs": [],
   "source": [
    "# lst = [('Rit',23), ('Kanu',15), ('Amal',52)]\n",
    "\n",
    "# [sorted(lst)[i][0] for i in range(len(lst))]"
   ]
  },
  {
   "cell_type": "markdown",
   "id": "e947a1d4",
   "metadata": {},
   "source": [
    "### Q7. Write a lambda function that takes a list of numbers and returns a new list containing only the even numbers.\n"
   ]
  },
  {
   "cell_type": "code",
   "execution_count": 9,
   "id": "6da266ca",
   "metadata": {},
   "outputs": [
    {
     "data": {
      "text/plain": [
       "[2, 4, 6, 8]"
      ]
     },
     "execution_count": 9,
     "metadata": {},
     "output_type": "execute_result"
    }
   ],
   "source": [
    "# even_numbers = lambda n : n%2 == 0\n",
    "\n",
    "list(filter(lambda n : n%2 == 0, [1,2,3,4,5,6,8]))"
   ]
  },
  {
   "cell_type": "markdown",
   "id": "24be5d5e",
   "metadata": {},
   "source": [
    "### Q8. Write a lambda function that takes a list of strings and returns a new list where each string is reversed."
   ]
  },
  {
   "cell_type": "code",
   "execution_count": 10,
   "id": "c445878a",
   "metadata": {},
   "outputs": [
    {
     "data": {
      "text/plain": [
       "['hsekaR', 'nataR', 'klim', 'maerc']"
      ]
     },
     "execution_count": 10,
     "metadata": {},
     "output_type": "execute_result"
    }
   ],
   "source": [
    "reverse_string = lambda string : string[::-1]\n",
    "\n",
    "list(map(reverse_string, ['Rakesh', 'Ratan', 'milk', 'cream']))"
   ]
  },
  {
   "cell_type": "markdown",
   "id": "7e73b594",
   "metadata": {},
   "source": [
    "### Q9. Write a lambda function that takes a list of dictionaries representing students with keys \"name\" and \"grade\", and returns a new list containing only the students who have a grade higher than 80."
   ]
  },
  {
   "cell_type": "code",
   "execution_count": 11,
   "id": "a24a43b3",
   "metadata": {},
   "outputs": [
    {
     "data": {
      "text/plain": [
       "['Doyel', 'Abu', 'John']"
      ]
     },
     "execution_count": 11,
     "metadata": {},
     "output_type": "execute_result"
    }
   ],
   "source": [
    "lst1=list(filter(lambda x : x['grade']>80, [{'name':'Doyel','grade':90}, {'name':'Abu','grade':92}, {'name':'John','grade':100}, {'name':'Honney','grade':70}]))\n",
    "\n",
    "list(map(lambda x : x['name'], lst1))"
   ]
  },
  {
   "cell_type": "code",
   "execution_count": null,
   "id": "3a906122",
   "metadata": {},
   "outputs": [],
   "source": []
  },
  {
   "cell_type": "markdown",
   "id": "773e57de",
   "metadata": {},
   "source": [
    "### Q10. Write a lambda function that takes a list of integers and returns a new list where each integer is squared."
   ]
  },
  {
   "cell_type": "code",
   "execution_count": 12,
   "id": "94d3f931",
   "metadata": {},
   "outputs": [
    {
     "data": {
      "text/plain": [
       "[1, 4, 9, 16, 25, 36]"
      ]
     },
     "execution_count": 12,
     "metadata": {},
     "output_type": "execute_result"
    }
   ],
   "source": [
    "list(map(lambda x : x*x, [1,2,3,4,5,6]))"
   ]
  },
  {
   "cell_type": "code",
   "execution_count": null,
   "id": "a932292e",
   "metadata": {},
   "outputs": [],
   "source": []
  },
  {
   "cell_type": "code",
   "execution_count": null,
   "id": "97801edc",
   "metadata": {},
   "outputs": [],
   "source": []
  }
 ],
 "metadata": {
  "kernelspec": {
   "display_name": "Python 3 (ipykernel)",
   "language": "python",
   "name": "python3"
  },
  "language_info": {
   "codemirror_mode": {
    "name": "ipython",
    "version": 3
   },
   "file_extension": ".py",
   "mimetype": "text/x-python",
   "name": "python",
   "nbconvert_exporter": "python",
   "pygments_lexer": "ipython3",
   "version": "3.9.13"
  }
 },
 "nbformat": 4,
 "nbformat_minor": 5
}
