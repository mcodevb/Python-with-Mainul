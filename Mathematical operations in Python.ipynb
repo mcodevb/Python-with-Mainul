{
 "cells": [
  {
   "cell_type": "markdown",
   "id": "18e103cf",
   "metadata": {},
   "source": [
    "# Addition"
   ]
  },
  {
   "cell_type": "code",
   "execution_count": 1,
   "id": "d6c49590",
   "metadata": {},
   "outputs": [
    {
     "data": {
      "text/plain": [
       "3"
      ]
     },
     "execution_count": 1,
     "metadata": {},
     "output_type": "execute_result"
    }
   ],
   "source": [
    "1 + 2"
   ]
  },
  {
   "cell_type": "code",
   "execution_count": 3,
   "id": "09be07c8",
   "metadata": {},
   "outputs": [],
   "source": [
    "# This program adds two numbers\n",
    "\n",
    "num1 = 1.5\n",
    "num2 = 6.3\n",
    "\n",
    "# Add two numbers\n",
    "sum = num1 + num2"
   ]
  },
  {
   "cell_type": "code",
   "execution_count": 4,
   "id": "4a779534",
   "metadata": {},
   "outputs": [
    {
     "name": "stdout",
     "output_type": "stream",
     "text": [
      "7.8\n"
     ]
    }
   ],
   "source": [
    "print(sum)"
   ]
  },
  {
   "cell_type": "markdown",
   "id": "a8e7b0fc",
   "metadata": {},
   "source": [
    "## Another way to print"
   ]
  },
  {
   "cell_type": "code",
   "execution_count": 5,
   "id": "56155fc1",
   "metadata": {},
   "outputs": [
    {
     "name": "stdout",
     "output_type": "stream",
     "text": [
      "The sum of 1.5 and 6.3 is 7.8\n"
     ]
    }
   ],
   "source": [
    "# Display the sum\n",
    "print('The sum of {0} and {1} is {2}'.format(num1, num2, sum))"
   ]
  },
  {
   "cell_type": "markdown",
   "id": "0b54197e",
   "metadata": {},
   "source": [
    "# Subtraction"
   ]
  },
  {
   "cell_type": "code",
   "execution_count": 7,
   "id": "48369b83",
   "metadata": {},
   "outputs": [
    {
     "name": "stdout",
     "output_type": "stream",
     "text": [
      "256 - 128 = -128\n"
     ]
    }
   ],
   "source": [
    "num1 = 128\n",
    "num2 = 256\n",
    "\n",
    "sub = num1 - num2\n",
    "print('{0} - {1} = {2}'.format(num2,num1,sub))"
   ]
  },
  {
   "cell_type": "markdown",
   "id": "0ab96e85",
   "metadata": {},
   "source": [
    "## Multiplication"
   ]
  },
  {
   "cell_type": "code",
   "execution_count": 8,
   "id": "dcc02c0b",
   "metadata": {},
   "outputs": [
    {
     "name": "stdout",
     "output_type": "stream",
     "text": [
      "12 * 2.5 = 30.0\n"
     ]
    }
   ],
   "source": [
    "num1 = 12\n",
    "num2 = 2.5\n",
    "\n",
    "pdt = num1*num2\n",
    "print('{0} * {1} = {2}'.format(num1,num2,pdt))"
   ]
  },
  {
   "cell_type": "markdown",
   "id": "4a120d87",
   "metadata": {},
   "source": [
    "# Division"
   ]
  },
  {
   "cell_type": "code",
   "execution_count": 16,
   "id": "9dfdadd4",
   "metadata": {},
   "outputs": [
    {
     "name": "stdout",
     "output_type": "stream",
     "text": [
      "4.8\n",
      "2.4\n",
      "2\n"
     ]
    }
   ],
   "source": [
    "num1 = 12\n",
    "num2 = 2.5\n",
    "num3 = 5\n",
    "\n",
    "div1 = num1/num2\n",
    "print(div1)\n",
    "\n",
    "# floating division\n",
    "div4 = num1/num3\n",
    "print(div4)\n",
    "\n",
    "# integer divions\n",
    "div5 = num1 // num3  # gives the quotient\n",
    "print(div5)\n"
   ]
  },
  {
   "cell_type": "markdown",
   "id": "8642fa83",
   "metadata": {},
   "source": [
    "# Exponentiation"
   ]
  },
  {
   "cell_type": "code",
   "execution_count": 15,
   "id": "94741dcf",
   "metadata": {},
   "outputs": [
    {
     "name": "stdout",
     "output_type": "stream",
     "text": [
      "1.5625\n",
      "0.7071067811865476\n"
     ]
    }
   ],
   "source": [
    "num1 = 1.25\n",
    "num2 = 2\n",
    "num3 = -0.5\n",
    "\n",
    "# Integer power\n",
    "exp1 = num1 ** num2\n",
    "print(exp1)\n",
    "\n",
    "# negative noninteger power\n",
    "exp2 = num2 ** num3\n",
    "print(exp2)"
   ]
  },
  {
   "cell_type": "markdown",
   "id": "e2462d47",
   "metadata": {},
   "source": [
    "# Mod or Remainder Operator"
   ]
  },
  {
   "cell_type": "code",
   "execution_count": 26,
   "id": "1ec45a24",
   "metadata": {},
   "outputs": [
    {
     "name": "stdout",
     "output_type": "stream",
     "text": [
      "35  %  4  =  3\n",
      "35  %  5  =  0\n"
     ]
    }
   ],
   "source": [
    "num1 = 35\n",
    "num2 = 4\n",
    "num3 = 5\n",
    "\n",
    "rem1 = num1 % num2\n",
    "print(num1, ' % ',num2, ' = ', rem1)  # see how we print \n",
    "\n",
    "rem2 = num1 % num3\n",
    "print(num1, ' % ',num3, ' = ', rem2)"
   ]
  },
  {
   "cell_type": "markdown",
   "id": "c5b439e4",
   "metadata": {},
   "source": [
    "# Other mathematical operators"
   ]
  },
  {
   "cell_type": "code",
   "execution_count": null,
   "id": "49235c62",
   "metadata": {},
   "outputs": [],
   "source": []
  }
 ],
 "metadata": {
  "kernelspec": {
   "display_name": "Python 3 (ipykernel)",
   "language": "python",
   "name": "python3"
  },
  "language_info": {
   "codemirror_mode": {
    "name": "ipython",
    "version": 3
   },
   "file_extension": ".py",
   "mimetype": "text/x-python",
   "name": "python",
   "nbconvert_exporter": "python",
   "pygments_lexer": "ipython3",
   "version": "3.9.13"
  }
 },
 "nbformat": 4,
 "nbformat_minor": 5
}
