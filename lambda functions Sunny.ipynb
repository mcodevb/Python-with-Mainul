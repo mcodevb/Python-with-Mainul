{
 "cells": [
  {
   "cell_type": "markdown",
   "id": "2edaa1cf",
   "metadata": {},
   "source": [
    "Q1. Write a lambda function that takes two numbers as input and returns their sum."
   ]
  },
  {
   "cell_type": "code",
   "execution_count": 3,
   "id": "c35fddf6",
   "metadata": {},
   "outputs": [
    {
     "data": {
      "text/plain": [
       "5"
      ]
     },
     "execution_count": 3,
     "metadata": {},
     "output_type": "execute_result"
    }
   ],
   "source": [
    "f = lambda x,y : x+y\n",
    "f(2,3)"
   ]
  },
  {
   "cell_type": "markdown",
   "id": "0693216c",
   "metadata": {},
   "source": [
    "Q2. Write a lambda function that takes a string and returns its length."
   ]
  },
  {
   "cell_type": "code",
   "execution_count": 4,
   "id": "746e243b",
   "metadata": {},
   "outputs": [
    {
     "data": {
      "text/plain": [
       "3"
      ]
     },
     "execution_count": 4,
     "metadata": {},
     "output_type": "execute_result"
    }
   ],
   "source": [
    "f = lambda x : len(x)\n",
    "f('kjb')"
   ]
  },
  {
   "cell_type": "markdown",
   "id": "56587fef",
   "metadata": {},
   "source": [
    "Q3. Write a lambda function that takes a list of numbers and returns the maximum value."
   ]
  },
  {
   "cell_type": "code",
   "execution_count": 6,
   "id": "44e530d2",
   "metadata": {},
   "outputs": [
    {
     "data": {
      "text/plain": [
       "5"
      ]
     },
     "execution_count": 6,
     "metadata": {},
     "output_type": "execute_result"
    }
   ],
   "source": [
    "f = lambda x : max(x)\n",
    "f({3,5,2,4})"
   ]
  },
  {
   "cell_type": "markdown",
   "id": "f5e6adea",
   "metadata": {},
   "source": [
    "Q4. Write a lambda function that takes a list of strings and returns a new list containing only the strings that start with the letter 'A'."
   ]
  },
  {
   "cell_type": "code",
   "execution_count": 8,
   "id": "280971fc",
   "metadata": {},
   "outputs": [
    {
     "data": {
      "text/plain": [
       "['Abul']"
      ]
     },
     "execution_count": 8,
     "metadata": {},
     "output_type": "execute_result"
    }
   ],
   "source": [
    "f = lambda x : list(filter(lambda y : y.startswith('A'),x))\n",
    "f(['Abul','Kalam'])"
   ]
  },
  {
   "cell_type": "markdown",
   "id": "7af854e3",
   "metadata": {},
   "source": [
    "Q5. Write a lambda function that takes a dictionary and returns the values sorted in descending order."
   ]
  },
  {
   "cell_type": "code",
   "execution_count": 38,
   "id": "148fbd1b",
   "metadata": {},
   "outputs": [
    {
     "data": {
      "text/plain": [
       "[5, 3, 2]"
      ]
     },
     "execution_count": 38,
     "metadata": {},
     "output_type": "execute_result"
    }
   ],
   "source": [
    "g = lambda dic : sorted(list(map(lambda y : dic[y], dic)),reverse=True)\n",
    "g({'akjdrf':3,'rhs':2,'rsjhf':5})"
   ]
  },
  {
   "cell_type": "markdown",
   "id": "0004d75c",
   "metadata": {},
   "source": [
    "Q6. Write a lambda function that takes a list of tuples where each tuple contains a name and an age, and returns a new list of names sorted alphabetically."
   ]
  },
  {
   "cell_type": "code",
   "execution_count": 48,
   "id": "8cff6907",
   "metadata": {},
   "outputs": [
    {
     "data": {
      "text/plain": [
       "['aklf', 'djkfg', 'rea']"
      ]
     },
     "execution_count": 48,
     "metadata": {},
     "output_type": "execute_result"
    }
   ],
   "source": [
    "f = lambda lst : sorted([x[0] for x in lst])\n",
    "f([('djkfg',43),('aklf',24),('rea',23)])"
   ]
  },
  {
   "cell_type": "markdown",
   "id": "44428684",
   "metadata": {},
   "source": [
    "Q7. Write a lambda function that takes a list of numbers and returns a new list containing only the even numbers."
   ]
  },
  {
   "cell_type": "code",
   "execution_count": 50,
   "id": "13827ecb",
   "metadata": {},
   "outputs": [
    {
     "data": {
      "text/plain": [
       "[4, 2, 4, 6]"
      ]
     },
     "execution_count": 50,
     "metadata": {},
     "output_type": "execute_result"
    }
   ],
   "source": [
    "f = lambda lst : list(filter( lambda x : x%2==0, lst))\n",
    "f([1,3,4,2,3,4,5,3,6])"
   ]
  },
  {
   "cell_type": "markdown",
   "id": "08364723",
   "metadata": {},
   "source": [
    "Q8. Write a lambda function that takes a list of strings and returns a new list where each string is reversed."
   ]
  },
  {
   "cell_type": "code",
   "execution_count": 54,
   "id": "a0b4025d",
   "metadata": {},
   "outputs": [
    {
     "data": {
      "text/plain": [
       "['ynnus', 'anhsedus', 'ktr']"
      ]
     },
     "execution_count": 54,
     "metadata": {},
     "output_type": "execute_result"
    }
   ],
   "source": [
    "f = lambda lst : list(map(lambda x : x[::-1], lst))\n",
    "f(['sunny','sudeshna','rtk'])"
   ]
  },
  {
   "cell_type": "markdown",
   "id": "c2c91b63",
   "metadata": {},
   "source": [
    "Q9. Write a lambda function that takes a list of dictionaries representing students with keys \"name\" and \"grade\", and returns a new list containing only the students who have a grade higher than 80."
   ]
  },
  {
   "cell_type": "code",
   "execution_count": 58,
   "id": "e4eeee51",
   "metadata": {},
   "outputs": [
    {
     "data": {
      "text/plain": [
       "['AK', 'Abul']"
      ]
     },
     "execution_count": 58,
     "metadata": {},
     "output_type": "execute_result"
    }
   ],
   "source": [
    "f = lambda lst : list(map(lambda x : x['name'], list(filter(lambda x : x['grade']>80, lst))))\n",
    "f([{'name':'AK','grade':81},{'name':'Sunny','grade':70},{'name':'Abul','grade':90}])"
   ]
  },
  {
   "cell_type": "markdown",
   "id": "f222701c",
   "metadata": {},
   "source": [
    "Q10. Write a lambda function that takes a list of integers and returns a new list where each integer is squared."
   ]
  },
  {
   "cell_type": "code",
   "execution_count": 59,
   "id": "c66642d8",
   "metadata": {},
   "outputs": [
    {
     "data": {
      "text/plain": [
       "[4, 16, 25]"
      ]
     },
     "execution_count": 59,
     "metadata": {},
     "output_type": "execute_result"
    }
   ],
   "source": [
    "f = lambda lst : list(map(lambda x : x*x,lst))\n",
    "f([2,4,5])"
   ]
  }
 ],
 "metadata": {
  "kernelspec": {
   "display_name": "Python 3 (ipykernel)",
   "language": "python",
   "name": "python3"
  },
  "language_info": {
   "codemirror_mode": {
    "name": "ipython",
    "version": 3
   },
   "file_extension": ".py",
   "mimetype": "text/x-python",
   "name": "python",
   "nbconvert_exporter": "python",
   "pygments_lexer": "ipython3",
   "version": "3.10.9"
  }
 },
 "nbformat": 4,
 "nbformat_minor": 5
}
