{
 "cells": [
  {
   "cell_type": "markdown",
   "id": "e8c651aa",
   "metadata": {},
   "source": [
    "# [Assigment 2]( https://docs.google.com/document/d/1VKUPqHhC1gb7ESxi8dAtkZy9Mlj3MnC9bkta5UrJ9lQ/edit?usp=sharing)\n",
    "## Python with Mainul\n"
   ]
  },
  {
   "cell_type": "markdown",
   "id": "4349ae2b",
   "metadata": {},
   "source": [
    "### Q1: Write a program to print the numbers from 1 to 10 using a ‘while’ loop.\n",
    "Hint: Start with a counter variable and use a while loop to print the numbers.\n"
   ]
  },
  {
   "cell_type": "code",
   "execution_count": 1,
   "id": "0b030ba4",
   "metadata": {},
   "outputs": [
    {
     "name": "stdout",
     "output_type": "stream",
     "text": [
      "1\n",
      "2\n",
      "3\n",
      "4\n",
      "5\n",
      "6\n",
      "7\n",
      "8\n",
      "9\n",
      "10\n"
     ]
    }
   ],
   "source": [
    "i = 0\n",
    "while i < 10:\n",
    "    print(i+1)\n",
    "    i += 1"
   ]
  },
  {
   "cell_type": "markdown",
   "id": "306c4738",
   "metadata": {},
   "source": [
    "### Q2: Write a program to calculate the sum of all even numbers from 1 to 50 using a while loop.\n",
    "Hint: Initialize a variable to store the sum and use a while loop to iterate through the numbers, checking for evenness.\n"
   ]
  },
  {
   "cell_type": "code",
   "execution_count": 19,
   "id": "c99d4ecf",
   "metadata": {},
   "outputs": [
    {
     "name": "stdout",
     "output_type": "stream",
     "text": [
      "650\n"
     ]
    }
   ],
   "source": [
    "i = 2\n",
    "isum = 0\n",
    "while i <= 50:\n",
    "    isum += i\n",
    "    i += 2\n",
    "print(isum)"
   ]
  },
  {
   "cell_type": "markdown",
   "id": "2fed76ee",
   "metadata": {},
   "source": [
    "### Q3: Write a program to print the multiplication table of a given number using a while loop.\n",
    "Hint: Use a counter variable and a while loop to multiply the given number with different values.\n"
   ]
  },
  {
   "cell_type": "code",
   "execution_count": 28,
   "id": "f56b2071",
   "metadata": {},
   "outputs": [
    {
     "name": "stdout",
     "output_type": "stream",
     "text": [
      "sum of the first 50 even numbers is 650 \n",
      "Sum of the first 50 even numbers is 650\n",
      "sum of the first 50 even numbers is 650\n"
     ]
    }
   ],
   "source": [
    "n = 50\n",
    "print(\"sum of the first {} even numbers is {} \".format(n,isum))\n",
    "print(\"Sum of the first\",n,\"even numbers is\", isum)\n",
    "print(f\"sum of the first {n} even numbers is {isum}\")"
   ]
  },
  {
   "cell_type": "code",
   "execution_count": 30,
   "id": "d253e533",
   "metadata": {},
   "outputs": [
    {
     "name": "stdout",
     "output_type": "stream",
     "text": [
      "12 x 1 = 12\n",
      "12 x 2 = 24\n",
      "12 x 3 = 36\n",
      "12 x 4 = 48\n",
      "12 x 5 = 60\n",
      "12 x 6 = 72\n",
      "12 x 7 = 84\n",
      "12 x 8 = 96\n",
      "12 x 9 = 108\n",
      "12 x 10 = 120\n",
      "12 x 11 = 132\n",
      "12 x 12 = 144\n",
      "12 x 13 = 156\n",
      "12 x 14 = 168\n",
      "12 x 15 = 180\n",
      "12 x 16 = 192\n",
      "12 x 17 = 204\n",
      "12 x 18 = 216\n",
      "12 x 19 = 228\n",
      "12 x 20 = 240\n"
     ]
    }
   ],
   "source": [
    "number = 12  \n",
    "i = 1\n",
    "while i <= 20:\n",
    "    result = number * i\n",
    "    print(f\"{number} x {i} = {result}\")\n",
    "    i += 1\n"
   ]
  },
  {
   "cell_type": "markdown",
   "id": "574a47f4",
   "metadata": {},
   "source": [
    "\n",
    "### Q4: Write a program to find the factorial of a number using a while loop.\n",
    "Hint: The factorial of n is $1\\cdot2\\cdot3\\cdots n$.  Use a counter variable and a while loop to multiply the number with decreasing values.\n"
   ]
  },
  {
   "cell_type": "code",
   "execution_count": 48,
   "id": "333b12fe",
   "metadata": {},
   "outputs": [
    {
     "name": "stdout",
     "output_type": "stream",
     "text": [
      "The factorial of 5 is: 120\n"
     ]
    }
   ],
   "source": [
    "number = 5\n",
    "\n",
    "factorial = 1\n",
    "i = 1\n",
    "\n",
    "while i <= number:\n",
    "    factorial *= i\n",
    "    i += 1\n",
    "\n",
    "print(f\"The factorial of {number} is: {factorial}\")\n"
   ]
  },
  {
   "cell_type": "markdown",
   "id": "85949246",
   "metadata": {},
   "source": [
    "### Q5: Write a program to check if a given number is prime or not using a while loop.\n",
    "Hint: Use a while loop to check the divisibility of the number by all numbers less than it. Use the best search range.\n"
   ]
  },
  {
   "cell_type": "code",
   "execution_count": 91,
   "id": "d416ea82",
   "metadata": {},
   "outputs": [
    {
     "name": "stdout",
     "output_type": "stream",
     "text": [
      "37 is a prime number\n"
     ]
    }
   ],
   "source": [
    "number = 37\n",
    "\n",
    "if number <= 1:\n",
    "    print(\"Not a prime number\")\n",
    "else:\n",
    "    is_prime = True\n",
    "    divisor = 2\n",
    "\n",
    "    while divisor <= number**0.5:\n",
    "        if number % divisor == 0:\n",
    "            is_prime = False\n",
    "            break\n",
    "        divisor += 1\n",
    "\n",
    "    if is_prime:\n",
    "        print(f\"{number} is a prime number\")\n",
    "    else:\n",
    "        print(f\"{number} is not a prime number\")\n"
   ]
  },
  {
   "cell_type": "markdown",
   "id": "dae88b82",
   "metadata": {},
   "source": [
    "### Q6: Write a program to print the Fibonacci series up to a given number using a while loop.\n",
    "Hint: Use a while loop to generate Fibonacci numbers until they exceed the given number.\n"
   ]
  },
  {
   "cell_type": "code",
   "execution_count": 34,
   "id": "d278c5c6",
   "metadata": {},
   "outputs": [
    {
     "name": "stdout",
     "output_type": "stream",
     "text": [
      " Fibonacci series up to 100 :\n",
      " [1, 1, 2, 3, 5, 8, 13, 21, 34, 55, 89]\n"
     ]
    }
   ],
   "source": [
    "number = 100\n",
    "\n",
    "fibonacci = [1, 1]\n",
    "\n",
    "while fibonacci[-1] <= number:\n",
    "    next_term = fibonacci[-1] + fibonacci[-2]\n",
    "    fibonacci.append(next_term)\n",
    "\n",
    "fibonacci.pop()  # Remove the last term if it exceeds the given number\n",
    "\n",
    "print(\" Fibonacci series up to\", number, \":\\n\", fibonacci)\n"
   ]
  },
  {
   "cell_type": "code",
   "execution_count": 35,
   "id": "10f8edb6",
   "metadata": {},
   "outputs": [
    {
     "name": "stdout",
     "output_type": "stream",
     "text": [
      " Fibonacci series up to 100 :\n",
      " [1, 1, 2, 3, 5, 8, 13, 21, 34, 55, 89]\n"
     ]
    }
   ],
   "source": [
    "number = 100\n",
    "\n",
    "fibonacci = [1, 1]\n",
    "next_term  = fibonacci[-1] + fibonacci[-2]\n",
    "while next_term <= number:\n",
    "    fibonacci.append(next_term)\n",
    "    next_term = fibonacci[-1] + fibonacci[-2]\n",
    "# fibonacci.pop()  # Remove the last term if it exceeds the given number\n",
    "\n",
    "print(\" Fibonacci series up to\", number, \":\\n\", fibonacci)\n"
   ]
  },
  {
   "cell_type": "markdown",
   "id": "0a22a3ac",
   "metadata": {},
   "source": [
    "### Q7: Write a program to reverse a given number using a while loop.\n",
    "Hint: Use a while loop to extract the digits of the number and reverse their order.\n"
   ]
  },
  {
   "cell_type": "code",
   "execution_count": 36,
   "id": "031e8de4",
   "metadata": {},
   "outputs": [
    {
     "name": "stdout",
     "output_type": "stream",
     "text": [
      "Reversed number: 321\n"
     ]
    }
   ],
   "source": [
    "number = 123\n",
    "\n",
    "reversed_number = 0\n",
    "\n",
    "while number > 0:\n",
    "    digit = number % 10\n",
    "    reversed_number = (reversed_number * 10) + digit\n",
    "    number = number // 10\n",
    "\n",
    "print(\"Reversed number:\", reversed_number)\n"
   ]
  },
  {
   "cell_type": "markdown",
   "id": "5ecf6cdc",
   "metadata": {},
   "source": [
    "### Q8: Write a program to find the sum of digits of a given number using a while loop.\n",
    "Hint: Use a while loop to extract the digits of the number and add them to a running sum.\n"
   ]
  },
  {
   "cell_type": "code",
   "execution_count": 52,
   "id": "5934c754",
   "metadata": {},
   "outputs": [
    {
     "name": "stdout",
     "output_type": "stream",
     "text": [
      "Sum of digits: 6\n"
     ]
    }
   ],
   "source": [
    "number = 123\n",
    "\n",
    "sum_of_digits = 0\n",
    "\n",
    "while number > 0:\n",
    "    digit = number % 10\n",
    "    sum_of_digits += digit\n",
    "    number = number // 10\n",
    "\n",
    "print(\"Sum of digits:\", sum_of_digits)"
   ]
  },
  {
   "cell_type": "markdown",
   "id": "07255652",
   "metadata": {},
   "source": [
    "### Q9: Write a program to count the number of digits in a given number using a while loop.\n",
    "Hint:  Use a while loop to extract the digits of the number and count them.\n"
   ]
  },
  {
   "cell_type": "code",
   "execution_count": 53,
   "id": "41ee1925",
   "metadata": {},
   "outputs": [
    {
     "name": "stdout",
     "output_type": "stream",
     "text": [
      "Number of digits: 3\n"
     ]
    }
   ],
   "source": [
    "number = 234\n",
    "\n",
    "count = 0\n",
    "\n",
    "while number != 0:\n",
    "    number = number // 10\n",
    "    count += 1\n",
    "\n",
    "print(\"Number of digits:\", count)\n"
   ]
  },
  {
   "attachments": {
    "image.png": {
     "image/png": "[encoded data removed]"
    }
   },
   "cell_type": "markdown",
   "id": "f524f3bf",
   "metadata": {},
   "source": [
    "### Q10: Write a program to prints the patterns using nested for loops. \n",
    "![image.png](attachment:image.png)\n",
    "\n",
    "Hint: Use two for loops, one for the rows and one for the columns, to print the desired pattern."
   ]
  },
  {
   "cell_type": "code",
   "execution_count": 54,
   "id": "37e5ce3e",
   "metadata": {},
   "outputs": [
    {
     "name": "stdout",
     "output_type": "stream",
     "text": [
      "*\n",
      "**\n",
      "***\n",
      "****\n",
      "*****\n",
      "\n",
      "1\n",
      "22\n",
      "333\n",
      "4444\n",
      "55555\n",
      "\n",
      "*********** \n",
      " *********  \n",
      "  *******   \n",
      "   *****    \n",
      "    ***     \n",
      "     *      \n"
     ]
    }
   ],
   "source": [
    "for i in range(1, 6):\n",
    "    print(\"*\" * i)\n",
    "    \n",
    "print()\n",
    "\n",
    "for i in range(1, 6):\n",
    "    print(f\"{i}\" * i)\n",
    "\n",
    "print()\n",
    "\n",
    "for i in range(1, 12,2):\n",
    "    print((\"*\" * (12-i)).center(12))"
   ]
  },
  {
   "cell_type": "code",
   "execution_count": 53,
   "id": "40295be8",
   "metadata": {},
   "outputs": [
    {
     "name": "stdout",
     "output_type": "stream",
     "text": [
      "*\n",
      "**\n",
      "***\n",
      "****\n",
      "*****\n"
     ]
    }
   ],
   "source": [
    "for i in range(1, 6):\n",
    "    for j in range(i):\n",
    "        print(\"*\",end = '')\n",
    "    print()"
   ]
  },
  {
   "cell_type": "markdown",
   "id": "31cd2175",
   "metadata": {},
   "source": [
    "### Q11: Write a Python program to find the prime numbers between a given range.\n",
    "Hint: A prime number is an integer greater than 1 and which is divisible by 1 and itself only. \n"
   ]
  },
  {
   "cell_type": "code",
   "execution_count": 56,
   "id": "f94de31c",
   "metadata": {},
   "outputs": [
    {
     "name": "stdout",
     "output_type": "stream",
     "text": [
      "Prime numbers between 20 and 50 are:\n",
      "23\n",
      "29\n",
      "31\n",
      "37\n",
      "41\n",
      "43\n",
      "47\n"
     ]
    }
   ],
   "source": [
    "start = 1\n",
    "end = 50\n",
    "\n",
    "print(\"Prime numbers between\", start, \"and\", end, \"are:\")\n",
    "\n",
    "for num in range(start, end + 1):\n",
    "    if num > 1:\n",
    "        is_prime = True\n",
    "        for i in range(2, int(num**0.5) + 1):\n",
    "            if num % i == 0:\n",
    "                is_prime = False\n",
    "                break\n",
    "        if is_prime:\n",
    "            print(num)\n",
    "\n"
   ]
  },
  {
   "cell_type": "code",
   "execution_count": 74,
   "id": "021a7915",
   "metadata": {},
   "outputs": [
    {
     "name": "stdout",
     "output_type": "stream",
     "text": [
      "Prime numbers upto 1000 are:\n",
      "[2, 3, 5, 7, 11, 13, 17, 19, 23, 29, 31, 37, 41, 43, 47, 53, 59, 61, 67, 71, 73, 79, 83, 89, 97, 101, 103, 107, 109, 113, 127, 131, 137, 139, 149, 151, 157, 163, 167, 173, 179, 181, 191, 193, 197, 199, 211, 223, 227, 229, 233, 239, 241, 251, 257, 263, 269, 271, 277, 281, 283, 293, 307, 311, 313, 317, 331, 337, 347, 349, 353, 359, 367, 373, 379, 383, 389, 397, 401, 409, 419, 421, 431, 433, 439, 443, 449, 457, 461, 463, 467, 479, 487, 491, 499, 503, 509, 521, 523, 541, 547, 557, 563, 569, 571, 577, 587, 593, 599, 601, 607, 613, 617, 619, 631, 641, 643, 647, 653, 659, 661, 673, 677, 683, 691, 701, 709, 719, 727, 733, 739, 743, 751, 757, 761, 769, 773, 787, 797, 809, 811, 821, 823, 827, 829, 839, 853, 857, 859, 863, 877, 881, 883, 887, 907, 911, 919, 929, 937, 941, 947, 953, 967, 971, 977, 983, 991, 997]\n"
     ]
    }
   ],
   "source": [
    "# Bonus\n",
    "n = 1000\n",
    "\n",
    "print(\"Prime numbers upto\",n, \"are:\")\n",
    "if n >= 2:\n",
    "    primes = [2]\n",
    "else:\n",
    "    primes = []\n",
    "\n",
    "for num in range(3, n + 1, 2):\n",
    "    if num > 1:\n",
    "        for x in  primes:    #[i for i in primes if i <= num** 0.5]:\n",
    "                if num % x == 0:\n",
    "                    break\n",
    "        else:\n",
    "            primes.append(num)\n",
    "            \n",
    "print(primes)\n",
    "\n"
   ]
  },
  {
   "cell_type": "markdown",
   "id": "9e51a858",
   "metadata": {},
   "source": [
    "### Q12: Write a Python program to check whether there are any prime numbers in a list of n integers and print their sum.\n",
    "Hint: loop through the list of integers and if it is a prime add it to sum.\n"
   ]
  },
  {
   "cell_type": "code",
   "execution_count": 57,
   "id": "973c9729",
   "metadata": {},
   "outputs": [
    {
     "name": "stdout",
     "output_type": "stream",
     "text": [
      "3\n",
      "7\n",
      "Sum of prime numbers: 10\n"
     ]
    }
   ],
   "source": [
    "# Taking input for the list of integers\n",
    "numbers = [45, 3, 7, 9, 12]\n",
    "\n",
    "# Finding prime numbers and calculating their sum\n",
    "prime_sum = 0\n",
    "for num in numbers:\n",
    "    if num > 1:\n",
    "        is_prime = True\n",
    "        for i in range(2, int(num**0.5) + 1):\n",
    "            if num % i == 0:\n",
    "                is_prime = False\n",
    "                break\n",
    "        if is_prime:\n",
    "            print(num)\n",
    "            prime_sum += num\n",
    "\n",
    "# Printing the result\n",
    "if prime_sum > 0:\n",
    "    print(\"Sum of prime numbers:\", prime_sum)\n",
    "else:\n",
    "    print(\"There are no prime numbers in the list.\")\n"
   ]
  },
  {
   "cell_type": "markdown",
   "id": "bf6078e8",
   "metadata": {},
   "source": [
    "### Q13: Write a Python program to find the common elements between two given lists.\n",
    "Hint: Use a loop to iterate through each element in one list and check if it exists in the other list.\n"
   ]
  },
  {
   "cell_type": "code",
   "execution_count": 58,
   "id": "d72a6157",
   "metadata": {},
   "outputs": [
    {
     "name": "stdout",
     "output_type": "stream",
     "text": [
      "Common elements: [4, 5]\n"
     ]
    }
   ],
   "source": [
    "# Given lists\n",
    "list1 = [1, 2, 3, 4, 5]\n",
    "list2 = [4, 5, 6, 7, 8]\n",
    "\n",
    "# Finding the common elements\n",
    "common_elements = []\n",
    "for element in list1:\n",
    "    if element in list2:\n",
    "        common_elements.append(element)\n",
    "\n",
    "# Printing the common elements\n",
    "print(\"Common elements:\", common_elements)\n"
   ]
  },
  {
   "cell_type": "code",
   "execution_count": 59,
   "id": "e14dde4b",
   "metadata": {},
   "outputs": [
    {
     "name": "stdout",
     "output_type": "stream",
     "text": [
      "Common elements: {4, 5}\n"
     ]
    }
   ],
   "source": [
    "# Given lists\n",
    "list1 = [1, 2, 3, 4, 5]\n",
    "list2 = [4, 5, 6, 7, 8]\n",
    "\n",
    "# Converting the lists to sets to find the common elements\n",
    "set1 = set(list1)\n",
    "set2 = set(list2)\n",
    "\n",
    "# Finding the common elements by taking the intersection of the sets\n",
    "common_elements = set1.intersection(set2)\n",
    "\n",
    "# Printing the common elements\n",
    "print(\"Common elements:\", common_elements)\n"
   ]
  },
  {
   "cell_type": "markdown",
   "id": "07213a81",
   "metadata": {},
   "source": [
    "### Q14: Write a Python program to find the sum of all the elements in a given matrix (2D list).\n",
    "Hint: Use nested loops to iterate through each element in the matrix and accumulate the sum.\n"
   ]
  },
  {
   "cell_type": "code",
   "execution_count": 80,
   "id": "4a5cb654",
   "metadata": {},
   "outputs": [
    {
     "name": "stdout",
     "output_type": "stream",
     "text": [
      "Sum of all elements in the matrix: 45\n"
     ]
    }
   ],
   "source": [
    "# Given matrix\n",
    "matrix = [\n",
    "           [1, 2, 3],\n",
    "           [4, 5, 6],\n",
    "           [7, 8, 9]\n",
    "         ]\n",
    "\n",
    "# Finding the sum of all elements in the matrix\n",
    "matrix_sum = 0\n",
    "for row in matrix:\n",
    "    for element in row:\n",
    "        matrix_sum += element\n",
    "\n",
    "# Printing the sum\n",
    "print(\"Sum of all elements in the matrix:\", matrix_sum)"
   ]
  },
  {
   "cell_type": "code",
   "execution_count": 81,
   "id": "6e790f94",
   "metadata": {},
   "outputs": [
    {
     "name": "stdout",
     "output_type": "stream",
     "text": [
      "Sum of all elements in the matrix: 45\n"
     ]
    }
   ],
   "source": [
    "# Given matrix\n",
    "matrix = [\n",
    "           [1, 2, 3],\n",
    "           [4, 5, 6],\n",
    "           [7, 8, 9]\n",
    "         ]\n",
    "\n",
    "# Finding the sum of all elements in the matrix\n",
    "matrix_sum = 0\n",
    "for row in matrix:\n",
    "        matrix_sum += sum(row)\n",
    "\n",
    "# Printing the sum\n",
    "print(\"Sum of all elements in the matrix:\", matrix_sum)"
   ]
  },
  {
   "cell_type": "code",
   "execution_count": 82,
   "id": "01b6511b",
   "metadata": {},
   "outputs": [
    {
     "name": "stdout",
     "output_type": "stream",
     "text": [
      "Sum of all elements in the matrix: 45\n"
     ]
    }
   ],
   "source": [
    "# Given matrix\n",
    "matrix = [\n",
    "    [1, 2, 3],\n",
    "    [4, 5, 6],\n",
    "    [7, 8, 9]\n",
    "]\n",
    "\n",
    "# Finding the sum of all elements in the matrix\n",
    "matrix_sum =sum(sum(row) for row in matrix)\n",
    "\n",
    "# Printing the sum\n",
    "print(\"Sum of all elements in the matrix:\", matrix_sum)\n"
   ]
  },
  {
   "cell_type": "markdown",
   "id": "cd3cbfc7",
   "metadata": {},
   "source": [
    "### Q15: Write a Python program to transpose a given matrix  A and check if it is the same as A, i.e., A is a Symmetric Matrix.\n",
    "Hint: Use nested loops to iterate through the rows and columns of the matrix and swap elements.\n"
   ]
  },
  {
   "cell_type": "code",
   "execution_count": 88,
   "id": "cf0943a7",
   "metadata": {},
   "outputs": [
    {
     "name": "stdout",
     "output_type": "stream",
     "text": [
      "[[1, 2, 3, 4], [5, 6, 7, 8], [8, 9, 4, 9]]\n",
      "[[1, 5, 8], [2, 6, 9], [3, 7, 4], [4, 8, 9]]\n",
      "[[1, 5, 8], [2, 6, 9], [3, 7, 4], [4, 8, 9]]\n",
      "Matrix A is not symmetric.\n"
     ]
    }
   ],
   "source": [
    "# Given matrix A\n",
    "A = [\n",
    "    [1, 2, 3,4],\n",
    "    [5, 6, 7,8],\n",
    "    [8, 9, 4,9]\n",
    "]\n",
    "num_row = len(A)\n",
    "num_col = len(A[0])\n",
    "print(A)\n",
    "# Transposing the matrix A\n",
    "transpose_A = [[A[i][j]  for i in range(num_row)] for j in range(num_col)]\n",
    "print(transpose_A)\n",
    "# tr_matrix = []\n",
    "# for j in range(num_col):\n",
    "#     row = []\n",
    "#     for i in range(num_row):\n",
    "#         row.append(A[i][j])\n",
    "#     tr_matrix.append(row)\n",
    "# print(tr_matrix)\n",
    "\n",
    "# Printing the result\n",
    "if A == transpose_A:\n",
    "    print(\"Matrix A is symmetric.\")\n",
    "else:\n",
    "    print(\"Matrix A is not symmetric.\")\n"
   ]
  },
  {
   "cell_type": "code",
   "execution_count": 85,
   "id": "e91923c3",
   "metadata": {},
   "outputs": [
    {
     "name": "stdout",
     "output_type": "stream",
     "text": [
      "Matrix A is not symmetric.\n"
     ]
    }
   ],
   "source": [
    "# Given matrix A\n",
    "A = [\n",
    "    [1, 2, 3],\n",
    "    [5, 6, 7],\n",
    "    [8, 9, 4]\n",
    "]\n",
    "print(A)\n",
    "# Transposing the matrix A\n",
    "transpose_A = [[A[j][i] for j in range(len(A))] for i in range(len(A[0]))]\n",
    "print(transpose_A)\n",
    "# Checking if A is symmetric\n",
    "is_symmetric = True\n",
    "for i in range(len(A)):\n",
    "    for j in range(len(A[0])):\n",
    "        if A[i][j] != transpose_A[i][j]:\n",
    "            is_symmetric = False\n",
    "            break\n",
    "\n",
    "# Printing the result\n",
    "if is_symmetric:\n",
    "    print(\"Matrix A is symmetric.\")\n",
    "else:\n",
    "    print(\"Matrix A is not symmetric.\")\n"
   ]
  },
  {
   "cell_type": "code",
   "execution_count": 63,
   "id": "cf53fba3",
   "metadata": {},
   "outputs": [
    {
     "name": "stdout",
     "output_type": "stream",
     "text": [
      "Matrix A is symmetric.\n"
     ]
    }
   ],
   "source": [
    "# Given matrix A\n",
    "A = [\n",
    "    [1, 2, 3],\n",
    "    [2, 4, 5],\n",
    "    [3, 5, 6]\n",
    "]\n",
    "\n",
    "# Transposing the matrix A\n",
    "transpose_A = [[A[j][i] for j in range(len(A))] for i in range(len(A[0]))]\n",
    "\n",
    "# Checking if A is symmetric\n",
    "is_symmetric = not any(A[i][j] != transpose_A[i][j] for i in range(len(A)) for j in range(len(A[0])))\n",
    "\n",
    "# Printing the result\n",
    "if is_symmetric:\n",
    "    print(\"Matrix A is symmetric.\")\n",
    "else:\n",
    "    print(\"Matrix A is not symmetric.\")\n"
   ]
  },
  {
   "cell_type": "markdown",
   "id": "e3346e5f",
   "metadata": {},
   "source": [
    "### Q16: Write a Python program to multiply two matrices using nested for loops.\n",
    "Hint: Use nested for loops to iterate through the rows and columns of the matrices and perform the multiplication. Use a temporary variable to accumulate the result.\n"
   ]
  },
  {
   "cell_type": "code",
   "execution_count": 66,
   "id": "413b8035",
   "metadata": {},
   "outputs": [
    {
     "name": "stdout",
     "output_type": "stream",
     "text": [
      "Resultant Matrix:\n",
      "[76, 82]\n",
      "[184, 199]\n",
      "[292, 316]\n"
     ]
    }
   ],
   "source": [
    "# Given matrices\n",
    "matrix1 = [\n",
    "    [1, 2, 3],\n",
    "    [4, 5, 6],\n",
    "    [7, 8, 9]\n",
    "]\n",
    "\n",
    "matrix2 = [\n",
    "    [10, 11],\n",
    "    [12, 13],\n",
    "    [14, 15]\n",
    "]\n",
    "\n",
    "# Dimensions of the matrices\n",
    "rows1 = len(matrix1)\n",
    "cols1 = len(matrix1[0])\n",
    "rows2 = len(matrix2)\n",
    "cols2 = len(matrix2[0])\n",
    "\n",
    "# Checking if matrices can be multiplied\n",
    "if cols1 != rows2:\n",
    "    print(\"Cannot multiply the matrices. Invalid dimensions.\")\n",
    "else:\n",
    "    # Creating the result matrix with appropriate dimensions\n",
    "    result = [[0 for _ in range(cols2)] for _ in range(rows1)]\n",
    "\n",
    "    # Multiplying the matrices\n",
    "    for i in range(rows1):\n",
    "        for j in range(cols2):\n",
    "            for k in range(cols1):\n",
    "                result[i][j] += matrix1[i][k] * matrix2[k][j]\n",
    "\n",
    "    # Printing the result matrix\n",
    "    print(\"Resultant Matrix:\")\n",
    "    for row in result:\n",
    "        print(row)\n"
   ]
  },
  {
   "cell_type": "code",
   "execution_count": 67,
   "id": "38623b0f",
   "metadata": {},
   "outputs": [
    {
     "name": "stdout",
     "output_type": "stream",
     "text": [
      "Resultant Matrix:\n",
      "[76, 82]\n",
      "[184, 199]\n",
      "[292, 316]\n"
     ]
    }
   ],
   "source": [
    "# Given matrices\n",
    "matrix1 = [\n",
    "    [1, 2, 3],\n",
    "    [4, 5, 6],\n",
    "    [7, 8, 9]\n",
    "]\n",
    "\n",
    "matrix2 = [\n",
    "    [10, 11],\n",
    "    [12, 13],\n",
    "    [14, 15]\n",
    "]\n",
    "\n",
    "# Dimensions of the matrices\n",
    "rows1 = len(matrix1)\n",
    "cols1 = len(matrix1[0])\n",
    "rows2 = len(matrix2)\n",
    "cols2 = len(matrix2[0])\n",
    "\n",
    "# Checking if matrices can be multiplied\n",
    "if cols1 != rows2:\n",
    "    print(\"Cannot multiply the matrices. Invalid dimensions.\")\n",
    "else:\n",
    "    # Multiplying the matrices\n",
    "    result = [[sum(matrix1[i][k] * matrix2[k][j] for k in range(cols1)) for j in range(cols2)] for i in range(rows1)]\n",
    "\n",
    "    # Printing the result matrix\n",
    "    print(\"Resultant Matrix:\")\n",
    "    for row in result:\n",
    "        print(row)\n"
   ]
  },
  {
   "cell_type": "markdown",
   "id": "548fb49e",
   "metadata": {},
   "source": [
    "### Q17: Write a program to find the prime factors of a given number using a while loop.\n",
    "Hint: Use a while loop to iterate through numbers and check if they are prime factors of the given number.\n"
   ]
  },
  {
   "cell_type": "code",
   "execution_count": 95,
   "id": "770cd300",
   "metadata": {},
   "outputs": [
    {
     "name": "stdout",
     "output_type": "stream",
     "text": [
      "Prime factors of 1.0 are: [2, 2, 5, 5]\n"
     ]
    }
   ],
   "source": [
    "n = 100\n",
    "factors = []\n",
    "divisor = 2\n",
    "\n",
    "while divisor <= n:\n",
    "    if n % divisor == 0:\n",
    "        factors.append(divisor)\n",
    "        n = n / divisor\n",
    "    else:\n",
    "        divisor += 1\n",
    "        \n",
    "    if n==1:\n",
    "        break\n",
    "\n",
    "\n",
    "print(\"Prime factors of\", n, \"are:\", factors)\n"
   ]
  },
  {
   "cell_type": "code",
   "execution_count": 6,
   "id": "1bce70b6",
   "metadata": {},
   "outputs": [
    {
     "name": "stdout",
     "output_type": "stream",
     "text": [
      "Prime factors of 60 are: [2, 2, 3, 5]\n"
     ]
    }
   ],
   "source": [
    "# alternative method\n",
    "n = 60\n",
    "nn = n\n",
    "factors = []\n",
    "divisor = 2\n",
    "\n",
    "while n > 1:\n",
    "    if n % divisor == 0:\n",
    "        factors.append(divisor)\n",
    "        n = n / divisor\n",
    "    else:\n",
    "        divisor += 1\n",
    "\n",
    "print(\"Prime factors of\", nn, \"are:\", factors)\n"
   ]
  },
  {
   "cell_type": "markdown",
   "id": "d3f0cc86",
   "metadata": {},
   "source": [
    "### Q18: Write a program to print all possible permutations of a given list using a while loop.\n",
    "Hint :Use a while loop to generate different permutations by swapping elements in the list.\n"
   ]
  },
  {
   "cell_type": "code",
   "execution_count": 10,
   "id": "79be0a62",
   "metadata": {},
   "outputs": [
    {
     "name": "stdout",
     "output_type": "stream",
     "text": [
      "lst =  [2, 1, 3, 4]  indices =  [0, 1, 0, 0]  i =  1\n",
      "it came here, indices =  [0, 0, 0, 0] i =  2\n",
      "lst =  [3, 1, 2, 4]  indices =  [0, 0, 1, 0]  i =  1\n",
      "lst =  [1, 3, 2, 4]  indices =  [0, 1, 1, 0]  i =  1\n",
      "it came here, indices =  [0, 0, 1, 0] i =  2\n",
      "lst =  [2, 3, 1, 4]  indices =  [0, 0, 2, 0]  i =  1\n",
      "lst =  [3, 2, 1, 4]  indices =  [0, 1, 2, 0]  i =  1\n",
      "it came here, indices =  [0, 0, 2, 0] i =  2\n",
      "it came here, indices =  [0, 0, 0, 0] i =  3\n",
      "lst =  [4, 2, 1, 3]  indices =  [0, 0, 0, 1]  i =  1\n",
      "lst =  [2, 4, 1, 3]  indices =  [0, 1, 0, 1]  i =  1\n",
      "it came here, indices =  [0, 0, 0, 1] i =  2\n",
      "lst =  [1, 4, 2, 3]  indices =  [0, 0, 1, 1]  i =  1\n",
      "lst =  [4, 1, 2, 3]  indices =  [0, 1, 1, 1]  i =  1\n",
      "it came here, indices =  [0, 0, 1, 1] i =  2\n",
      "lst =  [2, 1, 4, 3]  indices =  [0, 0, 2, 1]  i =  1\n",
      "lst =  [1, 2, 4, 3]  indices =  [0, 1, 2, 1]  i =  1\n",
      "it came here, indices =  [0, 0, 2, 1] i =  2\n",
      "it came here, indices =  [0, 0, 0, 1] i =  3\n",
      "lst =  [1, 3, 4, 2]  indices =  [0, 0, 0, 2]  i =  1\n",
      "lst =  [3, 1, 4, 2]  indices =  [0, 1, 0, 2]  i =  1\n",
      "it came here, indices =  [0, 0, 0, 2] i =  2\n",
      "lst =  [4, 1, 3, 2]  indices =  [0, 0, 1, 2]  i =  1\n",
      "lst =  [1, 4, 3, 2]  indices =  [0, 1, 1, 2]  i =  1\n",
      "it came here, indices =  [0, 0, 1, 2] i =  2\n",
      "lst =  [3, 4, 1, 2]  indices =  [0, 0, 2, 2]  i =  1\n",
      "lst =  [4, 3, 1, 2]  indices =  [0, 1, 2, 2]  i =  1\n",
      "it came here, indices =  [0, 0, 2, 2] i =  2\n",
      "it came here, indices =  [0, 0, 0, 2] i =  3\n",
      "lst =  [4, 3, 2, 1]  indices =  [0, 0, 0, 3]  i =  1\n",
      "lst =  [3, 4, 2, 1]  indices =  [0, 1, 0, 3]  i =  1\n",
      "it came here, indices =  [0, 0, 0, 3] i =  2\n",
      "lst =  [2, 4, 3, 1]  indices =  [0, 0, 1, 3]  i =  1\n",
      "lst =  [4, 2, 3, 1]  indices =  [0, 1, 1, 3]  i =  1\n",
      "it came here, indices =  [0, 0, 1, 3] i =  2\n",
      "lst =  [3, 2, 4, 1]  indices =  [0, 0, 2, 3]  i =  1\n",
      "lst =  [2, 3, 4, 1]  indices =  [0, 1, 2, 3]  i =  1\n",
      "it came here, indices =  [0, 0, 2, 3] i =  2\n",
      "it came here, indices =  [0, 0, 0, 3] i =  3\n",
      "it came here, indices =  [0, 0, 0, 0] i =  4\n",
      "All possible permutations:\n",
      "(1, 2, 3, 4)\n",
      "(2, 1, 3, 4)\n",
      "(3, 1, 2, 4)\n",
      "(1, 3, 2, 4)\n",
      "(2, 3, 1, 4)\n",
      "(3, 2, 1, 4)\n",
      "(4, 2, 1, 3)\n",
      "(2, 4, 1, 3)\n",
      "(1, 4, 2, 3)\n",
      "(4, 1, 2, 3)\n",
      "(2, 1, 4, 3)\n",
      "(1, 2, 4, 3)\n",
      "(1, 3, 4, 2)\n",
      "(3, 1, 4, 2)\n",
      "(4, 1, 3, 2)\n",
      "(1, 4, 3, 2)\n",
      "(3, 4, 1, 2)\n",
      "(4, 3, 1, 2)\n",
      "(4, 3, 2, 1)\n",
      "(3, 4, 2, 1)\n",
      "(2, 4, 3, 1)\n",
      "(4, 2, 3, 1)\n",
      "(3, 2, 4, 1)\n",
      "(2, 3, 4, 1)\n"
     ]
    }
   ],
   "source": [
    "lst = [1,2,3,4]\n",
    "n = len(lst)\n",
    "indices = [0] * n\n",
    "permutations = [tuple(lst)] # list of list\n",
    "i = 1\n",
    "\n",
    "while i < n:\n",
    "    if indices[i] < i:\n",
    "        if i % 2 == 0:\n",
    "            lst[0], lst[i] = lst[i], lst[0]\n",
    "        else:\n",
    "            lst[indices[i]], lst[i] = lst[i], lst[indices[i]]\n",
    "        permutations.append(tuple(lst))\n",
    "        indices[i] += 1\n",
    "        i = 1\n",
    "        print(\"lst = \",lst,\" indices = \",indices,\" i = \",i)\n",
    "    else:\n",
    "        indices[i] = 0\n",
    "        i += 1\n",
    "        print(\"it came here, indices = \",indices,\"i = \",i)\n",
    "\n",
    "\n",
    "print(\"All possible permutations:\")\n",
    "for permutation in permutations:\n",
    "    print(permutation)\n"
   ]
  },
  {
   "cell_type": "code",
   "execution_count": 2,
   "id": "9ef07b88",
   "metadata": {},
   "outputs": [
    {
     "name": "stdout",
     "output_type": "stream",
     "text": [
      "All possible unique permutations:\n",
      "(1, 3, 2)\n",
      "(1, 2, 3)\n",
      "(2, 1, 3)\n",
      "(3, 2, 1)\n",
      "(3, 1, 2)\n",
      "(2, 3, 1)\n"
     ]
    }
   ],
   "source": [
    "lst = [1,2,3]\n",
    "n = len(lst)\n",
    "indices = [0] * n\n",
    "pset = set([tuple(lst)])  # Use a set instead of a list\n",
    "i = 0\n",
    "\n",
    "while i < n:\n",
    "    if indices[i] < i:\n",
    "        if i % 2 == 0:\n",
    "            lst[0], lst[i] = lst[i], lst[0]\n",
    "        else:\n",
    "            lst[indices[i]], lst[i] = lst[i], lst[indices[i]]\n",
    "        pset.add(tuple(lst))  # Add permutation as a tuple to the set\n",
    "        indices[i] += 1\n",
    "        i = 0\n",
    "    else:\n",
    "        indices[i] = 0\n",
    "        i += 1\n",
    "\n",
    "\n",
    "print(\"All possible unique permutations:\")\n",
    "for permutation in pset:\n",
    "    print(permutation)\n"
   ]
  },
  {
   "cell_type": "code",
   "execution_count": 43,
   "id": "765e933f",
   "metadata": {},
   "outputs": [
    {
     "name": "stdout",
     "output_type": "stream",
     "text": [
      "[1, 2, 3]\n",
      "[1, 3, 2]\n",
      "[2, 1, 3]\n",
      "[2, 3, 1]\n",
      "[3, 2, 1]\n",
      "[3, 1, 2]\n"
     ]
    }
   ],
   "source": [
    "def perm(a, k=0):\n",
    "    if k == len(a):\n",
    "      print(a)\n",
    "    else:\n",
    "        for i in range(k, len(a)):\n",
    "            a[k], a[i] = a[i], a[k]\n",
    "            perm(a, k+1)\n",
    "            a[k], a[i] = a[i], a[k]\n",
    "\n",
    "perm([1, 2, 3])\n"
   ]
  },
  {
   "cell_type": "code",
   "execution_count": 25,
   "id": "932b9206",
   "metadata": {},
   "outputs": [
    {
     "name": "stdout",
     "output_type": "stream",
     "text": [
      "(1, 3, 2)\n",
      "(1, 2, 3)\n",
      "(2, 1, 3)\n",
      "(3, 2, 1)\n",
      "(3, 1, 2)\n",
      "(2, 3, 1)\n"
     ]
    }
   ],
   "source": [
    "# using standard library\n",
    "from itertools import permutations\n",
    "list = [1,2,3]\n",
    "\n",
    "perm = set(permutations(list))  # for uniqeness use set\n",
    "for p in perm:\n",
    "    print(p)"
   ]
  },
  {
   "cell_type": "markdown",
   "id": "5ceeaf9c",
   "metadata": {},
   "source": [
    "### Q19: Write a program that reads a long paragraph and counts the frequency of each word in it.\n",
    "Hint : Remove the punctuation from the paragraph and use split and then find unique words and their count.\n"
   ]
  },
  {
   "cell_type": "code",
   "execution_count": 68,
   "id": "35d8c1f7",
   "metadata": {
    "scrolled": true
   },
   "outputs": [
    {
     "name": "stdout",
     "output_type": "stream",
     "text": [
      "Enter a paragraph: Welcome to the Online Portal of the INSPIRE Programme \"Innovation in Science Pursuit for Inspired Research (INSPIRE)\" is an innovative programme sponsored and managed by the Department of Science & Technology for attraction of talent to Science. The basic objective of INSPIRE is to communicate to the youth of the country the excitements of creative pursuit of science, attract talent to the study of science at an early age and thus build the required critical human resource pool for strengthening and expanding the Science & Technology system and R & D base. A striking feature of the programme is that it does not believe in conducting competitive exams for identification of talent at any level. It believes in and relies on the efficacy of the existing educational structure for identification of talent.\n",
      "welcome: 1\n",
      "to: 5\n",
      "the: 13\n",
      "online: 1\n",
      "portal: 1\n",
      "of: 12\n",
      "inspire: 3\n",
      "programme: 3\n",
      "innovation: 1\n",
      "in: 3\n",
      "science: 6\n",
      "pursuit: 2\n",
      "for: 5\n",
      "inspired: 1\n",
      "research: 1\n",
      "is: 3\n",
      "an: 2\n",
      "innovative: 1\n",
      "sponsored: 1\n",
      "and: 5\n",
      "managed: 1\n",
      "by: 1\n",
      "department: 1\n",
      "technology: 2\n",
      "attraction: 1\n",
      "talent: 4\n",
      "basic: 1\n",
      "objective: 1\n",
      "communicate: 1\n",
      "youth: 1\n",
      "country: 1\n",
      "excitements: 1\n",
      "creative: 1\n",
      "attract: 1\n",
      "study: 1\n",
      "at: 2\n",
      "early: 1\n",
      "age: 1\n",
      "thus: 1\n",
      "build: 1\n",
      "required: 1\n",
      "critical: 1\n",
      "human: 1\n",
      "resource: 1\n",
      "pool: 1\n",
      "strengthening: 1\n",
      "expanding: 1\n",
      "system: 1\n",
      "r: 1\n",
      "d: 1\n",
      "base: 1\n",
      "a: 1\n",
      "striking: 1\n",
      "feature: 1\n",
      "that: 1\n",
      "it: 2\n",
      "does: 1\n",
      "not: 1\n",
      "believe: 1\n",
      "conducting: 1\n",
      "competitive: 1\n",
      "exams: 1\n",
      "identification: 2\n",
      "any: 1\n",
      "level: 1\n",
      "believes: 1\n",
      "relies: 1\n",
      "on: 1\n",
      "efficacy: 1\n",
      "existing: 1\n",
      "educational: 1\n",
      "structure: 1\n"
     ]
    }
   ],
   "source": [
    "# Read the paragraph\n",
    "paragraph = input(\"Enter a paragraph: \")\n",
    "\n",
    "# Remove punctuation marks and convert to lowercase\n",
    "punctuations = '''!()-[]{};:'\"\\,<>./?@#$%^&*_~'''\n",
    "paragraph = paragraph.lower()\n",
    "for punctuation in punctuations:\n",
    "    paragraph = paragraph.replace(punctuation, '')\n",
    "\n",
    "# Split the paragraph into words\n",
    "words = paragraph.split()\n",
    "\n",
    "# Count the frequency of each word\n",
    "word_frequency = {}\n",
    "for word in words:\n",
    "    if word in word_frequency:\n",
    "        word_frequency[word] += 1\n",
    "    else:\n",
    "        word_frequency[word] = 1\n",
    "\n",
    "# Print the word frequency\n",
    "for word, frequency in word_frequency.items():\n",
    "    print(f\"{word}: {frequency}\")\n"
   ]
  },
  {
   "cell_type": "code",
   "execution_count": 72,
   "id": "507cb74a",
   "metadata": {},
   "outputs": [
    {
     "name": "stdout",
     "output_type": "stream",
     "text": [
      "Enter a paragraph: this is a  new this amin\n",
      "this: 2\n",
      "is: 1\n",
      "a: 1\n",
      "new: 1\n",
      "amin: 1\n"
     ]
    }
   ],
   "source": [
    "# Read the paragraph\n",
    "paragraph = input(\"Enter a paragraph: \")\n",
    "\n",
    "# Remove punctuation marks and convert to lowercase\n",
    "punctuations = '''!()-[]{};:'\"\\,<>./?@#$%^&*_~'''\n",
    "paragraph = paragraph.lower()\n",
    "for punctuation in punctuations:\n",
    "    paragraph = paragraph.replace(punctuation, '')\n",
    "\n",
    "# Split the paragraph into words\n",
    "words = paragraph.split()\n",
    "\n",
    "# Count the frequency of each word using dictionary comprehension\n",
    "word_frequency = {word: words.count(word) for word in words}\n",
    "\n",
    "# Print the word frequency\n",
    "for word, frequency in word_frequency.items():\n",
    "    print(f\"{word}: {frequency}\")\n"
   ]
  },
  {
   "cell_type": "markdown",
   "id": "251e06df",
   "metadata": {},
   "source": [
    "### Q20: Write a program to generate the Pascal's triangle up to a given number of rows using nested for loops.\n",
    "Hint : Use nested for loops to calculate and print the numbers in each row of Pascal's triangle.\n"
   ]
  },
  {
   "cell_type": "code",
   "execution_count": 73,
   "id": "a703c002",
   "metadata": {},
   "outputs": [
    {
     "name": "stdout",
     "output_type": "stream",
     "text": [
      "Enter the number of rows for Pascal's triangle: 6\n",
      "1\n",
      "1\n",
      "1\n",
      "1\n",
      "1\n",
      "1\n"
     ]
    }
   ],
   "source": [
    "# Read the number of rows\n",
    "num_rows = int(input(\"Enter the number of rows for Pascal's triangle: \"))\n",
    "\n",
    "# Generate Pascal's triangle\n",
    "triangle = []\n",
    "for i in range(num_rows):\n",
    "    row = [1]  # First element of each row is always 1\n",
    "    if i > 0:\n",
    "        prev_row = triangle[i - 1]\n",
    "        for j in range(len(prev_row) - 1):\n",
    "            # Calculate the next element by summing the current and previous element from the previous row\n",
    "            next_elem = prev_row[j] + prev_row[j + 1]\n",
    "            row.append(next_elem)\n",
    "    triangle.append(row)\n",
    "\n",
    "# Print Pascal's triangle\n",
    "for row in triangle:\n",
    "    print(' '.join(str(elem) for elem in row))\n"
   ]
  },
  {
   "cell_type": "code",
   "execution_count": 81,
   "id": "c58499c1",
   "metadata": {},
   "outputs": [
    {
     "name": "stdout",
     "output_type": "stream",
     "text": [
      "Enter the number of rows for Pascal's triangle: 10\n",
      "             1             \n",
      "            1 1            \n",
      "           1 2 1           \n",
      "          1 3 3 1          \n",
      "         1 4 6 4 1         \n",
      "       1 5 10 10 5 1       \n",
      "      1 6 15 20 15 6 1     \n",
      "    1 7 21 35 35 21 7 1    \n",
      "   1 8 28 56 70 56 28 8 1  \n",
      "1 9 36 84 126 126 84 36 9 1\n"
     ]
    }
   ],
   "source": [
    "# Read the number of rows\n",
    "num_rows = int(input(\"Enter the number of rows for Pascal's triangle: \"))\n",
    "\n",
    "# Generate Pascal's triangle\n",
    "triangle = []\n",
    "for i in range(num_rows):\n",
    "    row = [1]  # First element of each row is always 1\n",
    "    if i > 0:\n",
    "        prev_row = triangle[i - 1]\n",
    "        for j in range(len(prev_row) - 1):\n",
    "            # Calculate the next element by summing the current and previous element from the previous row\n",
    "            next_elem = prev_row[j] + prev_row[j + 1]\n",
    "            row.append(next_elem)\n",
    "        row.append(1)  # Last element of each row is always 1\n",
    "    triangle.append(row)\n",
    "\n",
    "# Determine the maximum length of a row in Pascal's triangle\n",
    "max_length = len(' '.join(str(elem) for elem in triangle[-1]))\n",
    "\n",
    "# Print Pascal's triangle with center justification\n",
    "for row in triangle:\n",
    "    row_str = ' '.join(str(elem) for elem in row)\n",
    "    centered_row = row_str.center(max_length)\n",
    "    print(centered_row)"
   ]
  },
  {
   "cell_type": "code",
   "execution_count": 88,
   "id": "36780730",
   "metadata": {},
   "outputs": [
    {
     "name": "stdout",
     "output_type": "stream",
     "text": [
      "Enter the number of rows for Pascal's triangle: 10\n",
      "             1             \n",
      "            1 1            \n",
      "           1 2 1           \n",
      "          1 3 3 1          \n",
      "         1 4 6 4 1         \n",
      "       1 5 10 10 5 1       \n",
      "      1 6 15 20 15 6 1     \n",
      "    1 7 21 35 35 21 7 1    \n",
      "   1 8 28 56 70 56 28 8 1  \n",
      "1 9 36 84 126 126 84 36 9 1\n"
     ]
    }
   ],
   "source": [
    "def binomial_coefficient(n, k):\n",
    "    if k == 0 or k == n:\n",
    "        return 1\n",
    "    elif k > n:\n",
    "        return 0\n",
    "    else:\n",
    "        numerator = 1\n",
    "        denominator = 1\n",
    "        for i in range(1, min(k, n - k) + 1):\n",
    "            numerator *= n - i + 1\n",
    "            denominator *= i\n",
    "        return numerator // denominator\n",
    "    \n",
    "# Read the number of rows\n",
    "num_rows = int(input(\"Enter the number of rows for Pascal's triangle: \"))\n",
    "\n",
    "# Generate Pascal's triangle using binomial coefficients\n",
    "triangle = [[binomial_coefficient(n,k) for k in range(n+1)] for n in range(num_rows)]\n",
    "\n",
    "# Determine the maximum length of a row in Pascal's triangle\n",
    "max_length = len(' '.join(str(elem) for elem in triangle[-1]))\n",
    "\n",
    "# Print Pascal's triangle with center justification\n",
    "for row in triangle:\n",
    "    row_str = ' '.join(str(elem) for elem in row)\n",
    "    centered_row = row_str.center(max_length)\n",
    "    print(centered_row)\n"
   ]
  },
  {
   "cell_type": "code",
   "execution_count": 82,
   "id": "d8fc07ac",
   "metadata": {},
   "outputs": [
    {
     "name": "stdout",
     "output_type": "stream",
     "text": [
      "Enter the number of rows for Pascal's triangle: 9\n",
      "          1           \n",
      "         1 1          \n",
      "        1 2 1         \n",
      "       1 3 3 1        \n",
      "      1 4 6 4 1       \n",
      "    1 5 10 10 5 1     \n",
      "   1 6 15 20 15 6 1   \n",
      " 1 7 21 35 35 21 7 1  \n",
      "1 8 28 56 70 56 28 8 1\n"
     ]
    }
   ],
   "source": [
    "# Read the number of rows\n",
    "num_rows = int(input(\"Enter the number of rows for Pascal's triangle: \"))\n",
    "\n",
    "# Generate Pascal's triangle using binomial coefficients\n",
    "triangle = []\n",
    "for n in range(num_rows):\n",
    "    row = []\n",
    "    for k in range(n + 1):\n",
    "        coefficient = 1\n",
    "        if k > 0 and k < n:\n",
    "            coefficient = row[k - 1] * (n - k + 1) // k\n",
    "        row.append(coefficient)\n",
    "    triangle.append(row)\n",
    "\n",
    "# Determine the maximum length of a row in Pascal's triangle\n",
    "max_length = len(' '.join(str(elem) for elem in triangle[-1]))\n",
    "\n",
    "# Print Pascal's triangle with center justification\n",
    "for row in triangle:\n",
    "    row_str = ' '.join(str(elem) for elem in row)\n",
    "    centered_row = row_str.center(max_length)\n",
    "    print(centered_row)\n"
   ]
  },
  {
   "cell_type": "code",
   "execution_count": null,
   "id": "1df57e8d",
   "metadata": {},
   "outputs": [],
   "source": []
  }
 ],
 "metadata": {
  "kernelspec": {
   "display_name": "Python 3 (ipykernel)",
   "language": "python",
   "name": "python3"
  },
  "language_info": {
   "codemirror_mode": {
    "name": "ipython",
    "version": 3
   },
   "file_extension": ".py",
   "mimetype": "text/x-python",
   "name": "python",
   "nbconvert_exporter": "python",
   "pygments_lexer": "ipython3",
   "version": "3.9.13"
  }
 },
 "nbformat": 4,
 "nbformat_minor": 5
}
