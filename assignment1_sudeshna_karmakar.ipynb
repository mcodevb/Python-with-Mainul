{
  "cells": [
    {
      "cell_type": "markdown",
      "metadata": {
        "id": "view-in-github",
        "colab_type": "text"
      },
      "source": [
        "<a href=\"https://colab.research.google.com/github/mcodevb/Python-with-Mainul/blob/master/assignment1_sudeshna_karmakar.ipynb\" target=\"_parent\"><img src=\"https://colab.research.google.com/assets/colab-badge.svg\" alt=\"Open In Colab\"/></a>"
      ]
    },
    {
      "cell_type": "markdown",
      "id": "7e74ff2f",
      "metadata": {
        "id": "7e74ff2f"
      },
      "source": [
        "1.Write a Python program to check if a number is positive, negative, or zero."
      ]
    },
    {
      "cell_type": "code",
      "execution_count": null,
      "id": "a603e49a",
      "metadata": {
        "id": "a603e49a",
        "outputId": "56a915ac-3abb-4b3a-b5d3-e2cb555397eb"
      },
      "outputs": [
        {
          "name": "stdout",
          "output_type": "stream",
          "text": [
            "10 is positive\n"
          ]
        }
      ],
      "source": [
        "n=10\n",
        "if (n>0):\n",
        "    print(n,'is positive')\n",
        "elif(n<0): \n",
        "     print(n,'is negative')\n",
        "else:\n",
        "     print(n,'is zero')"
      ]
    },
    {
      "cell_type": "markdown",
      "id": "05950fff",
      "metadata": {
        "id": "05950fff"
      },
      "source": [
        "2.Write a Python program to check if a number is even or odd"
      ]
    },
    {
      "cell_type": "code",
      "execution_count": null,
      "id": "79642012",
      "metadata": {
        "id": "79642012",
        "outputId": "64792bba-ad46-4fbd-cc2b-8854c30080d6"
      },
      "outputs": [
        {
          "name": "stdout",
          "output_type": "stream",
          "text": [
            "3  is odd\n"
          ]
        }
      ],
      "source": [
        "n=3\n",
        "if(n%2==0):\n",
        "    print(n,'is even')\n",
        "else:\n",
        "     print(n,'is odd')"
      ]
    },
    {
      "cell_type": "markdown",
      "id": "23a315c0",
      "metadata": {
        "id": "23a315c0"
      },
      "source": [
        "3.Write a Python program to check if a year is a leap year."
      ]
    },
    {
      "cell_type": "code",
      "execution_count": null,
      "id": "50b7625a",
      "metadata": {
        "id": "50b7625a",
        "outputId": "f60271f6-fc9c-4220-b1d8-ee52212224c7"
      },
      "outputs": [
        {
          "name": "stdout",
          "output_type": "stream",
          "text": [
            "1900  is not leap year\n"
          ]
        }
      ],
      "source": [
        "n=1900\n",
        "if (n%100==0 and (n/100)%4!=0):\n",
        "    print(n,'is not leap year')\n",
        "elif(n%4==0):\n",
        "    print(n,'is leap year')\n",
        "else:\n",
        "    print(n,'is not leap year')"
      ]
    },
    {
      "cell_type": "markdown",
      "id": "d0ceb4c6",
      "metadata": {
        "id": "d0ceb4c6"
      },
      "source": [
        "4. Write a Python program to check if a character is a vowel or a consonant."
      ]
    },
    {
      "cell_type": "code",
      "execution_count": null,
      "id": "9f7c875e",
      "metadata": {
        "id": "9f7c875e",
        "outputId": "ea65acca-7a3c-4d2b-e053-91870ba305f4"
      },
      "outputs": [
        {
          "name": "stdout",
          "output_type": "stream",
          "text": [
            "b is consonant\n"
          ]
        }
      ],
      "source": [
        "n='b'\n",
        "if(n in 'aeiou'):\n",
        "    print(n,'is vowel')\n",
        "else:\n",
        "    print(n,'is consonant')"
      ]
    },
    {
      "cell_type": "markdown",
      "id": "9f89ca80",
      "metadata": {
        "id": "9f89ca80"
      },
      "source": [
        "5. Write a Python program to check if a number is prime.\n",
        "\n"
      ]
    },
    {
      "cell_type": "code",
      "execution_count": null,
      "id": "82c3dd5c",
      "metadata": {
        "id": "82c3dd5c",
        "outputId": "5897f344-cb3c-4b00-cfac-4f71f150bc05"
      },
      "outputs": [
        {
          "name": "stdout",
          "output_type": "stream",
          "text": [
            "5 is prime\n"
          ]
        }
      ],
      "source": [
        "n=5\n",
        "x=0\n",
        "if(n<=1):\n",
        "    x=1\n",
        "else:\n",
        "    for c in range(2,n-1):\n",
        "        if(n%c==0):\n",
        "            x=1\n",
        "if(x==1):        \n",
        "        print(n,'is not prime')\n",
        "else:\n",
        "        print(n,'is prime')"
      ]
    },
    {
      "cell_type": "markdown",
      "id": "a1d0ca3d",
      "metadata": {
        "id": "a1d0ca3d"
      },
      "source": [
        "6. Write a Python program to check if a string is a palindrome."
      ]
    },
    {
      "cell_type": "code",
      "execution_count": null,
      "id": "c0fd1680",
      "metadata": {
        "id": "c0fd1680",
        "outputId": "85a17b72-54f8-495a-c920-69d66b26a8a1"
      },
      "outputs": [
        {
          "name": "stdout",
          "output_type": "stream",
          "text": [
            "refer is pallindrome\n"
          ]
        }
      ],
      "source": [
        "n='refer'\n",
        "b=n[::-1]\n",
        "if(n==b):\n",
        "    print(n,\"is pallindrome\")\n",
        "else:\n",
        "    print(n,'is not pallindrome')"
      ]
    },
    {
      "cell_type": "markdown",
      "id": "cfa3f143",
      "metadata": {
        "id": "cfa3f143"
      },
      "source": [
        "7. Write a Python program to check if a triangle is equilateral, isosceles, or scalene."
      ]
    },
    {
      "cell_type": "code",
      "execution_count": null,
      "id": "2c935cd2",
      "metadata": {
        "id": "2c935cd2",
        "outputId": "f6765407-8551-4770-e570-408783048e63"
      },
      "outputs": [
        {
          "name": "stdout",
          "output_type": "stream",
          "text": [
            "The triangle is isosceles\n"
          ]
        }
      ],
      "source": [
        "x=5\n",
        "y=10\n",
        "z=5\n",
        "if(x==y and y==z):\n",
        "    print('The triangle is equilateral')\n",
        "elif(x!=y and y!=z and x!=z):\n",
        "    print('The triangle is scalene')\n",
        "else:\n",
        "    print('The triangle is isosceles')"
      ]
    },
    {
      "cell_type": "markdown",
      "id": "be0b98e2",
      "metadata": {
        "id": "be0b98e2"
      },
      "source": [
        "8. Write a Python program to check if a number is a perfect square."
      ]
    },
    {
      "cell_type": "code",
      "execution_count": null,
      "id": "630ee0ff",
      "metadata": {
        "id": "630ee0ff",
        "outputId": "3498efdb-7cb9-4d31-de30-8aa0cc7c2d00"
      },
      "outputs": [
        {
          "name": "stdout",
          "output_type": "stream",
          "text": [
            "100 is perfect square\n"
          ]
        }
      ],
      "source": [
        "n=100\n",
        "x=n**0.5\n",
        "if(x-int(x)==0):\n",
        "    print(n,'is perfect square')\n",
        "else:\n",
        "    print(n,'is not perfect square')"
      ]
    },
    {
      "cell_type": "markdown",
      "id": "a231a579",
      "metadata": {
        "id": "a231a579"
      },
      "source": [
        "9. Write a Python program to check if a string is a valid email address."
      ]
    },
    {
      "cell_type": "code",
      "execution_count": null,
      "id": "11307826",
      "metadata": {
        "id": "11307826",
        "outputId": "e0ac5464-9a56-4375-b92c-f4d6d4e1fe74"
      },
      "outputs": [
        {
          "name": "stdout",
          "output_type": "stream",
          "text": [
            "sudeshna is a not valid email address\n"
          ]
        }
      ],
      "source": [
        "n='sudeshna'\n",
        "if('@' in n and n[-1]!='@'):\n",
        "    print(n,'is a valid email address')\n",
        "else:\n",
        "    print(n,'is a not valid email address')"
      ]
    },
    {
      "cell_type": "markdown",
      "id": "08881f4c",
      "metadata": {
        "id": "08881f4c"
      },
      "source": [
        "10. Write a Python program to check if a number is a power of two."
      ]
    },
    {
      "cell_type": "code",
      "execution_count": null,
      "id": "acfc5406",
      "metadata": {
        "id": "acfc5406",
        "outputId": "c9d99688-5556-434f-deb5-9e8771b5406c"
      },
      "outputs": [
        {
          "name": "stdout",
          "output_type": "stream",
          "text": [
            "64 is a power of 2\n"
          ]
        }
      ],
      "source": [
        "n=64\n",
        "a=0\n",
        "if(n==2):\n",
        "    a=1\n",
        "x=n   \n",
        "for c in range(1,n):\n",
        "    if(n!=2 and n%2==0):\n",
        "        x=x/2\n",
        "        if(x==2):\n",
        "            a=1\n",
        "if(a==1):\n",
        "    print(n,'is a power of 2')\n",
        "elif(a==0):\n",
        "    print(n,'is not a power of 2')\n",
        "        "
      ]
    },
    {
      "cell_type": "markdown",
      "id": "6e23a588",
      "metadata": {
        "id": "6e23a588"
      },
      "source": [
        "11. Write a Python program to check if a given year is a century year."
      ]
    },
    {
      "cell_type": "code",
      "execution_count": null,
      "id": "49c0f268",
      "metadata": {
        "id": "49c0f268",
        "outputId": "cedbfa16-7ac1-42b5-c254-4deb4af4cf49"
      },
      "outputs": [
        {
          "name": "stdout",
          "output_type": "stream",
          "text": [
            "1900 is a century year\n"
          ]
        }
      ],
      "source": [
        "n=1900\n",
        "if((n%100)==0):\n",
        "    print(n,'is a century year')\n",
        "else:\n",
        "    print(n,'is not a century year')"
      ]
    },
    {
      "cell_type": "markdown",
      "id": "cb95fe4d",
      "metadata": {
        "id": "cb95fe4d"
      },
      "source": [
        "12. Write a Python program to check if a given string is a valid password (with specific\n",
        "conditions, e.g., length, uppercase, lowercase, digits)."
      ]
    },
    {
      "cell_type": "code",
      "execution_count": null,
      "id": "1f48ebd8",
      "metadata": {
        "id": "1f48ebd8",
        "outputId": "ae323982-4e99-4b07-b8ac-bf3f0fdc268e"
      },
      "outputs": [
        {
          "name": "stdout",
          "output_type": "stream",
          "text": [
            "Sudeshna123 contains no special characters\n",
            "Sudeshna123 is not a valid password\n"
          ]
        }
      ],
      "source": [
        "x='Sudeshna123'\n",
        "b=0 \n",
        "if(len(x)>7):\n",
        "    b=b+1\n",
        "else:\n",
        "    print('length of password must be greater equal to 8')\n",
        "for c in x:\n",
        "    if(c in 'ABCDEFGHIJKLMNOPQRSTUVWXYZ'):\n",
        "        b+=1\n",
        "        break\n",
        "else:\n",
        "    print(x,'contains no uppercase')\n",
        "for c in x:    \n",
        "    if(c in 'abcdefghijklmnopqrstuvwxyz'):\n",
        "        b+=1\n",
        "        break\n",
        "else:\n",
        "    print(x,'contains no lowercase') \n",
        "for c in x:\n",
        "    if(c in '!@#$%^&*'):\n",
        "        b+=1\n",
        "        break\n",
        "else:\n",
        "     print(x,'contains no special characters')\n",
        "for c in x:\n",
        "    if(c in '0123456789'):\n",
        "        b+=1\n",
        "        break\n",
        "else:\n",
        "        print(x,'contains no number')\n",
        "if(b==5):\n",
        "     print(x,'is a valid password')\n",
        "else:\n",
        "    print(x,\"is not a valid password\")\n",
        "        \n",
        "    \n"
      ]
    },
    {
      "cell_type": "markdown",
      "id": "cf53411f",
      "metadata": {
        "id": "cf53411f"
      },
      "source": [
        "13. Write a Python program to check if a number is a Fibonacci number."
      ]
    },
    {
      "cell_type": "code",
      "execution_count": null,
      "id": "ccf9a004",
      "metadata": {
        "id": "ccf9a004",
        "outputId": "2263e0c0-637c-4e0a-dee5-5120bdfc152e"
      },
      "outputs": [
        {
          "name": "stdout",
          "output_type": "stream",
          "text": [
            "5 is a fibonacci number\n"
          ]
        }
      ],
      "source": [
        "n=5\n",
        "a=[0,1]\n",
        "for c in range(1,n+10):\n",
        "    x=a[-1]+a[-2]\n",
        "    a.append(x)\n",
        "if(n in a):\n",
        "    print(n,'is a fibonacci number')\n",
        "else:\n",
        "    print(n,'is not a fibonacci number')"
      ]
    },
    {
      "cell_type": "markdown",
      "id": "512f2f6a",
      "metadata": {
        "id": "512f2f6a"
      },
      "source": [
        "14. Write a Python program to check if a string is a valid URL."
      ]
    },
    {
      "cell_type": "code",
      "execution_count": null,
      "id": "82aa4559",
      "metadata": {
        "id": "82aa4559",
        "outputId": "2ac2c998-8f61-4641-f210-585d28522b6a"
      },
      "outputs": [
        {
          "name": "stdout",
          "output_type": "stream",
          "text": [
            "http://jhipjiuno.com is a valid URL\n"
          ]
        }
      ],
      "source": [
        "n='http://jhipjiuno.com'\n",
        "if(n[0:5]=='https'):\n",
        "    print(n,'is a valid URL')\n",
        "elif(n[0:4]=='http' and n[0:5]=='http:'):\n",
        "    print(n,'is a valid URL')\n",
        "else:\n",
        "    print(n,'is not a valid URL')"
      ]
    },
    {
      "cell_type": "markdown",
      "id": "d3bfb4c5",
      "metadata": {
        "id": "d3bfb4c5"
      },
      "source": [
        "15. Write a Python program to check if a given number is within a specific range."
      ]
    },
    {
      "cell_type": "code",
      "execution_count": null,
      "id": "ee5dd053",
      "metadata": {
        "id": "ee5dd053",
        "outputId": "19b3386e-1780-41ce-bbe3-caef6f38af95"
      },
      "outputs": [
        {
          "name": "stdout",
          "output_type": "stream",
          "text": [
            "55 is in the specific range\n"
          ]
        }
      ],
      "source": [
        "n=55\n",
        "if(n in range(1,100)):\n",
        "    print(n,'is in the specific range')\n",
        "else:\n",
        "    print(n,'is not in the specific range')"
      ]
    },
    {
      "cell_type": "markdown",
      "id": "55bdeff4",
      "metadata": {
        "id": "55bdeff4"
      },
      "source": [
        "16. Write a Python program to check if a list contains duplicate elements."
      ]
    },
    {
      "cell_type": "code",
      "execution_count": null,
      "id": "c8a7023c",
      "metadata": {
        "id": "c8a7023c",
        "outputId": "9ef523fd-229b-4bb1-c5a6-9189f88559d4"
      },
      "outputs": [
        {
          "name": "stdout",
          "output_type": "stream",
          "text": [
            "[1, 2, 3, 4, 5, 1] contains duplicate elements\n"
          ]
        }
      ],
      "source": [
        "n=[1,2,3,4,5,1]\n",
        "a=0\n",
        "for c in n:\n",
        "    x=n.count(c)\n",
        "    if(x>1):\n",
        "        a=1\n",
        "        break\n",
        "if(a==1):\n",
        "     print(n,'contains duplicate elements')\n",
        "else:\n",
        "      print(n,'contains no duplicate elements')\n"
      ]
    },
    {
      "cell_type": "markdown",
      "id": "9cd994f3",
      "metadata": {
        "id": "9cd994f3"
      },
      "source": [
        "17. Write a Python program to check if a given number is a perfect number."
      ]
    },
    {
      "cell_type": "code",
      "execution_count": null,
      "id": "2c15216c",
      "metadata": {
        "id": "2c15216c",
        "outputId": "3d158d38-258b-4d5f-fb27-47e40e145225"
      },
      "outputs": [
        {
          "name": "stdout",
          "output_type": "stream",
          "text": [
            "28 is a perfect number\n"
          ]
        }
      ],
      "source": [
        "n=28\n",
        "x=0\n",
        "for c in range(1,n):\n",
        "    if(n%c==0):\n",
        "        x=x+c\n",
        "if(x==n):\n",
        "    print(n,'is a perfect number')\n",
        "else:\n",
        "    print(n,'is not a perfect number')\n"
      ]
    },
    {
      "cell_type": "markdown",
      "id": "e3f755bb",
      "metadata": {
        "id": "e3f755bb"
      },
      "source": [
        "18. Write a Python program to check the number of unique vowels in a list of words. Also,\n",
        "print them in alphabetical order."
      ]
    },
    {
      "cell_type": "code",
      "execution_count": null,
      "id": "c55956ba",
      "metadata": {
        "id": "c55956ba",
        "outputId": "c9ca8946-5ef1-4432-bcf8-c8738e99f674"
      },
      "outputs": [
        {
          "name": "stdout",
          "output_type": "stream",
          "text": [
            "nvhgl contains no unique vowel\n",
            "girgra contains 2 unique vowels, ['a', 'i']\n",
            "rjghiryo contains 2 unique vowels, ['i', 'o']\n",
            "tothioti contains no unique vowel\n"
          ]
        }
      ],
      "source": [
        "n=['nvhgl','girgra','rjghiryo','tothioti']\n",
        "for c in range(0,len(n)):\n",
        "    a=[]\n",
        "    b=0\n",
        "    for x in n[c]:\n",
        "        if(x in 'aeiou'):\n",
        "            y=n[c].count(x)\n",
        "            if(y==1):\n",
        "                b=1\n",
        "                a.append(x)\n",
        "                a.sort()\n",
        "    if(b==1):\n",
        "        print(n[c],'contains',len(a),\"unique vowels,\",a)\n",
        "    \n",
        "    else:\n",
        "        print(n[c],'contains no unique vowel') "
      ]
    },
    {
      "cell_type": "code",
      "execution_count": null,
      "id": "c8ac1cb3",
      "metadata": {
        "id": "c8ac1cb3"
      },
      "outputs": [],
      "source": []
    },
    {
      "cell_type": "code",
      "execution_count": null,
      "id": "ad46e8ec",
      "metadata": {
        "id": "ad46e8ec"
      },
      "outputs": [],
      "source": []
    }
  ],
  "metadata": {
    "kernelspec": {
      "display_name": "Python 3 (ipykernel)",
      "language": "python",
      "name": "python3"
    },
    "language_info": {
      "codemirror_mode": {
        "name": "ipython",
        "version": 3
      },
      "file_extension": ".py",
      "mimetype": "text/x-python",
      "name": "python",
      "nbconvert_exporter": "python",
      "pygments_lexer": "ipython3",
      "version": "3.10.9"
    },
    "colab": {
      "provenance": [],
      "include_colab_link": true
    }
  },
  "nbformat": 4,
  "nbformat_minor": 5
}