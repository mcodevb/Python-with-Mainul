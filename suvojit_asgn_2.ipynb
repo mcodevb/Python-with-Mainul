{
  "cells": [
    {
      "cell_type": "markdown",
      "metadata": {
        "id": "view-in-github",
        "colab_type": "text"
      },
      "source": [
        "<a href=\"https://colab.research.google.com/github/mcodevb/Python-with-Mainul/blob/master/suvojit_asgn_2.ipynb\" target=\"_parent\"><img src=\"https://colab.research.google.com/assets/colab-badge.svg\" alt=\"Open In Colab\"/></a>"
      ]
    },
    {
      "cell_type": "markdown",
      "id": "7426948e",
      "metadata": {
        "id": "7426948e"
      },
      "source": [
        "Q1. Write a program to print the numbers from 1 to 10 using a ‘while’ loop"
      ]
    },
    {
      "cell_type": "code",
      "execution_count": null,
      "id": "412da70c",
      "metadata": {
        "id": "412da70c",
        "outputId": "d34affa2-3f4b-4f03-dc11-554b23c4d6b9"
      },
      "outputs": [
        {
          "name": "stdout",
          "output_type": "stream",
          "text": [
            "1\n",
            "2\n",
            "3\n",
            "4\n",
            "5\n",
            "6\n",
            "7\n",
            "8\n",
            "9\n",
            "10\n"
          ]
        }
      ],
      "source": [
        "i=1\n",
        "\n",
        "while(i<=10):\n",
        "    \n",
        "    print(i)\n",
        "    \n",
        "    i += 1"
      ]
    },
    {
      "cell_type": "markdown",
      "id": "61ad89c0",
      "metadata": {
        "id": "61ad89c0"
      },
      "source": [
        "Q2. Write a program to calculate the sum of all even numbers from 1 to 50 using a while loop."
      ]
    },
    {
      "cell_type": "code",
      "execution_count": null,
      "id": "9778c1b4",
      "metadata": {
        "scrolled": true,
        "id": "9778c1b4",
        "outputId": "ddfc7b94-cf67-4abf-eea8-e4878ec8b164"
      },
      "outputs": [
        {
          "name": "stdout",
          "output_type": "stream",
          "text": [
            "Enter the maximum value:50\n",
            "2\n",
            "4\n",
            "6\n",
            "8\n",
            "10\n",
            "12\n",
            "14\n",
            "16\n",
            "18\n",
            "20\n",
            "22\n",
            "24\n",
            "26\n",
            "28\n",
            "30\n",
            "32\n",
            "34\n",
            "36\n",
            "38\n",
            "40\n",
            "42\n",
            "44\n",
            "46\n",
            "48\n",
            "50\n",
            "The Sum of Even Numbers from 1 to 50 = 650\n"
          ]
        }
      ],
      "source": [
        "maximum=(int(input(\"Enter the maximum value:\")))\n",
        "flag=0\n",
        "for number in range(1,maximum+1):\n",
        "    if (number % 2 == 0):\n",
        "        print(\"{0}\".format(number))\n",
        "        flag=flag+number\n",
        "print(\"The Sum of Even Numbers from 1 to {0} = {1}\".format(number, flag))"
      ]
    },
    {
      "cell_type": "markdown",
      "id": "d27f83bf",
      "metadata": {
        "id": "d27f83bf"
      },
      "source": [
        "Q3. Write a program to print the multiplication table of a given number using a while loop."
      ]
    },
    {
      "cell_type": "code",
      "execution_count": null,
      "id": "462486ea",
      "metadata": {
        "scrolled": true,
        "id": "462486ea",
        "outputId": "395b6782-f037-4cca-efad-cc1bbb86a06d"
      },
      "outputs": [
        {
          "name": "stdout",
          "output_type": "stream",
          "text": [
            "Enter the number of which the user wants to print the multiplication table: 5\n",
            "The Multiplication Table of:  5\n",
            "5 x 1 = 5\n",
            "5 x 2 = 10\n",
            "5 x 3 = 15\n",
            "5 x 4 = 20\n",
            "5 x 5 = 25\n",
            "5 x 6 = 30\n",
            "5 x 7 = 35\n",
            "5 x 8 = 40\n",
            "5 x 9 = 45\n",
            "5 x 10 = 50\n"
          ]
        }
      ],
      "source": [
        "number = int(input (\"Enter the number of which the user wants to print the multiplication table: \"))             \n",
        "print (\"The Multiplication Table of: \", number)    \n",
        "for count in range(1, 11):      \n",
        "    print (number, 'x', count, '=', number * count)  "
      ]
    },
    {
      "cell_type": "markdown",
      "id": "b53114f6",
      "metadata": {
        "id": "b53114f6"
      },
      "source": [
        "Q4. Write a program to find the factorial of a number using a while loop."
      ]
    },
    {
      "cell_type": "code",
      "execution_count": null,
      "id": "06686730",
      "metadata": {
        "scrolled": true,
        "id": "06686730",
        "outputId": "66a3bb0f-fc7a-4792-d92d-5e2a280fb390"
      },
      "outputs": [
        {
          "name": "stdout",
          "output_type": "stream",
          "text": [
            "120\n"
          ]
        }
      ],
      "source": [
        "def factorial(n):\n",
        "    num = 1\n",
        "    while n >= 1:\n",
        "        num = num * n\n",
        "        n = n - 1\n",
        "    return num\n",
        "print(factorial(5))"
      ]
    },
    {
      "cell_type": "markdown",
      "id": "74aa2666",
      "metadata": {
        "id": "74aa2666"
      },
      "source": [
        "Q5. Write a program to check if a given number is prime or not using a while loop."
      ]
    },
    {
      "cell_type": "code",
      "execution_count": null,
      "id": "216616eb",
      "metadata": {
        "id": "216616eb",
        "outputId": "79c17da2-8844-4e77-ddad-b9a1ef81a9cb"
      },
      "outputs": [
        {
          "ename": "KeyboardInterrupt",
          "evalue": "Interrupted by user",
          "output_type": "error",
          "traceback": [
            "\u001b[1;31m---------------------------------------------------------------------------\u001b[0m",
            "\u001b[1;31mKeyboardInterrupt\u001b[0m                         Traceback (most recent call last)",
            "Cell \u001b[1;32mIn[10], line 2\u001b[0m\n\u001b[0;32m      1\u001b[0m i\u001b[38;5;241m=\u001b[39m\u001b[38;5;241m2\u001b[39m\n\u001b[1;32m----> 2\u001b[0m num \u001b[38;5;241m=\u001b[39m \u001b[38;5;28mint\u001b[39m(\u001b[38;5;28;43minput\u001b[39;49m\u001b[43m(\u001b[49m\u001b[38;5;124;43m\"\u001b[39;49m\u001b[38;5;124;43menter the number:\u001b[39;49m\u001b[38;5;124;43m\"\u001b[39;49m\u001b[43m)\u001b[49m)\n\u001b[0;32m      3\u001b[0m flag\u001b[38;5;241m=\u001b[39mtrue\n\u001b[0;32m      4\u001b[0m \u001b[38;5;28;01mwhile\u001b[39;00m num\u001b[38;5;241m>\u001b[39mi:\n",
            "File \u001b[1;32mC:\\ProgramData\\anaconda 4\\lib\\site-packages\\ipykernel\\kernelbase.py:1175\u001b[0m, in \u001b[0;36mKernel.raw_input\u001b[1;34m(self, prompt)\u001b[0m\n\u001b[0;32m   1171\u001b[0m \u001b[38;5;28;01mif\u001b[39;00m \u001b[38;5;129;01mnot\u001b[39;00m \u001b[38;5;28mself\u001b[39m\u001b[38;5;241m.\u001b[39m_allow_stdin:\n\u001b[0;32m   1172\u001b[0m     \u001b[38;5;28;01mraise\u001b[39;00m StdinNotImplementedError(\n\u001b[0;32m   1173\u001b[0m         \u001b[38;5;124m\"\u001b[39m\u001b[38;5;124mraw_input was called, but this frontend does not support input requests.\u001b[39m\u001b[38;5;124m\"\u001b[39m\n\u001b[0;32m   1174\u001b[0m     )\n\u001b[1;32m-> 1175\u001b[0m \u001b[38;5;28;01mreturn\u001b[39;00m \u001b[38;5;28;43mself\u001b[39;49m\u001b[38;5;241;43m.\u001b[39;49m\u001b[43m_input_request\u001b[49m\u001b[43m(\u001b[49m\n\u001b[0;32m   1176\u001b[0m \u001b[43m    \u001b[49m\u001b[38;5;28;43mstr\u001b[39;49m\u001b[43m(\u001b[49m\u001b[43mprompt\u001b[49m\u001b[43m)\u001b[49m\u001b[43m,\u001b[49m\n\u001b[0;32m   1177\u001b[0m \u001b[43m    \u001b[49m\u001b[38;5;28;43mself\u001b[39;49m\u001b[38;5;241;43m.\u001b[39;49m\u001b[43m_parent_ident\u001b[49m\u001b[43m[\u001b[49m\u001b[38;5;124;43m\"\u001b[39;49m\u001b[38;5;124;43mshell\u001b[39;49m\u001b[38;5;124;43m\"\u001b[39;49m\u001b[43m]\u001b[49m\u001b[43m,\u001b[49m\n\u001b[0;32m   1178\u001b[0m \u001b[43m    \u001b[49m\u001b[38;5;28;43mself\u001b[39;49m\u001b[38;5;241;43m.\u001b[39;49m\u001b[43mget_parent\u001b[49m\u001b[43m(\u001b[49m\u001b[38;5;124;43m\"\u001b[39;49m\u001b[38;5;124;43mshell\u001b[39;49m\u001b[38;5;124;43m\"\u001b[39;49m\u001b[43m)\u001b[49m\u001b[43m,\u001b[49m\n\u001b[0;32m   1179\u001b[0m \u001b[43m    \u001b[49m\u001b[43mpassword\u001b[49m\u001b[38;5;241;43m=\u001b[39;49m\u001b[38;5;28;43;01mFalse\u001b[39;49;00m\u001b[43m,\u001b[49m\n\u001b[0;32m   1180\u001b[0m \u001b[43m\u001b[49m\u001b[43m)\u001b[49m\n",
            "File \u001b[1;32mC:\\ProgramData\\anaconda 4\\lib\\site-packages\\ipykernel\\kernelbase.py:1217\u001b[0m, in \u001b[0;36mKernel._input_request\u001b[1;34m(self, prompt, ident, parent, password)\u001b[0m\n\u001b[0;32m   1214\u001b[0m             \u001b[38;5;28;01mbreak\u001b[39;00m\n\u001b[0;32m   1215\u001b[0m \u001b[38;5;28;01mexcept\u001b[39;00m \u001b[38;5;167;01mKeyboardInterrupt\u001b[39;00m:\n\u001b[0;32m   1216\u001b[0m     \u001b[38;5;66;03m# re-raise KeyboardInterrupt, to truncate traceback\u001b[39;00m\n\u001b[1;32m-> 1217\u001b[0m     \u001b[38;5;28;01mraise\u001b[39;00m \u001b[38;5;167;01mKeyboardInterrupt\u001b[39;00m(\u001b[38;5;124m\"\u001b[39m\u001b[38;5;124mInterrupted by user\u001b[39m\u001b[38;5;124m\"\u001b[39m) \u001b[38;5;28;01mfrom\u001b[39;00m \u001b[38;5;28mNone\u001b[39m\n\u001b[0;32m   1218\u001b[0m \u001b[38;5;28;01mexcept\u001b[39;00m \u001b[38;5;167;01mException\u001b[39;00m:\n\u001b[0;32m   1219\u001b[0m     \u001b[38;5;28mself\u001b[39m\u001b[38;5;241m.\u001b[39mlog\u001b[38;5;241m.\u001b[39mwarning(\u001b[38;5;124m\"\u001b[39m\u001b[38;5;124mInvalid Message:\u001b[39m\u001b[38;5;124m\"\u001b[39m, exc_info\u001b[38;5;241m=\u001b[39m\u001b[38;5;28;01mTrue\u001b[39;00m)\n",
            "\u001b[1;31mKeyboardInterrupt\u001b[0m: Interrupted by user"
          ]
        }
      ],
      "source": [
        "i=2\n",
        "num = int(input(\"enter the number:\"))\n",
        "flag=true\n",
        "while num>i:\n",
        "    if (num % i == 0):\n",
        "        flag=false\n",
        "        break\n",
        "    i += 1\n",
        "if flag:\n",
        "    print('num is prime')\n",
        "else:\n",
        "    print('num is not prime')"
      ]
    },
    {
      "cell_type": "markdown",
      "id": "2f023091",
      "metadata": {
        "id": "2f023091"
      },
      "source": [
        "Q6. Write a program to print the Fibonacci series up to a given number using a while loop."
      ]
    },
    {
      "cell_type": "code",
      "execution_count": null,
      "id": "1f98e10a",
      "metadata": {
        "id": "1f98e10a",
        "outputId": "6ea61ec8-ee02-465a-a9ea-8a9a412c80cf"
      },
      "outputs": [
        {
          "name": "stdout",
          "output_type": "stream",
          "text": [
            "0\n",
            "1\n",
            "1\n",
            "2\n",
            "3\n",
            "5\n",
            "8\n",
            "13\n",
            "21\n",
            "34\n"
          ]
        }
      ],
      "source": [
        "def fib(n):\n",
        "    a = 0\n",
        "    b = 1\n",
        "    if n == 1:\n",
        "        print(a)\n",
        "    else:\n",
        "        print(a)\n",
        "        print(b)\n",
        "        for i in range(2,n):\n",
        "            c = a + b\n",
        "            a = b\n",
        "            b = c\n",
        "            print(c)\n",
        "fib(10)"
      ]
    },
    {
      "cell_type": "markdown",
      "id": "03b96c23",
      "metadata": {
        "id": "03b96c23"
      },
      "source": [
        "Q7. Write a program to reverse a given number using a while loop."
      ]
    },
    {
      "cell_type": "code",
      "execution_count": null,
      "id": "3dd035ac",
      "metadata": {
        "id": "3dd035ac",
        "outputId": "2c7d5844-c63f-4648-9d87-a09139bebb0a"
      },
      "outputs": [
        {
          "name": "stdout",
          "output_type": "stream",
          "text": [
            "Reversed Number: 987654321\n"
          ]
        }
      ],
      "source": [
        "num = 123456789\n",
        "reversed_num = 0\n",
        "\n",
        "while num != 0:\n",
        "    digit = num % 10\n",
        "    reversed_num = reversed_num * 10 + digit\n",
        "    num //= 10\n",
        "\n",
        "print(\"Reversed Number: \" + str(reversed_num))"
      ]
    },
    {
      "cell_type": "markdown",
      "id": "aaef458c",
      "metadata": {
        "id": "aaef458c"
      },
      "source": [
        "Q8. Write a program to find the sum of digits of a given number using a while loop."
      ]
    }
  ],
  "metadata": {
    "kernelspec": {
      "display_name": "Python 3 (ipykernel)",
      "language": "python",
      "name": "python3"
    },
    "language_info": {
      "codemirror_mode": {
        "name": "ipython",
        "version": 3
      },
      "file_extension": ".py",
      "mimetype": "text/x-python",
      "name": "python",
      "nbconvert_exporter": "python",
      "pygments_lexer": "ipython3",
      "version": "3.10.9"
    },
    "colab": {
      "provenance": [],
      "include_colab_link": true
    }
  },
  "nbformat": 4,
  "nbformat_minor": 5
}