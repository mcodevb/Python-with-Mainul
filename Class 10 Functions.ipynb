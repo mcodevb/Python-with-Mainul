{
 "cells": [
  {
   "cell_type": "code",
   "execution_count": 1,
   "id": "77f83361",
   "metadata": {},
   "outputs": [],
   "source": [
    "def even_checker(number):\n",
    "    result = number % 2 == 0\n",
    "    return result"
   ]
  },
  {
   "cell_type": "code",
   "execution_count": 2,
   "id": "18145f26",
   "metadata": {},
   "outputs": [
    {
     "data": {
      "text/plain": [
       "False"
      ]
     },
     "execution_count": 2,
     "metadata": {},
     "output_type": "execute_result"
    }
   ],
   "source": [
    "even_checker(43)"
   ]
  },
  {
   "cell_type": "code",
   "execution_count": 3,
   "id": "0afa281c",
   "metadata": {},
   "outputs": [
    {
     "data": {
      "text/plain": [
       "True"
      ]
     },
     "execution_count": 3,
     "metadata": {},
     "output_type": "execute_result"
    }
   ],
   "source": [
    "even_checker(44)"
   ]
  },
  {
   "cell_type": "code",
   "execution_count": 5,
   "id": "f147e09d",
   "metadata": {},
   "outputs": [],
   "source": [
    "# shorter\n",
    "def even_checker2(number):\n",
    "    return number % 2 == 0"
   ]
  },
  {
   "cell_type": "code",
   "execution_count": 6,
   "id": "a6c2b6b5",
   "metadata": {},
   "outputs": [
    {
     "data": {
      "text/plain": [
       "True"
      ]
     },
     "execution_count": 6,
     "metadata": {},
     "output_type": "execute_result"
    }
   ],
   "source": [
    "even_checker2(44)"
   ]
  },
  {
   "cell_type": "code",
   "execution_count": 7,
   "id": "045df359",
   "metadata": {},
   "outputs": [
    {
     "data": {
      "text/plain": [
       "False"
      ]
     },
     "execution_count": 7,
     "metadata": {},
     "output_type": "execute_result"
    }
   ],
   "source": [
    "even_checker2(33)"
   ]
  },
  {
   "cell_type": "code",
   "execution_count": 9,
   "id": "9f79d03d",
   "metadata": {},
   "outputs": [
    {
     "name": "stdout",
     "output_type": "stream",
     "text": [
      "[False, True, False, True, False, True]\n"
     ]
    }
   ],
   "source": [
    "a = [1, 2, 3, 4, 5, 6]\n",
    "a_even_chk = [even_checker(x) for x in a]\n",
    "print(a_even_chk)"
   ]
  },
  {
   "cell_type": "code",
   "execution_count": 13,
   "id": "6fb3356c",
   "metadata": {},
   "outputs": [
    {
     "data": {
      "text/plain": [
       "[False, True, False, True, False, True]"
      ]
     },
     "execution_count": 13,
     "metadata": {},
     "output_type": "execute_result"
    }
   ],
   "source": [
    "list(map(even_checker,a))"
   ]
  },
  {
   "cell_type": "code",
   "execution_count": 7,
   "id": "1afecb93",
   "metadata": {},
   "outputs": [
    {
     "name": "stdout",
     "output_type": "stream",
     "text": [
      "1\n",
      "test2\n",
      "2\n",
      "test3\n",
      "3\n"
     ]
    }
   ],
   "source": [
    "i = 1\n",
    "while i<6:\n",
    "    print(i)\n",
    "    i += 1\n",
    "    if i == 4:\n",
    "        break\n",
    "    print(f\"test{i}\")\n",
    "    \n",
    "    "
   ]
  },
  {
   "cell_type": "code",
   "execution_count": 23,
   "id": "857fc13c",
   "metadata": {},
   "outputs": [
    {
     "name": "stdout",
     "output_type": "stream",
     "text": [
      "(1, 2, 4)\n",
      "4.58257569495584\n",
      "(3, 4, 7)\n",
      "8.602325267042627\n",
      "(3, 0, 0)\n",
      "3.0\n",
      "(4, 9, 3)\n",
      "10.295630140987\n"
     ]
    }
   ],
   "source": [
    "from math import sqrt\n",
    "coord=[[1,2,4], [3,4,7], [3,0,0], [4,9,3]]\n",
    "distances = []\n",
    "for x, y, z in coord:\n",
    "    print(f\"({x}, {y}, {z})\")\n",
    "    distance = sqrt(x*x+y*y+z*z)\n",
    "    print(distance)\n",
    "    distances.append(distance)\n",
    "    "
   ]
  },
  {
   "cell_type": "code",
   "execution_count": 20,
   "id": "c4ca9ea3",
   "metadata": {
    "scrolled": true
   },
   "outputs": [
    {
     "name": "stdout",
     "output_type": "stream",
     "text": [
      "5\n",
      "7 9\n"
     ]
    }
   ],
   "source": [
    "del x\n",
    "del y\n",
    "x, y,z = 5, 7,9\n",
    "print(x)\n",
    "print(y,z)\n"
   ]
  },
  {
   "cell_type": "code",
   "execution_count": 26,
   "id": "650caeb5",
   "metadata": {},
   "outputs": [
    {
     "name": "stdout",
     "output_type": "stream",
     "text": [
      "Python is cool!\n",
      "Python is cool!\n",
      "Python is cool!\n",
      "Python is cool!\n",
      "Python is cool!\n"
     ]
    }
   ],
   "source": [
    "for _ in range(5):\n",
    "    print(\"Python is cool!\")"
   ]
  },
  {
   "cell_type": "code",
   "execution_count": 64,
   "id": "e50be639",
   "metadata": {},
   "outputs": [],
   "source": [
    "dic = {'list':[2,3],'number':5, 'class':'PhD'}"
   ]
  },
  {
   "cell_type": "code",
   "execution_count": 65,
   "id": "909bb9aa",
   "metadata": {},
   "outputs": [
    {
     "name": "stdout",
     "output_type": "stream",
     "text": [
      "{'list': [2, 3], 'number': 5, 'class': 'PhD'}\n"
     ]
    }
   ],
   "source": [
    "print(dic)"
   ]
  },
  {
   "cell_type": "code",
   "execution_count": 66,
   "id": "59e6781b",
   "metadata": {},
   "outputs": [
    {
     "name": "stdout",
     "output_type": "stream",
     "text": [
      "list:[2, 3]\n",
      "number:5\n",
      "class:PhD\n"
     ]
    }
   ],
   "source": [
    "for key,value in dic.items():\n",
    "    print(f\"{key}:{value}\")"
   ]
  },
  {
   "cell_type": "code",
   "execution_count": 67,
   "id": "82bdff8e",
   "metadata": {
    "scrolled": true
   },
   "outputs": [
    {
     "name": "stdout",
     "output_type": "stream",
     "text": [
      "list\n",
      "number\n",
      "class\n"
     ]
    }
   ],
   "source": [
    "for x in dic.keys():\n",
    "    print(f\"{x}\")"
   ]
  },
  {
   "cell_type": "code",
   "execution_count": 62,
   "id": "0c708577",
   "metadata": {},
   "outputs": [
    {
     "name": "stdout",
     "output_type": "stream",
     "text": [
      "[2, 3]\n",
      "5\n",
      "PhD\n"
     ]
    }
   ],
   "source": [
    "for x in dic.values():\n",
    "    print(f\"{x}\")"
   ]
  },
  {
   "cell_type": "code",
   "execution_count": 99,
   "id": "d16fe03d",
   "metadata": {},
   "outputs": [],
   "source": [
    "classroom = ('Raesh','Rina','Tim')"
   ]
  },
  {
   "cell_type": "code",
   "execution_count": 100,
   "id": "b18dd9ef",
   "metadata": {},
   "outputs": [
    {
     "name": "stdout",
     "output_type": "stream",
     "text": [
      "_________________________\n",
      "  Roll No.  |      Name\n",
      "-------------------------\n",
      "         1  |      Raesh\n",
      "         2  |      Rina\n",
      "         3  |      Tim\n",
      "_________________________\n"
     ]
    }
   ],
   "source": [
    "print('_'*25)\n",
    "print(\"  Roll No.  |      Name\".center(20))\n",
    "print('-'*25)\n",
    "for roll, name in enumerate(classroom):\n",
    "    print(f\"         {roll+1}  |      {name}\")\n",
    "print('_'*25)"
   ]
  },
  {
   "cell_type": "code",
   "execution_count": 121,
   "id": "fa020e66",
   "metadata": {},
   "outputs": [],
   "source": [
    "class1 = range(7)\n",
    "class2 = ('Sunny','Biswajit','Su')\n",
    "class3 = ('Suk','Bunny','Bis','Sudeshna')"
   ]
  },
  {
   "cell_type": "code",
   "execution_count": 125,
   "id": "32d5352f",
   "metadata": {},
   "outputs": [
    {
     "name": "stdout",
     "output_type": "stream",
     "text": [
      "(Sunny,Suk)\n",
      "(Sunny,Bunny)\n",
      "(Sunny,Bis)\n",
      "(Sunny,Sudeshna)\n",
      "(Biswajit,Suk)\n",
      "(Biswajit,Bunny)\n",
      "(Biswajit,Bis)\n",
      "(Biswajit,Sudeshna)\n",
      "(Su,Suk)\n",
      "(Su,Bunny)\n",
      "(Su,Bis)\n",
      "(Su,Sudeshna)\n"
     ]
    }
   ],
   "source": [
    "for x in class2:\n",
    "    for y in class3:\n",
    "        print(f\"({x},{y})\")"
   ]
  },
  {
   "cell_type": "code",
   "execution_count": 127,
   "id": "833fe448",
   "metadata": {},
   "outputs": [
    {
     "data": {
      "text/plain": [
       "[('Sunny', 'Suk'),\n",
       " ('Sunny', 'Bunny'),\n",
       " ('Sunny', 'Bis'),\n",
       " ('Sunny', 'Sudeshna'),\n",
       " ('Biswajit', 'Suk'),\n",
       " ('Biswajit', 'Bunny'),\n",
       " ('Biswajit', 'Bis'),\n",
       " ('Biswajit', 'Sudeshna'),\n",
       " ('Su', 'Suk'),\n",
       " ('Su', 'Bunny'),\n",
       " ('Su', 'Bis'),\n",
       " ('Su', 'Sudeshna')]"
      ]
     },
     "execution_count": 127,
     "metadata": {},
     "output_type": "execute_result"
    }
   ],
   "source": [
    "[(x,y) for x in class2 for y in class3]"
   ]
  },
  {
   "cell_type": "code",
   "execution_count": 128,
   "id": "8b89e34f",
   "metadata": {},
   "outputs": [
    {
     "name": "stdout",
     "output_type": "stream",
     "text": [
      "('Sunny', 'Suk')\n",
      "('Biswajit', 'Bunny')\n",
      "('Su', 'Bis')\n"
     ]
    }
   ],
   "source": [
    "for x in zip(class2,class3):\n",
    "    print(x)"
   ]
  },
  {
   "cell_type": "code",
   "execution_count": 129,
   "id": "f766271c",
   "metadata": {},
   "outputs": [],
   "source": [
    "a = [1,4,5,9,34]"
   ]
  },
  {
   "cell_type": "code",
   "execution_count": 130,
   "id": "4087c3e6",
   "metadata": {},
   "outputs": [
    {
     "data": {
      "text/plain": [
       "34"
      ]
     },
     "execution_count": 130,
     "metadata": {},
     "output_type": "execute_result"
    }
   ],
   "source": [
    "max(a)"
   ]
  },
  {
   "cell_type": "code",
   "execution_count": 131,
   "id": "83a11531",
   "metadata": {},
   "outputs": [
    {
     "data": {
      "text/plain": [
       "1"
      ]
     },
     "execution_count": 131,
     "metadata": {},
     "output_type": "execute_result"
    }
   ],
   "source": [
    "min(a)"
   ]
  },
  {
   "cell_type": "code",
   "execution_count": 132,
   "id": "a3287ca5",
   "metadata": {},
   "outputs": [],
   "source": [
    "from random import *"
   ]
  },
  {
   "cell_type": "code",
   "execution_count": 147,
   "id": "9e74e291",
   "metadata": {},
   "outputs": [],
   "source": [
    "shuffle(a)"
   ]
  },
  {
   "cell_type": "code",
   "execution_count": 148,
   "id": "c26ff067",
   "metadata": {},
   "outputs": [
    {
     "data": {
      "text/plain": [
       "[4, 9, 1, 5, 34]"
      ]
     },
     "execution_count": 148,
     "metadata": {},
     "output_type": "execute_result"
    }
   ],
   "source": [
    "a"
   ]
  },
  {
   "cell_type": "code",
   "execution_count": 183,
   "id": "a5eda8f0",
   "metadata": {},
   "outputs": [
    {
     "name": "stdout",
     "output_type": "stream",
     "text": [
      "[[0.8282854520085622, 0.014129050331967652], [0.5311692016165376, 0.8719926923909425]]\n",
      "[[0.23262905786542398, 0.5441172187646374], [0.7877913785514585, 0.043521455189366454]]\n"
     ]
    }
   ],
   "source": [
    "matrix1 = [[random() for _ in range(2)] for _ in range(2)]\n",
    "matrix2 = [[random() for _ in range(2)] for _ in range(2)]\n",
    "print(matrix1)\n",
    "print(matrix2)"
   ]
  },
  {
   "cell_type": "code",
   "execution_count": 189,
   "id": "efd36448",
   "metadata": {},
   "outputs": [
    {
     "name": "stdout",
     "output_type": "stream",
     "text": [
      "[174.2451863861386, 273.6316220003645, 180.68243069008878, 222.50567928187579, 177.1162200704632, 104.09763606379097, 234.48177659565337, 235.87436287351173, 235.5823202439306, 105.50449528385619]\n"
     ]
    }
   ],
   "source": [
    "# create a list of 10 random real numbers between 100 and 300\n",
    "a = [200*random()+100 for _ in range(10)]\n",
    "print(a)"
   ]
  },
  {
   "cell_type": "code",
   "execution_count": 191,
   "id": "36cc60c7",
   "metadata": {},
   "outputs": [
    {
     "name": "stdout",
     "output_type": "stream",
     "text": [
      "Help on built-in function random:\n",
      "\n",
      "random() method of random.Random instance\n",
      "    random() -> x in the interval [0, 1).\n",
      "\n"
     ]
    }
   ],
   "source": [
    "help(random)"
   ]
  },
  {
   "cell_type": "code",
   "execution_count": 192,
   "id": "85535648",
   "metadata": {},
   "outputs": [
    {
     "name": "stdout",
     "output_type": "stream",
     "text": [
      "Help on method randint in module random:\n",
      "\n",
      "randint(a, b) method of random.Random instance\n",
      "    Return random integer in range [a, b], including both end points.\n",
      "\n"
     ]
    }
   ],
   "source": [
    "help(randint)"
   ]
  },
  {
   "cell_type": "code",
   "execution_count": 213,
   "id": "10c81fd0",
   "metadata": {},
   "outputs": [],
   "source": [
    "def greet(name):\n",
    "    \"\"\"\n",
    "    This function greets someone\n",
    "    Input: a name (string variable)\n",
    "    Output: greeting statement (str)\n",
    "    \"\"\"\n",
    "    y = f\"Hi {name}\"\n",
    "    # print(y)\n",
    "    return y"
   ]
  },
  {
   "cell_type": "code",
   "execution_count": 215,
   "id": "5d86afe5",
   "metadata": {},
   "outputs": [],
   "source": [
    "a = greet(\"Sam\")"
   ]
  },
  {
   "cell_type": "code",
   "execution_count": 216,
   "id": "c4089065",
   "metadata": {},
   "outputs": [
    {
     "name": "stdout",
     "output_type": "stream",
     "text": [
      "Hi Sam\n"
     ]
    }
   ],
   "source": [
    "print(a)"
   ]
  },
  {
   "cell_type": "code",
   "execution_count": 217,
   "id": "d7be4ad1",
   "metadata": {},
   "outputs": [
    {
     "name": "stdout",
     "output_type": "stream",
     "text": [
      "Help on function greet in module __main__:\n",
      "\n",
      "greet(name)\n",
      "    This function greets someone\n",
      "    Input: a name (string variable)\n",
      "    Output: greeting statement (str)\n",
      "\n"
     ]
    }
   ],
   "source": [
    "help(greet)\n"
   ]
  },
  {
   "cell_type": "code",
   "execution_count": 239,
   "id": "981bd5a8",
   "metadata": {},
   "outputs": [],
   "source": [
    "def newsum(a,b):\n",
    "    if type(a)== int and type(b) == int:\n",
    "        return a + b\n",
    "    else:\n",
    "        return 'Wrong input type'"
   ]
  },
  {
   "cell_type": "code",
   "execution_count": 242,
   "id": "a6998fe7",
   "metadata": {},
   "outputs": [
    {
     "data": {
      "text/plain": [
       "7"
      ]
     },
     "execution_count": 242,
     "metadata": {},
     "output_type": "execute_result"
    }
   ],
   "source": [
    "newsum(3,4)"
   ]
  },
  {
   "cell_type": "code",
   "execution_count": 241,
   "id": "5762346c",
   "metadata": {},
   "outputs": [
    {
     "name": "stdout",
     "output_type": "stream",
     "text": [
      "Enter a number: 6\n",
      "Enter a number: 8\n"
     ]
    },
    {
     "data": {
      "text/plain": [
       "'Wrong input type'"
      ]
     },
     "execution_count": 241,
     "metadata": {},
     "output_type": "execute_result"
    }
   ],
   "source": [
    "x = (input(\"Enter a number: \"))\n",
    "y = (input(\"Enter a number: \"))\n",
    "newsum(x,y)"
   ]
  },
  {
   "cell_type": "code",
   "execution_count": 229,
   "id": "e98ef040",
   "metadata": {},
   "outputs": [
    {
     "data": {
      "text/plain": [
       "True"
      ]
     },
     "execution_count": 229,
     "metadata": {},
     "output_type": "execute_result"
    }
   ],
   "source": [
    "type(4) == int"
   ]
  },
  {
   "cell_type": "code",
   "execution_count": 244,
   "id": "b8facc6f",
   "metadata": {},
   "outputs": [],
   "source": [
    "comb = [' ', ' ', 'A']\n",
    "\n",
    "def guess(n):\n",
    "    if comb[n] =='A':\n",
    "        print('You are right')\n",
    "    else:\n",
    "        print(comb)\n",
    "        print('try again')"
   ]
  },
  {
   "cell_type": "code",
   "execution_count": 246,
   "id": "0af9d41c",
   "metadata": {},
   "outputs": [
    {
     "name": "stdout",
     "output_type": "stream",
     "text": [
      "You are right\n"
     ]
    }
   ],
   "source": [
    "guess(2)"
   ]
  },
  {
   "cell_type": "code",
   "execution_count": null,
   "id": "a79de402",
   "metadata": {},
   "outputs": [],
   "source": []
  }
 ],
 "metadata": {
  "kernelspec": {
   "display_name": "Python 3 (ipykernel)",
   "language": "python",
   "name": "python3"
  },
  "language_info": {
   "codemirror_mode": {
    "name": "ipython",
    "version": 3
   },
   "file_extension": ".py",
   "mimetype": "text/x-python",
   "name": "python",
   "nbconvert_exporter": "python",
   "pygments_lexer": "ipython3",
   "version": "3.9.13"
  }
 },
 "nbformat": 4,
 "nbformat_minor": 5
}
