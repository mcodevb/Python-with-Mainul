{
  "cells": [
    {
      "cell_type": "markdown",
      "metadata": {
        "id": "view-in-github",
        "colab_type": "text"
      },
      "source": [
        "<a href=\"https://colab.research.google.com/github/mcodevb/Python-with-Mainul/blob/master/assign1_sampad.ipynb\" target=\"_parent\"><img src=\"https://colab.research.google.com/assets/colab-badge.svg\" alt=\"Open In Colab\"/></a>"
      ]
    },
    {
      "cell_type": "markdown",
      "id": "ebd30749-4709-4ac8-bb24-f1cd7ed3ef05",
      "metadata": {
        "id": "ebd30749-4709-4ac8-bb24-f1cd7ed3ef05"
      },
      "source": [
        "**Q1. Write a Python program to check if a number is positive, negative, or zero.<br>\n",
        "Hint: The number is positive if it is greater than 0, negative if it is less than 0, and zero if it equals 0.**"
      ]
    },
    {
      "cell_type": "code",
      "execution_count": null,
      "id": "e0c7b568-4518-4790-a4a5-bfb0260cbd7f",
      "metadata": {
        "id": "e0c7b568-4518-4790-a4a5-bfb0260cbd7f",
        "outputId": "d1b063d4-e762-41e1-aa06-1cb61f04bcef"
      },
      "outputs": [
        {
          "name": "stdin",
          "output_type": "stream",
          "text": [
            "enter the number\n",
            " -5\n"
          ]
        },
        {
          "name": "stdout",
          "output_type": "stream",
          "text": [
            "n is negative\n"
          ]
        }
      ],
      "source": [
        "n=eval(input('enter the number\\n'))\n",
        "if n>0:\n",
        "    print('n is positive')\n",
        "elif n<0:\n",
        "    print('n is negative')\n",
        "else:\n",
        "    print('n is zero')"
      ]
    },
    {
      "cell_type": "markdown",
      "id": "c4b029b1-bec2-4ff5-98ca-6aeb838c7002",
      "metadata": {
        "id": "c4b029b1-bec2-4ff5-98ca-6aeb838c7002"
      },
      "source": [
        "**Q2. Write a Python program to check if a number is even or odd.<br>\n",
        "Hint: The number is even if it is divisible by 2 without any remainder, and odd otherwise.**"
      ]
    },
    {
      "cell_type": "code",
      "execution_count": null,
      "id": "1a0069eb-7b11-4866-a121-cac9239501c3",
      "metadata": {
        "id": "1a0069eb-7b11-4866-a121-cac9239501c3",
        "outputId": "001f20e6-25d5-4b7a-9698-fc8aa9a2e41d"
      },
      "outputs": [
        {
          "name": "stdin",
          "output_type": "stream",
          "text": [
            "enter the number\n",
            " 9\n"
          ]
        },
        {
          "name": "stdout",
          "output_type": "stream",
          "text": [
            "9 is odd\n"
          ]
        }
      ],
      "source": [
        "n=eval(input('enter the number\\n'))\n",
        "if n%2==0:\n",
        "    print(n, 'is even')\n",
        "else:\n",
        "    print(n, 'is odd')"
      ]
    },
    {
      "cell_type": "markdown",
      "id": "859ea8c3-686f-4ea1-8772-c356fb416776",
      "metadata": {
        "id": "859ea8c3-686f-4ea1-8772-c356fb416776"
      },
      "source": [
        "**Q3. Write a Python program to check if a year is a leap year.<br>\n",
        "Hint: A leap year is divisible by 4 but not divisible by 100, except if it is also divisible by 400.**"
      ]
    },
    {
      "cell_type": "code",
      "execution_count": null,
      "id": "06d33021-f832-4ce8-be52-d2631ca37d16",
      "metadata": {
        "id": "06d33021-f832-4ce8-be52-d2631ca37d16",
        "outputId": "75631565-b4aa-456a-b421-89debeb6ae5a"
      },
      "outputs": [
        {
          "name": "stdin",
          "output_type": "stream",
          "text": [
            "enter the year\n",
            " 2000\n"
          ]
        },
        {
          "name": "stdout",
          "output_type": "stream",
          "text": [
            "2000 is leap year\n"
          ]
        }
      ],
      "source": [
        "y=eval(input('enter the year\\n'))\n",
        "if y%4==0 and y%100!=0 or y%400==0: # precedence and > or\n",
        "    print(y, 'is leap year')\n",
        "else:\n",
        "    print(y, 'is not leap year')"
      ]
    },
    {
      "cell_type": "markdown",
      "id": "f8ef0c97-c275-40b3-a9ec-e19e250104ae",
      "metadata": {
        "id": "f8ef0c97-c275-40b3-a9ec-e19e250104ae"
      },
      "source": [
        "**Q4. Write a Python program to check if a character is a vowel or a consonant.<br>\n",
        "Hint: The character is a vowel if it is 'a', 'e', 'i', 'o', or 'u', and a consonant otherwise.**"
      ]
    },
    {
      "cell_type": "code",
      "execution_count": null,
      "id": "da875778-ebcf-4575-acb1-0bfc564043da",
      "metadata": {
        "id": "da875778-ebcf-4575-acb1-0bfc564043da",
        "outputId": "7f2dcc18-41ad-4115-9717-320efa99cb07"
      },
      "outputs": [
        {
          "name": "stdin",
          "output_type": "stream",
          "text": [
            "enter the character\n",
            " u\n"
          ]
        },
        {
          "name": "stdout",
          "output_type": "stream",
          "text": [
            "charater is vowel\n"
          ]
        }
      ],
      "source": [
        "c=input('enter the character\\n')\n",
        "if c in 'aeiou':\n",
        "    print('charater is vowel')\n",
        "else:\n",
        "    print('charater is consonant')"
      ]
    },
    {
      "cell_type": "markdown",
      "id": "05f79b6a-6bd4-447d-b39b-b607390a3d31",
      "metadata": {
        "id": "05f79b6a-6bd4-447d-b39b-b607390a3d31"
      },
      "source": [
        "**Q5.Write a Python program to check if a number is prime.<br>\n",
        "Hint: A prime number is a number greater than 1 that has no divisors other than 1 and itself.**"
      ]
    },
    {
      "cell_type": "code",
      "execution_count": null,
      "id": "8dc86d3e-7514-49bd-b63e-64bfee2f7721",
      "metadata": {
        "id": "8dc86d3e-7514-49bd-b63e-64bfee2f7721",
        "outputId": "284ad092-452c-44a9-d008-6a3a6583e2c7"
      },
      "outputs": [
        {
          "name": "stdin",
          "output_type": "stream",
          "text": [
            "enter the number 9\n"
          ]
        },
        {
          "name": "stdout",
          "output_type": "stream",
          "text": [
            "9 is not a prime number\n",
            "None\n"
          ]
        }
      ],
      "source": [
        "n=eval(input('enter the number'))\n",
        "def prime(n):\n",
        "    for i in range(2,n): # 2 to n-1\n",
        "        if n%i==0 and n>1:\n",
        "            print(n, 'is not a prime number')\n",
        "            break  # break the loop if n%i==0 and n>1 conditions are stisfied. Return to the loop if coditions are not satisfied till n-1.\n",
        "    else:\n",
        "        print(n, 'is a prime number')   # print this if the above conditions are not satisfied till i=n-1\n",
        "print(prime(n))"
      ]
    },
    {
      "cell_type": "markdown",
      "id": "45aee232-4bc4-4209-a540-36a63ea053a9",
      "metadata": {
        "id": "45aee232-4bc4-4209-a540-36a63ea053a9"
      },
      "source": [
        "**Q6. Write a Python program to check if a string is a palindrome.<br>\n",
        "Hint: A palindrome is a string that reads the same forwards and backward.**"
      ]
    },
    {
      "cell_type": "code",
      "execution_count": null,
      "id": "02ed01b1-7fde-4f40-995f-539c8bdf5138",
      "metadata": {
        "id": "02ed01b1-7fde-4f40-995f-539c8bdf5138",
        "outputId": "e65547bf-2a0b-4943-8fad-c20a3062371a"
      },
      "outputs": [
        {
          "name": "stdin",
          "output_type": "stream",
          "text": [
            "enter the number 12321\n"
          ]
        },
        {
          "name": "stdout",
          "output_type": "stream",
          "text": [
            "12321 is palindrome\n"
          ]
        }
      ],
      "source": [
        "n=(input('enter the number'))\n",
        "if n==n[::-1]:\n",
        "    print(n, 'is palindrome')\n",
        "else:\n",
        "    print(n, 'is not palindrome')"
      ]
    },
    {
      "cell_type": "markdown",
      "id": "8093f02b-f5fc-4564-97d6-c2fd52300b48",
      "metadata": {
        "id": "8093f02b-f5fc-4564-97d6-c2fd52300b48"
      },
      "source": [
        "**Q7. Write a Python program to check if a triangle is equilateral, isosceles, or scalene.<br>\n",
        "Hint: An equilateral triangle has all sides equal, an isosceles triangle has two sides equal, and a scalene triangle has all sides different.**"
      ]
    },
    {
      "cell_type": "code",
      "execution_count": null,
      "id": "bc2bbcff-7b20-4a77-883e-29c61a1ff105",
      "metadata": {
        "id": "bc2bbcff-7b20-4a77-883e-29c61a1ff105",
        "outputId": "f837c625-15af-486d-cbc2-365c2cbc1ac2"
      },
      "outputs": [
        {
          "name": "stdin",
          "output_type": "stream",
          "text": [
            "enter the sides 1,5,5\n"
          ]
        },
        {
          "name": "stdout",
          "output_type": "stream",
          "text": [
            "triangle is isosceles\n"
          ]
        }
      ],
      "source": [
        "a,b,c=eval(input('enter the sides'))\n",
        "if a==b==c:\n",
        "    print('triangle is equilateral')\n",
        "elif a==b or a==c or b==c:\n",
        "    print('triangle is isosceles')\n",
        "else:\n",
        "    print('triangle is scalene')"
      ]
    },
    {
      "cell_type": "markdown",
      "id": "5d869ee1-0414-4f01-a159-1752e145a946",
      "metadata": {
        "id": "5d869ee1-0414-4f01-a159-1752e145a946"
      },
      "source": [
        "**Q8. Write a Python program to check if a number is a perfect square. <br>\n",
        "Hint: A perfect square is a number whose square root is an integer.**"
      ]
    },
    {
      "cell_type": "code",
      "execution_count": null,
      "id": "749e5394-0ec8-40b9-82bf-2c48ac8dcba4",
      "metadata": {
        "id": "749e5394-0ec8-40b9-82bf-2c48ac8dcba4",
        "outputId": "52cb5648-1744-46bc-831e-6261679b24ea"
      },
      "outputs": [
        {
          "name": "stdin",
          "output_type": "stream",
          "text": [
            "enter the number 16\n"
          ]
        },
        {
          "name": "stdout",
          "output_type": "stream",
          "text": [
            "16 is a perfect square\n"
          ]
        }
      ],
      "source": [
        "from math import *\n",
        "n=eval(input('enter the number'))\n",
        "if sqrt(n)==int(sqrt(n)):\n",
        "    print(n, 'is a perfect square')\n",
        "else:\n",
        "    print(n, 'is not a perfect square')"
      ]
    },
    {
      "cell_type": "markdown",
      "id": "5a1ae5bb-0cfe-482d-8de2-1a451fb848af",
      "metadata": {
        "id": "5a1ae5bb-0cfe-482d-8de2-1a451fb848af"
      },
      "source": [
        "**Q9. Write a Python program to check if a string is a valid email address. <br>\n",
        "Hint: A valid email address follows certain patterns and contains an '@' symbol.**"
      ]
    },
    {
      "cell_type": "code",
      "execution_count": null,
      "id": "69bb187b-35a3-45b6-8f1a-e3034174db71",
      "metadata": {
        "id": "69bb187b-35a3-45b6-8f1a-e3034174db71",
        "outputId": "49e8d957-17df-4ad4-d0af-76e544234b62"
      },
      "outputs": [
        {
          "name": "stdin",
          "output_type": "stream",
          "text": [
            "enter the character sampadmandal@gmail.com\n"
          ]
        },
        {
          "name": "stdout",
          "output_type": "stream",
          "text": [
            "it is email\n"
          ]
        }
      ],
      "source": [
        "e=input('enter the character')\n",
        "d=['@gmail.com','@yahoo.com','@hotmail.com','aol.com','@visva-bharati.ac.in'] # few domains\n",
        "if (i in e for i in d):\n",
        "    print('it is email')\n",
        "else:\n",
        "    print('it is not email')"
      ]
    },
    {
      "cell_type": "markdown",
      "id": "89fea3a6-3e13-49a4-849d-66d3ce9d8581",
      "metadata": {
        "id": "89fea3a6-3e13-49a4-849d-66d3ce9d8581"
      },
      "source": [
        "**Q10. Write a Python program to check if a number is a power of two.<br>\n",
        "Hint: A number is a power of two if it can be expressed as 2 raised to an integer exponent.**"
      ]
    },
    {
      "cell_type": "code",
      "execution_count": null,
      "id": "3747c7f9-37bb-4337-9839-10e94a093f27",
      "metadata": {
        "id": "3747c7f9-37bb-4337-9839-10e94a093f27",
        "outputId": "2fcc83e4-a697-41a2-c10c-70bfd1af96d8"
      },
      "outputs": [
        {
          "name": "stdin",
          "output_type": "stream",
          "text": [
            "enter the number\n",
            " 9\n"
          ]
        },
        {
          "name": "stdout",
          "output_type": "stream",
          "text": [
            "9 is not power of two\n",
            "None\n"
          ]
        }
      ],
      "source": [
        "n=eval(input('enter the number\\n'))\n",
        "def f(n):\n",
        "    for x in range(n):\n",
        "        if (n==2**x and x==int(x)):\n",
        "            print(n,'is power of two')\n",
        "            break\n",
        "    else:\n",
        "        print(n,'is not power of two')\n",
        "print(f(n))"
      ]
    },
    {
      "cell_type": "markdown",
      "id": "4e53d023-e2cc-4deb-9e1c-09265e5e07c4",
      "metadata": {
        "id": "4e53d023-e2cc-4deb-9e1c-09265e5e07c4"
      },
      "source": [
        "**Q11. Write a Python program to check if a given year is a century year.<br>\n",
        "Hint: A century year is evenly divisible by 100.**"
      ]
    },
    {
      "cell_type": "code",
      "execution_count": null,
      "id": "d5e1bdc0-a34b-4174-9716-6b6d30656562",
      "metadata": {
        "id": "d5e1bdc0-a34b-4174-9716-6b6d30656562",
        "outputId": "684b67c9-e083-43ee-f403-58273ba7f1d9"
      },
      "outputs": [
        {
          "name": "stdin",
          "output_type": "stream",
          "text": [
            "enter the year 2000\n"
          ]
        },
        {
          "name": "stdout",
          "output_type": "stream",
          "text": [
            "century year\n"
          ]
        }
      ],
      "source": [
        "y=eval(input('enter the year'))\n",
        "if y%100==0:\n",
        "    print('century year')\n",
        "else:\n",
        "    print('nor century year')"
      ]
    },
    {
      "cell_type": "markdown",
      "id": "b701b9b8-ac40-4b20-817f-ae08d86667a6",
      "metadata": {
        "id": "b701b9b8-ac40-4b20-817f-ae08d86667a6"
      },
      "source": [
        "**Q12. Write a Python program to check if a given string is a valid password (with specific conditions, e.g., length, uppercase, lowercase, digits).<br>\n",
        "Hint: A valid password should satisfy certain criteria, such as having a minimum length, and containing uppercase and lowercase letters, and digits.**"
      ]
    },
    {
      "cell_type": "code",
      "execution_count": null,
      "id": "047fda34-3e47-4490-972a-54290690d2a1",
      "metadata": {
        "id": "047fda34-3e47-4490-972a-54290690d2a1",
        "outputId": "fb23e1a4-d745-4d17-c4ce-61308efcd14c"
      },
      "outputs": [
        {
          "name": "stdin",
          "output_type": "stream",
          "text": [
            "Enter the string\n",
            " Serial1234\n"
          ]
        },
        {
          "name": "stdout",
          "output_type": "stream",
          "text": [
            "it is passwd\n"
          ]
        }
      ],
      "source": [
        "pw=(input('Enter the string\\n'))\n",
        "if (len(pw)>=8 and pw[0].isupper()==True and pw[1:].isupper()==False and pw.isalnum()==True):\n",
        "    print('it is passwd')\n",
        "else:\n",
        "    print('it is not a passwd')"
      ]
    },
    {
      "cell_type": "markdown",
      "id": "a187edac-bb83-4ce9-81a7-f0b826510322",
      "metadata": {
        "id": "a187edac-bb83-4ce9-81a7-f0b826510322"
      },
      "source": [
        "**Q13. Write a Python program to check if a number is a Fibonacci number.<br>\n",
        "Hint: A Fibonacci number is a number that is part of the Fibonacci sequence, where each number is the sum of the two preceding ones.**"
      ]
    },
    {
      "cell_type": "code",
      "execution_count": null,
      "id": "e5fe5306-7f0d-4c0f-9baa-78c7488c4b95",
      "metadata": {
        "id": "e5fe5306-7f0d-4c0f-9baa-78c7488c4b95",
        "outputId": "48c2a287-107a-4edf-8bda-311352d383b2"
      },
      "outputs": [
        {
          "name": "stdin",
          "output_type": "stream",
          "text": [
            "Enter the index number upto which you want the series\n",
            " 10\n"
          ]
        },
        {
          "name": "stdout",
          "output_type": "stream",
          "text": [
            "[0, 1, 1, 2, 3, 5, 8, 13, 21, 34, 55]\n"
          ]
        }
      ],
      "source": [
        "n=eval(input('Enter the index number upto which you want the series\\n'))\n",
        "f=[0,1]\n",
        "for i in range(1,n):     # range(1,n) cntributes n-1 appending + 2=n+1 elements i.e. upto index number n\n",
        "    f.append(f[-1]+f[-2])\n",
        "print(f)"
      ]
    },
    {
      "cell_type": "code",
      "execution_count": null,
      "id": "258475f1-0426-427a-bb47-abd6a0abc5f7",
      "metadata": {
        "id": "258475f1-0426-427a-bb47-abd6a0abc5f7",
        "outputId": "e767d30f-1bb8-4112-f436-fb3bcc4cd337"
      },
      "outputs": [
        {
          "name": "stdin",
          "output_type": "stream",
          "text": [
            "Enter the number 377\n"
          ]
        },
        {
          "name": "stdout",
          "output_type": "stream",
          "text": [
            "377 is a Fibonacci number\n"
          ]
        }
      ],
      "source": [
        "j=eval(input('Enter the number'))\n",
        "f=[0,1]\n",
        "for i in range(1,1000):\n",
        "    f.append(f[-1]+f[-2])\n",
        "if j in f:\n",
        "    print(j, 'is a Fibonacci number')\n",
        "else:\n",
        "    print(j, 'is not a Fibonacci number')"
      ]
    },
    {
      "cell_type": "markdown",
      "id": "7616d139-716a-4866-b9f2-da153c6c47c0",
      "metadata": {
        "id": "7616d139-716a-4866-b9f2-da153c6c47c0"
      },
      "source": [
        "**Q14. Write a Python program to check if a string is a valid URL.<br>\n",
        "Hint: A valid URL should follow specific formatting rules and include components like a scheme (e.g., 'http', 'https') and a domain.**"
      ]
    },
    {
      "cell_type": "code",
      "execution_count": null,
      "id": "e73b5d7c-7fa4-4308-abc2-1bc12fabe259",
      "metadata": {
        "id": "e73b5d7c-7fa4-4308-abc2-1bc12fabe259",
        "outputId": "332e2efb-5a7e-4617-9d00-51e78294fc48"
      },
      "outputs": [
        {
          "name": "stdin",
          "output_type": "stream",
          "text": [
            "Enter the string\n",
            " 'https://en.wikipedia.org/wiki/Boltzmann_equation\\'\n"
          ]
        },
        {
          "name": "stdout",
          "output_type": "stream",
          "text": [
            "invalid URL\n"
          ]
        }
      ],
      "source": [
        "url=(input('Enter the string\\n'))\n",
        "st=['http://', 'https://']\n",
        "d=['.com','.net','.edu','.org','.mil','.gov','.jobs','.info','.tel','.travel'] # taken few domains\n",
        "nc=[' ', '\\\\']                                                                 # should not contain\n",
        "if url.startswith((st[0], st[1])) and (i in url for i in d) and (j not in url for j in nc):\n",
        "    print('valid URL')\n",
        "else:\n",
        "    print('invalid URL')\n",
        "#j in 'https://en.wikipedia.org/wiki/Boltzmann_equation' for j in d"
      ]
    },
    {
      "cell_type": "markdown",
      "id": "1656015e-7b43-4b45-b973-45604c2f4372",
      "metadata": {
        "id": "1656015e-7b43-4b45-b973-45604c2f4372"
      },
      "source": [
        "**Q15. Write a Python program to check if a given number is within a specific range.<br>\n",
        "Hint: The number is within the range if it is greater than or equal to the lower bound and less than or equal to the upper bound.**"
      ]
    },
    {
      "cell_type": "code",
      "execution_count": null,
      "id": "27f8db2f-9d6b-4cbb-9bf9-15b9a41a5c5c",
      "metadata": {
        "id": "27f8db2f-9d6b-4cbb-9bf9-15b9a41a5c5c",
        "outputId": "99ecccb3-7052-4a34-aa31-5e29f99d6a1f"
      },
      "outputs": [
        {
          "name": "stdin",
          "output_type": "stream",
          "text": [
            "enter the lower and upper limits respectively\n",
            " 5,45\n",
            "enter the number\n",
            " 46\n"
          ]
        },
        {
          "name": "stdout",
          "output_type": "stream",
          "text": [
            "46 is not in the limit\n"
          ]
        }
      ],
      "source": [
        "a,b=eval(input('enter the lower and upper limits respectively\\n'))\n",
        "n=eval(input('enter the number\\n'))\n",
        "if n>=a and n<=b:\n",
        "    print(n, 'is in between', a, 'and', b)\n",
        "else:\n",
        "    print(n, 'is not in the limit')"
      ]
    },
    {
      "cell_type": "markdown",
      "id": "0bb34148-ccef-401e-9a7e-e5e6a44c67d5",
      "metadata": {
        "id": "0bb34148-ccef-401e-9a7e-e5e6a44c67d5"
      },
      "source": [
        "**Q16. Write a Python program to check if a list contains duplicate elements.<br>\n",
        "Hint: The list contains duplicate elements if there are two or more elements with the same value.**"
      ]
    },
    {
      "cell_type": "code",
      "execution_count": null,
      "id": "3ae94dfa-a113-4071-9ea9-66890342c262",
      "metadata": {
        "id": "3ae94dfa-a113-4071-9ea9-66890342c262",
        "outputId": "0078c7aa-853d-42f7-f8a2-f3302c85a549"
      },
      "outputs": [
        {
          "name": "stdin",
          "output_type": "stream",
          "text": [
            "Enter a list\n",
            " [1,2,3]\n"
          ]
        },
        {
          "name": "stdout",
          "output_type": "stream",
          "text": [
            "No duplicate\n",
            "None\n"
          ]
        }
      ],
      "source": [
        "l=eval(input('Enter a list\\n'))\n",
        "def f(l):\n",
        "    for i in l:\n",
        "        if l.count(i)>=2:\n",
        "            print('Have duplicate')\n",
        "            break\n",
        "    else:\n",
        "        print('No duplicate')\n",
        "print(f(l))"
      ]
    },
    {
      "cell_type": "markdown",
      "id": "14320ba2-4ccb-439c-9265-77e72ea1b28f",
      "metadata": {
        "id": "14320ba2-4ccb-439c-9265-77e72ea1b28f"
      },
      "source": [
        "**Q17. Write a Python program to check if a given number is a perfect number.<br>\n",
        "Hint: A perfect number is a positive integer that is equal to the sum of its proper divisors.**"
      ]
    },
    {
      "cell_type": "code",
      "execution_count": null,
      "id": "4b7e528d-8195-4a38-a4ca-588c8b1d5219",
      "metadata": {
        "id": "4b7e528d-8195-4a38-a4ca-588c8b1d5219",
        "outputId": "f0422c6c-8003-4b93-f71a-f90a53ae84cb"
      },
      "outputs": [
        {
          "name": "stdin",
          "output_type": "stream",
          "text": [
            "enter a number 496\n"
          ]
        },
        {
          "name": "stdout",
          "output_type": "stream",
          "text": [
            "[1, 2, 4, 8, 16, 31, 62, 124, 248]\n",
            "496 is a perfect number\n"
          ]
        }
      ],
      "source": [
        "n=eval(input('enter a number'))\n",
        "pd=[i for i in range(1,n) if n%i==0] # list of perfect divisors\n",
        "print(pd)\n",
        "s=0\n",
        "for j in pd:\n",
        "    s+=j                             # sum of perfect divisors\n",
        "if s==n:                             # comparison\n",
        "    print(n, 'is a perfect number')\n",
        "else:\n",
        "    print(n, 'is not a perfect number')"
      ]
    },
    {
      "cell_type": "markdown",
      "id": "d9c930ff-584f-4d24-a17a-9eba4bd5d361",
      "metadata": {
        "id": "d9c930ff-584f-4d24-a17a-9eba4bd5d361"
      },
      "source": [
        "**Q18. Write a Python program to check the number of unique vowels in a list of words. Also, print them in alphabetical order.<br>\n",
        "Hint: The character is a vowel if it is 'a', 'e', 'i', 'o', or 'u', and a consonant otherwise. You can use Sets here.**"
      ]
    },
    {
      "cell_type": "code",
      "execution_count": null,
      "id": "7ab33740-b0e3-48b8-aeef-a018fb1eac12",
      "metadata": {
        "id": "7ab33740-b0e3-48b8-aeef-a018fb1eac12",
        "outputId": "7faad8cb-6d20-43d3-9bb4-8cf14e3d2673"
      },
      "outputs": [
        {
          "name": "stdout",
          "output_type": "stream",
          "text": [
            "The number of unique vowels in the 0 th word, boy , of list l is: 1\n",
            "The number of unique vowels in the 1 th word, girl , of list l is: 1\n",
            "The number of unique vowels in the 2 th word, son , of list l is: 1\n",
            "The number of unique vowels in the 3 th word, daughter , of list l is: 3\n",
            "The number of unique vowels in the 4 th word, father , of list l is: 2\n",
            "The number of unique vowels in the 5 th word, mother , of list l is: 2\n",
            "['boy', 'daughter', 'father', 'girl', 'mother', 'son']\n",
            "['boy', 'daughter', 'father', 'girl', 'mother', 'son']\n"
          ]
        }
      ],
      "source": [
        "l=['boy', 'girl', 'son', 'daughter', 'father', 'mother']\n",
        "for i in range(len(l)):\n",
        "    print('The number of unique vowels in the', i ,'th word,',l[i],', of list l is:',\n",
        "          len([v for v in l[i] if v in 'aeiou']))\n",
        "    \n",
        "print(sorted(l)) # does not alter the original list l, prints only the sorted version of the list\n",
        "l.sort()         # alters the original list sorting the list l. \n",
        "print(l)"
      ]
    },
    {
      "cell_type": "code",
      "execution_count": null,
      "id": "720136a8-4cb1-4f2e-9693-89ca554fd2cd",
      "metadata": {
        "id": "720136a8-4cb1-4f2e-9693-89ca554fd2cd",
        "outputId": "4ad3eb7e-5d13-4cf3-93cd-64e6b03f3e06"
      },
      "outputs": [
        {
          "name": "stdin",
          "output_type": "stream",
          "text": [
            "Enter the index number upto which you want the series\n",
            " 10\n"
          ]
        },
        {
          "name": "stdout",
          "output_type": "stream",
          "text": [
            "[0, 1, 1, 2, 3, 5, 8, 13, 21, 34, 55]\n"
          ]
        }
      ],
      "source": [
        "n=eval(input('Enter the index number upto which you want the series\\n'))\n",
        "\n",
        "def rec_fib(x_n):\n",
        "  if x_n <= 1:\n",
        "    return x_n\n",
        "  else:\n",
        "    return(rec_fib(x_n-1) + rec_fib(x_n-2))\n",
        "\n",
        "if n <= 0:\n",
        "  print(\"Invalid input ! Please input a positive value greater than or equal to one\")\n",
        "else:\n",
        "  # print('Fibonacci series for n=',n,':')\n",
        "  # for i in range(n+1):\n",
        "  #     print([rec_fib(i)])\n",
        "  print([rec_fib(i) for i in range (n+1)])"
      ]
    },
    {
      "cell_type": "code",
      "execution_count": null,
      "id": "578f53c5-5e02-43e2-b665-01a229592b8a",
      "metadata": {
        "id": "578f53c5-5e02-43e2-b665-01a229592b8a",
        "outputId": "f46b9147-e611-47f3-bb9b-a9c874679ad2"
      },
      "outputs": [
        {
          "name": "stdin",
          "output_type": "stream",
          "text": [
            "Enter the index number upto which you want the series\n",
            " 10\n"
          ]
        },
        {
          "name": "stdout",
          "output_type": "stream",
          "text": [
            "[0, 1, 1, 2, 3, 5, 8, 13, 21, 34, 55]\n"
          ]
        }
      ],
      "source": [
        "n=eval(input('Enter the index number upto which you want the series\\n'))\n",
        "f=[0,1]\n",
        "for i in range(n-1):\n",
        "    f.append(f[-1]+f[-2])\n",
        "print(f)"
      ]
    },
    {
      "cell_type": "code",
      "execution_count": null,
      "id": "b277c735-5240-4936-93fd-ab15d863cf16",
      "metadata": {
        "id": "b277c735-5240-4936-93fd-ab15d863cf16"
      },
      "outputs": [],
      "source": []
    }
  ],
  "metadata": {
    "kernelspec": {
      "display_name": "Python 3 (ipykernel)",
      "language": "python",
      "name": "python3"
    },
    "language_info": {
      "codemirror_mode": {
        "name": "ipython",
        "version": 3
      },
      "file_extension": ".py",
      "mimetype": "text/x-python",
      "name": "python",
      "nbconvert_exporter": "python",
      "pygments_lexer": "ipython3",
      "version": "3.7.9"
    },
    "colab": {
      "provenance": [],
      "include_colab_link": true
    }
  },
  "nbformat": 4,
  "nbformat_minor": 5
}