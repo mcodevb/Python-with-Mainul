{
  "cells": [
    {
      "cell_type": "markdown",
      "metadata": {
        "id": "view-in-github",
        "colab_type": "text"
      },
      "source": [
        "<a href=\"https://colab.research.google.com/github/mcodevb/Python-with-Mainul/blob/master/Assignment_1_Ritwik_Saha.ipynb\" target=\"_parent\"><img src=\"https://colab.research.google.com/assets/colab-badge.svg\" alt=\"Open In Colab\"/></a>"
      ]
    },
    {
      "cell_type": "markdown",
      "id": "edf09067",
      "metadata": {
        "id": "edf09067"
      },
      "source": [
        "Q1. Write a Python program to check if a number is positive, negative, or zero."
      ]
    },
    {
      "cell_type": "code",
      "execution_count": null,
      "id": "1c2379ba",
      "metadata": {
        "id": "1c2379ba",
        "outputId": "1ec80764-e67a-407d-91a0-58b556d49f8a"
      },
      "outputs": [
        {
          "name": "stdout",
          "output_type": "stream",
          "text": [
            "positive number\n"
          ]
        }
      ],
      "source": [
        "#Enter a number \n",
        "a=5\n",
        "if(a>0):\n",
        "    print('positive number')\n",
        "elif(a<0):\n",
        "    print('negative number')\n",
        "else:\n",
        "    print('the number is zero')"
      ]
    },
    {
      "cell_type": "markdown",
      "id": "4000cbec",
      "metadata": {
        "id": "4000cbec"
      },
      "source": [
        "Q2. Write a Python program to check if a number is even or odd."
      ]
    },
    {
      "cell_type": "code",
      "execution_count": null,
      "id": "d8aa7a4e",
      "metadata": {
        "id": "d8aa7a4e",
        "outputId": "d5752163-a2f3-4dbd-a34c-42119efb92eb"
      },
      "outputs": [
        {
          "name": "stdout",
          "output_type": "stream",
          "text": [
            "Odd number\n"
          ]
        }
      ],
      "source": [
        "#Enter a number \n",
        "x=15\n",
        "if(x%2==0):\n",
        "    print('Even number')\n",
        "else:\n",
        "    print('Odd number')\n"
      ]
    },
    {
      "cell_type": "markdown",
      "id": "4c91d6e3",
      "metadata": {
        "id": "4c91d6e3"
      },
      "source": [
        "Q3. Write a Python program to check if a year is a leap year."
      ]
    },
    {
      "cell_type": "code",
      "execution_count": 1,
      "id": "b3299bb9",
      "metadata": {
        "id": "b3299bb9",
        "outputId": "913a3386-8143-45a9-eb39-8bc194293df5",
        "colab": {
          "base_uri": "https://localhost:8080/"
        }
      },
      "outputs": [
        {
          "output_type": "stream",
          "name": "stdout",
          "text": [
            "This year is not leap year\n"
          ]
        }
      ],
      "source": [
        "#Give the year\n",
        "year=1900\n",
        "if((year%4==0) and (year%100==0 and year%400==0) ):\n",
        "    print('This year is leap year')\n",
        "else:\n",
        "    print('This year is not leap year')"
      ]
    },
    {
      "cell_type": "markdown",
      "id": "74acb383",
      "metadata": {
        "id": "74acb383"
      },
      "source": [
        "Q4. Write a Python program to check if a character is a vowel or a consonant."
      ]
    },
    {
      "cell_type": "code",
      "execution_count": null,
      "id": "f941637e",
      "metadata": {
        "id": "f941637e",
        "outputId": "8eb8e945-96ee-411c-ee44-f853b9c4a7c4"
      },
      "outputs": [
        {
          "name": "stdout",
          "output_type": "stream",
          "text": [
            "vowel\n"
          ]
        }
      ],
      "source": [
        "#Enter a character\n",
        "character='i'\n",
        "if(character in 'aeiou'):\n",
        "    print('vowel')\n",
        "else:\n",
        "    print('consonant')"
      ]
    },
    {
      "cell_type": "markdown",
      "id": "c139936b",
      "metadata": {
        "id": "c139936b"
      },
      "source": [
        "Q5. Write a Python program to check if a number is prime."
      ]
    },
    {
      "cell_type": "markdown",
      "id": "791dd0c1",
      "metadata": {
        "id": "791dd0c1"
      },
      "source": [
        "p=10\n",
        "if((p>1) and (p%1==0 and p%p==0)):\n",
        "    print('prime number')\n",
        "else:\n",
        "    print('not a prime number')"
      ]
    },
    {
      "cell_type": "markdown",
      "id": "40ffd8e4",
      "metadata": {
        "id": "40ffd8e4"
      },
      "source": [
        "Q6. Write a Python program to check if a string is a palindrome."
      ]
    },
    {
      "cell_type": "markdown",
      "id": "4abba293",
      "metadata": {
        "id": "4abba293"
      },
      "source": [
        "string='ror'\n",
        "if()"
      ]
    },
    {
      "cell_type": "markdown",
      "id": "a9841b60",
      "metadata": {
        "id": "a9841b60"
      },
      "source": [
        "Q7. Write a Python program to check if a triangle is equilateral, isosceles, or scalene."
      ]
    },
    {
      "cell_type": "code",
      "execution_count": null,
      "id": "cb06a3fe",
      "metadata": {
        "id": "cb06a3fe",
        "outputId": "2986da7a-ea3e-4ea6-fdea-4dbcbc702b4a"
      },
      "outputs": [
        {
          "name": "stdout",
          "output_type": "stream",
          "text": [
            "scalene triangle\n"
          ]
        }
      ],
      "source": [
        "#Enter three sides of the triangle\n",
        "side1=2\n",
        "side2=5\n",
        "side3=3\n",
        "if(side1==side2==side3):\n",
        "    print('equilateral triangle')\n",
        "elif((side1==side2) or (side2=side3) or (side1 == side3)):\n",
        "       print('isosceles triangle')\n",
        "elif(side1!=side2!=side3):\n",
        "       print('scalene triangle')"
      ]
    },
    {
      "cell_type": "markdown",
      "id": "2119c903",
      "metadata": {
        "id": "2119c903"
      },
      "source": [
        "\n",
        "Q8. Write a Python program to check if a number is a perfect square.\n"
      ]
    },
    {
      "cell_type": "code",
      "execution_count": null,
      "id": "7d8e3c59",
      "metadata": {
        "id": "7d8e3c59",
        "outputId": "f82447a6-c99e-41a7-e7b1-6c9f7b7faf7e"
      },
      "outputs": [
        {
          "name": "stdout",
          "output_type": "stream",
          "text": [
            "The number 16 is a perfect square number.\n"
          ]
        }
      ],
      "source": [
        "import math  #[This is used to find some mathematical operations ,e.g:square_root]\n",
        "# Give an integer number x\n",
        "x=16\n",
        "s=math.sqrt(x)     #[s is the square_root of x]\n",
        "if(s.is_integer()):\n",
        "    print('The number {0} is a perfect square number.'.format(x))\n",
        "else:\n",
        "    print('The number {0} is not a perfect square number.'.format(x))"
      ]
    },
    {
      "cell_type": "markdown",
      "id": "6fdc6749",
      "metadata": {
        "id": "6fdc6749"
      },
      "source": [
        "Q9. Write a Python program to check if a string is a valid email address.\n",
        "\n",
        "[Hint: A valid email address follows certain patterns and contains an '@' symbol.]\n"
      ]
    },
    {
      "cell_type": "code",
      "execution_count": null,
      "id": "afc634ad",
      "metadata": {
        "id": "afc634ad",
        "outputId": "8c3bea67-0423-40fb-aa25-24f045bf3419"
      },
      "outputs": [
        {
          "name": "stdout",
          "output_type": "stream",
          "text": [
            "Valid email address.\n"
          ]
        }
      ],
      "source": [
        "#Give your email address\n",
        "email='@'\n",
        "if(email in '@'):\n",
        "    print('Valid email address.')\n",
        "else:\n",
        "    print('Invalid email address.')"
      ]
    },
    {
      "cell_type": "markdown",
      "id": "b2d81082",
      "metadata": {
        "id": "b2d81082"
      },
      "source": [
        "\n",
        "\n",
        "\n",
        "\n",
        "Q10. Write a Python program to check if a number is a power of two. \n",
        "\n",
        "[Hint: A number is a power of two if it can be expressed as 2 raised to an integer exponent.]\n"
      ]
    },
    {
      "cell_type": "code",
      "execution_count": null,
      "id": "ca7630ef",
      "metadata": {
        "id": "ca7630ef",
        "outputId": "447b1344-62a6-4e7c-e1d4-615d624574ee"
      },
      "outputs": [
        {
          "ename": "TypeError",
          "evalue": "unsupported operand type(s) for ** or pow(): 'int' and 'type'",
          "output_type": "error",
          "traceback": [
            "\u001b[1;31m---------------------------------------------------------------------------\u001b[0m",
            "\u001b[1;31mTypeError\u001b[0m                                 Traceback (most recent call last)",
            "Cell \u001b[1;32mIn[4], line 4\u001b[0m\n\u001b[0;32m      2\u001b[0m a\u001b[38;5;241m=\u001b[39m\u001b[38;5;241m4\u001b[39m\n\u001b[0;32m      3\u001b[0m i\u001b[38;5;241m=\u001b[39m\u001b[38;5;28mint\u001b[39m\n\u001b[1;32m----> 4\u001b[0m \u001b[38;5;28;01mif\u001b[39;00m(a\u001b[38;5;241m==\u001b[39m\u001b[38;5;241;43m2\u001b[39;49m\u001b[38;5;241;43m*\u001b[39;49m\u001b[38;5;241;43m*\u001b[39;49m\u001b[43mi\u001b[49m):\n\u001b[0;32m      5\u001b[0m     \u001b[38;5;28mprint\u001b[39m(\u001b[38;5;124m'\u001b[39m\u001b[38;5;124mpower of two\u001b[39m\u001b[38;5;124m'\u001b[39m)\n\u001b[0;32m      6\u001b[0m \u001b[38;5;28;01melse\u001b[39;00m:\n",
            "\u001b[1;31mTypeError\u001b[0m: unsupported operand type(s) for ** or pow(): 'int' and 'type'"
          ]
        }
      ],
      "source": [
        "#Give a number\n",
        "a=4\n",
        "i=int\n",
        "if(a==2**i):\n",
        "    print('power of two')\n",
        "else:\n",
        "    print('not power of two')"
      ]
    },
    {
      "cell_type": "markdown",
      "id": "9e068675",
      "metadata": {
        "id": "9e068675"
      },
      "source": [
        "Q11. Write a Python program to check if a given year is a century year.\n",
        "\n",
        "[Hint: A century year is evenly divisible by 100.]\n"
      ]
    },
    {
      "cell_type": "code",
      "execution_count": null,
      "id": "7f462d48",
      "metadata": {
        "id": "7f462d48",
        "outputId": "c37dd2de-ad94-48a5-ea2c-fc961bf9d1a2"
      },
      "outputs": [
        {
          "name": "stdout",
          "output_type": "stream",
          "text": [
            "not a century year\n"
          ]
        }
      ],
      "source": [
        "#Give the year\n",
        "year=2023\n",
        "if(year%100==0):\n",
        "    print('century year')\n",
        "else:\n",
        "    print('not a century year')"
      ]
    },
    {
      "cell_type": "markdown",
      "id": "68782b49",
      "metadata": {
        "id": "68782b49"
      },
      "source": [
        "Q13.  Write a Python program to check if a number is a Fibonacci number.\n",
        "\n",
        "[Hint: A Fibonacci number is a number that is part of the Fibonacci sequence, where each number is the sum of the two preceding ones.]\n"
      ]
    },
    {
      "cell_type": "code",
      "execution_count": null,
      "id": "4833f9ce",
      "metadata": {
        "id": "4833f9ce",
        "outputId": "656116af-8638-4ae9-bc52-01d064094870"
      },
      "outputs": [
        {
          "ename": "SyntaxError",
          "evalue": "invalid syntax (3194530485.py, line 5)",
          "output_type": "error",
          "traceback": [
            "\u001b[1;36m  Cell \u001b[1;32mIn[8], line 5\u001b[1;36m\u001b[0m\n\u001b[1;33m    if(n==):\u001b[0m\n\u001b[1;37m          ^\u001b[0m\n\u001b[1;31mSyntaxError\u001b[0m\u001b[1;31m:\u001b[0m invalid syntax\n"
          ]
        }
      ],
      "source": [
        "#Enter a number say n\n",
        "i=8\n",
        "m=i-1\n",
        "n=i-2\n",
        "if(n==):\n",
        "    print('Fibonacci number')\n",
        "else:\n",
        "    print('Not')"
      ]
    },
    {
      "cell_type": "code",
      "execution_count": null,
      "id": "695cf545",
      "metadata": {
        "id": "695cf545"
      },
      "outputs": [],
      "source": []
    },
    {
      "cell_type": "code",
      "execution_count": null,
      "id": "5d9916d0",
      "metadata": {
        "id": "5d9916d0"
      },
      "outputs": [],
      "source": []
    },
    {
      "cell_type": "code",
      "execution_count": null,
      "id": "512a2110",
      "metadata": {
        "id": "512a2110"
      },
      "outputs": [],
      "source": []
    },
    {
      "cell_type": "markdown",
      "id": "5fcceb00",
      "metadata": {
        "id": "5fcceb00"
      },
      "source": [
        "Q15. Write a Python program to check if a given number is within a specific range.\n",
        "\n",
        "[Hint: The number is within the range if it is greater than or equal to the lower bound and less than or equal to the upper bound.]\n"
      ]
    },
    {
      "cell_type": "code",
      "execution_count": null,
      "id": "e6c0ac54",
      "metadata": {
        "id": "e6c0ac54",
        "outputId": "0bf66426-0884-4ca6-92ca-5a5b14e3c2e1"
      },
      "outputs": [
        {
          "name": "stdout",
          "output_type": "stream",
          "text": [
            "within specific range\n"
          ]
        }
      ],
      "source": [
        "#Give a number\n",
        "x=25\n",
        "#Here we take the range from 50 to -50\n",
        "if(-50 <= x <= 50):\n",
        "    print('within specific range')\n",
        "else:\n",
        "    print('not in specific range')"
      ]
    },
    {
      "cell_type": "markdown",
      "id": "46fa3d21",
      "metadata": {
        "id": "46fa3d21"
      },
      "source": [
        "Q16.  Write a Python program to check if a list contains duplicate elements.\n",
        "\n",
        "[Hint: The list contains duplicate elements if there are two or more elements with the same value.]\n"
      ]
    },
    {
      "cell_type": "code",
      "execution_count": null,
      "id": "7f27a33c",
      "metadata": {
        "id": "7f27a33c",
        "outputId": "ad3acbef-c6ef-48f5-8db6-97987023cf65"
      },
      "outputs": [
        {
          "name": "stdout",
          "output_type": "stream",
          "text": [
            "15\n",
            "11\n",
            "Duplicate found in the list\n"
          ]
        }
      ],
      "source": [
        "list=[15,40,5,9,'Ritwik',67,15,5,17,100,40,'Riya','Rtk','Ritwik','Sam']\n",
        "set={15,40,5,9,'Ritwik',67,15,5,17,100,40,'Riya','Rtk','Ritwik','Sam'}\n",
        "print(len(list))\n",
        "print(len(set))\n",
        "\n",
        "if(len(list)!=len(set)):\n",
        "    print('Duplicate found in the list')\n",
        "else:\n",
        "    print('No duplicate found in the list')\n",
        "    \n",
        "    \n",
        "# x='Rtk'\n",
        "# for x in list:\n",
        "#     if list.count(x)>1:\n",
        "#         print('Duplicate')\n",
        "#     else:\n",
        "#         print('Not')"
      ]
    },
    {
      "cell_type": "markdown",
      "id": "ed71fbaf",
      "metadata": {
        "id": "ed71fbaf"
      },
      "source": [
        "Q17. Write a Python program to check if a given number is a perfect number.\n",
        "\n",
        "[Hint: A perfect number is a positive integer that is equal to the sum of its proper divisors.]\n"
      ]
    },
    {
      "cell_type": "code",
      "execution_count": null,
      "id": "7d076965",
      "metadata": {
        "id": "7d076965"
      },
      "outputs": [],
      "source": [
        "n=15\n",
        "    "
      ]
    },
    {
      "cell_type": "markdown",
      "id": "32251471",
      "metadata": {
        "id": "32251471"
      },
      "source": [
        "Q18. Write a Python program to check the number of unique vowels in a list of words. Also, print them in alphabetical order.\n",
        "\n",
        "[Hint: The character is a vowel if it is 'a', 'e', 'i', 'o', or 'u', and a consonant otherwise. You can use Sets here.]\n"
      ]
    },
    {
      "cell_type": "code",
      "execution_count": null,
      "id": "6f208bc9",
      "metadata": {
        "id": "6f208bc9",
        "outputId": "bb7e79a4-98e0-4022-c217-c804ef782447"
      },
      "outputs": [
        {
          "ename": "SyntaxError",
          "evalue": "'return' outside function (3040994130.py, line 7)",
          "output_type": "error",
          "traceback": [
            "\u001b[1;36m  Cell \u001b[1;32mIn[44], line 7\u001b[1;36m\u001b[0m\n\u001b[1;33m    return\u001b[0m\n\u001b[1;37m    ^\u001b[0m\n\u001b[1;31mSyntaxError\u001b[0m\u001b[1;31m:\u001b[0m 'return' outside function\n"
          ]
        }
      ],
      "source": [
        "mylist = ['Ritwik']\n",
        "set = []\n",
        "for elm in mylist:\n",
        "    if elm[1] in 'aeiou':\n",
        "        set.append(elm)\n",
        "    else:\n",
        "        return\n",
        "    "
      ]
    },
    {
      "cell_type": "code",
      "execution_count": null,
      "id": "0a5a603e",
      "metadata": {
        "id": "0a5a603e"
      },
      "outputs": [],
      "source": []
    }
  ],
  "metadata": {
    "kernelspec": {
      "display_name": "Python 3 (ipykernel)",
      "language": "python",
      "name": "python3"
    },
    "language_info": {
      "codemirror_mode": {
        "name": "ipython",
        "version": 3
      },
      "file_extension": ".py",
      "mimetype": "text/x-python",
      "name": "python",
      "nbconvert_exporter": "python",
      "pygments_lexer": "ipython3",
      "version": "3.10.9"
    },
    "colab": {
      "provenance": [],
      "include_colab_link": true
    }
  },
  "nbformat": 4,
  "nbformat_minor": 5
}