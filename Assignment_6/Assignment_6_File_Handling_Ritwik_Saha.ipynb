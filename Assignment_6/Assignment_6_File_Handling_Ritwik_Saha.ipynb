{
  "cells": [
    {
      "cell_type": "markdown",
      "metadata": {
        "id": "view-in-github",
        "colab_type": "text"
      },
      "source": [
        "<a href=\"https://colab.research.google.com/github/mcodevb/Python-with-Mainul/blob/master/Assignment_6/Assignment_6_File_Handling_Ritwik_Saha.ipynb\" target=\"_parent\"><img src=\"https://colab.research.google.com/assets/colab-badge.svg\" alt=\"Open In Colab\"/></a>"
      ]
    },
    {
      "cell_type": "markdown",
      "id": "101eca9f",
      "metadata": {
        "id": "101eca9f"
      },
      "source": [
        "# FILE HANDLING"
      ]
    },
    {
      "cell_type": "markdown",
      "id": "ae5ae3c4",
      "metadata": {
        "id": "ae5ae3c4"
      },
      "source": [
        "### Q1. Write a Python program to count the number of lines in a text file named ‘ex1.txt’. Also, print the last line."
      ]
    },
    {
      "cell_type": "code",
      "execution_count": 4,
      "id": "f9f65a57",
      "metadata": {
        "colab": {
          "base_uri": "https://localhost:8080/"
        },
        "id": "f9f65a57",
        "outputId": "e99703e9-ca61-40aa-89a4-0620457d5976"
      },
      "outputs": [
        {
          "output_type": "stream",
          "name": "stdout",
          "text": [
            "Overwriting ex1.txt\n"
          ]
        }
      ],
      "source": [
        "%%writefile ex1.txt\n",
        "Hii I am Ritwik Saha.\n",
        "This is second line.\n",
        "This is third line.\n",
        "\n",
        "\n",
        "I am a student. This is the fourth line.\n",
        "This is 5th line.\n",
        "\n",
        "\n",
        "Hello everyone\n",
        "This is the Last line."
      ]
    },
    {
      "cell_type": "code",
      "execution_count": 5,
      "id": "2c534be7",
      "metadata": {
        "scrolled": true,
        "colab": {
          "base_uri": "https://localhost:8080/"
        },
        "id": "2c534be7",
        "outputId": "824e696c-ae6f-4ada-dc41-d411effcce5a"
      },
      "outputs": [
        {
          "output_type": "stream",
          "name": "stdout",
          "text": [
            "The number of lines in the text file is: 11\n",
            "The last line of the text file is: This is the Last line.\n",
            "\n"
          ]
        }
      ],
      "source": [
        "with open('ex1.txt','r') as ex1:\n",
        "    a = ex1.readlines()\n",
        "#     print(a)\n",
        "    print(\"The number of lines in the text file is:\",len(a))\n",
        "    print(\"The last line of the text file is:\",a[-1])"
      ]
    },
    {
      "cell_type": "markdown",
      "id": "1bfb23f7",
      "metadata": {
        "id": "1bfb23f7"
      },
      "source": [
        "#### remove the blank lines and save it in a new file"
      ]
    },
    {
      "cell_type": "code",
      "execution_count": 6,
      "id": "7109043f",
      "metadata": {
        "colab": {
          "base_uri": "https://localhost:8080/"
        },
        "id": "7109043f",
        "outputId": "1b8d9052-9fbd-4d63-b4db-be44d6c181e8"
      },
      "outputs": [
        {
          "output_type": "stream",
          "name": "stdout",
          "text": [
            "['Hii I am Ritwik Saha. \\n', 'This is second line.\\n', 'This is third line.\\n', 'I am a student. This is the fourth line.\\n', 'This is 5th line.\\n', 'Hello everyone\\n', 'This is the Last line.\\n']\n"
          ]
        }
      ],
      "source": [
        "with open('ex1.txt','r') as ex1:\n",
        "    a = ex1.readlines()\n",
        "#     print(a)\n",
        "    not_blank = []\n",
        "    for x in a:\n",
        "        if x!='\\n':\n",
        "            not_blank.append(x)\n",
        "#     print(not_blank)\n",
        "\n",
        "with open('remove_blanks_ex1.txt','w') as re:\n",
        "    re.writelines(not_blank)\n",
        "\n",
        "with open('remove_blanks_ex1.txt','r') as rer:\n",
        "    a=rer.readlines()\n",
        "    print(a)"
      ]
    },
    {
      "cell_type": "code",
      "execution_count": null,
      "id": "90ac3616",
      "metadata": {
        "id": "90ac3616"
      },
      "outputs": [],
      "source": []
    },
    {
      "cell_type": "markdown",
      "id": "27b26462",
      "metadata": {
        "id": "27b26462"
      },
      "source": [
        "### Q2. Write a Python program to find the longest word in a file."
      ]
    },
    {
      "cell_type": "code",
      "execution_count": 7,
      "id": "4dbb31b2",
      "metadata": {
        "colab": {
          "base_uri": "https://localhost:8080/"
        },
        "id": "4dbb31b2",
        "outputId": "cf05c477-f136-482e-dfae-284a72857cff"
      },
      "outputs": [
        {
          "output_type": "stream",
          "name": "stdout",
          "text": [
            "Writing python.txt\n"
          ]
        }
      ],
      "source": [
        "%%writefile python.txt\n",
        "Python is a high-level, general-purpose programming language.\n",
        "Its design philosophy emphasizes code readability with the use\n",
        "of significant indentation via the off-side rule."
      ]
    },
    {
      "cell_type": "code",
      "execution_count": null,
      "id": "17ab501c",
      "metadata": {
        "id": "17ab501c",
        "outputId": "1c23337c-ba50-4a25-c5fd-91fbcc7c7516"
      },
      "outputs": [
        {
          "name": "stdout",
          "output_type": "stream",
          "text": [
            "The longest word in the file is: generalpurpose\n"
          ]
        }
      ],
      "source": [
        "with open('python.txt','r') as pyth:\n",
        "    a = pyth.readlines()\n",
        "#     print(a)\n",
        "    lst1=[x.split() for x in a]\n",
        "#     print(lst1)\n",
        "    words = [element for innerlist in lst1 for element in innerlist]\n",
        "#     print(words)\n",
        "\n",
        "    # initializing punctuations string\n",
        "    punc = '''!()-[]{};:'\"\\,<>./?@#$%^&*_~'''\n",
        "    # Removing punctuations in string\n",
        "    # Using loop + punctuation string\n",
        "    punc_free_words = []\n",
        "    for x in words:\n",
        "        for ele in x:\n",
        "            if ele in punc:\n",
        "                x = x.replace(ele,\"\")\n",
        "        punc_free_words.append(x)\n",
        "#     print(punc_free_words)\n",
        "\n",
        "    punc_free_words_length = [len(x) for x in punc_free_words]\n",
        "#     print(punc_free_words_length)\n",
        "\n",
        "    max_length_of_word = max(punc_free_words_length)\n",
        "\n",
        "    for y in punc_free_words:\n",
        "        if( len(y) == max_length_of_word ):\n",
        "            print(f'The longest word in the file is: {y}')"
      ]
    },
    {
      "cell_type": "markdown",
      "id": "8ea03143",
      "metadata": {
        "id": "8ea03143"
      },
      "source": [
        "#### Alternative short way:"
      ]
    },
    {
      "cell_type": "code",
      "execution_count": null,
      "id": "3f7fcfde",
      "metadata": {
        "id": "3f7fcfde",
        "outputId": "cd8876ca-ad29-4f00-d986-fa5bbea05aed"
      },
      "outputs": [
        {
          "name": "stdout",
          "output_type": "stream",
          "text": [
            "The longest word in the file is: generalpurpose and its length is: 14\n"
          ]
        }
      ],
      "source": [
        "with open('python.txt','r') as pyth:\n",
        "    a = pyth.read()\n",
        "#     print(a)\n",
        "    # initializing punctuations string\n",
        "    punc = '''!()-[]{};:'\"\\,<>./?@#$%^&*_~'''\n",
        "    # Removing punctuations in string\n",
        "    b = ''\n",
        "    for character in a:\n",
        "        if character not in punc:\n",
        "#         if character.isalpha() or character == ' ':\n",
        "            b += character\n",
        "#     print(b)\n",
        "    words = b.split()\n",
        "#     print(words)\n",
        "\n",
        "    max_word = max(words, key=len)\n",
        "    print(f'The longest word in the file is: {max_word} and its length is: {len(max_word)}')"
      ]
    },
    {
      "cell_type": "markdown",
      "id": "4480721b",
      "metadata": {
        "id": "4480721b"
      },
      "source": [
        "#### remove punctuations"
      ]
    },
    {
      "cell_type": "code",
      "execution_count": null,
      "id": "7dbf383c",
      "metadata": {
        "id": "7dbf383c"
      },
      "outputs": [],
      "source": [
        "# # initializing string\n",
        "# test_str = \"Gfg, is best : for ! Geeks ;\"\n",
        "\n",
        "# # printing original string\n",
        "# print(\"The original string is : \" + test_str)\n",
        "\n",
        "# # initializing punctuations string\n",
        "# punc = '''!()-[]{};:'\"\\,<>./?@#$%^&*_~'''\n",
        "\n",
        "# # Removing punctuations in string\n",
        "# # Using loop + punctuation string\n",
        "# for ele in test_str:\n",
        "#     if ele in punc:\n",
        "#         test_str = test_str.replace(ele, \"\")\n",
        "\n",
        "# # printing result\n",
        "# print(\"The string after punctuation filter : \" + test_str)"
      ]
    },
    {
      "cell_type": "markdown",
      "id": "3f5cebcc",
      "metadata": {
        "id": "3f5cebcc"
      },
      "source": [
        "### Q3. Write a Python program to remove newline characters from a file."
      ]
    },
    {
      "cell_type": "code",
      "execution_count": null,
      "id": "72c4258f",
      "metadata": {
        "id": "72c4258f",
        "outputId": "300d56b0-360f-4b49-9138-01c90d0e6130"
      },
      "outputs": [
        {
          "name": "stdout",
          "output_type": "stream",
          "text": [
            "Overwriting test1.txt\n"
          ]
        }
      ],
      "source": [
        "%%writefile test1.txt\n",
        "Hii I am Ritwik Saha.\n",
        "This is second line.\n",
        "This is third line.\n",
        "I am a student.\n",
        "This is the Last line."
      ]
    },
    {
      "cell_type": "code",
      "execution_count": null,
      "id": "bc1b97bd",
      "metadata": {
        "id": "bc1b97bd",
        "outputId": "eff58471-210a-48ee-fc05-dcb489c4f49e"
      },
      "outputs": [
        {
          "name": "stdout",
          "output_type": "stream",
          "text": [
            "Hii I am Ritwik Saha. This is second line.This is third line.I am a student. This is the Last line.\n"
          ]
        }
      ],
      "source": [
        "with open('test1.txt','r') as t1:\n",
        "    a = t1.read()\n",
        "    newlist = a.replace(\"\\n\",\"\")\n",
        "    print(newlist)"
      ]
    },
    {
      "cell_type": "markdown",
      "id": "5fdb444b",
      "metadata": {
        "id": "5fdb444b"
      },
      "source": [
        "#### alternative way:"
      ]
    },
    {
      "cell_type": "code",
      "execution_count": null,
      "id": "f353ff55",
      "metadata": {
        "id": "f353ff55",
        "outputId": "15d53da6-5702-4d04-e008-47433b945500"
      },
      "outputs": [
        {
          "name": "stdout",
          "output_type": "stream",
          "text": [
            "After removing newline characters the file becomes:\n",
            "\n",
            "['Hii I am Ritwik Saha. ', 'This is second line.', 'This is third line.', 'I am a student. ', 'This is the Last line.']\n"
          ]
        }
      ],
      "source": [
        "with open('test1.txt','r') as t1:\n",
        "    a = t1.readlines()\n",
        "#     print(a)\n",
        "    print(\"After removing newline characters the file becomes:\\n\")\n",
        "    newlist = [ele.replace(\"\\n\",\"\") for ele in a]\n",
        "    print(newlist)"
      ]
    },
    {
      "cell_type": "code",
      "execution_count": null,
      "id": "65d3419e",
      "metadata": {
        "id": "65d3419e"
      },
      "outputs": [],
      "source": []
    },
    {
      "cell_type": "markdown",
      "id": "067a35af",
      "metadata": {
        "id": "067a35af"
      },
      "source": [
        "### Q4. Write a Python program to sort the content of a file alphabetically. You may do this for a list of names."
      ]
    },
    {
      "cell_type": "code",
      "execution_count": null,
      "id": "d0efe89a",
      "metadata": {
        "id": "d0efe89a",
        "outputId": "a1a0784b-4547-4572-e6b8-29cd5000d885"
      },
      "outputs": [
        {
          "name": "stdout",
          "output_type": "stream",
          "text": [
            "Overwriting names.txt\n"
          ]
        }
      ],
      "source": [
        "%%writefile names.txt\n",
        ",Abul sunny amal\n",
        "Biswajit,\n",
        "Ritwik, Som, Rit\n",
        "Mousumi\n",
        "Sudeshna Ananta, kamal\n",
        "Mainul\n",
        "Amit Sukumar Zahir, Chumki\n",
        "yasmim,"
      ]
    },
    {
      "cell_type": "code",
      "execution_count": null,
      "id": "45298eac",
      "metadata": {
        "id": "45298eac",
        "outputId": "1d58e52e-c838-487e-e954-7d1c31777a5a"
      },
      "outputs": [
        {
          "name": "stdout",
          "output_type": "stream",
          "text": [
            "['abul', 'amal', 'amit', 'ananta', 'biswajit', 'chumki', 'kamal', 'mainul', 'mousumi', 'rit', 'ritwik', 'som', 'sudeshna', 'sukumar', 'sunny', 'yasmim', 'zahir']\n"
          ]
        }
      ],
      "source": [
        "with open('names.txt','r') as nam:\n",
        "    newlist = sorted(nam.read().replace(',',' ').lower().split())\n",
        "    print(newlist)"
      ]
    },
    {
      "cell_type": "markdown",
      "id": "3298680b",
      "metadata": {
        "id": "3298680b"
      },
      "source": [
        "#### Alternative way:"
      ]
    },
    {
      "cell_type": "code",
      "execution_count": null,
      "id": "7fcfcfeb",
      "metadata": {
        "id": "7fcfcfeb",
        "outputId": "96accf8b-9f77-4852-cf39-739bddd4d89f"
      },
      "outputs": [
        {
          "name": "stdout",
          "output_type": "stream",
          "text": [
            "[',abul', 'amal', 'amit', 'ananta,', 'biswajit,', 'chumki', 'kamal', 'mainul', 'mousumi', 'rit', 'ritwik,', 'som,', 'sudeshna', 'sukumar', 'sunny', 'yasmim,', 'zahir,']\n"
          ]
        }
      ],
      "source": [
        "with open('names.txt','r') as nam:\n",
        "    a = nam.readlines()\n",
        "#     print(a)\n",
        "    name_lowercase = [x.lower() for x in a]\n",
        "#     print(name_lowercase)\n",
        "    words = [x.split() for x in name_lowercase]\n",
        "#     print(words)\n",
        "    newlist = [ele for innerlist in words for ele in innerlist]\n",
        "#     print(newlist)\n",
        "    newlist.sort()\n",
        "    print(newlist)"
      ]
    },
    {
      "cell_type": "code",
      "execution_count": null,
      "id": "8fabbee4",
      "metadata": {
        "id": "8fabbee4"
      },
      "outputs": [],
      "source": []
    },
    {
      "cell_type": "markdown",
      "id": "53962028",
      "metadata": {
        "id": "53962028"
      },
      "source": [
        "### Q5. Write a Python program to check if a file exists or not. If exists, write something into it."
      ]
    },
    {
      "cell_type": "code",
      "execution_count": null,
      "id": "b216a20b",
      "metadata": {
        "id": "b216a20b",
        "outputId": "b4c59d6a-ca44-4ff2-bcc3-19fb7ddec278"
      },
      "outputs": [
        {
          "name": "stdout",
          "output_type": "stream",
          "text": [
            "Overwriting ram.txt\n"
          ]
        }
      ],
      "source": [
        "%%writefile ram.txt\n",
        "This is a test file. I want to check wheather this text file exists or not."
      ]
    },
    {
      "cell_type": "code",
      "execution_count": null,
      "id": "da9aae26",
      "metadata": {
        "id": "da9aae26",
        "outputId": "45a8d122-cc09-49fb-8c60-90ab7471fdb5"
      },
      "outputs": [
        {
          "name": "stdout",
          "output_type": "stream",
          "text": [
            "This text file exists in this folder. The content of the file given below:\n",
            "This is a new line...I add this line.\n",
            "\n"
          ]
        }
      ],
      "source": [
        "import os\n",
        "\n",
        "file_name = 'ram.txt'\n",
        "\n",
        "if (os.path.exists(file_name)):\n",
        "    print('This text file exists in this folder. The content of the file given below:')\n",
        "    with open(file_name,'w') as f:\n",
        "        f.writelines(\"This is a new line...I add this line.\\n\")\n",
        "    with open(file_name,'r') as f:\n",
        "        print(f.read())\n",
        "else:\n",
        "    print(f'This text file {file_name} does not exists in this path.')\n",
        "\n"
      ]
    },
    {
      "cell_type": "code",
      "execution_count": null,
      "id": "39c447e7",
      "metadata": {
        "id": "39c447e7"
      },
      "outputs": [],
      "source": []
    },
    {
      "cell_type": "markdown",
      "id": "279089d7",
      "metadata": {
        "id": "279089d7"
      },
      "source": [
        "### Q6. Write a Python program to find the most frequent word in a text file."
      ]
    },
    {
      "cell_type": "code",
      "execution_count": null,
      "id": "1a83c177",
      "metadata": {
        "id": "1a83c177",
        "outputId": "255ee78e-0228-453f-8494-73740230ec3a"
      },
      "outputs": [
        {
          "name": "stdout",
          "output_type": "stream",
          "text": [
            "Overwriting test3.txt\n"
          ]
        }
      ],
      "source": [
        "%%writefile test3.txt\n",
        "apple banana pineapple guava grapes\n",
        "cucumber apple mango mango banana guava grapes grapes\n",
        "dragonfruit jackfruit mango mango grapes\n",
        "mango banana apple greenapple banana"
      ]
    },
    {
      "cell_type": "code",
      "execution_count": null,
      "id": "40d1d436",
      "metadata": {
        "id": "40d1d436",
        "outputId": "1ae5089a-6dfa-4bff-cc64-2001e1433937"
      },
      "outputs": [
        {
          "name": "stdout",
          "output_type": "stream",
          "text": [
            "Most frequent word in a text file is: mango\n"
          ]
        }
      ],
      "source": [
        "with open('test3.txt','r') as t2:\n",
        "    a = t2.readlines()\n",
        "\n",
        "    #remove punctuations\n",
        "\n",
        "    words = [x.split() for x in a]\n",
        "    newlist = [ele for innerlist in words for ele in innerlist]\n",
        "    lst=[]\n",
        "    for x in newlist:\n",
        "        lst.append(newlist.count(x))\n",
        "\n",
        "    words_and_frequencies = dict(zip(newlist,lst))\n",
        "#     print(words_and_frequencies)\n",
        "\n",
        "    frequencies = list(words_and_frequencies.values())\n",
        "#     print(frequencies)\n",
        "\n",
        "    maximum_frequency = max(frequencies)\n",
        "\n",
        "    for key,value in words_and_frequencies.items():\n",
        "        if (value == maximum_frequency):\n",
        "            print(f'Most frequent word in a text file is: {key}')\n",
        "\n"
      ]
    },
    {
      "cell_type": "code",
      "execution_count": null,
      "id": "9374c0ca",
      "metadata": {
        "id": "9374c0ca"
      },
      "outputs": [],
      "source": []
    },
    {
      "cell_type": "code",
      "execution_count": null,
      "id": "14a6dcd2",
      "metadata": {
        "id": "14a6dcd2"
      },
      "outputs": [],
      "source": [
        "# fruit = {'apple': 3, 'banana': 3, 'guava': 2, 'graps': 1, 'mango': 5}\n",
        "# n=len(fruit)\n",
        "# # print(n)\n",
        "# for key,value in fruit.items():\n",
        "#     if value == 5:\n",
        "#          print(key)"
      ]
    },
    {
      "cell_type": "markdown",
      "id": "f1a0fa3b",
      "metadata": {
        "id": "f1a0fa3b"
      },
      "source": [
        "### Q7. Write a Python program to find and replace a particular word in a text file."
      ]
    },
    {
      "cell_type": "code",
      "execution_count": null,
      "id": "2fbb5c9f",
      "metadata": {
        "id": "2fbb5c9f",
        "outputId": "d9171771-8eaa-4a61-c4d8-b19193bd47a7"
      },
      "outputs": [
        {
          "name": "stdout",
          "output_type": "stream",
          "text": [
            "Overwriting test4.txt\n"
          ]
        }
      ],
      "source": [
        "%%writefile test4.txt\n",
        "Ritwik Som Rit\n",
        "Mousumi\n",
        "Sudeshna Ananta kamal\n",
        "Mainul\n",
        "Amit Sukumar\n",
        "yasmim"
      ]
    },
    {
      "cell_type": "code",
      "execution_count": null,
      "id": "549a5e41",
      "metadata": {
        "id": "549a5e41"
      },
      "outputs": [],
      "source": [
        "search_word = \"Ananta\"\n",
        "\n",
        "replace_word = \"*RAJIB*\"\n",
        "\n",
        "with open('test4.txt', 'r') as filer:\n",
        "    data = filer.read()\n",
        "    data = data.replace(search_word, replace_word)\n",
        "\n",
        "with open('test4.txt', 'w') as filew:\n",
        "    filew.write(data)"
      ]
    },
    {
      "cell_type": "code",
      "execution_count": null,
      "id": "996a4a1a",
      "metadata": {
        "id": "996a4a1a",
        "outputId": "4dccd666-0c1b-4c58-dc43-6ebf140399a8"
      },
      "outputs": [
        {
          "name": "stdout",
          "output_type": "stream",
          "text": [
            "Ritwik Som Rit\n",
            "Mousumi \n",
            "Sudeshna *RAJIB* kamal\n",
            "Mainul \n",
            "Amit Sukumar\n",
            "yasmim\n",
            "\n"
          ]
        }
      ],
      "source": [
        "with open('test4.txt', 'r') as filer:\n",
        "    print(filer.read())"
      ]
    },
    {
      "cell_type": "code",
      "execution_count": null,
      "id": "9facd142",
      "metadata": {
        "id": "9facd142"
      },
      "outputs": [],
      "source": []
    },
    {
      "cell_type": "markdown",
      "id": "ae2d9f24",
      "metadata": {
        "id": "ae2d9f24"
      },
      "source": [
        "### Q8. Write a Python program to calculate the total number of words in a file."
      ]
    },
    {
      "cell_type": "code",
      "execution_count": null,
      "id": "98fc1dfd",
      "metadata": {
        "id": "98fc1dfd",
        "outputId": "ac448f57-4e97-478f-8bc3-b0dfdf3fd341"
      },
      "outputs": [
        {
          "name": "stdout",
          "output_type": "stream",
          "text": [
            "Writing paragraph.txt\n"
          ]
        }
      ],
      "source": [
        "%%writefile paragraph.txt\n",
        "Hello this is Ritwik. I am a student.\n",
        "I live in India.\n",
        "I am a student."
      ]
    },
    {
      "cell_type": "code",
      "execution_count": null,
      "id": "1f91d92a",
      "metadata": {
        "id": "1f91d92a",
        "outputId": "b3680af1-dc70-4dd7-9df1-9f41daefc11c"
      },
      "outputs": [
        {
          "name": "stdout",
          "output_type": "stream",
          "text": [
            "Total number of words in the text file is: 16\n"
          ]
        }
      ],
      "source": [
        "with open('paragraph.txt','r') as nam:\n",
        "    words = nam.read().split()\n",
        "#     print(words)\n",
        "    print(f'Total number of words in the text file is: {len(words)}')"
      ]
    },
    {
      "cell_type": "code",
      "execution_count": null,
      "id": "ac3e374b",
      "metadata": {
        "id": "ac3e374b"
      },
      "outputs": [],
      "source": [
        "#     a = nam.readlines()\n",
        "#     words = [x.split() for x in a]\n",
        "#     newlist = [ele for innerlist in words for ele in innerlist]\n",
        "#     print(f'The words in the given file are:\\n {newlist}')\n",
        "#     print(f'\\nTotal number of words in the text file is: {len(newlist)}')"
      ]
    },
    {
      "cell_type": "markdown",
      "id": "cfb078c0",
      "metadata": {
        "id": "cfb078c0"
      },
      "source": [
        "### Q9. Write a Python program to check if a file is empty or not."
      ]
    },
    {
      "cell_type": "code",
      "execution_count": null,
      "id": "278ea932",
      "metadata": {
        "id": "278ea932",
        "outputId": "e077d1f1-4878-4180-d544-17ad97402292"
      },
      "outputs": [
        {
          "name": "stdout",
          "output_type": "stream",
          "text": [
            "Overwriting test5.txt\n"
          ]
        }
      ],
      "source": [
        "%%writefile test5.txt\n",
        "hii"
      ]
    },
    {
      "cell_type": "code",
      "execution_count": null,
      "id": "82ca089d",
      "metadata": {
        "id": "82ca089d",
        "outputId": "da8a1952-367b-4356-ed09-123609b37f76"
      },
      "outputs": [
        {
          "name": "stdout",
          "output_type": "stream",
          "text": [
            "File is not empty. The contents of the file are given below:\n",
            "hii\n",
            "\n"
          ]
        }
      ],
      "source": [
        "import os\n",
        "\n",
        "with open('test5.txt','r') as filer:\n",
        "    if os.path.getsize('test5.txt')==0:\n",
        "        print(\"File is empty\")\n",
        "    else:\n",
        "        print(\"File is not empty. The contents of the file are given below:\")\n",
        "        with open('test5.txt','r') as f:\n",
        "            print(f.read())"
      ]
    },
    {
      "cell_type": "code",
      "execution_count": null,
      "id": "6e44c38b",
      "metadata": {
        "id": "6e44c38b"
      },
      "outputs": [],
      "source": []
    },
    {
      "cell_type": "markdown",
      "id": "7133f603",
      "metadata": {
        "id": "7133f603"
      },
      "source": [
        "### Q10. Write a Python function to count the number of occurrences of a word in a text file."
      ]
    },
    {
      "cell_type": "code",
      "execution_count": null,
      "id": "c23f8964",
      "metadata": {
        "id": "c23f8964",
        "outputId": "6922fbad-931b-4b7b-86a0-c017c4f2a81f"
      },
      "outputs": [
        {
          "name": "stdout",
          "output_type": "stream",
          "text": [
            "Overwriting test2.txt\n"
          ]
        }
      ],
      "source": [
        "%%writefile test2.txt\n",
        "Chandrayaan-3 is the third lunar exploration mission by the Indian Space Research Organisation (ISRO).\n",
        "It consists of a lander and the Pragyan rover similar to Chandrayaan-2, but does not have an orbiter.\n",
        "Its propulsion module behaves like a communication relay satellite.\n",
        "The propulsion module carries the lander and rover configuration until\n",
        "the spacecraft is in a 100 km lunar orbit."
      ]
    },
    {
      "cell_type": "code",
      "execution_count": null,
      "id": "dde398ef",
      "metadata": {
        "id": "dde398ef"
      },
      "outputs": [],
      "source": [
        "def count_number_of_words(textfile):\n",
        "    with open(textfile,'r') as t2:\n",
        "        a = t2.read()\n",
        "\n",
        "        punc = '''!()-[]{};:'\"\\,<>./?@#$%^&*_~'''\n",
        "\n",
        "        b = ''\n",
        "        for character in a:\n",
        "            if character not in punc:\n",
        "                b += character\n",
        "    #     print(b)\n",
        "        words = b.split()\n",
        "    #     print(words)\n",
        "\n",
        "        lst=[words.count(x) for x in words]\n",
        "\n",
        "        print(dict(zip(words,lst)))\n"
      ]
    },
    {
      "cell_type": "code",
      "execution_count": null,
      "id": "d25ae3a2",
      "metadata": {
        "id": "d25ae3a2",
        "outputId": "1b6a4ecc-18af-4c50-db16-f98b13c85bea"
      },
      "outputs": [
        {
          "name": "stdout",
          "output_type": "stream",
          "text": [
            "{'Chandrayaan3': 1, 'is': 2, 'the': 5, 'third': 1, 'lunar': 2, 'exploration': 1, 'mission': 1, 'by': 1, 'Indian': 1, 'Space': 1, 'Research': 1, 'Organisation': 1, 'ISRO': 1, 'It': 1, 'consists': 1, 'of': 1, 'a': 3, 'lander': 2, 'and': 2, 'Pragyan': 1, 'rover': 2, 'similar': 1, 'to': 1, 'Chandrayaan2': 1, 'but': 1, 'does': 1, 'not': 1, 'have': 1, 'an': 1, 'orbiter': 1, 'Its': 1, 'propulsion': 2, 'module': 2, 'behaves': 1, 'like': 1, 'communication': 1, 'relay': 1, 'satellite': 1, 'The': 1, 'carries': 1, 'configuration': 1, 'until': 1, 'spacecraft': 1, 'in': 1, '100': 1, 'km': 1, 'orbit': 1}\n"
          ]
        }
      ],
      "source": [
        "count_number_of_words('test2.txt')"
      ]
    },
    {
      "cell_type": "code",
      "execution_count": null,
      "id": "fb20528d",
      "metadata": {
        "id": "fb20528d",
        "outputId": "03be32e6-7f74-432d-9daa-40d70f48ccc0"
      },
      "outputs": [
        {
          "name": "stdout",
          "output_type": "stream",
          "text": [
            "{'Hii': 1, 'I': 2, 'am': 2, 'Ritwik': 1, 'Saha': 1, 'This': 3, 'is': 3, 'second': 1, 'line': 3, 'third': 1, 'a': 1, 'student': 1, 'the': 1, 'Last': 1}\n"
          ]
        }
      ],
      "source": [
        "count_number_of_words('test1.txt')"
      ]
    },
    {
      "cell_type": "code",
      "execution_count": null,
      "id": "494d4d61",
      "metadata": {
        "id": "494d4d61"
      },
      "outputs": [],
      "source": [
        "# with open('test2.txt','r') as t2:\n",
        "#     a = t2.readlines()\n",
        "# #     print(a)\n",
        "#     words = [x.split() for x in a]\n",
        "# #     print(words)\n",
        "#     newlist = [ele for innerlist in words for ele in innerlist]\n",
        "# #     print(newlist)\n",
        "#     lst=[]\n",
        "#     for x in newlist:\n",
        "#         lst.append(newlist.count(x))\n",
        "#     print(dict(zip(newlist,lst)))\n",
        "\n",
        ""
      ]
    },
    {
      "cell_type": "code",
      "execution_count": null,
      "id": "39b09679",
      "metadata": {
        "id": "39b09679"
      },
      "outputs": [],
      "source": [
        "# a=['abul','rit','rit']\n",
        "# lst=[]\n",
        "# for x in a:\n",
        "#     lst.append(a.count(x))\n",
        "# print(dict(zip(a,lst)))"
      ]
    },
    {
      "cell_type": "markdown",
      "id": "d3483993",
      "metadata": {
        "id": "d3483993"
      },
      "source": [
        "### ...............random list of names.............."
      ]
    },
    {
      "cell_type": "code",
      "execution_count": null,
      "id": "6ce2adb3",
      "metadata": {
        "id": "6ce2adb3",
        "outputId": "450abde7-8776-4876-9e4e-c08940237615"
      },
      "outputs": [
        {
          "name": "stdout",
          "output_type": "stream",
          "text": [
            "[4, 8, 1, 10, 5]\n"
          ]
        }
      ],
      "source": [
        "# import random\n",
        "from random import *\n",
        "lst=[randint(1,10) for _ in range(5)]\n",
        "print(lst)"
      ]
    },
    {
      "cell_type": "code",
      "execution_count": null,
      "id": "4954c936",
      "metadata": {
        "id": "4954c936",
        "outputId": "10f4b0f5-5b1f-4c9e-ad5b-06c7682dc6d2"
      },
      "outputs": [
        {
          "name": "stdout",
          "output_type": "stream",
          "text": [
            "['Ritwik', 'Sudeshna', 'Abul', 'Mousumi', 'Biswajit', 'Mainul']\n",
            "[1, 5, 2, 3, 0, 4, 4, 1, 5, 2, 4, 4, 1, 4, 1, 5, 2, 1]\n",
            "['Sudeshna', 'Mainul', 'Abul', 'Mousumi', 'Ritwik', 'Biswajit', 'Biswajit', 'Sudeshna', 'Mainul', 'Abul', 'Biswajit', 'Biswajit', 'Sudeshna', 'Biswajit', 'Sudeshna', 'Mainul', 'Abul', 'Sudeshna']\n",
            "{'Sudeshna': 5, 'Mainul': 3, 'Abul': 3, 'Mousumi': 1, 'Ritwik': 1, 'Biswajit': 5}\n"
          ]
        }
      ],
      "source": [
        "from random import *\n",
        "names = 'Ritwik Sudeshna Abul Mousumi Biswajit Mainul'\n",
        "name_list = names.split()\n",
        "print(name_list)\n",
        "\n",
        "new_lst = []\n",
        "atleast_once = list(range(len(name_list)))\n",
        "# print(atleast_once)\n",
        "\n",
        "shuffle(atleast_once)\n",
        "# print(atleast_once)\n",
        "\n",
        "idxs = atleast_once + [randint(0, len(name_list)-1) for i in range(12)]\n",
        "print(idxs)\n",
        "\n",
        "for idx in idxs:\n",
        "    new_lst.append(name_list[idx])\n",
        "\n",
        "print(new_lst)\n",
        "counter = [new_lst.count(x) for x in new_lst]\n",
        "# print(counter)\n",
        "\n",
        "dictionary = dict(zip(new_lst, counter))\n",
        "\n",
        "print(dictionary)"
      ]
    },
    {
      "cell_type": "code",
      "execution_count": null,
      "id": "c0246019",
      "metadata": {
        "id": "c0246019",
        "outputId": "08b0bd3f-b9b6-48dd-edad-2ab910ba8461"
      },
      "outputs": [
        {
          "name": "stdout",
          "output_type": "stream",
          "text": [
            "[0, 1, 2, 3, 4, 5]\n"
          ]
        }
      ],
      "source": [
        "lst = list(range(6))\n",
        "print(lst)"
      ]
    },
    {
      "cell_type": "code",
      "execution_count": null,
      "id": "11031f02",
      "metadata": {
        "id": "11031f02"
      },
      "outputs": [],
      "source": []
    },
    {
      "cell_type": "markdown",
      "id": "693d91a2",
      "metadata": {
        "id": "693d91a2"
      },
      "source": [
        "### Q11. Write a Python function to remove duplicate lines from a text file."
      ]
    },
    {
      "cell_type": "code",
      "execution_count": null,
      "id": "a4f770e6",
      "metadata": {
        "id": "a4f770e6",
        "outputId": "2e8406c1-83fa-4fbc-ae4a-8f60226e5763"
      },
      "outputs": [
        {
          "name": "stdout",
          "output_type": "stream",
          "text": [
            "Overwriting ex2.txt\n"
          ]
        }
      ],
      "source": [
        "%%writefile ex2.txt\n",
        "Hii I am Ritwik Saha.\n",
        "This is the Last line.\n",
        "This is second line.\n",
        "This is third line.\n",
        "I am a student. This is the fourth line.\n",
        "This is 5th line.\n",
        "Hello everyone\n",
        "This is second line.\n",
        "This is third line.\n",
        "This is the Last line.\n",
        "This is third line.\n",
        "I am a student. This is the fourth line.\n",
        "what are you doing?"
      ]
    },
    {
      "cell_type": "code",
      "execution_count": null,
      "id": "bba87500",
      "metadata": {
        "id": "bba87500"
      },
      "outputs": [],
      "source": [
        "def remove_duplicate_lines(file_name):\n",
        "    with open(file_name,'r') as f:\n",
        "        a = f.readlines()\n",
        "        unique_sentence = set(a)\n",
        "\n",
        "        unique_sentence_list = list(unique_sentence)\n",
        "\n",
        "        new_file_name = 'unique'+file_name\n",
        "        with open(new_file_name,'w') as fw:\n",
        "            fw.writelines(unique_sentence_list)\n",
        "\n",
        "    print('After removing duplicates lines, the elements of the new text file are:\\n')\n",
        "    with open(new_file_name,'r') as f:\n",
        "        print(f.read())"
      ]
    },
    {
      "cell_type": "code",
      "execution_count": null,
      "id": "1b931f0d",
      "metadata": {
        "id": "1b931f0d",
        "outputId": "cc775fd4-05af-4bce-8c6c-8ad9e7f06d04"
      },
      "outputs": [
        {
          "name": "stdout",
          "output_type": "stream",
          "text": [
            "After removing duplicates lines, the elements of the new text file are:\n",
            "\n",
            "This is second line.\n",
            "Hii I am Ritwik Saha. \n",
            "This is 5th line.\n",
            "what are you doing?\n",
            "This is third line.\n",
            "I am a student. This is the fourth line.\n",
            "Hello everyone\n",
            "This is the Last line.\n",
            "\n"
          ]
        }
      ],
      "source": [
        "remove_duplicate_lines('ex2.txt')"
      ]
    },
    {
      "cell_type": "code",
      "execution_count": null,
      "id": "2b1fc7a1",
      "metadata": {
        "id": "2b1fc7a1"
      },
      "outputs": [],
      "source": []
    },
    {
      "cell_type": "markdown",
      "id": "c68ad155",
      "metadata": {
        "id": "c68ad155"
      },
      "source": [
        "### Q12. Write a Python function to find the average length of words in a text file."
      ]
    },
    {
      "cell_type": "code",
      "execution_count": null,
      "id": "75f0c038",
      "metadata": {
        "id": "75f0c038",
        "outputId": "2d778951-96ad-4b6c-d38a-92dcc8b38905"
      },
      "outputs": [
        {
          "name": "stdout",
          "output_type": "stream",
          "text": [
            ",Abul sunny amal\n",
            "Biswajit, \n",
            "Ritwik, Som, Rit\n",
            "Mousumi \n",
            "Sudeshna Ananta, kamal\n",
            "Mainul \n",
            "Amit Sukumar Zahir, Chumki\n",
            "yasmim,\n",
            "\n"
          ]
        }
      ],
      "source": [
        "with open('names.txt','r') as f:\n",
        "    print(f.read())"
      ]
    },
    {
      "cell_type": "code",
      "execution_count": null,
      "id": "81f9dfe8",
      "metadata": {
        "id": "81f9dfe8"
      },
      "outputs": [],
      "source": [
        "def find_avg_length_of_words(text_file):\n",
        "    with open(text_file,'r') as t2:\n",
        "        a = t2.read()\n",
        "        punc = '''!()-[]{};:'\"\\,<>./?@#$%^&*_~'''\n",
        "\n",
        "        b = ''\n",
        "        for character in a:\n",
        "            if character not in punc:\n",
        "                b += character\n",
        "#         print(b)\n",
        "        words = b.split()\n",
        "#         print(words)\n",
        "        lengths = [len(word) for word in words]\n",
        "#         print(lengths)\n",
        "        average_length_of_the_words = sum(lengths)//len(lengths)\n",
        "        print('average length of words in the text file is:',average_length_of_the_words)"
      ]
    },
    {
      "cell_type": "code",
      "execution_count": null,
      "id": "b6c80812",
      "metadata": {
        "id": "b6c80812",
        "outputId": "15b23b10-6ffd-4d26-a553-998b3b7fe24d"
      },
      "outputs": [
        {
          "name": "stdout",
          "output_type": "stream",
          "text": [
            "average length of words in the text file is: 5\n"
          ]
        }
      ],
      "source": [
        "find_avg_length_of_words('names.txt')"
      ]
    },
    {
      "cell_type": "code",
      "execution_count": null,
      "id": "ac2a6888",
      "metadata": {
        "id": "ac2a6888"
      },
      "outputs": [],
      "source": []
    },
    {
      "cell_type": "code",
      "execution_count": null,
      "id": "e59db240",
      "metadata": {
        "id": "e59db240"
      },
      "outputs": [],
      "source": [
        "# words = ['hello', 'hi', 'i', 'am', 'ritwik', 'saha', 'how', 'are', 'you', 'sampreeti']\n",
        "# lengths = [len(word) for word in words]\n",
        "# print(lengths)\n",
        "# average_length_of_the_words = sum(lengths)//len(lengths)\n",
        "# print(average_length_of_the_words)"
      ]
    },
    {
      "cell_type": "markdown",
      "id": "ad994316",
      "metadata": {
        "id": "ad994316"
      },
      "source": [
        "### Q13. Write a Python program to encrypt the contents of a text file using a Caesar cipher. Also, write the decryption function."
      ]
    },
    {
      "cell_type": "code",
      "execution_count": null,
      "id": "718d7778",
      "metadata": {
        "id": "718d7778",
        "outputId": "03fd23b1-7b48-4ecb-bf13-8953abf9541f"
      },
      "outputs": [
        {
          "name": "stdout",
          "output_type": "stream",
          "text": [
            "Original message: hello Ritwik your password is ritwik65SAHA\n",
            "Encrypted result: qnuux Arcfrt hxda yjbbfxam rb arcfrt65BJQJ\n",
            "Decrypted result: hello Ritwik your password is ritwik65SAHA\n"
          ]
        }
      ],
      "source": [
        "message = 'hello Ritwik your password is ritwik65SAHA'\n",
        "print('Original message:',message)\n",
        "encrypted_result = ''\n",
        "n=9  #shifting by n characters\n",
        "\n",
        "for char in message:\n",
        "    if char.isupper():\n",
        "        encrypted_result = encrypted_result+chr((ord(char)+n-65)%26 + 65)\n",
        "    elif char.islower():\n",
        "        encrypted_result = encrypted_result+chr((ord(char)+n-97)%26 + 97)\n",
        "    else:\n",
        "        encrypted_result = encrypted_result + char\n",
        "\n",
        "print('Encrypted result:',encrypted_result)\n",
        "\n",
        "decrypted_result = ''\n",
        "\n",
        "for char in encrypted_result:\n",
        "    if char.isupper():\n",
        "        decrypted_result = decrypted_result+chr((ord(char)-n-65+26)%26 + 65)\n",
        "    elif char.islower():\n",
        "        decrypted_result = decrypted_result+chr((ord(char)-n-97+26)%26 + 97)\n",
        "    else:\n",
        "        decrypted_result = decrypted_result + char\n",
        "\n",
        "print('Decrypted result:',decrypted_result)"
      ]
    },
    {
      "cell_type": "code",
      "execution_count": null,
      "id": "39967e99",
      "metadata": {
        "id": "39967e99"
      },
      "outputs": [],
      "source": [
        "# x='935'\n",
        "# x.isdigit()"
      ]
    },
    {
      "cell_type": "code",
      "execution_count": null,
      "id": "cc2b3fca",
      "metadata": {
        "id": "cc2b3fca"
      },
      "outputs": [],
      "source": [
        "# 9%9"
      ]
    },
    {
      "cell_type": "code",
      "execution_count": null,
      "id": "7612d439",
      "metadata": {
        "id": "7612d439"
      },
      "outputs": [],
      "source": []
    },
    {
      "cell_type": "markdown",
      "id": "36e87581",
      "metadata": {
        "id": "36e87581"
      },
      "source": [
        "### Q14. Write a Python program to convert the contents of a text file to uppercase."
      ]
    },
    {
      "cell_type": "code",
      "execution_count": null,
      "id": "05a2afe4",
      "metadata": {
        "id": "05a2afe4",
        "outputId": "8de7e95c-7a22-401c-a69f-d7a6d4b687ac"
      },
      "outputs": [
        {
          "name": "stdout",
          "output_type": "stream",
          "text": [
            "Overwriting lowercase.txt\n"
          ]
        }
      ],
      "source": [
        "%%writefile lowercase.txt\n",
        "hii i am ritwik. this IS a trial text file. i want to convert\n",
        "all the words to uppercase."
      ]
    },
    {
      "cell_type": "code",
      "execution_count": null,
      "id": "eb83d34b",
      "metadata": {
        "id": "eb83d34b"
      },
      "outputs": [],
      "source": [
        "with open('lowercase.txt','r') as read_file:\n",
        "    with open('uppercase.txt','w') as write_file:\n",
        "        for line in read_file:\n",
        "            write_file.write(line.upper())\n",
        ""
      ]
    },
    {
      "cell_type": "code",
      "execution_count": null,
      "id": "e4ace377",
      "metadata": {
        "id": "e4ace377",
        "outputId": "f2e1db6e-aecb-4f9e-87c0-7d51a878fe6f"
      },
      "outputs": [
        {
          "name": "stdout",
          "output_type": "stream",
          "text": [
            "HII I AM RITWIK. THIS IS A TRIAL TEXT FILE. I WANT TO CONVERT\n",
            "ALL THE WORDS TO UPPERCASE.\n",
            "\n"
          ]
        }
      ],
      "source": [
        "with open('uppercase.txt','r') as r:\n",
        "       print(r.read())"
      ]
    },
    {
      "cell_type": "code",
      "execution_count": null,
      "id": "30e9a4e3",
      "metadata": {
        "id": "30e9a4e3"
      },
      "outputs": [],
      "source": []
    },
    {
      "cell_type": "code",
      "execution_count": null,
      "id": "c25a02f4",
      "metadata": {
        "id": "c25a02f4"
      },
      "outputs": [],
      "source": [
        "# with open('lowercase.txt','r') as f:\n",
        "#     words = f.read().split()\n",
        "#     uppercase = []\n",
        "#     for word in words:\n",
        "#         uppercase.append(word.upper())\n",
        "\n",
        "#     print(uppercase)\n",
        "\n",
        "#     with open('uppercase.txt','w') as w:\n",
        "#         w.writelines(uppercase)\n",
        "\n",
        "# with open('uppercase.txt','r') as r:\n",
        "#        print(r.readlines())"
      ]
    },
    {
      "cell_type": "markdown",
      "id": "e712c08c",
      "metadata": {
        "id": "e712c08c"
      },
      "source": [
        "### Q15. Create a script that accepts a text file as input and checks if it contains any palindromic words. Write the palindromic words to a new file called \"palindromes.txt\"."
      ]
    },
    {
      "cell_type": "code",
      "execution_count": null,
      "id": "11f4e0f6",
      "metadata": {
        "id": "11f4e0f6",
        "outputId": "755159fc-9a31-4543-e24e-4be48739ecfc"
      },
      "outputs": [
        {
          "name": "stdout",
          "output_type": "stream",
          "text": [
            "Overwriting script.txt\n"
          ]
        }
      ],
      "source": [
        "%%writefile script.txt\n",
        "we want to check palindromic words in this text file.\n",
        "liril..., Mam, hello,\n",
        "doD\n",
        "level wow\n",
        "eye, dog , cat.\n"
      ]
    },
    {
      "cell_type": "code",
      "execution_count": null,
      "id": "576fbc93",
      "metadata": {
        "id": "576fbc93"
      },
      "outputs": [],
      "source": [
        "with open('script.txt','r') as f:\n",
        "    with open('palindromes.txt','w') as w:\n",
        "        a = f.read()\n",
        "        punc = '''!()-[]{};:'\"\\,<>./?@#$%^&*_~'''\n",
        "        b = ''\n",
        "        for character in a:\n",
        "            if character not in punc:\n",
        "                b += character\n",
        "#         print(b)\n",
        "        words = b.split()\n",
        "        lowercase_words = [word.lower() for word in words]\n",
        "#         print(lowercase_words)\n",
        "        palindromic_words=[]\n",
        "        for word in lowercase_words:\n",
        "            characters = []\n",
        "            for char in word:\n",
        "                characters.append(char)\n",
        "            rev_characters = characters[::-1]\n",
        "            rev_word = ''.join(rev_characters)\n",
        "            if(word == rev_word):\n",
        "                palindromic_words.append(word)\n",
        "#         print(palindromic_words)\n",
        "        w.writelines('The palindromic words are:\\n')\n",
        "        for x in palindromic_words:\n",
        "            w.writelines(x+'\\n')"
      ]
    },
    {
      "cell_type": "code",
      "execution_count": null,
      "id": "772ba544",
      "metadata": {
        "id": "772ba544",
        "outputId": "b53f3e59-237b-4340-e4fb-b71ed8ccab7c"
      },
      "outputs": [
        {
          "name": "stdout",
          "output_type": "stream",
          "text": [
            "The palindromic words are:\n",
            "liril\n",
            "mam\n",
            "dod\n",
            "level\n",
            "wow\n",
            "eye\n",
            "\n"
          ]
        }
      ],
      "source": [
        "with open('palindromes.txt','r') as f:\n",
        "    a = f.read()\n",
        "    print(a)"
      ]
    },
    {
      "cell_type": "code",
      "execution_count": null,
      "id": "a01a2aef",
      "metadata": {
        "id": "a01a2aef"
      },
      "outputs": [],
      "source": []
    },
    {
      "cell_type": "code",
      "execution_count": null,
      "id": "48a5cb3c",
      "metadata": {
        "id": "48a5cb3c"
      },
      "outputs": [],
      "source": [
        "# word = 'liril'\n",
        "# characters = []\n",
        "# for char in word:\n",
        "#     characters.append(char)\n",
        "# # print(characters)\n",
        "# rev_characters = characters[::-1]\n",
        "# # print(rev_characters)\n",
        "# rev_word = ''.join(rev_characters)\n",
        "# # print(rev_word)\n",
        "# if(word == rev_word):\n",
        "#     print('palindrome')\n",
        "# else:\n",
        "#     print('not palindrome')"
      ]
    },
    {
      "cell_type": "markdown",
      "id": "4a461c56",
      "metadata": {
        "id": "4a461c56"
      },
      "source": [
        "### Q16. Write a program that prompts the user for a directory path. The program should traverse all text files within that directory (and its subdirectories) and count the total number of words across all files."
      ]
    },
    {
      "cell_type": "code",
      "execution_count": null,
      "id": "604ee59c",
      "metadata": {
        "id": "604ee59c",
        "outputId": "1532ef9d-49d5-4c1f-841e-f9df4c3f37a7"
      },
      "outputs": [
        {
          "name": "stdout",
          "output_type": "stream",
          "text": [
            "Overwriting words.txt\n"
          ]
        }
      ],
      "source": [
        "%%writefile words.txt\n",
        "Hii I am Ritwik Saha.\n",
        "This is second line.\n",
        "This is third line.\n",
        "I am a student. This is the fourth line.\n",
        "This is 5th line.\n",
        "Hello everyone\n",
        "This is the Last line."
      ]
    },
    {
      "cell_type": "code",
      "execution_count": null,
      "id": "81be7ab2",
      "metadata": {
        "id": "81be7ab2",
        "outputId": "da342cc1-9249-4639-dedb-36c6debec76c"
      },
      "outputs": [
        {
          "name": "stdout",
          "output_type": "stream",
          "text": [
            "give a directory path:\n",
            "C:\\\\Users\\\\USER\\\\Desktop\\\\Python Programs\n",
            "C:\\\\Users\\\\USER\\\\Desktop\\\\Python Programs\n"
          ]
        }
      ],
      "source": [
        "import os\n",
        "\n",
        "dirpath = input('give a directory path:\\n')\n",
        "print(dirpath)\n",
        "with open(r'dirpath','r') as f:\n",
        "    a = f.read().split()\n",
        "#     print(a)\n",
        "    print('Total number of words across all files:', len(a))"
      ]
    },
    {
      "cell_type": "code",
      "execution_count": null,
      "id": "f12ed2b9",
      "metadata": {
        "id": "f12ed2b9",
        "outputId": "0e86be6b-6f75-4e4e-e5d7-ff5193a32e76"
      },
      "outputs": [
        {
          "data": {
            "text/plain": [
              "'C:\\\\Users\\\\USER\\\\Desktop\\\\Python Programs'"
            ]
          },
          "execution_count": 12,
          "metadata": {},
          "output_type": "execute_result"
        }
      ],
      "source": [
        "pwd words.txt"
      ]
    },
    {
      "cell_type": "code",
      "execution_count": null,
      "id": "1e18a249",
      "metadata": {
        "id": "1e18a249",
        "outputId": "de61b325-43c2-4cf3-9bb1-78146fdb1919"
      },
      "outputs": [
        {
          "ename": "PermissionError",
          "evalue": "[Errno 13] Permission denied: 'C:\\\\\\\\Users\\\\\\\\USER\\\\\\\\Desktop\\\\\\\\Python Programs'",
          "output_type": "error",
          "traceback": [
            "\u001b[1;31m---------------------------------------------------------------------------\u001b[0m",
            "\u001b[1;31mPermissionError\u001b[0m                           Traceback (most recent call last)",
            "Cell \u001b[1;32mIn[19], line 6\u001b[0m\n\u001b[0;32m      1\u001b[0m \u001b[38;5;66;03m# with open(r\"C:\\Users\\USER\\Desktop\\Python Programs\",'r') as f:\u001b[39;00m\n\u001b[0;32m      2\u001b[0m \u001b[38;5;66;03m#     a = f.read().split()\u001b[39;00m\n\u001b[0;32m      3\u001b[0m \u001b[38;5;66;03m# #     print(a)\u001b[39;00m\n\u001b[0;32m      4\u001b[0m \u001b[38;5;66;03m#     print('Total number of words across all files:', len(a))\u001b[39;00m\n\u001b[1;32m----> 6\u001b[0m fp \u001b[38;5;241m=\u001b[39m \u001b[38;5;28;43mopen\u001b[39;49m\u001b[43m(\u001b[49m\u001b[38;5;124;43mr\u001b[39;49m\u001b[38;5;124;43m'\u001b[39;49m\u001b[38;5;124;43mC:\u001b[39;49m\u001b[38;5;130;43;01m\\\\\u001b[39;49;00m\u001b[38;5;124;43mUsers\u001b[39;49m\u001b[38;5;130;43;01m\\\\\u001b[39;49;00m\u001b[38;5;124;43mUSER\u001b[39;49m\u001b[38;5;130;43;01m\\\\\u001b[39;49;00m\u001b[38;5;124;43mDesktop\u001b[39;49m\u001b[38;5;130;43;01m\\\\\u001b[39;49;00m\u001b[38;5;124;43mPython Programs\u001b[39;49m\u001b[38;5;124;43m'\u001b[39;49m\u001b[43m,\u001b[49m\u001b[43m \u001b[49m\u001b[38;5;124;43m'\u001b[39;49m\u001b[38;5;124;43mr\u001b[39;49m\u001b[38;5;124;43m'\u001b[39;49m\u001b[43m)\u001b[49m\n\u001b[0;32m      7\u001b[0m \u001b[38;5;66;03m# read file\u001b[39;00m\n\u001b[0;32m      8\u001b[0m \u001b[38;5;28mprint\u001b[39m(fp\u001b[38;5;241m.\u001b[39mread())\n",
            "File \u001b[1;32m~\\anaconda3\\lib\\site-packages\\IPython\\core\\interactiveshell.py:282\u001b[0m, in \u001b[0;36m_modified_open\u001b[1;34m(file, *args, **kwargs)\u001b[0m\n\u001b[0;32m    275\u001b[0m \u001b[38;5;28;01mif\u001b[39;00m file \u001b[38;5;129;01min\u001b[39;00m {\u001b[38;5;241m0\u001b[39m, \u001b[38;5;241m1\u001b[39m, \u001b[38;5;241m2\u001b[39m}:\n\u001b[0;32m    276\u001b[0m     \u001b[38;5;28;01mraise\u001b[39;00m \u001b[38;5;167;01mValueError\u001b[39;00m(\n\u001b[0;32m    277\u001b[0m         \u001b[38;5;124mf\u001b[39m\u001b[38;5;124m\"\u001b[39m\u001b[38;5;124mIPython won\u001b[39m\u001b[38;5;124m'\u001b[39m\u001b[38;5;124mt let you open fd=\u001b[39m\u001b[38;5;132;01m{\u001b[39;00mfile\u001b[38;5;132;01m}\u001b[39;00m\u001b[38;5;124m by default \u001b[39m\u001b[38;5;124m\"\u001b[39m\n\u001b[0;32m    278\u001b[0m         \u001b[38;5;124m\"\u001b[39m\u001b[38;5;124mas it is likely to crash IPython. If you know what you are doing, \u001b[39m\u001b[38;5;124m\"\u001b[39m\n\u001b[0;32m    279\u001b[0m         \u001b[38;5;124m\"\u001b[39m\u001b[38;5;124myou can use builtins\u001b[39m\u001b[38;5;124m'\u001b[39m\u001b[38;5;124m open.\u001b[39m\u001b[38;5;124m\"\u001b[39m\n\u001b[0;32m    280\u001b[0m     )\n\u001b[1;32m--> 282\u001b[0m \u001b[38;5;28;01mreturn\u001b[39;00m io_open(file, \u001b[38;5;241m*\u001b[39margs, \u001b[38;5;241m*\u001b[39m\u001b[38;5;241m*\u001b[39mkwargs)\n",
            "\u001b[1;31mPermissionError\u001b[0m: [Errno 13] Permission denied: 'C:\\\\\\\\Users\\\\\\\\USER\\\\\\\\Desktop\\\\\\\\Python Programs'"
          ]
        }
      ],
      "source": [
        "# with open(r\"C:\\Users\\USER\\Desktop\\Python Programs\",'r') as f:\n",
        "#     a = f.read().split()\n",
        "# #     print(a)\n",
        "#     print('Total number of words across all files:', len(a))\n",
        "\n",
        "fp = open(r'C:\\\\Users\\\\USER\\\\Desktop\\\\Python Programs', 'r')\n",
        "# read file\n",
        "print(fp.read())\n",
        "# Closing the file after reading\n",
        "fp.close()"
      ]
    },
    {
      "cell_type": "code",
      "execution_count": null,
      "id": "4c38b248",
      "metadata": {
        "id": "4c38b248"
      },
      "outputs": [],
      "source": []
    },
    {
      "cell_type": "code",
      "execution_count": null,
      "id": "7a175476",
      "metadata": {
        "id": "7a175476"
      },
      "outputs": [],
      "source": []
    },
    {
      "cell_type": "markdown",
      "id": "fa1f56e3",
      "metadata": {
        "id": "fa1f56e3"
      },
      "source": [
        "### Q17. Create a program that reads a text file and identifies the most frequent letter in its content. Prompt the user to enter the file name and display the most frequent letter along with its count."
      ]
    },
    {
      "cell_type": "code",
      "execution_count": null,
      "id": "6a5d35b2",
      "metadata": {
        "id": "6a5d35b2"
      },
      "outputs": [],
      "source": []
    },
    {
      "cell_type": "code",
      "execution_count": null,
      "id": "7f82db5b",
      "metadata": {
        "id": "7f82db5b"
      },
      "outputs": [],
      "source": []
    },
    {
      "cell_type": "code",
      "execution_count": null,
      "id": "00850f25",
      "metadata": {
        "id": "00850f25"
      },
      "outputs": [],
      "source": []
    },
    {
      "cell_type": "markdown",
      "id": "d317161d",
      "metadata": {
        "id": "d317161d"
      },
      "source": [
        "### Q18. Create a program that reads a text file and identifies all the unique words in its content. Prompt the user to enter the file name and display the unique words in alphabetical order."
      ]
    },
    {
      "cell_type": "code",
      "execution_count": null,
      "id": "64451203",
      "metadata": {
        "id": "64451203",
        "outputId": "420deb8d-1a90-4c03-b6a9-9ece47661e03"
      },
      "outputs": [
        {
          "name": "stdout",
          "output_type": "stream",
          "text": [
            "Overwriting text6.txt\n"
          ]
        }
      ],
      "source": [
        "%%writefile text6.txt\n",
        "apple ,banana pineapple guava grapes\n",
        "cucumber ,apple mango mango banana guava grapes grapes\n",
        "dragonfruit ...jackfruit mango mango grapes\n",
        "mango banana apple greenapple banana \"hello\",??"
      ]
    },
    {
      "cell_type": "code",
      "execution_count": null,
      "id": "ee71fce8",
      "metadata": {
        "id": "ee71fce8",
        "outputId": "2b731c61-84bf-4791-bd05-4f4765c41823"
      },
      "outputs": [
        {
          "name": "stdout",
          "output_type": "stream",
          "text": [
            "['apple', 'banana', 'cucumber', 'dragonfruit', 'grapes', 'greenapple', 'guava', 'hello', 'jackfruit', 'mango', 'pineapple']\n"
          ]
        }
      ],
      "source": [
        "with open('text6.txt','r') as f:\n",
        "    a = f.read()\n",
        "    punc = '''!()-[]{};:'\"\\,<>./?@#$%^&*_~'''\n",
        "    b = ''\n",
        "    for character in a:\n",
        "        if character not in punc:\n",
        "            b += character\n",
        "    words = b.split()\n",
        "    unique_words = list(set(words))\n",
        "    unique_words.sort()\n",
        "    print(unique_words)"
      ]
    },
    {
      "cell_type": "code",
      "execution_count": null,
      "id": "95f5dc54",
      "metadata": {
        "id": "95f5dc54"
      },
      "outputs": [],
      "source": []
    },
    {
      "cell_type": "markdown",
      "id": "0903626c",
      "metadata": {
        "id": "0903626c"
      },
      "source": [
        "### Q19. Create a program that prompts the user for a file name and searches for a specific word within the file. The program should display the line numbers where the word occurs, along with the corresponding lines of text."
      ]
    },
    {
      "cell_type": "code",
      "execution_count": null,
      "id": "300863c5",
      "metadata": {
        "id": "300863c5",
        "outputId": "6bf7fbd4-bb97-4b12-a7c1-e2320c679a08"
      },
      "outputs": [
        {
          "name": "stdout",
          "output_type": "stream",
          "text": [
            "Overwriting test2.txt\n"
          ]
        }
      ],
      "source": [
        "%%writefile test2.txt\n",
        "Chandrayaan-3 is the third lunar exploration mission by the Indian Space Research Organisation (ISRO).\n",
        "It consists of a lander and the Pragyan rover similar to Chandrayaan-2, but does not have an orbiter.\n",
        "Its propulsion module behaves like a communication relay satellite.\n",
        "The propulsion module carries the lander and rover configuration until\n",
        "the spacecraft is in a 100 km lunar orbit."
      ]
    },
    {
      "cell_type": "code",
      "execution_count": null,
      "id": "0471b7c3",
      "metadata": {
        "id": "0471b7c3",
        "outputId": "955d03f3-bf02-4389-c38e-fe9e868e3aec"
      },
      "outputs": [
        {
          "name": "stdout",
          "output_type": "stream",
          "text": [
            "Enter the text file name: \n",
            "test2.txt\n",
            "The word lunar found at line: 1   and the corresponding line is:   Chandrayaan-3 is the third lunar exploration mission by the Indian Space Research Organisation (ISRO).\n",
            "\n",
            "The word lunar found at line: 5   and the corresponding line is:   the spacecraft is in a 100 km lunar orbit.\n",
            "\n"
          ]
        }
      ],
      "source": [
        "filename = input('Enter the text file name: \\n')\n",
        "lineNumber = 1\n",
        "search_word = 'lunar'\n",
        "\n",
        "with open(filename,'r') as f:\n",
        "    for line in f:\n",
        "        words = line.split()\n",
        "        for w in words:\n",
        "            if(w == search_word):\n",
        "                print(f'The word {search_word} found at line: {lineNumber}   and the corresponding line is:   {line}')\n",
        "        lineNumber += 1"
      ]
    },
    {
      "cell_type": "code",
      "execution_count": null,
      "id": "b056d7d7",
      "metadata": {
        "id": "b056d7d7"
      },
      "outputs": [],
      "source": []
    },
    {
      "cell_type": "code",
      "execution_count": null,
      "id": "36a80800",
      "metadata": {
        "id": "36a80800"
      },
      "outputs": [],
      "source": [
        "# lineNumber = 1\n",
        "# search_word = 'lunar'\n",
        "\n",
        "# with open('test2.txt','r') as f:\n",
        "#     for line in f:\n",
        "#         words = line.split()\n",
        "#         for w in words:\n",
        "#             if(w == search_word):\n",
        "#                 print(f'The word {search_word} found at line: {lineNumber}   and the corresponding line is:   {line}')\n",
        "#         lineNumber += 1\n",
        "#     else:\n",
        "#         print(f'The word {search_word} is not find in the text file.')"
      ]
    },
    {
      "cell_type": "markdown",
      "id": "db9dc01e",
      "metadata": {
        "id": "db9dc01e"
      },
      "source": [
        "### Q20. Write a Python program to shuffle the words in a text file and save it to a new file."
      ]
    },
    {
      "cell_type": "code",
      "execution_count": null,
      "id": "a35fb625",
      "metadata": {
        "id": "a35fb625",
        "outputId": "ba976ce5-cac2-450d-cc93-250194282335"
      },
      "outputs": [
        {
          "name": "stdout",
          "output_type": "stream",
          "text": [
            "Overwriting inputwords.txt\n"
          ]
        }
      ],
      "source": [
        "%%writefile inputwords.txt\n",
        "Will you be my friend?\n",
        "You and I will always be friends.\n",
        "Today is the first of November.\n",
        "I saw a bear today.\n",
        "She is in her room.\n",
        "Let's go to the park.\n",
        "I have a few questions.\n",
        "I like her too."
      ]
    },
    {
      "cell_type": "code",
      "execution_count": null,
      "id": "3dcc0dab",
      "metadata": {
        "id": "3dcc0dab",
        "outputId": "32820ee2-dd37-4736-880e-496af60ec760"
      },
      "outputs": [
        {
          "name": "stdout",
          "output_type": "stream",
          "text": [
            "her be like will you my I today. the friends. room. Let's I saw a a You questions. park. have too. November. is I always Today in and the first her be friend? Will She to few of bear I go is \n"
          ]
        }
      ],
      "source": [
        "import random\n",
        "with open('inputwords.txt','r') as readfile, open('shuffle_inputwords.txt','w') as writefile:\n",
        "    words = readfile.read().split()\n",
        "    random.shuffle(words)\n",
        "#     print(words)\n",
        "    for w in words:\n",
        "        writefile.write(w+' ')\n",
        "\n",
        "\n",
        "with open('shuffle_inputwords.txt','r') as f:\n",
        "    print(f.read())"
      ]
    },
    {
      "cell_type": "code",
      "execution_count": null,
      "id": "13fe3917",
      "metadata": {
        "id": "13fe3917"
      },
      "outputs": [],
      "source": []
    },
    {
      "cell_type": "code",
      "execution_count": null,
      "id": "9b590bfb",
      "metadata": {
        "id": "9b590bfb"
      },
      "outputs": [],
      "source": [
        "# import random\n",
        "# a = ['ram','cat','ball','ritu']\n",
        "# random.shuffle(a)\n",
        "# print(a)"
      ]
    },
    {
      "cell_type": "code",
      "execution_count": null,
      "id": "d394fb68",
      "metadata": {
        "id": "d394fb68"
      },
      "outputs": [],
      "source": []
    }
  ],
  "metadata": {
    "kernelspec": {
      "display_name": "Python 3 (ipykernel)",
      "language": "python",
      "name": "python3"
    },
    "language_info": {
      "codemirror_mode": {
        "name": "ipython",
        "version": 3
      },
      "file_extension": ".py",
      "mimetype": "text/x-python",
      "name": "python",
      "nbconvert_exporter": "python",
      "pygments_lexer": "ipython3",
      "version": "3.10.9"
    },
    "colab": {
      "provenance": [],
      "include_colab_link": true
    }
  },
  "nbformat": 4,
  "nbformat_minor": 5
}