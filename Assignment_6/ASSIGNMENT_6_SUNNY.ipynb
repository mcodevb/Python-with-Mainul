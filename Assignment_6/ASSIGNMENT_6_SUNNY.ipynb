{
  "cells": [
    {
      "cell_type": "markdown",
      "metadata": {
        "id": "view-in-github",
        "colab_type": "text"
      },
      "source": [
        "<a href=\"https://colab.research.google.com/github/mcodevb/Python-with-Mainul/blob/master/Assignment_6/ASSIGNMENT_6_SUNNY.ipynb\" target=\"_parent\"><img src=\"https://colab.research.google.com/assets/colab-badge.svg\" alt=\"Open In Colab\"/></a>"
      ]
    },
    {
      "cell_type": "markdown",
      "id": "a7db5683",
      "metadata": {
        "id": "a7db5683"
      },
      "source": [
        "### Q1. Write a Python program to count the number of lines in a text file named ‘ex1.txt’. Also, print the last line."
      ]
    },
    {
      "cell_type": "code",
      "execution_count": 1,
      "id": "d4595757",
      "metadata": {
        "colab": {
          "base_uri": "https://localhost:8080/"
        },
        "id": "d4595757",
        "outputId": "59903315-1205-482a-b194-fbfdf6e551c2"
      },
      "outputs": [
        {
          "output_type": "stream",
          "name": "stdout",
          "text": [
            "Writing ex1.txt\n"
          ]
        }
      ],
      "source": [
        "%%writefile ex1.txt\n",
        "The song I came to sing.\n",
        "remains unsung to this day.\n",
        "I have spent my days in stringing.\n",
        "and in unstringing my instrument."
      ]
    },
    {
      "cell_type": "code",
      "execution_count": 2,
      "id": "61a02573",
      "metadata": {
        "scrolled": true,
        "colab": {
          "base_uri": "https://localhost:8080/"
        },
        "id": "61a02573",
        "outputId": "750c5e39-66bb-4214-d38f-cd79d24a4c84"
      },
      "outputs": [
        {
          "output_type": "stream",
          "name": "stdout",
          "text": [
            "the number of lines= 4\n",
            "and in unstringing my instrument.\n",
            "\n"
          ]
        }
      ],
      "source": [
        "with open('ex1.txt','r') as ex1:\n",
        "    # ex1.seek(0)\n",
        "    lst=ex1.readlines()\n",
        "\n",
        "    print('the number of lines=',len(lst))\n",
        "    print(lst[-1])"
      ]
    },
    {
      "cell_type": "markdown",
      "id": "9875982b",
      "metadata": {
        "id": "9875982b"
      },
      "source": [
        "### Q2. Write a Python program to find the longest word in a file."
      ]
    },
    {
      "cell_type": "code",
      "execution_count": 3,
      "id": "ac20b447",
      "metadata": {
        "colab": {
          "base_uri": "https://localhost:8080/"
        },
        "id": "ac20b447",
        "outputId": "1818e4c8-4e8a-4904-e7d0-b5bc823b4f96"
      },
      "outputs": [
        {
          "output_type": "stream",
          "name": "stdout",
          "text": [
            "the longest word:    unstringing\n"
          ]
        }
      ],
      "source": [
        "with open('ex1.txt','r') as ex1:\n",
        "    lst=[]\n",
        "    x=ex1.read()\n",
        "    spcl=[',','.',':',';']\n",
        "    for ch in spcl:\n",
        "        x=x.replace(ch,'')\n",
        "    lst+=x.split()\n",
        "\n",
        "    lst1=[(y,len(y)) for y in lst]\n",
        "\n",
        "    maxi=max(len(y) for y in lst)\n",
        "\n",
        "    for (x,y) in lst1:\n",
        "        if y==maxi:\n",
        "            print('the longest word:   ',x)\n",
        ""
      ]
    },
    {
      "cell_type": "markdown",
      "id": "ab646384",
      "metadata": {
        "id": "ab646384"
      },
      "source": [
        "### Q3. Write a Python program to remove newline characters from a file."
      ]
    },
    {
      "cell_type": "code",
      "execution_count": null,
      "id": "7ec17aae",
      "metadata": {
        "id": "7ec17aae",
        "outputId": "1b67e22f-ffd8-46d7-c6af-3a48b84b3689"
      },
      "outputs": [
        {
          "name": "stdout",
          "output_type": "stream",
          "text": [
            "The song I came to sing. remains unsung to this day. I have spent my days in stringing. and in unstringing my instrument. \n"
          ]
        }
      ],
      "source": [
        "with open('ex1.txt','r') as ex1:\n",
        "    string=''\n",
        "    ex1.seek(0)\n",
        "    l=ex1.readlines()\n",
        "    for x in l:\n",
        "        x=x.replace('\\n',' ')\n",
        "        string+=x\n",
        "    print(string)"
      ]
    },
    {
      "cell_type": "code",
      "execution_count": null,
      "id": "e01d43b0",
      "metadata": {
        "id": "e01d43b0",
        "outputId": "0ac17181-a07e-4dcd-b45a-d78330f2dd1e"
      },
      "outputs": [
        {
          "name": "stdout",
          "output_type": "stream",
          "text": [
            "The song I came to sing. remains unsung to this day. I have spent my days in stringing. and in unstringing my instrument.\n"
          ]
        }
      ],
      "source": [
        "with open('ex1.txt','r') as ex1:\n",
        "    line=ex1.read()\n",
        "    word=line.split()\n",
        "    removed_line= ' '.join(word)\n",
        "    print(removed_line)"
      ]
    },
    {
      "cell_type": "markdown",
      "id": "f54c5aa5",
      "metadata": {
        "id": "f54c5aa5"
      },
      "source": [
        "### Q4. Write a Python program to sort the content of a file alphabetically. You may do this for a list of names."
      ]
    },
    {
      "cell_type": "code",
      "execution_count": null,
      "id": "bcaf1786",
      "metadata": {
        "id": "bcaf1786",
        "outputId": "aa6437f9-dcfc-45a2-f7f5-343b10725257"
      },
      "outputs": [
        {
          "name": "stdout",
          "output_type": "stream",
          "text": [
            "Overwriting name.txt\n"
          ]
        }
      ],
      "source": [
        "%%writefile name.txt\n",
        "Sunny\n",
        "Sampad\n",
        "Sudeshna\n",
        "AbulKalam\n",
        "Aprba\n",
        "Mousumi\n",
        "Rtk\n",
        "Biswajit"
      ]
    },
    {
      "cell_type": "code",
      "execution_count": null,
      "id": "12b998aa",
      "metadata": {
        "id": "12b998aa",
        "outputId": "91fd61e6-9937-4359-ebe1-cf45c2d12785"
      },
      "outputs": [
        {
          "name": "stdout",
          "output_type": "stream",
          "text": [
            "['AbulKalam', 'Aprba', 'Biswajit', 'Mousumi', 'Rtk', 'Sampad', 'Sudeshna', 'Sunny']\n"
          ]
        }
      ],
      "source": [
        "with open('name.txt','r') as name:\n",
        "    x=name.read()\n",
        "    y=x.split()\n",
        "\n",
        "    print(sorted(y))"
      ]
    },
    {
      "cell_type": "markdown",
      "id": "d353ce05",
      "metadata": {
        "id": "d353ce05"
      },
      "source": [
        "### Q5. Write a Python program to check if a file exists or not. If exists, write something into it"
      ]
    },
    {
      "cell_type": "code",
      "execution_count": null,
      "id": "47c59e68",
      "metadata": {
        "id": "47c59e68",
        "outputId": "f19ac336-506b-4412-a485-05508777eef6"
      },
      "outputs": [
        {
          "name": "stdout",
          "output_type": "stream",
          "text": [
            "This file exists\n"
          ]
        }
      ],
      "source": [
        "import os\n",
        "file_name='sources.txt'\n",
        "if os.path.exists(file_name):\n",
        "    print('This file exists')\n",
        "else:\n",
        "    with open(file_name,'w') as new:\n",
        "        new.write('Hello')\n",
        "    with open(file_name,'r') as new:\n",
        "        print(new.read())"
      ]
    },
    {
      "cell_type": "markdown",
      "id": "52d61ec4",
      "metadata": {
        "id": "52d61ec4"
      },
      "source": [
        "### Q6. Write a Python program to find the most frequent word in a text file."
      ]
    },
    {
      "cell_type": "code",
      "execution_count": null,
      "id": "c7234a96",
      "metadata": {
        "id": "c7234a96",
        "outputId": "33625a78-93eb-410b-82ff-0c7e9d6bbc61"
      },
      "outputs": [
        {
          "name": "stdout",
          "output_type": "stream",
          "text": [
            "the most frequent words are : {'in', 'I', 'my', 'to'}\n"
          ]
        }
      ],
      "source": [
        "with open('ex1.txt') as ex1:\n",
        "    lst=[]\n",
        "\n",
        "    x=ex1.read()\n",
        "    spcl=[',','.',':',';']\n",
        "    for ch in spcl:\n",
        "        x=x.replace(ch,'')\n",
        "    lst+=x.split()\n",
        "\n",
        "    maxi=max([lst.count(x) for x in lst])\n",
        "\n",
        "    l=[]\n",
        "    for x in lst:\n",
        "        if lst.count(x)==maxi:\n",
        "            l.append(x)\n",
        "\n",
        "    print('the most frequent words are :',set(l))"
      ]
    },
    {
      "cell_type": "markdown",
      "id": "3a6a177d",
      "metadata": {
        "id": "3a6a177d"
      },
      "source": [
        "### Q7. Write a Python program to find and replace a particular word in a text file."
      ]
    },
    {
      "cell_type": "code",
      "execution_count": 6,
      "id": "827404b2",
      "metadata": {
        "colab": {
          "base_uri": "https://localhost:8080/"
        },
        "id": "827404b2",
        "outputId": "da461ed8-7639-42d5-c131-37081416624f"
      },
      "outputs": [
        {
          "output_type": "stream",
          "name": "stdout",
          "text": [
            "The melody I came to sing.\n",
            "remains unsung to this day.\n",
            "I have spent my days in stringing.\n",
            "and in unstringing my instrument.\n",
            "\n"
          ]
        }
      ],
      "source": [
        "with open('ex1.txt') as ex1:\n",
        "    x=ex1.read()\n",
        "    y=x.replace('song','melody')\n",
        "    print(y)"
      ]
    },
    {
      "cell_type": "markdown",
      "id": "e6448b25",
      "metadata": {
        "id": "e6448b25"
      },
      "source": [
        "### Q.8 Write a Python program to calculate the total number of words in a file."
      ]
    },
    {
      "cell_type": "code",
      "execution_count": 8,
      "id": "f03b0252",
      "metadata": {
        "colab": {
          "base_uri": "https://localhost:8080/"
        },
        "id": "f03b0252",
        "outputId": "92f54a23-203d-4201-c785-e29d2abed3eb"
      },
      "outputs": [
        {
          "output_type": "stream",
          "name": "stdout",
          "text": [
            "23\n"
          ]
        }
      ],
      "source": [
        "with open('ex1.txt') as ex1:\n",
        "    lst=[]\n",
        "    for line in ex1:\n",
        "        lst+=line.split()\n",
        "    print(len(lst))"
      ]
    },
    {
      "cell_type": "markdown",
      "id": "6d89c624",
      "metadata": {
        "id": "6d89c624"
      },
      "source": [
        "### Q9. Write a Python program to check if a file is empty or not."
      ]
    },
    {
      "cell_type": "code",
      "source": [
        "with open('tx.txt','w') as f:\n",
        "  pass"
      ],
      "metadata": {
        "id": "Z5v7sbaPJzjI"
      },
      "id": "Z5v7sbaPJzjI",
      "execution_count": 10,
      "outputs": []
    },
    {
      "cell_type": "code",
      "execution_count": 11,
      "id": "25cebb31",
      "metadata": {
        "colab": {
          "base_uri": "https://localhost:8080/"
        },
        "id": "25cebb31",
        "outputId": "49a3d13b-010a-40b2-945d-d770e9adceb5"
      },
      "outputs": [
        {
          "output_type": "stream",
          "name": "stdout",
          "text": [
            "The file is empty\n"
          ]
        }
      ],
      "source": [
        "with open('tx.txt') as ex1:\n",
        "    x=ex1.read()\n",
        "    if len(x)==0:\n",
        "        print('The file is empty')\n",
        "    else:\n",
        "        print(\"Not empty\")"
      ]
    },
    {
      "cell_type": "markdown",
      "id": "0b940fbe",
      "metadata": {
        "id": "0b940fbe"
      },
      "source": [
        "### Q10. Write a Python function to count the number of occurrences of a word in a text file."
      ]
    },
    {
      "cell_type": "code",
      "execution_count": 12,
      "id": "953cba60",
      "metadata": {
        "colab": {
          "base_uri": "https://localhost:8080/"
        },
        "id": "953cba60",
        "outputId": "eadd2508-7cf5-47ae-bf1f-0dd6bba7c9d4"
      },
      "outputs": [
        {
          "output_type": "stream",
          "name": "stdout",
          "text": [
            "{'The': 1, 'song': 1, 'I': 2, 'came': 1, 'to': 2, 'sing': 1, 'remains': 1, 'unsung': 1, 'this': 1, 'day': 1, 'have': 1, 'spent': 1, 'my': 2, 'days': 1, 'in': 2, 'stringing': 1, 'and': 1, 'unstringing': 1, 'instrument': 1}\n"
          ]
        }
      ],
      "source": [
        "with open('ex1.txt') as ex1:\n",
        "    lst=[]\n",
        "\n",
        "    x=ex1.read()\n",
        "    spcl=[',','.',':',';']\n",
        "    for ch in spcl:\n",
        "        x=x.replace(ch,'')\n",
        "    lst+=x.split()\n",
        "\n",
        "    dic={x:lst.count(x) for x in lst}\n",
        "    print(dic)"
      ]
    },
    {
      "cell_type": "markdown",
      "id": "4ab1fa32",
      "metadata": {
        "id": "4ab1fa32"
      },
      "source": [
        "### Q11. Write a Python function to remove duplicate lines from a text file."
      ]
    },
    {
      "cell_type": "code",
      "execution_count": 13,
      "id": "98e1426c",
      "metadata": {
        "colab": {
          "base_uri": "https://localhost:8080/"
        },
        "id": "98e1426c",
        "outputId": "9d3a70c3-42a8-4a53-ed55-03def2c2c6bd"
      },
      "outputs": [
        {
          "output_type": "stream",
          "name": "stdout",
          "text": [
            "Writing dup.txt\n"
          ]
        }
      ],
      "source": [
        "%%writefile dup.txt\n",
        "my\n",
        "my\n",
        "name\n",
        "is\n",
        "sunny\n",
        "sunny"
      ]
    },
    {
      "cell_type": "code",
      "execution_count": 14,
      "id": "24657ecc",
      "metadata": {
        "colab": {
          "base_uri": "https://localhost:8080/"
        },
        "id": "24657ecc",
        "outputId": "e5b6e972-dcce-41a9-90ca-2a9dea913b90"
      },
      "outputs": [
        {
          "output_type": "stream",
          "name": "stdout",
          "text": [
            "my\n",
            "name\n",
            "is\n",
            "sunny\n",
            "\n"
          ]
        }
      ],
      "source": [
        "with open('dup.txt','r') as dup:\n",
        "    dup.seek(0)\n",
        "    lst=dup.readlines()\n",
        "    lst1=[]\n",
        "    for x in lst:\n",
        "        if x not in lst1:\n",
        "            lst1.append(x)\n",
        "    with open('dup1.txt','w') as dup:\n",
        "        dup.writelines(lst1)\n",
        "\n",
        "with open('dup1.txt','r') as dup1:\n",
        "    print(dup1.read())"
      ]
    },
    {
      "cell_type": "markdown",
      "id": "3a9ee8d4",
      "metadata": {
        "id": "3a9ee8d4"
      },
      "source": [
        "### Q12. Write a Python function to find the average length of words in a text file."
      ]
    },
    {
      "cell_type": "code",
      "execution_count": 16,
      "id": "e3add057",
      "metadata": {
        "colab": {
          "base_uri": "https://localhost:8080/"
        },
        "id": "e3add057",
        "outputId": "aef638c6-36dd-4c7e-ea76-100723dfc1c1"
      },
      "outputs": [
        {
          "output_type": "stream",
          "name": "stdout",
          "text": [
            "the average length of words 4\n"
          ]
        }
      ],
      "source": [
        "with open('ex1.txt') as ex1:\n",
        "    lst=[]\n",
        "\n",
        "    x=ex1.read()\n",
        "    spcl=[',','.',':',';']\n",
        "    for ch in spcl:\n",
        "        x=x.replace(ch,'')\n",
        "    lst+=x.split()\n",
        "\n",
        "    length=[len(x) for x in lst]\n",
        "    av=sum(length)/len(length)\n",
        "    print('the average length of words',round(av))\n",
        ""
      ]
    },
    {
      "cell_type": "markdown",
      "id": "a1bd19fe",
      "metadata": {
        "id": "a1bd19fe"
      },
      "source": [
        "### Q13. Write a Python program to encrypt the contents of a text file using a Caesar cipher. Also, write the decryption function."
      ]
    },
    {
      "cell_type": "code",
      "execution_count": 17,
      "id": "237b93f3",
      "metadata": {
        "colab": {
          "base_uri": "https://localhost:8080/"
        },
        "id": "237b93f3",
        "outputId": "d2b39089-1be7-4f05-ee3d-627f83ba0c8c"
      },
      "outputs": [
        {
          "output_type": "stream",
          "name": "stdout",
          "text": [
            "Ymj xtsl N hfrj yt xnsl.\n",
            "wjrfnsx zsxzsl yt ymnx ifd.\n",
            "N mfaj xujsy rd ifdx ns xywnslnsl.\n",
            "fsi ns zsxywnslnsl rd nsxywzrjsy.\n",
            "\n",
            "The song I came to sing.\n",
            "remains unsung to this day.\n",
            "I have spent my days in stringing.\n",
            "and in unstringing my instrument.\n",
            "\n"
          ]
        }
      ],
      "source": [
        "with open('ex1.txt') as ex1:\n",
        "\n",
        "#THE ENCRYPTION :\n",
        "\n",
        "    k=5 #key\n",
        "    ct=''\n",
        "    for line in ex1:\n",
        "        for word in line:\n",
        "            for c in word:\n",
        "                if ord(c) in range(ord('a'),ord('z')+1):\n",
        "                    ct=ct+chr(((ord(c)-ord('a')+k)%26)+ord('a'))\n",
        "                elif ord(c) in range(ord('A'),ord('Z')+1):\n",
        "                    ct=ct+chr(((ord(c)-ord('A')+k)%26)+ord('A'))\n",
        "                else:\n",
        "                    ct+=c\n",
        "\n",
        "    print(ct)\n",
        "\n",
        "#THE DECRYPTION :\n",
        "    pt=''\n",
        "    for line in ct:\n",
        "        for word in line:\n",
        "            for c in word:\n",
        "                if ord(c) in range(ord('a'),ord('z')+1):\n",
        "                    pt=pt+chr(((ord(c)-ord('a')-k)%26)+ord('a'))\n",
        "                elif ord(c) in range(ord('A'),ord('Z')+1):\n",
        "                    pt=pt+chr(((ord(c)-ord('A')-k)%26)+ord('A'))\n",
        "                else:\n",
        "                    pt+=c\n",
        "\n",
        "    print(pt)\n",
        ""
      ]
    },
    {
      "cell_type": "markdown",
      "id": "904f6854",
      "metadata": {
        "id": "904f6854"
      },
      "source": [
        "### Q.14 Write a Python program to convert the contents of a text file to uppercase."
      ]
    },
    {
      "cell_type": "code",
      "execution_count": 18,
      "id": "c5e2e2f0",
      "metadata": {
        "colab": {
          "base_uri": "https://localhost:8080/"
        },
        "id": "c5e2e2f0",
        "outputId": "e9e00438-2649-44b7-8a6a-ff3bdc44c30f"
      },
      "outputs": [
        {
          "output_type": "stream",
          "name": "stdout",
          "text": [
            "THE SONG I CAME TO SING.\n",
            "REMAINS UNSUNG TO THIS DAY.\n",
            "I HAVE SPENT MY DAYS IN STRINGING.\n",
            "AND IN UNSTRINGING MY INSTRUMENT.\n",
            "\n"
          ]
        }
      ],
      "source": [
        "with open('ex1.txt','r') as dup:\n",
        "    dup.seek(0)\n",
        "    lst=dup.readlines()\n",
        "    lst1=[line.upper() for line in lst]\n",
        "\n",
        "    with open('upper.txt','w') as u:\n",
        "        u.writelines(lst1)\n",
        "\n",
        "    with open('upper.txt','r') as u:\n",
        "        print(u.read())\n",
        ""
      ]
    },
    {
      "cell_type": "markdown",
      "id": "772c7f66",
      "metadata": {
        "id": "772c7f66"
      },
      "source": [
        "### Q.15 Create a script that accepts a text file as input and checks if it contains any palindromic words. Write the palindromic words to a new file called \"palindromes.txt\"."
      ]
    },
    {
      "cell_type": "code",
      "execution_count": 19,
      "id": "c82109d4",
      "metadata": {
        "colab": {
          "base_uri": "https://localhost:8080/"
        },
        "id": "c82109d4",
        "outputId": "e8cf544c-0eb9-446f-d641-41018fd428f8"
      },
      "outputs": [
        {
          "output_type": "stream",
          "name": "stdout",
          "text": [
            "Writing inpt.txt\n"
          ]
        }
      ],
      "source": [
        "%%writefile inpt.txt\n",
        "Some words, such as civic, radar are palindromes.\n",
        "Some palindromes are level, rotor, and noon."
      ]
    },
    {
      "cell_type": "code",
      "execution_count": 20,
      "id": "34026bae",
      "metadata": {
        "colab": {
          "base_uri": "https://localhost:8080/"
        },
        "id": "34026bae",
        "outputId": "afff2ae2-b360-48c8-a2c9-c22637a91528"
      },
      "outputs": [
        {
          "output_type": "stream",
          "name": "stdout",
          "text": [
            "civic radar level rotor noon \n"
          ]
        }
      ],
      "source": [
        "with open('inpt.txt') as file:\n",
        "    lst=[]\n",
        "\n",
        "    x=file.read()\n",
        "    spcl=[',','.',':',';']\n",
        "    for ch in spcl:\n",
        "        x=x.replace(ch,'')\n",
        "    lst+=x.split()\n",
        "\n",
        "    palindromes=[]\n",
        "    for x in lst:\n",
        "        if len(x)>1 and x==x[::-1]:\n",
        "            palindromes.append(x+' ')\n",
        "\n",
        "    with open('palindromes.txt','w') as pd:\n",
        "        pd.writelines(palindromes)\n",
        "\n",
        "    with open('palindromes.txt','r') as pd:\n",
        "        print(pd.read())"
      ]
    },
    {
      "cell_type": "markdown",
      "id": "a77da966",
      "metadata": {
        "id": "a77da966"
      },
      "source": [
        "### Q16. Write a program that prompts the user for a directory path. The program should traverse all text files within that directory (and its subdirectories) and count the total number of words across all files."
      ]
    },
    {
      "cell_type": "code",
      "execution_count": null,
      "id": "cf395f86",
      "metadata": {
        "id": "cf395f86"
      },
      "outputs": [],
      "source": []
    },
    {
      "cell_type": "markdown",
      "id": "f428190d",
      "metadata": {
        "id": "f428190d"
      },
      "source": [
        "### Q17. Create a program that reads a text file and identifies the most frequent letter in its content. Prompt the user to enter the file name and display the most frequent letter along with its count."
      ]
    },
    {
      "cell_type": "code",
      "execution_count": 24,
      "id": "dc2ea792",
      "metadata": {
        "colab": {
          "base_uri": "https://localhost:8080/"
        },
        "id": "dc2ea792",
        "outputId": "bd28dc18-ba7c-4230-e0af-60b3eb9a2db1"
      },
      "outputs": [
        {
          "output_type": "stream",
          "name": "stdout",
          "text": [
            "Enter the file name:inpt.txt\n",
            "the most frequent words are :\n",
            "('palindromes', 2)\n",
            "('are', 2)\n",
            "('Some', 2)\n"
          ]
        }
      ],
      "source": [
        "with open(input(\"Enter the file name:\")) as ex1:\n",
        "    lst=[]\n",
        "\n",
        "    x=ex1.read()\n",
        "    spcl=[',','.',':',';']\n",
        "    for ch in spcl:\n",
        "        x=x.replace(ch,'')\n",
        "    lst+=x.split()\n",
        "\n",
        "    maxi=max([lst.count(x) for x in lst])\n",
        "\n",
        "    l=[]\n",
        "    for x in lst:\n",
        "        if lst.count(x)==maxi:\n",
        "            l.append(x)\n",
        "\n",
        "    print('the most frequent words are :')\n",
        "    for x in set(l):\n",
        "          print((x,lst.count(x)))"
      ]
    },
    {
      "cell_type": "markdown",
      "id": "8814656d",
      "metadata": {
        "id": "8814656d"
      },
      "source": [
        "### Q18. Create a program that reads a text file and identifies all the unique words in its content. Prompt the user to enter the file name and display the unique words in alphabetical order."
      ]
    },
    {
      "cell_type": "code",
      "execution_count": 25,
      "id": "e6133a58",
      "metadata": {
        "colab": {
          "base_uri": "https://localhost:8080/"
        },
        "id": "e6133a58",
        "outputId": "a1fc722b-1507-442b-fc4c-71ad450a002d"
      },
      "outputs": [
        {
          "output_type": "stream",
          "name": "stdout",
          "text": [
            "Enter the file name:inpt.txt\n",
            "['and', 'as', 'civic', 'level', 'noon', 'radar', 'rotor', 'such', 'words']\n"
          ]
        }
      ],
      "source": [
        "with open(input(\"Enter the file name:\")) as ex1:\n",
        "    lst=[]\n",
        "\n",
        "    x=ex1.read()\n",
        "    spcl=[',','.',':',';']\n",
        "    for ch in spcl:\n",
        "        x=x.replace(ch,'')\n",
        "    lst+=x.split()\n",
        "\n",
        "    lst1=[]\n",
        "    for x in set(lst):\n",
        "        if lst.count(x)==1:\n",
        "            lst1.append(x.lower())\n",
        "    print(sorted(lst1))"
      ]
    },
    {
      "cell_type": "markdown",
      "id": "ce75aeda",
      "metadata": {
        "id": "ce75aeda"
      },
      "source": [
        "### Q.19 Create a program that prompts the user for a file name and searches for a specific word within the file. The program should display the line numbers where the word occurs, along with the corresponding lines of text."
      ]
    },
    {
      "cell_type": "code",
      "execution_count": 27,
      "id": "fad37ce0",
      "metadata": {
        "colab": {
          "base_uri": "https://localhost:8080/"
        },
        "id": "fad37ce0",
        "outputId": "7a7f046b-d6ea-4e01-8c68-fbea832ff4ff"
      },
      "outputs": [
        {
          "output_type": "stream",
          "name": "stdout",
          "text": [
            "Enter the file name:ex1.txt\n",
            "The coreesponding line is :   The song I came to sing.\n",
            " \n",
            "line number is :  1     word number is :  3 \n",
            "\n",
            "The coreesponding line is :   I have spent my days in stringing.\n",
            " \n",
            "line number is :  3     word number is :  1 \n",
            "\n"
          ]
        }
      ],
      "source": [
        "with open(input(\"Enter the file name:\")) as ex1:\n",
        "    ex1.seek(0)\n",
        "    lst=ex1.readlines()\n",
        "    sp='I'   #specific word\n",
        "\n",
        "    for i in range(len(lst)):\n",
        "        if sp in lst[i]:\n",
        "            lst1=lst[i].split()\n",
        "            for j in range(len(lst1)):\n",
        "                if sp in lst1[j]:\n",
        "                    print('The coreesponding line is :  ',lst[i],'\\nline number is : ',i+1,'    word number is : ',j+1,'\\n')\n"
      ]
    },
    {
      "cell_type": "markdown",
      "id": "2f423109",
      "metadata": {
        "id": "2f423109"
      },
      "source": [
        "### Q20. Write a Python program to shuffle the words in a text file and save it to a new file."
      ]
    },
    {
      "cell_type": "code",
      "execution_count": 30,
      "id": "e273c94b",
      "metadata": {
        "colab": {
          "base_uri": "https://localhost:8080/"
        },
        "id": "e273c94b",
        "outputId": "00bd676b-817d-4f62-d02f-f1e9bab091e6"
      },
      "outputs": [
        {
          "output_type": "stream",
          "name": "stdout",
          "text": [
            "The song I came to sing.\n",
            "remains unsung to this day.\n",
            "I have spent my days in stringing.\n",
            "and in unstringing my instrument.\n",
            "\n",
            "unsung to have The instrument. song unstringing to in came my spent stringing. sing. remains I my this in and days day. I\n"
          ]
        }
      ],
      "source": [
        "import random\n",
        "with open('ex1.txt','r') as ex1:\n",
        "    line=ex1.read()\n",
        "    print(line)\n",
        "    word=line.split()\n",
        "    random.shuffle(word)\n",
        "    shuffled_line= ' '.join(word)\n",
        "\n",
        "    with open('new.txt','w') as new:\n",
        "        new.writelines(shuffled_line)\n",
        "    with open('new.txt','r') as new:\n",
        "        print(new.read())"
      ]
    },
    {
      "cell_type": "code",
      "source": [],
      "metadata": {
        "id": "9uu3sWp2NoTn"
      },
      "id": "9uu3sWp2NoTn",
      "execution_count": null,
      "outputs": []
    }
  ],
  "metadata": {
    "kernelspec": {
      "display_name": "Python 3 (ipykernel)",
      "language": "python",
      "name": "python3"
    },
    "language_info": {
      "codemirror_mode": {
        "name": "ipython",
        "version": 3
      },
      "file_extension": ".py",
      "mimetype": "text/x-python",
      "name": "python",
      "nbconvert_exporter": "python",
      "pygments_lexer": "ipython3",
      "version": "3.10.9"
    },
    "colab": {
      "provenance": [],
      "include_colab_link": true
    }
  },
  "nbformat": 4,
  "nbformat_minor": 5
}