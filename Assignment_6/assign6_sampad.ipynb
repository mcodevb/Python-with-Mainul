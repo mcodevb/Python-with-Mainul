{
  "cells": [
    {
      "cell_type": "markdown",
      "metadata": {
        "id": "view-in-github",
        "colab_type": "text"
      },
      "source": [
        "<a href=\"https://colab.research.google.com/github/mcodevb/Python-with-Mainul/blob/master/Assignment_6/assign6_sampad.ipynb\" target=\"_parent\"><img src=\"https://colab.research.google.com/assets/colab-badge.svg\" alt=\"Open In Colab\"/></a>"
      ]
    },
    {
      "cell_type": "markdown",
      "id": "c83410b4-d173-45c6-902a-e797913ddbd8",
      "metadata": {
        "id": "c83410b4-d173-45c6-902a-e797913ddbd8"
      },
      "source": [
        "**Q1. Write a Python program to count the number of lines in a text file named ‘ex2.txt’. Also, print the last line.**"
      ]
    },
    {
      "cell_type": "code",
      "execution_count": 39,
      "id": "0f8e478f-4d38-4fb2-9caa-b9076590bc6b",
      "metadata": {
        "colab": {
          "base_uri": "https://localhost:8080/"
        },
        "id": "0f8e478f-4d38-4fb2-9caa-b9076590bc6b",
        "outputId": "05b065be-5a23-4238-c5fc-3d6ae4c912f7"
      },
      "outputs": [
        {
          "output_type": "stream",
          "name": "stdout",
          "text": [
            "Overwriting ex2.txt\n"
          ]
        }
      ],
      "source": [
        "%%writefile ex2.txt\n",
        "Materials which contract on heating (negative thermal expansion, NTE) are of significant interest for\n",
        "advanced applications. Graphene has shown NTE up to 1000 K, which motivates further improvements in\n",
        "two-dimensional carbon to attain superior performance. In this Communication, very large negative thermal\n",
        "expansion  coefficients (α T ) are reported for tri-graphene (TrG) and T-graphene (TG). Quasi-harmonic\n",
        "approximation calculations show that α T remains negative until 4200 K and 2900 K for TrG and TG,\n",
        "respectively. The high NTE for these systems is understood on the basis of the soft phonon modes, which\n",
        "induce rotation of the 3-membered and the 4-membered rings in TrG and TG, respectively, and ab initio\n",
        "molecular dynamics simulations. The local distortions for the 3−12 rings (in TrG) and 4−8 rings (in TG) have\n",
        "structural resemblance with the rigid-unit modes that are usually envisioned for bulk systems.\n",
        "\n",
        "\n"
      ]
    },
    {
      "cell_type": "code",
      "execution_count": 2,
      "id": "4cf702e0-77b7-496b-b1d3-8b71f6a17088",
      "metadata": {
        "colab": {
          "base_uri": "https://localhost:8080/"
        },
        "id": "4cf702e0-77b7-496b-b1d3-8b71f6a17088",
        "outputId": "a2d11c01-4760-40a5-93f9-8fd3dfb8f772"
      },
      "outputs": [
        {
          "output_type": "stream",
          "name": "stdout",
          "text": [
            "9\n",
            "structural resemblance with the rigid-unit modes that are usually envisioned for bulk systems.\n",
            "\n"
          ]
        }
      ],
      "source": [
        "with open('ex2.txt') as ex2:\n",
        "    line_lst = ex2.readlines()\n",
        "#    ex2.seek(0)\n",
        "#    last_line = ex2.readlines()[-1]\n",
        "    last_line = line_lst[-1]\n",
        "\n",
        "print(len(line_lst))\n",
        "print(last_line)"
      ]
    },
    {
      "cell_type": "markdown",
      "id": "56d89bd2-7b50-468f-9d79-298584aa7e5e",
      "metadata": {
        "id": "56d89bd2-7b50-468f-9d79-298584aa7e5e"
      },
      "source": [
        "**Q2. Write a Python program to find the longest word in a file.**"
      ]
    },
    {
      "cell_type": "code",
      "execution_count": 5,
      "id": "2e07be13-6adc-43ef-bf00-c2b888b2ff52",
      "metadata": {
        "colab": {
          "base_uri": "https://localhost:8080/"
        },
        "id": "2e07be13-6adc-43ef-bf00-c2b888b2ff52",
        "outputId": "37ab6cbf-aa52-4b54-e072-a02740794000"
      },
      "outputs": [
        {
          "output_type": "stream",
          "name": "stdout",
          "text": [
            "two-dimensional\n"
          ]
        }
      ],
      "source": [
        "with open('ex2.txt') as ex2:\n",
        "    para = ex2.read()\n",
        "\n",
        "pncs = '''\\,./?#@!$'\":;<>(){}[]%&*~`_|'''\n",
        "for pnc in pncs:\n",
        "    para = para.replace(pnc, '')\n",
        "word_lst = para.split()\n",
        "#print(word_lst)\n",
        "\n",
        "# print([len(w) for w in word_set])\n",
        "word_len = {w: len(w) for w in word_lst}\n",
        "#print(word_len)\n",
        "#print(max(word_len.values()))\n",
        "\n",
        "for w in word_len:\n",
        "    if word_len[w] == max(word_len.values()):\n",
        "        print(w)\n",
        "\n",
        "#max(word_lst, key=len)"
      ]
    },
    {
      "cell_type": "markdown",
      "id": "23e17376-94a7-4518-8805-a5af6f173093",
      "metadata": {
        "id": "23e17376-94a7-4518-8805-a5af6f173093"
      },
      "source": [
        "**Q3. Write a Python program to remove newline characters from a file.**"
      ]
    },
    {
      "cell_type": "code",
      "execution_count": 6,
      "id": "bd632871-299d-481c-9e45-d9010325ea72",
      "metadata": {
        "colab": {
          "base_uri": "https://localhost:8080/"
        },
        "id": "bd632871-299d-481c-9e45-d9010325ea72",
        "outputId": "cf03033e-9764-4c16-b5cf-5c6d95db0eca"
      },
      "outputs": [
        {
          "output_type": "stream",
          "name": "stdout",
          "text": [
            "Materials which contract on heating (negative thermal expansion, NTE) are of significant interest for advanced applications. Graphene has shown NTE up to 1000 K, which motivates further improvements in two-dimensional carbon to attain superior performance. In this Communication, very large negative thermal expansion  coefficients (α T ) are reported for tri-graphene (TrG) and T-graphene (TG). Quasi-harmonic approximation calculations show that α T remains negative until 4200 K and 2900 K for TrG and TG, respectively. The high NTE for these systems is understood on the basis of the soft phonon modes, which induce rotation of the 3-membered and the 4-membered rings in TrG and TG, respectively, and ab initio  molecular dynamics simulations. The local distortions for the 3−12 rings (in TrG) and 4−8 rings (in TG) havestructural resemblance with the rigid-unit modes that are usually envisioned for bulk systems.\n"
          ]
        }
      ],
      "source": [
        "with open('ex2.txt') as ex2:\n",
        "    para = ex2.read()\n",
        "\n",
        "#print(para)\n",
        "para = para.replace('\\n', '')\n",
        "print(para)"
      ]
    },
    {
      "cell_type": "code",
      "execution_count": null,
      "id": "ddb4aecd-92b1-40d2-b737-c6bb9171a773",
      "metadata": {
        "id": "ddb4aecd-92b1-40d2-b737-c6bb9171a773"
      },
      "outputs": [],
      "source": [
        "# with open('ex2_sl.txt', 'w') as ex2_sl:\n",
        "#     ex2_sl.write(para)\n",
        "\n",
        "# with open('ex2_sl.txt') as ex2_slr:\n",
        "#     print(ex2_slr.readlines())"
      ]
    },
    {
      "cell_type": "markdown",
      "id": "a1c4240d-81b7-4494-a490-5a9568df30bb",
      "metadata": {
        "id": "a1c4240d-81b7-4494-a490-5a9568df30bb"
      },
      "source": [
        "**Q4. Write a Python program to sort the content of a file alphabetically. You may do this for a list of names.**"
      ]
    },
    {
      "cell_type": "code",
      "execution_count": 7,
      "id": "9a3d5db8-bc49-4b92-8aa2-b638a68649c0",
      "metadata": {
        "colab": {
          "base_uri": "https://localhost:8080/"
        },
        "id": "9a3d5db8-bc49-4b92-8aa2-b638a68649c0",
        "outputId": "d2d36d0b-1364-4c0c-eb32-d0857c0846f5"
      },
      "outputs": [
        {
          "output_type": "stream",
          "name": "stdout",
          "text": [
            "Writing names.txt\n"
          ]
        }
      ],
      "source": [
        "%%writefile names.txt\n",
        "Sunny\n",
        "Biswajit\n",
        "Mousumi\n",
        "Apurbo\n",
        "Sudeshna\n",
        "Ritwik\n",
        "Sampad"
      ]
    },
    {
      "cell_type": "code",
      "execution_count": 10,
      "id": "81f6ba64-4eec-40cc-9215-365b06cf5832",
      "metadata": {
        "colab": {
          "base_uri": "https://localhost:8080/"
        },
        "id": "81f6ba64-4eec-40cc-9215-365b06cf5832",
        "outputId": "a6528b0d-370a-4350-9397-eb350ab62575"
      },
      "outputs": [
        {
          "output_type": "stream",
          "name": "stdout",
          "text": [
            "Apurbo\n",
            "Biswajit\n",
            "Mousumi\n",
            "Ritwik\n",
            "Sampad\n",
            "Sudeshna\n",
            "Sunny\n",
            "\n"
          ]
        }
      ],
      "source": [
        "with open('names.txt') as names:\n",
        "    sorted_name_lst = sorted(names.read().split())\n",
        "\n",
        "#print(sorted_name_lst)\n",
        "\n",
        "with open('sorted_names.txt', 'w+') as stn:\n",
        "    for name in sorted_name_lst:\n",
        "        stn.write(name+'\\n')\n",
        "    stn.seek(0)\n",
        "    print(stn.read())"
      ]
    },
    {
      "cell_type": "markdown",
      "id": "f926d14f-b8d1-44e8-9db5-c512f779f1ba",
      "metadata": {
        "id": "f926d14f-b8d1-44e8-9db5-c512f779f1ba"
      },
      "source": [
        "**Q5. Write a Python program to check if a file exists or not. If exists, write something into it.**"
      ]
    },
    {
      "cell_type": "code",
      "source": [
        "%%writefile data.txt\n",
        "Materials which contract on heating (negative thermal expansion, NTE) are of significant interest for\n",
        "advanced applications. Graphene has shown NTE up to 1000 K  , which motivates further improvements in\n",
        "two-dimensional carbon to attain superior performance. In this Communication, very large negative thermal\n",
        "expansion  coefficients (α T ) are reported for tri-graphene (TrG) and T-graphene (TG). Quasi-harmonic\n",
        "approximation calculations show that α T remains negative until 4200 K and 2900 K for TrG and TG,"
      ],
      "metadata": {
        "colab": {
          "base_uri": "https://localhost:8080/"
        },
        "id": "AAEoVHM70ayn",
        "outputId": "a5113025-91a7-4108-f224-0784531984b2"
      },
      "id": "AAEoVHM70ayn",
      "execution_count": 20,
      "outputs": [
        {
          "output_type": "stream",
          "name": "stdout",
          "text": [
            "Overwriting data.txt\n"
          ]
        }
      ]
    },
    {
      "cell_type": "code",
      "execution_count": 13,
      "id": "5280b55e-1cd2-404d-bc1b-46f9ea848dca",
      "metadata": {
        "colab": {
          "base_uri": "https://localhost:8080/"
        },
        "id": "5280b55e-1cd2-404d-bc1b-46f9ea848dca",
        "outputId": "419c4fee-8546-42c0-d3df-5c45ffa524b3"
      },
      "outputs": [
        {
          "output_type": "stream",
          "name": "stdout",
          "text": [
            "Hello, World!\n"
          ]
        }
      ],
      "source": [
        "import os\n",
        "if os.path.exists('data.txt'):\n",
        "    with open('data.txt', 'w+') as data:\n",
        "        data.write('Hello, World!')\n",
        "        data.seek(0)\n",
        "        print(data.read())\n",
        "else:\n",
        "    print('Warning! \\nThe file does not exixt in the current directory')"
      ]
    },
    {
      "cell_type": "markdown",
      "id": "c79ae7f2-be71-416a-bdca-958e4d060458",
      "metadata": {
        "id": "c79ae7f2-be71-416a-bdca-958e4d060458"
      },
      "source": [
        "**Q6. Write a Python program to find the most frequent word in a text file.**"
      ]
    },
    {
      "cell_type": "code",
      "execution_count": 21,
      "id": "49d6e253-fe95-4603-aa2b-b5ab4cd086a5",
      "metadata": {
        "colab": {
          "base_uri": "https://localhost:8080/"
        },
        "id": "49d6e253-fe95-4603-aa2b-b5ab4cd086a5",
        "outputId": "b65de6be-5154-477d-b922-b20bf723c214"
      },
      "outputs": [
        {
          "output_type": "stream",
          "name": "stdout",
          "text": [
            "{'Materials': 1, 'which': 2, 'contract': 1, 'on': 1, 'heating': 1, 'negative': 3, 'thermal': 2, 'expansion': 2, 'NTE': 2, 'are': 2, 'of': 1, 'significant': 1, 'interest': 1, 'for': 3, 'advanced': 1, 'applications': 1, 'Graphene': 1, 'has': 1, 'shown': 1, 'up': 1, 'to': 2, '1000': 1, 'K': 3, 'motivates': 1, 'further': 1, 'improvements': 1, 'in': 1, 'two-dimensional': 1, 'carbon': 1, 'attain': 1, 'superior': 1, 'performance': 1, 'In': 1, 'this': 1, 'Communication': 1, 'very': 1, 'large': 1, 'coefficients': 1, 'α': 2, 'T': 2, 'reported': 1, 'tri-graphene': 1, 'TrG': 2, 'and': 3, 'T-graphene': 1, 'TG': 2, 'Quasi-harmonic': 1, 'approximation': 1, 'calculations': 1, 'show': 1, 'that': 1, 'remains': 1, 'until': 1, '4200': 1, '2900': 1}\n",
            "Most frequent word in the file: negative\n",
            "Most frequent word in the file: for\n",
            "Most frequent word in the file: K\n",
            "Most frequent word in the file: and\n"
          ]
        }
      ],
      "source": [
        "with open('data.txt') as ex2:\n",
        "    para = ex2.read()\n",
        "\n",
        "pncs = '''\\,./?#@!$'\":;<>(){}[]%&*~`_|'''\n",
        "for pnc in pncs:\n",
        "    para = para.replace(pnc, '')\n",
        "word_lst = para.split()\n",
        "\n",
        "word_count = {w: word_lst.count(w) for w in word_lst}\n",
        "print(word_count)\n",
        "#print(max(word_count.values()))\n",
        "for w in word_count:\n",
        "    if word_count[w] == max(word_count.values()):\n",
        "        print('Most frequent word in the file:', w)"
      ]
    },
    {
      "cell_type": "markdown",
      "id": "cfb1096b-2216-4718-99b9-2526209a4056",
      "metadata": {
        "id": "cfb1096b-2216-4718-99b9-2526209a4056"
      },
      "source": [
        "**Q7. Write a Python program to find and replace a particular word in a text file.**"
      ]
    },
    {
      "cell_type": "code",
      "execution_count": 34,
      "id": "eb7c3d2d-b011-4ec1-bc10-1e69de8b9cd9",
      "metadata": {
        "colab": {
          "base_uri": "https://localhost:8080/"
        },
        "id": "eb7c3d2d-b011-4ec1-bc10-1e69de8b9cd9",
        "outputId": "8f0de742-7941-48d1-ac3d-ba73a607d325"
      },
      "outputs": [
        {
          "output_type": "stream",
          "name": "stdout",
          "text": [
            "Overwriting abstract.txt\n"
          ]
        }
      ],
      "source": [
        "%%writefile abstract.txt\n",
        "Several selenides have been studied as potential thermoelectric materials in the past. Thermoelectric\n",
        "performance improves on reducing the dimension of the system. Following these notions, we studied three\n",
        "hexagonal two dimensional phases of thallium selenide for promising thermoelectric performance by using\n",
        "ﬁrst principles techniques. Their dynamical and mechanical stabilities have been shown. The band gaps using\n",
        "diﬀerent approximations of calculations have been reported and are in the range that can render these\n",
        "materials to show optimal thermoelectric performance. The lattice thermal conductivity is ultralow between\n",
        "0.088 and 0.429 W m−1 K−1 at 900 K. High thermoelectric performance has been predicted in the systems with\n",
        "the ﬁgure of merit reaching magnitudes of ∼0.5−1.94 between 300 and 900 K. The high thermoelectric\n",
        "performance results from an ultralow thermal conductivity arising due to the strong lattice anharmonicity.\n",
        "These results can have signiﬁcant impact on the synthesis of high performance thermoelectric materials based\n",
        "on thallium selenide."
      ]
    },
    {
      "cell_type": "code",
      "execution_count": null,
      "id": "b78e1772-117d-4f0c-a2d6-3b495c5fdf91",
      "metadata": {
        "id": "b78e1772-117d-4f0c-a2d6-3b495c5fdf91"
      },
      "outputs": [],
      "source": [
        "# word1 = 'thermoelectric materials'\n",
        "# word2 = 'TEMs'\n",
        "# with open('abstract.txt', 'r') as abstract:\n",
        "#     string = abstract.read().replace(word1, word2)\n",
        "\n",
        "# with open('abstract.txt', 'w') as abs_w:\n",
        "#     abs_w.write(string)"
      ]
    },
    {
      "cell_type": "code",
      "execution_count": 35,
      "id": "363caab6-4acb-420d-9cb3-9b169e33bc4a",
      "metadata": {
        "colab": {
          "base_uri": "https://localhost:8080/"
        },
        "id": "363caab6-4acb-420d-9cb3-9b169e33bc4a",
        "outputId": "5a163baa-4a56-4865-ad52-57578bdb7ffc"
      },
      "outputs": [
        {
          "output_type": "stream",
          "name": "stdout",
          "text": [
            "Several selenides have been studied as potential TEMs in the past. TE \n",
            "performance improves on reducing the dimension of the system. Following these notions, we studied three \n",
            "hexagonal two-dimensional phases of thallium selenide for promising TE performance by using \n",
            "ﬁrst-principles techniques. Their dynamical and mechanical stabilities have been shown. The band gaps using \n",
            "diﬀerent approximations of calculations have been reported and are in the range that can render these \n",
            "materials to show optimal TE performance. The lattice thermal conductivity is ultralow between\n",
            "0.088 and 0.429 W m−1 K−1 at 900 K. High TE performance has been predicted in the systems with \n",
            "the ﬁgure of merit reaching magnitudes of ∼0.5−1.94 between 300 and 900 K. The high TE \n",
            "performance results from an ultralow thermal conductivity arising due to the strong lattice anharmonicity. \n",
            "These results can have signiﬁcant impact on the synthesis of high performance TEMs based  \n",
            "on thallium selenide.\n",
            "\n"
          ]
        }
      ],
      "source": [
        "word1 = ['thermoelectric materials', 'Thermoelectric', 'thermoelectric', 'two dimensional',\n",
        "         'ﬁrst principles']\n",
        "word2 = ['TEMs', 'TE', 'TE', 'two-dimensional', 'ﬁrst-principles']\n",
        "\n",
        "with open('abstract.txt', 'r') as abstract:\n",
        "    string = abstract.read()\n",
        "\n",
        "\n",
        "for i in range(len(word1)):\n",
        "    string = string.replace(word1[i], word2[i])\n",
        "    # word_lst = string.split()\n",
        "\n",
        "with open('abstract.txt', 'w+') as abs_w:\n",
        "    # for w in word_lst:\n",
        "    #     abs_w.write(w+' ')\n",
        "    abs_w.write(string)\n",
        "    abs_w.seek(0)\n",
        "    print(abs_w.read())\n",
        "\n",
        "\n",
        "# with open('abstract.txt', 'w') as abs_w:\n",
        "#     abs_w.write(string)"
      ]
    },
    {
      "cell_type": "markdown",
      "id": "967890d4-6a63-483c-b884-418427b662e6",
      "metadata": {
        "id": "967890d4-6a63-483c-b884-418427b662e6"
      },
      "source": [
        "**Q8. Write a Python program to calculate the total number of words in a file.**"
      ]
    },
    {
      "cell_type": "code",
      "execution_count": 40,
      "id": "b48e2394-9ec3-4c4f-9671-1935e73d0b91",
      "metadata": {
        "colab": {
          "base_uri": "https://localhost:8080/"
        },
        "id": "b48e2394-9ec3-4c4f-9671-1935e73d0b91",
        "outputId": "6c66d486-cdfc-4097-c7b2-17cac2b3aa52"
      },
      "outputs": [
        {
          "output_type": "execute_result",
          "data": {
            "text/plain": [
              "139"
            ]
          },
          "metadata": {},
          "execution_count": 40
        }
      ],
      "source": [
        "with open('ex2.txt') as ex2:\n",
        "    para = ex2.read()\n",
        "\n",
        "pncs = '''\\,./?#@!$'\":;<>(){}[]%&*~`_|'''\n",
        "for pnc in pncs:\n",
        "    para = para.replace(pnc, '')\n",
        "\n",
        "word_lst = para.split()\n",
        "len(word_lst)"
      ]
    },
    {
      "cell_type": "markdown",
      "id": "9f0611c2-5589-45f3-829c-c8243248c616",
      "metadata": {
        "id": "9f0611c2-5589-45f3-829c-c8243248c616"
      },
      "source": [
        "**Q9. Write a Python program to check if a file is empty or not.**"
      ]
    },
    {
      "cell_type": "code",
      "source": [
        "import os\n",
        "filename = 'empty.txt'\n",
        "if os.path.exists(filename):\n",
        "  os.remove(filename)\n",
        "\n",
        "with open(filename,'w') as f:\n",
        "  pass"
      ],
      "metadata": {
        "id": "CKV4o-B74N0w"
      },
      "id": "CKV4o-B74N0w",
      "execution_count": 46,
      "outputs": []
    },
    {
      "cell_type": "code",
      "execution_count": 47,
      "id": "18ac5959-d7cb-470e-a40c-96c5211ff451",
      "metadata": {
        "colab": {
          "base_uri": "https://localhost:8080/"
        },
        "id": "18ac5959-d7cb-470e-a40c-96c5211ff451",
        "outputId": "51560912-f630-454d-83de-81fa69367724"
      },
      "outputs": [
        {
          "output_type": "stream",
          "name": "stdout",
          "text": [
            "\n",
            "0\n",
            "empty.txt is empty\n"
          ]
        }
      ],
      "source": [
        "file = 'empty.txt'\n",
        "with open(file) as f:\n",
        "    content = f.read()\n",
        "    print(content)\n",
        "    print(len(content))\n",
        "\n",
        "if len(content) == 0:\n",
        "    print(file, 'is empty')\n",
        "else:\n",
        "    print(file, 'is not empty')"
      ]
    },
    {
      "cell_type": "markdown",
      "id": "9421de47-d842-4b74-a54e-a525adc57345",
      "metadata": {
        "id": "9421de47-d842-4b74-a54e-a525adc57345"
      },
      "source": [
        "**Q10. Write a Python function to count the number of occurrences of a word in a text file.**"
      ]
    },
    {
      "cell_type": "code",
      "execution_count": 48,
      "id": "08f002c6-9dd9-4e91-8bac-b8829159e862",
      "metadata": {
        "colab": {
          "base_uri": "https://localhost:8080/"
        },
        "id": "08f002c6-9dd9-4e91-8bac-b8829159e862",
        "outputId": "1584c475-e48d-448f-85e3-cb0975e23ecf"
      },
      "outputs": [
        {
          "output_type": "stream",
          "name": "stdout",
          "text": [
            "87\n",
            "{'materials': 1, 'which': 3, 'contract': 1, 'on': 2, 'heating': 1, 'negative': 3, 'thermal': 2, 'expansion': 2, 'nte': 3, 'are': 3, 'of': 3, 'significant': 1, 'interest': 1, 'for': 6, 'advanced': 1, 'applications': 1, 'graphene': 1, 'has': 1, 'shown': 1, 'up': 1, 'to': 2, '1000': 1, 'k': 3, 'motivates': 1, 'further': 1, 'improvements': 1, 'in': 5, 'two-dimensional': 1, 'carbon': 1, 'attain': 1, 'superior': 1, 'performance': 1, 'this': 1, 'communication': 1, 'very': 1, 'large': 1, 'coefficients': 1, 'α': 2, 't': 2, 'reported': 1, 'tri-graphene': 1, 'trg': 4, 'and': 7, 't-graphene': 1, 'tg': 4, 'quasi-harmonic': 1, 'approximation': 1, 'calculations': 1, 'show': 1, 'that': 2, 'remains': 1, 'until': 1, '4200': 1, '2900': 1, 'respectively': 2, 'the': 8, 'high': 1, 'these': 1, 'systems': 2, 'is': 1, 'understood': 1, 'basis': 1, 'soft': 1, 'phonon': 1, 'modes': 2, 'induce': 1, 'rotation': 1, '3-membered': 1, '4-membered': 1, 'rings': 3, 'ab': 1, 'initio': 1, 'molecular': 1, 'dynamics': 1, 'simulations': 1, 'local': 1, 'distortions': 1, '3−12': 1, '4−8': 1, 'have': 1, 'structural': 1, 'resemblance': 1, 'with': 1, 'rigid-unit': 1, 'usually': 1, 'envisioned': 1, 'bulk': 1}\n"
          ]
        }
      ],
      "source": [
        "with open('ex2.txt') as ex2:\n",
        "    para = ex2.read()\n",
        "\n",
        "pncs = '''\\,./?#@!$'\":;<>(){}[]%&*~`_|'''\n",
        "for pnc in pncs:\n",
        "    para = para.replace(pnc, '')\n",
        "word_lst = para.lower().split()\n",
        "\n",
        "word_count = {word: word_lst.count(word) for word in word_lst}\n",
        "print(len(word_count))\n",
        "print(word_count)"
      ]
    },
    {
      "cell_type": "code",
      "execution_count": 49,
      "id": "98716ccc-0b5d-491e-9487-186b3911ae1f",
      "metadata": {
        "colab": {
          "base_uri": "https://localhost:8080/"
        },
        "id": "98716ccc-0b5d-491e-9487-186b3911ae1f",
        "outputId": "d961f7e2-e709-4c3a-cecb-41773b60992b"
      },
      "outputs": [
        {
          "output_type": "execute_result",
          "data": {
            "text/plain": [
              "{'which': 3}"
            ]
          },
          "metadata": {},
          "execution_count": 49
        }
      ],
      "source": [
        "word = 'which'\n",
        "{word: word_lst.count(word)}"
      ]
    },
    {
      "cell_type": "markdown",
      "id": "f8e48969-ebdd-424b-8c51-cdb625495315",
      "metadata": {
        "id": "f8e48969-ebdd-424b-8c51-cdb625495315"
      },
      "source": [
        "**Q11. Write a Python function to remove duplicate lines from a text file.**"
      ]
    },
    {
      "cell_type": "code",
      "execution_count": 50,
      "id": "0266e636-d246-4c92-a9b0-02c58b58f3fd",
      "metadata": {
        "colab": {
          "base_uri": "https://localhost:8080/"
        },
        "id": "0266e636-d246-4c92-a9b0-02c58b58f3fd",
        "outputId": "965764b9-867f-4f4b-c56d-572668bdb06f"
      },
      "outputs": [
        {
          "output_type": "stream",
          "name": "stdout",
          "text": [
            "Writing dl.txt\n"
          ]
        }
      ],
      "source": [
        "%%writefile dl.txt\n",
        "Sunny\n",
        "Biswajit\n",
        "Mousumi\n",
        "Apurbo\n",
        "Biswajit\n",
        "Sudeshna\n",
        "Ritwik\n",
        "Sunny\n",
        "Sampad\n",
        "Apurbo\n",
        "Biswajit\n",
        "Sunny\n",
        "Mousumi"
      ]
    },
    {
      "cell_type": "code",
      "execution_count": 51,
      "id": "6189b2a1-24dd-41f3-b163-985d1678d223",
      "metadata": {
        "id": "6189b2a1-24dd-41f3-b163-985d1678d223"
      },
      "outputs": [],
      "source": [
        "with open('dl.txt', 'r') as dl:\n",
        "    line_lst = dl.readlines()\n",
        "\n",
        "line_set = []\n",
        "for l in line_lst:\n",
        "    if l not in line_set:\n",
        "        line_set.append(l)\n",
        "\n",
        "#print(line_set)\n",
        "\n",
        "with open('dl.txt', 'w') as dl_w:\n",
        "    for l in line_set:\n",
        "        dl_w.writelines(l)"
      ]
    },
    {
      "cell_type": "code",
      "execution_count": null,
      "id": "280b449b-8d3c-40b3-9ef1-00c720d621d1",
      "metadata": {
        "id": "280b449b-8d3c-40b3-9ef1-00c720d621d1"
      },
      "outputs": [],
      "source": []
    },
    {
      "cell_type": "code",
      "execution_count": 53,
      "id": "cedca804-4fd2-4f6c-ab64-07fb6f9a8783",
      "metadata": {
        "colab": {
          "base_uri": "https://localhost:8080/"
        },
        "id": "cedca804-4fd2-4f6c-ab64-07fb6f9a8783",
        "outputId": "ead3cf19-5074-40c0-b5b3-c7f720e87d8b"
      },
      "outputs": [
        {
          "output_type": "execute_result",
          "data": {
            "text/plain": [
              "['Sunny\\n',\n",
              " 'Biswajit \\n',\n",
              " 'Mousumi\\n',\n",
              " 'Apurbo\\n',\n",
              " 'Sudeshna\\n',\n",
              " 'Ritwik\\n',\n",
              " 'Sampad\\n']"
            ]
          },
          "metadata": {},
          "execution_count": 53
        }
      ],
      "source": [
        "with open('dl.txt') as dl:\n",
        "    line_set = (dl.readlines())\n",
        "\n",
        "line_set"
      ]
    },
    {
      "cell_type": "markdown",
      "id": "917a3545-7b4e-4436-9068-a8be10605894",
      "metadata": {
        "id": "917a3545-7b4e-4436-9068-a8be10605894"
      },
      "source": [
        "**Q12. Write a Python function to find the average length of words in a text file.**"
      ]
    },
    {
      "cell_type": "code",
      "execution_count": 56,
      "id": "ad167a1d-4260-43a1-82b2-a8c1d4db065b",
      "metadata": {
        "colab": {
          "base_uri": "https://localhost:8080/"
        },
        "id": "ad167a1d-4260-43a1-82b2-a8c1d4db065b",
        "outputId": "64df3727-dc01-4290-fd93-5e1a1062b9ea"
      },
      "outputs": [
        {
          "output_type": "stream",
          "name": "stdout",
          "text": [
            "5\n"
          ]
        }
      ],
      "source": [
        "with open('ex2.txt') as ex2:\n",
        "    para = ex2.read()\n",
        "\n",
        "pncs = '''\\,./?#@!$'\":;<>(){}[]%&*~`_|'''\n",
        "for pnc in pncs:\n",
        "    para = para.replace(pnc, '')\n",
        "word_lst = para.lower().split()\n",
        "\n",
        "word_len = [len(w) for w in word_lst]\n",
        "\n",
        "#print(word_lst)\n",
        "#print(word_len)\n",
        "avg_len = sum(word_len)/len(word_len)\n",
        "print(round(avg_len))"
      ]
    },
    {
      "cell_type": "markdown",
      "id": "e286a66b-fe02-443f-b65a-8341bc85f033",
      "metadata": {
        "id": "e286a66b-fe02-443f-b65a-8341bc85f033"
      },
      "source": [
        "**Q13. Write a Python program to encrypt the contents of a text file using a Caesar cipher. Also, write the decryption function.**"
      ]
    },
    {
      "cell_type": "code",
      "execution_count": 65,
      "id": "7b541c8b-8e3a-4207-bb41-2e2582764d2b",
      "metadata": {
        "colab": {
          "base_uri": "https://localhost:8080/"
        },
        "id": "7b541c8b-8e3a-4207-bb41-2e2582764d2b",
        "outputId": "92dd03fd-dd3e-4fe7-84f9-9b22bc345a63"
      },
      "outputs": [
        {
          "output_type": "stream",
          "name": "stdout",
          "text": [
            "Writing dl2.txt\n"
          ]
        }
      ],
      "source": [
        "%%writefile dl2.txt\n",
        "Sunny Biswajit.: Mousumi. Apurbo.\n",
        "Biswajit. Sudeshna, Ritwik.\n",
        "Sunny Sampad. Apurbo. Biswajit.\n",
        "Sunny Mousumi."
      ]
    },
    {
      "cell_type": "code",
      "source": [
        "n = ord('a')\n",
        "small_let = [chr(n+i) for i in range(26)]\n",
        "print(small_let)"
      ],
      "metadata": {
        "colab": {
          "base_uri": "https://localhost:8080/"
        },
        "id": "D9x8FTNn9YDV",
        "outputId": "934d1f94-0c79-4271-9224-67319efb9cf5"
      },
      "id": "D9x8FTNn9YDV",
      "execution_count": 63,
      "outputs": [
        {
          "output_type": "stream",
          "name": "stdout",
          "text": [
            "['a', 'b', 'c', 'd', 'e', 'f', 'g', 'h', 'i', 'j', 'k', 'l', 'm', 'n', 'o', 'p', 'q', 'r', 's', 't', 'u', 'v', 'w', 'x', 'y', 'z']\n"
          ]
        }
      ]
    },
    {
      "cell_type": "code",
      "execution_count": 66,
      "id": "4689222e-3168-45fa-a384-756ed42a63f8",
      "metadata": {
        "colab": {
          "base_uri": "https://localhost:8080/"
        },
        "id": "4689222e-3168-45fa-a384-756ed42a63f8",
        "outputId": "6c52c3a6-08b2-4a3c-e592-72121ded32b1"
      },
      "outputs": [
        {
          "output_type": "stream",
          "name": "stdout",
          "text": [
            "qsllw zgquyhgr.: kmsqskg. ynspzm. \n",
            "zgquyhgr. qsbcqfly, pgrugi. \n",
            "qsllw qyknyb. ynspzm. zgquyhgr. \n",
            "qsllw kmsqskg. \n",
            "\n"
          ]
        }
      ],
      "source": [
        "small_let = ['a', 'b', 'c', 'd', 'e', 'f', 'g', 'h', 'i', 'j', 'k', 'l', 'm', 'n', 'o', 'p', 'q', 'r',\n",
        "                  's', 't', 'u', 'v', 'w', 'x', 'y', 'z']\n",
        "#capital_let = [i.upper() for i in small_let]\n",
        "\n",
        "\n",
        "with open('dl2.txt') as dl2:\n",
        "    para = dl2.read().lower()\n",
        "\n",
        "enc = ''\n",
        "for l in para:\n",
        "    if l in small_let:\n",
        "        ind = small_let.index(l)-2\n",
        "        if ind <0:\n",
        "            ind += len(small_let)\n",
        "        enc += small_let[ind]\n",
        "\n",
        "    else:\n",
        "        enc += l\n",
        "\n",
        "#print(enc)\n",
        "\n",
        "with open('encryption.txt', 'w') as encw:\n",
        "    encw.write(enc)\n",
        "\n",
        "with open('encryption.txt', 'r') as encr:\n",
        "    print(encr.read())"
      ]
    },
    {
      "cell_type": "code",
      "execution_count": null,
      "id": "8126f6ae-25b6-4dde-a0df-98ea0b6e254c",
      "metadata": {
        "id": "8126f6ae-25b6-4dde-a0df-98ea0b6e254c",
        "outputId": "4d6d23e5-2192-489e-cf93-438d6e49626b"
      },
      "outputs": [
        {
          "name": "stdout",
          "output_type": "stream",
          "text": [
            "QSLLW ZGQUYHGR.: KMSQSKG. YNSPZM. \n",
            "ZGQUYHGR. QSBCQFLY, PGRUGI. \n",
            "QSLLW QYKNYB. YNSPZM. ZGQUYHGR. \n",
            "QSLLW KMSQSKG. \n",
            "\n"
          ]
        }
      ],
      "source": [
        "capital_let = 'ABCDEFGHIJKLMNOPQRSTUVWXYZ'\n",
        "small_let = capital_let.lower()\n",
        "#print(small_let)\n",
        "\n",
        "\n",
        "with open('dl2.txt') as dl2:\n",
        "    PARA = dl2.read().upper()\n",
        "\n",
        "\n",
        "ENC = ''\n",
        "for L in PARA:\n",
        "    if L in capital_let:\n",
        "        IND = capital_let.find(L)-2\n",
        "        if IND <0:\n",
        "            IND += len(capital_let)\n",
        "        ENC += capital_let[IND]\n",
        "\n",
        "    else:\n",
        "        ENC += L\n",
        "\n",
        "print(ENC)"
      ]
    },
    {
      "cell_type": "code",
      "execution_count": 67,
      "id": "ef2b1603-5769-4dfe-b62e-30cb3eec4846",
      "metadata": {
        "colab": {
          "base_uri": "https://localhost:8080/"
        },
        "id": "ef2b1603-5769-4dfe-b62e-30cb3eec4846",
        "outputId": "75e65140-1769-4bf4-a499-1ddbab961d99"
      },
      "outputs": [
        {
          "output_type": "stream",
          "name": "stdout",
          "text": [
            "sunny biswajit.: mousumi. apurbo. \n",
            "biswajit. sudeshna, ritwik. \n",
            "sunny sampad. apurbo. biswajit. \n",
            "sunny mousumi. \n",
            "\n"
          ]
        }
      ],
      "source": [
        "small_let = ['a', 'b', 'c', 'd', 'e', 'f', 'g', 'h', 'i', 'j', 'k', 'l', 'm', 'n', 'o', 'p', 'q', 'r',\n",
        "                  's', 't', 'u', 'v', 'w', 'x', 'y', 'z']\n",
        "#capital_let = [i.upper() for i in small_let]\n",
        "\n",
        "\n",
        "with open('encryption.txt') as encryption:\n",
        "    string = encryption.read().lower()\n",
        "\n",
        "dec = ''\n",
        "for l in string:\n",
        "    if l in small_let:\n",
        "        indd = small_let.index(l)+2\n",
        "        if indd > len(small_let)-1:\n",
        "            indd = indd - len(small_let)\n",
        "        dec += small_let[indd]\n",
        "\n",
        "    else:\n",
        "        dec += l\n",
        "\n",
        "print(dec)"
      ]
    },
    {
      "cell_type": "markdown",
      "id": "68a0ed53-2388-4134-90bc-d629cc341802",
      "metadata": {
        "id": "68a0ed53-2388-4134-90bc-d629cc341802"
      },
      "source": [
        "**Q14. Write a Python program to convert the contents of a text file to uppercase.**"
      ]
    },
    {
      "cell_type": "code",
      "execution_count": 68,
      "id": "439f1e3a-ee05-47ae-9482-1822d7fd11f2",
      "metadata": {
        "colab": {
          "base_uri": "https://localhost:8080/"
        },
        "id": "439f1e3a-ee05-47ae-9482-1822d7fd11f2",
        "outputId": "04cc47c0-59cb-4278-a8c1-0e1db18e72a5"
      },
      "outputs": [
        {
          "output_type": "stream",
          "name": "stdout",
          "text": [
            "Overwriting ex2.txt\n"
          ]
        }
      ],
      "source": [
        "%%writefile ex2.txt\n",
        "Materials which contract on heating (negative thermal expansion, NTE) are of significant interest for\n",
        "advanced applications. Graphene has shown NTE up to 1000 K, which motivates further improvements in\n",
        "two-dimensional carbon to attain superior performance. In this Communication, very large negative thermal\n",
        "expansion  coefficients (α T ) are reported for tri-graphene (TrG) and T-graphene (TG). Quasi-harmonic\n",
        "approximation calculations show that α T remains negative until 4200 K and 2900 K for TrG and TG,\n",
        "respectively. The high NTE for these systems is understood on the basis of the soft phonon modes, which\n",
        "induce rotation of the 3-membered and the 4-membered rings in TrG and TG, respectively, and ab initio\n",
        "molecular dynamics simulations. The local distortions for the 3−12 rings (in TrG) and 4−8 rings (in TG) have\n",
        "structural resemblance with the rigid-unit modes that are usually envisioned for bulk systems."
      ]
    },
    {
      "cell_type": "code",
      "execution_count": 69,
      "id": "e47e2c03-1e6e-43d0-aad7-c19375e4b3c2",
      "metadata": {
        "id": "e47e2c03-1e6e-43d0-aad7-c19375e4b3c2"
      },
      "outputs": [],
      "source": [
        "with open('ex2.txt') as ex2:\n",
        "    para = ex2.read()\n",
        "\n",
        "para = para.upper()\n",
        "# print(para)\n",
        "\n",
        "with open('ex2.txt', 'w') as ex2w:\n",
        "    ex2w.write(para)"
      ]
    },
    {
      "cell_type": "code",
      "execution_count": null,
      "id": "ead7befe-6db3-4f53-a1c8-e2c56920808a",
      "metadata": {
        "id": "ead7befe-6db3-4f53-a1c8-e2c56920808a",
        "outputId": "75cfcf9d-300e-4c07-ae53-4dd18deec8bf"
      },
      "outputs": [
        {
          "name": "stdout",
          "output_type": "stream",
          "text": [
            "MATERIALS WHICH CONTRACT ON HEATING (NEGATIVE THERMAL EXPANSION, NTE) ARE OF SIGNIFICANT INTEREST FOR \n",
            "ADVANCED APPLICATIONS. GRAPHENE HAS SHOWN NTE UP TO 1000 K, WHICH MOTIVATES FURTHER IMPROVEMENTS IN \n",
            "TWO-DIMENSIONAL CARBON TO ATTAIN SUPERIOR PERFORMANCE. IN THIS COMMUNICATION, VERY LARGE NEGATIVE THERMAL \n",
            "EXPANSION  COEFFICIENTS (Α T ) ARE REPORTED FOR TRI-GRAPHENE (TRG) AND T-GRAPHENE (TG). QUASI-HARMONIC \n",
            "APPROXIMATION CALCULATIONS SHOW THAT Α T REMAINS NEGATIVE UNTIL 4200 K AND 2900 K FOR TRG AND TG, \n",
            "RESPECTIVELY. THE HIGH NTE FOR THESE SYSTEMS IS UNDERSTOOD ON THE BASIS OF THE SOFT PHONON MODES, WHICH \n",
            "INDUCE ROTATION OF THE 3-MEMBERED AND THE 4-MEMBERED RINGS IN TRG AND TG, RESPECTIVELY, AND AB INITIO  \n",
            "MOLECULAR DYNAMICS SIMULATIONS. THE LOCAL DISTORTIONS FOR THE 3−12 RINGS (IN TRG) AND 4−8 RINGS (IN TG) HAVE\n",
            "STRUCTURAL RESEMBLANCE WITH THE RIGID-UNIT MODES THAT ARE USUALLY ENVISIONED FOR BULK SYSTEMS.\n",
            "\n"
          ]
        }
      ],
      "source": [
        "with open('ex2.txt') as ex2:\n",
        "    print(ex2.read())"
      ]
    },
    {
      "cell_type": "markdown",
      "id": "22c74047-830e-404c-8502-304fd8a20b9b",
      "metadata": {
        "id": "22c74047-830e-404c-8502-304fd8a20b9b"
      },
      "source": [
        "**Q15. Create a script that accepts a text file as input and checks if it contains any palindromic words. Write the palindromic words to a new file called \"palindromes.txt\".**"
      ]
    },
    {
      "cell_type": "code",
      "execution_count": 70,
      "id": "327f4023-3230-459d-8d08-27d5fd52aee2",
      "metadata": {
        "colab": {
          "base_uri": "https://localhost:8080/"
        },
        "id": "327f4023-3230-459d-8d08-27d5fd52aee2",
        "outputId": "745deff4-a2c4-42b5-cc02-dc317ae2e730"
      },
      "outputs": [
        {
          "output_type": "stream",
          "name": "stdout",
          "text": [
            "Writing inp.txt\n"
          ]
        }
      ],
      "source": [
        "%%writefile inp.txt\n",
        "school teacher madam chair books madam aba"
      ]
    },
    {
      "cell_type": "code",
      "execution_count": 73,
      "id": "f1b23cb9-4eee-4477-a223-a33cc7cd95a7",
      "metadata": {
        "colab": {
          "base_uri": "https://localhost:8080/"
        },
        "id": "f1b23cb9-4eee-4477-a223-a33cc7cd95a7",
        "outputId": "3d17ba5d-20be-4001-c0d0-676fbe803a40"
      },
      "outputs": [
        {
          "output_type": "stream",
          "name": "stdout",
          "text": [
            "contains palindrome\n",
            "aba madam \n"
          ]
        }
      ],
      "source": [
        "with open('inp.txt') as inp:\n",
        "    para = inp.read()\n",
        "\n",
        "pncs = '''\\,./?#@!$'\":;<>(){}[]%&*~`_-|'''\n",
        "for pnc in pncs:\n",
        "    para = para.replace(pnc, '')\n",
        "word_set = set(para.lower().split())\n",
        "\n",
        "for word in word_set:\n",
        "    if word == word[::-1]:\n",
        "        print('contains palindrome')\n",
        "        break\n",
        "else:\n",
        "    print('Not')\n",
        "\n",
        "with open('palindromes.txt', 'w+') as palin:\n",
        "    for word in word_set:\n",
        "        if word == word[::-1]:\n",
        "            palin.write(word+' ')\n",
        "    palin.seek(0)\n",
        "    print(palin.read())"
      ]
    },
    {
      "cell_type": "markdown",
      "id": "71b4b168-f7c3-4247-9c74-da4de835971c",
      "metadata": {
        "id": "71b4b168-f7c3-4247-9c74-da4de835971c"
      },
      "source": [
        "**Q16. Write a program that prompts the user for a directory path. The program should traverse all text files within that directory (and its subdirectories) and count the total number of words across all files.**"
      ]
    },
    {
      "cell_type": "code",
      "execution_count": 74,
      "id": "61320d69-f445-488c-ae7c-4eb17ee761c2",
      "metadata": {
        "colab": {
          "base_uri": "https://localhost:8080/",
          "height": 35
        },
        "id": "61320d69-f445-488c-ae7c-4eb17ee761c2",
        "outputId": "6223f6a1-c44e-4171-b7a1-fac3ca5e2b8d"
      },
      "outputs": [
        {
          "output_type": "execute_result",
          "data": {
            "text/plain": [
              "'/content'"
            ],
            "application/vnd.google.colaboratory.intrinsic+json": {
              "type": "string"
            }
          },
          "metadata": {},
          "execution_count": 74
        }
      ],
      "source": [
        "import os\n",
        "os.getcwd()"
      ]
    },
    {
      "cell_type": "code",
      "execution_count": 75,
      "id": "5aaade18-bccb-4547-96c7-536e12e35945",
      "metadata": {
        "colab": {
          "base_uri": "https://localhost:8080/",
          "height": 252
        },
        "id": "5aaade18-bccb-4547-96c7-536e12e35945",
        "outputId": "19d32e59-c74b-46cb-dac9-24cd202e80d8"
      },
      "outputs": [
        {
          "name": "stdout",
          "output_type": "stream",
          "text": [
            "Enter the full path of the directory/content\n"
          ]
        },
        {
          "output_type": "error",
          "ename": "NotADirectoryError",
          "evalue": "ignored",
          "traceback": [
            "\u001b[0;31m---------------------------------------------------------------------------\u001b[0m",
            "\u001b[0;31mNotADirectoryError\u001b[0m                        Traceback (most recent call last)",
            "\u001b[0;32m<ipython-input-75-79430f51c91e>\u001b[0m in \u001b[0;36m<cell line: 8>\u001b[0;34m()\u001b[0m\n\u001b[1;32m      7\u001b[0m \u001b[0mlst_sub\u001b[0m \u001b[0;34m=\u001b[0m \u001b[0;34m[\u001b[0m\u001b[0;34m]\u001b[0m\u001b[0;34m\u001b[0m\u001b[0;34m\u001b[0m\u001b[0m\n\u001b[1;32m      8\u001b[0m \u001b[0;32mfor\u001b[0m \u001b[0mdf\u001b[0m \u001b[0;32min\u001b[0m \u001b[0mlst\u001b[0m\u001b[0;34m:\u001b[0m\u001b[0;34m\u001b[0m\u001b[0;34m\u001b[0m\u001b[0m\n\u001b[0;32m----> 9\u001b[0;31m     \u001b[0mlst_sub\u001b[0m \u001b[0;34m+=\u001b[0m \u001b[0mos\u001b[0m\u001b[0;34m.\u001b[0m\u001b[0mlistdir\u001b[0m\u001b[0;34m(\u001b[0m\u001b[0mdirct\u001b[0m\u001b[0;34m+\u001b[0m\u001b[0;34m'/'\u001b[0m\u001b[0;34m+\u001b[0m\u001b[0mdf\u001b[0m\u001b[0;34m)\u001b[0m\u001b[0;34m\u001b[0m\u001b[0;34m\u001b[0m\u001b[0m\n\u001b[0m\u001b[1;32m     10\u001b[0m \u001b[0;31m#print(lst_sub)\u001b[0m\u001b[0;34m\u001b[0m\u001b[0;34m\u001b[0m\u001b[0m\n\u001b[1;32m     11\u001b[0m \u001b[0;34m\u001b[0m\u001b[0m\n",
            "\u001b[0;31mNotADirectoryError\u001b[0m: [Errno 20] Not a directory: '/content/data.txt'"
          ]
        }
      ],
      "source": [
        "import os\n",
        "dirct = input('Enter the full path of the directory')\n",
        "\n",
        "lst = os.listdir(dirct)\n",
        "#print(lst)\n",
        "\n",
        "lst_sub = []\n",
        "for df in lst:\n",
        "    lst_sub += os.listdir(dirct+'/'+df)\n",
        "#print(lst_sub)\n",
        "\n",
        "lst_all = lst + lst_sub\n",
        "print(lst_all)\n",
        "\n"
      ]
    },
    {
      "cell_type": "markdown",
      "id": "bb9a3b23-b252-46d8-869d-6a5c884087e4",
      "metadata": {
        "id": "bb9a3b23-b252-46d8-869d-6a5c884087e4"
      },
      "source": [
        "**Q17. Create a program that reads a text file and identifies the most frequent letter in its content. Prompt the user to enter the file name and display the most frequent letter along with its count.**"
      ]
    },
    {
      "cell_type": "code",
      "execution_count": 77,
      "id": "4cd30582-e467-4b84-bf0c-b451a8c7dd98",
      "metadata": {
        "colab": {
          "base_uri": "https://localhost:8080/"
        },
        "id": "4cd30582-e467-4b84-bf0c-b451a8c7dd98",
        "outputId": "78e8621c-0544-4872-d10f-05adc70f3724"
      },
      "outputs": [
        {
          "output_type": "stream",
          "name": "stdout",
          "text": [
            "Enter the file namedata.txt\n",
            "{'a': 41}\n",
            "{'t': 41}\n"
          ]
        }
      ],
      "source": [
        "file = input('Enter the file name')\n",
        "\n",
        "with open(file) as fl:\n",
        "    para = fl.read()\n",
        "\n",
        "pncs = '''\\,./?#@!$'\":;<>(){}[]%&*~`_|\\n\" \"'''\n",
        "for pnc in pncs:\n",
        "    para = para.replace(pnc, '').lower()\n",
        "\n",
        "letter_lst = list(para)\n",
        "#print(letter_lst)\n",
        "letter_count = {l: letter_lst.count(l) for l in letter_lst}\n",
        "#print(letter_count)\n",
        "\n",
        "for l in letter_count:\n",
        "    if letter_count[l] == max(letter_count.values()):\n",
        "        print({l: letter_count[l]})"
      ]
    },
    {
      "cell_type": "markdown",
      "id": "24b11792-c514-4e10-9a54-f5dee4221e58",
      "metadata": {
        "id": "24b11792-c514-4e10-9a54-f5dee4221e58"
      },
      "source": [
        "**Q18. Create a program that reads a text file and identifies all the unique words in its content. Prompt the user to enter the file name and display the unique words in alphabetical order.**"
      ]
    },
    {
      "cell_type": "code",
      "execution_count": 78,
      "id": "a8730891-47c4-42a3-ad20-3415cb33424c",
      "metadata": {
        "colab": {
          "base_uri": "https://localhost:8080/"
        },
        "id": "a8730891-47c4-42a3-ad20-3415cb33424c",
        "outputId": "ab9e1871-1640-48c7-bd6b-0a59a1b79f49"
      },
      "outputs": [
        {
          "output_type": "stream",
          "name": "stdout",
          "text": [
            "Overwriting dl.txt\n"
          ]
        }
      ],
      "source": [
        "%%writefile dl.txt\n",
        "Sunny\n",
        "Biswajit\n",
        "Mousumi\n",
        "Apurbo\n",
        "Biswajit\n",
        "Sudeshna\n",
        "Ritwik\n",
        "Sunny\n",
        "Sampad\n",
        "Apurbo\n",
        "Biswajit\n",
        "Sunny\n",
        "Mousumi"
      ]
    },
    {
      "cell_type": "code",
      "source": [],
      "metadata": {
        "id": "5L3WUj3xAkeo"
      },
      "id": "5L3WUj3xAkeo",
      "execution_count": null,
      "outputs": []
    },
    {
      "cell_type": "code",
      "execution_count": 81,
      "id": "7fd88e5e-786b-4404-9ed3-dd2d0aeab03d",
      "metadata": {
        "colab": {
          "base_uri": "https://localhost:8080/"
        },
        "id": "7fd88e5e-786b-4404-9ed3-dd2d0aeab03d",
        "outputId": "9ab675fe-bb93-4316-813f-1ec012561eb5"
      },
      "outputs": [
        {
          "output_type": "stream",
          "name": "stdout",
          "text": [
            "Enter the file namedata.txt\n",
            "(TG).\n",
            "(TrG)\n",
            "(negative\n",
            "(α\n",
            ")\n",
            ",\n",
            "1000\n",
            "2900\n",
            "4200\n",
            "Communication,\n",
            "Graphene\n",
            "In\n",
            "K\n",
            "Materials\n",
            "NTE\n",
            "NTE)\n",
            "Quasi-harmonic\n",
            "T\n",
            "T-graphene\n",
            "TG,\n",
            "TrG\n",
            "advanced\n",
            "and\n",
            "applications.\n",
            "approximation\n",
            "are\n",
            "attain\n",
            "calculations\n",
            "carbon\n",
            "coefficients\n",
            "contract\n",
            "expansion\n",
            "expansion,\n",
            "for\n",
            "further\n",
            "has\n",
            "heating\n",
            "improvements\n",
            "in\n",
            "interest\n",
            "large\n",
            "motivates\n",
            "negative\n",
            "of\n",
            "on\n",
            "performance.\n",
            "remains\n",
            "reported\n",
            "show\n",
            "shown\n",
            "significant\n",
            "superior\n",
            "that\n",
            "thermal\n",
            "this\n",
            "to\n",
            "tri-graphene\n",
            "two-dimensional\n",
            "until\n",
            "up\n",
            "very\n",
            "which\n",
            "α\n"
          ]
        }
      ],
      "source": [
        "file = input('Enter the file name')\n",
        "\n",
        "with open(file) as fl:\n",
        "    unique_words = list(set(fl.read().split()))\n",
        "\n",
        "#print(sorted(unique_words))\n",
        "for word in sorted(unique_words):\n",
        "    print(word,end = '\\n')"
      ]
    },
    {
      "cell_type": "markdown",
      "id": "37c71649-bc1c-4a95-a505-a64bfea2fe5e",
      "metadata": {
        "id": "37c71649-bc1c-4a95-a505-a64bfea2fe5e"
      },
      "source": [
        "**Q19. Create a program that prompts the user for a file name and searches for a specific word within the file. The program should display the line numbers where the word occurs, along with the corresponding lines of text.**"
      ]
    },
    {
      "cell_type": "code",
      "execution_count": 82,
      "id": "cd78c551-7fda-4ff8-8486-0d95535f9942",
      "metadata": {
        "colab": {
          "base_uri": "https://localhost:8080/"
        },
        "id": "cd78c551-7fda-4ff8-8486-0d95535f9942",
        "outputId": "4585fcd1-5efd-444a-969c-3a409102872c"
      },
      "outputs": [
        {
          "output_type": "stream",
          "name": "stdout",
          "text": [
            "Overwriting dl2.txt\n"
          ]
        }
      ],
      "source": [
        "%%writefile dl2.txt\n",
        "Sunny Biswajit. Mousumi. Apurbo.\n",
        "Biswajit. Sudeshna Ritwik.\n",
        "Sunny Sampad. Apurbo. Biswajit.\n",
        "Sunny Mousumi."
      ]
    },
    {
      "cell_type": "code",
      "execution_count": 84,
      "id": "b36820aa-acee-41d8-a833-30aae81affde",
      "metadata": {
        "colab": {
          "base_uri": "https://localhost:8080/"
        },
        "id": "b36820aa-acee-41d8-a833-30aae81affde",
        "outputId": "f6b9dc4d-ebde-48fc-b54e-66252331b210"
      },
      "outputs": [
        {
          "output_type": "stream",
          "name": "stdout",
          "text": [
            "Enter the file name:names.txt\n",
            "{'line number': 3, 'line': 'Apurbo\\n'}\n"
          ]
        }
      ],
      "source": [
        "file = input('Enter the file name:')\n",
        "word = 'Apurbo'\n",
        "\n",
        "with open(file) as fl:\n",
        "    line_lst = fl.readlines()\n",
        "\n",
        "#print(line_lst)\n",
        "\n",
        "new_line_lst = []\n",
        "for line in line_lst:\n",
        "    line = line.replace('.', '')\n",
        "    new_line_lst.append(line)\n",
        "\n",
        "#print(new_line_lst)\n",
        "\n",
        "for line in line_lst:\n",
        "    if word in line:\n",
        "        print({'line number': line_lst.index(line), 'line': line})\n",
        ""
      ]
    },
    {
      "cell_type": "markdown",
      "id": "078d7285-7d72-4eb4-8944-d7bb882bee6b",
      "metadata": {
        "id": "078d7285-7d72-4eb4-8944-d7bb882bee6b"
      },
      "source": [
        "**Q20. Write a Python program to shuffle the words in a text file and save it to a new file.**"
      ]
    },
    {
      "cell_type": "code",
      "execution_count": 85,
      "id": "ce6d963b-12d2-49e3-9ea7-bf6102478114",
      "metadata": {
        "colab": {
          "base_uri": "https://localhost:8080/"
        },
        "id": "ce6d963b-12d2-49e3-9ea7-bf6102478114",
        "outputId": "f505a194-8f6a-4353-8b88-d5de8a135b09"
      },
      "outputs": [
        {
          "output_type": "stream",
          "name": "stdout",
          "text": [
            "Overwriting names.txt\n"
          ]
        }
      ],
      "source": [
        "%%writefile names.txt\n",
        "Sunny\n",
        "Biswajit\n",
        "Mousumi\n",
        "Apurbo\n",
        "Sudeshna\n",
        "Ritwik\n",
        "Sampad"
      ]
    },
    {
      "cell_type": "code",
      "execution_count": 88,
      "id": "284838d5-02ef-4381-a0ec-3ab84722d685",
      "metadata": {
        "colab": {
          "base_uri": "https://localhost:8080/"
        },
        "id": "284838d5-02ef-4381-a0ec-3ab84722d685",
        "outputId": "e758e0ad-5579-4222-fdaf-410439af62f1"
      },
      "outputs": [
        {
          "output_type": "stream",
          "name": "stdout",
          "text": [
            "['Sunny', 'Mousumi', 'Sudeshna', 'Biswajit', 'Ritwik', 'Apurbo', 'Sampad']\n"
          ]
        }
      ],
      "source": [
        "from random import *\n",
        "with open('names.txt') as names:\n",
        "    para = names.read()\n",
        "\n",
        "word_lst = para.split()\n",
        "shuffle(word_lst)\n",
        "print(word_lst)\n",
        "\n",
        "with open('names_re.txt', 'w') as names_re:\n",
        "    for w in word_lst:\n",
        "        names_re.write(w+'\\n')"
      ]
    },
    {
      "cell_type": "code",
      "execution_count": 89,
      "id": "2bcd47ea-cbcf-469b-8eaf-08d4ad6697ed",
      "metadata": {
        "colab": {
          "base_uri": "https://localhost:8080/"
        },
        "id": "2bcd47ea-cbcf-469b-8eaf-08d4ad6697ed",
        "outputId": "f4aa7d28-bbbf-4cf5-c310-29b9f08d20d6"
      },
      "outputs": [
        {
          "output_type": "stream",
          "name": "stdout",
          "text": [
            "Sunny\n",
            "Mousumi\n",
            "Sudeshna\n",
            "Biswajit\n",
            "Ritwik\n",
            "Apurbo\n",
            "Sampad\n",
            "\n"
          ]
        }
      ],
      "source": [
        "with open('names_re.txt') as names_re:\n",
        "    print(names_re.read())"
      ]
    },
    {
      "cell_type": "code",
      "execution_count": 89,
      "id": "d59b7388-5f6a-4f7a-a95f-d64c9b53c72d",
      "metadata": {
        "id": "d59b7388-5f6a-4f7a-a95f-d64c9b53c72d"
      },
      "outputs": [],
      "source": []
    },
    {
      "cell_type": "code",
      "execution_count": 90,
      "id": "2253f975-de61-4850-bf41-c6ad1504f9dc",
      "metadata": {
        "colab": {
          "base_uri": "https://localhost:8080/"
        },
        "id": "2253f975-de61-4850-bf41-c6ad1504f9dc",
        "outputId": "210f3f37-c13f-4013-eda8-56f0b143c688"
      },
      "outputs": [
        {
          "output_type": "stream",
          "name": "stdout",
          "text": [
            "['Biswajit \\n', 'Mousumi\\n', 'Sampad\\n', 'Ritwik\\n', 'Apurbo\\n', 'Sudeshna\\n', 'Sunny\\n']\n"
          ]
        }
      ],
      "source": [
        "from random import *\n",
        "with open('names.txt') as names:\n",
        "    word_lst2 = names.readlines()\n",
        "\n",
        "\n",
        "shuffle(word_lst2)\n",
        "print(word_lst2)\n",
        "\n",
        "with open('names_re2.txt', 'w') as names_re2:\n",
        "    for w in word_lst2:\n",
        "        names_re2.write(w)"
      ]
    },
    {
      "cell_type": "code",
      "execution_count": null,
      "id": "2dde325e-c952-4efc-b1b5-dea935a902cc",
      "metadata": {
        "id": "2dde325e-c952-4efc-b1b5-dea935a902cc",
        "outputId": "18d0fc46-1da5-4a46-d022-fd7ad733132c"
      },
      "outputs": [
        {
          "name": "stdout",
          "output_type": "stream",
          "text": [
            "Sudeshna\n",
            "Sampad\n",
            "Biswajit \n",
            "Apurbo\n",
            "Ritwik\n",
            "Sunny\n",
            "Mousumi\n",
            "\n"
          ]
        }
      ],
      "source": [
        "with open('names_re2.txt') as names_re2:\n",
        "    print(names_re2.read())"
      ]
    },
    {
      "cell_type": "code",
      "execution_count": null,
      "id": "5a92c26d-ca62-43b7-a28b-6febcd97ed79",
      "metadata": {
        "id": "5a92c26d-ca62-43b7-a28b-6febcd97ed79"
      },
      "outputs": [],
      "source": []
    }
  ],
  "metadata": {
    "kernelspec": {
      "display_name": "Python 3 (ipykernel)",
      "language": "python",
      "name": "python3"
    },
    "language_info": {
      "codemirror_mode": {
        "name": "ipython",
        "version": 3
      },
      "file_extension": ".py",
      "mimetype": "text/x-python",
      "name": "python",
      "nbconvert_exporter": "python",
      "pygments_lexer": "ipython3",
      "version": "3.7.9"
    },
    "colab": {
      "provenance": [],
      "include_colab_link": true
    }
  },
  "nbformat": 4,
  "nbformat_minor": 5
}