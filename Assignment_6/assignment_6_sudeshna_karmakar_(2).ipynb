{
  "cells": [
    {
      "cell_type": "markdown",
      "metadata": {
        "id": "view-in-github",
        "colab_type": "text"
      },
      "source": [
        "<a href=\"https://colab.research.google.com/github/mcodevb/Python-with-Mainul/blob/master/Assignment_6/assignment_6_sudeshna_karmakar_(2).ipynb\" target=\"_parent\"><img src=\"https://colab.research.google.com/assets/colab-badge.svg\" alt=\"Open In Colab\"/></a>"
      ]
    },
    {
      "cell_type": "markdown",
      "id": "6713d88a",
      "metadata": {
        "id": "6713d88a"
      },
      "source": [
        "### 1.Write a Python program to count the number of lines in a text file named ‘ex1.txt’. Also, print the last line."
      ]
    },
    {
      "cell_type": "code",
      "execution_count": 1,
      "id": "7e771308",
      "metadata": {
        "colab": {
          "base_uri": "https://localhost:8080/"
        },
        "id": "7e771308",
        "outputId": "bc399749-65cd-407b-f758-bc4d47d0a699"
      },
      "outputs": [
        {
          "output_type": "stream",
          "name": "stdout",
          "text": [
            "Writing ex1.txt\n"
          ]
        }
      ],
      "source": [
        "%%writefile ex1.txt\n",
        "sudeshna\n",
        "mousumi\n",
        "ritwik\n",
        "sunny\n",
        "sampad\n",
        "biswajit\n",
        "suvojit\n",
        "apurba"
      ]
    },
    {
      "cell_type": "code",
      "execution_count": 2,
      "id": "14245948",
      "metadata": {
        "colab": {
          "base_uri": "https://localhost:8080/"
        },
        "id": "14245948",
        "outputId": "3d6692e7-47a7-43f6-901b-253322d59591"
      },
      "outputs": [
        {
          "output_type": "stream",
          "name": "stdout",
          "text": [
            "number of line: 8\n",
            "The last line is: apurba\n",
            "\n"
          ]
        }
      ],
      "source": [
        "a=''\n",
        "with open('ex1.txt','r') as line:\n",
        "    print('number of line:',len(line.readlines()))\n",
        "with open('ex1.txt','r') as line:\n",
        "    for x in line.readlines():\n",
        "        a=x\n",
        "    print('The last line is:',a)"
      ]
    },
    {
      "cell_type": "markdown",
      "id": "fcc97b1d",
      "metadata": {
        "id": "fcc97b1d"
      },
      "source": [
        "### 2.Write a Python program to find the longest word in a file.\n"
      ]
    },
    {
      "cell_type": "code",
      "execution_count": null,
      "id": "9b21a8ab",
      "metadata": {
        "id": "9b21a8ab",
        "outputId": "bca06d63-d041-4f7d-9157-835935916750"
      },
      "outputs": [
        {
          "name": "stdout",
          "output_type": "stream",
          "text": [
            "Overwriting words.txt\n"
          ]
        }
      ],
      "source": [
        "%%writefile words.txt\n",
        "Python is a popular programming language .\n",
        "Python can be used on a server to create web applications ."
      ]
    },
    {
      "cell_type": "code",
      "execution_count": null,
      "id": "b81a4eb0",
      "metadata": {
        "id": "b81a4eb0",
        "outputId": "4d4f7304-f360-4071-9530-8ca9f37beabd"
      },
      "outputs": [
        {
          "name": "stdout",
          "output_type": "stream",
          "text": [
            "The longest word of length 12 in the file is:\n",
            "applications\n"
          ]
        }
      ],
      "source": [
        "a=0\n",
        "with open('words.txt','r') as leng:\n",
        "    word=leng.read()\n",
        "    lists=word.split()\n",
        "    for x in lists:\n",
        "        if len(x)>a:\n",
        "            a=len(x)\n",
        "    print('The longest word of length',a,'in the file is:')\n",
        "    for x in lists:\n",
        "        if len(x)==a:\n",
        "            print(x)"
      ]
    },
    {
      "cell_type": "markdown",
      "id": "2ec7641d",
      "metadata": {
        "id": "2ec7641d"
      },
      "source": [
        "### 3.Write a Python program to remove newline characters from a file.\n"
      ]
    },
    {
      "cell_type": "code",
      "execution_count": null,
      "id": "c1d05193",
      "metadata": {
        "scrolled": true,
        "id": "c1d05193",
        "outputId": "9d9d5938-a873-4431-8276-38fafb94c655"
      },
      "outputs": [
        {
          "name": "stdout",
          "output_type": "stream",
          "text": [
            "Overwriting words.txt\n"
          ]
        }
      ],
      "source": [
        "%%writefile words.txt\n",
        "Python is a popular programming language .\n",
        "\n",
        "Python can be used on a server to create web applications ."
      ]
    },
    {
      "cell_type": "code",
      "execution_count": null,
      "id": "414e795f",
      "metadata": {
        "id": "414e795f",
        "outputId": "65b73fd0-9546-41b1-97ba-64cf3e2d1fd2"
      },
      "outputs": [
        {
          "name": "stdout",
          "output_type": "stream",
          "text": [
            "Python is a popular programming language . Python can be used on a server to create web applications .\n"
          ]
        }
      ],
      "source": [
        "with open('words.txt','r') as word:\n",
        "    list1=word.read()\n",
        "    b=list1.split()\n",
        "    print(' '.join(b))\n",
        ""
      ]
    },
    {
      "cell_type": "markdown",
      "id": "17b38624",
      "metadata": {
        "id": "17b38624"
      },
      "source": [
        "### 4.Write a Python program to sort the content of a file alphabetically. You may do this for a list of names."
      ]
    },
    {
      "cell_type": "code",
      "execution_count": null,
      "id": "d1c01064",
      "metadata": {
        "id": "d1c01064",
        "outputId": "09565841-2866-4bd3-b579-3e26b3ce81a6"
      },
      "outputs": [
        {
          "name": "stdout",
          "output_type": "stream",
          "text": [
            "Writing name.txt\n"
          ]
        }
      ],
      "source": [
        "%%writefile name.txt\n",
        "sudeshna\n",
        "mousumi\n",
        "ritwik\n",
        "sunny\n",
        "sampad\n",
        "biswajit\n",
        "suvojit\n",
        "apurba"
      ]
    },
    {
      "cell_type": "code",
      "execution_count": null,
      "id": "232c32e1",
      "metadata": {
        "id": "232c32e1",
        "outputId": "7ecc446f-3cc5-4308-e607-966e3523e04e"
      },
      "outputs": [
        {
          "name": "stdout",
          "output_type": "stream",
          "text": [
            "apurba\n",
            "biswajit\n",
            "mousumi\n",
            "ritwik\n",
            "sampad\n",
            "sudeshna\n",
            "sunny\n",
            "suvojit\n",
            "\n"
          ]
        }
      ],
      "source": [
        "with open('name.txt','r') as name:\n",
        "    word=name.read()\n",
        "    lists=word.split()\n",
        "    lists.sort()\n",
        "a=[]\n",
        "for x in lists:\n",
        "    a.append(x+'\\n')\n",
        "with open('sorted.txt','w') as sort:\n",
        "    sort.writelines(a)\n",
        "with open('sorted.txt','r') as sort:\n",
        "    print(sort.read())"
      ]
    },
    {
      "cell_type": "markdown",
      "id": "a802f41f",
      "metadata": {
        "id": "a802f41f"
      },
      "source": [
        "### 5.Write a Python program to check if a file exists or not. If exists, write something into it."
      ]
    },
    {
      "cell_type": "code",
      "execution_count": null,
      "id": "d322b354",
      "metadata": {
        "id": "d322b354",
        "outputId": "a8b110de-1c4f-43d6-e4f5-5eca7d56de98"
      },
      "outputs": [
        {
          "name": "stdout",
          "output_type": "stream",
          "text": [
            "ex4.txt file does not exist\n"
          ]
        }
      ],
      "source": [
        "import os\n",
        "n='ex4.txt'\n",
        "if os.path.exists(n):\n",
        "    print(n,'file exists')\n",
        "    with open(n,'a') as out:\n",
        "        out.write('hello')\n",
        "    with open(n,'r') as out:\n",
        "        print(out.read())\n",
        "else:\n",
        "    print(n,'file does not exist')"
      ]
    },
    {
      "cell_type": "markdown",
      "id": "c2c76261",
      "metadata": {
        "id": "c2c76261"
      },
      "source": [
        "### 6.Write a Python program to find the most frequent word in a text file.\n"
      ]
    },
    {
      "cell_type": "code",
      "execution_count": 8,
      "id": "90f20eeb",
      "metadata": {
        "colab": {
          "base_uri": "https://localhost:8080/"
        },
        "id": "90f20eeb",
        "outputId": "5bc941bb-3d86-476a-c5b3-a8d68a7af16b"
      },
      "outputs": [
        {
          "output_type": "stream",
          "name": "stdout",
          "text": [
            "Overwriting words.txt\n"
          ]
        }
      ],
      "source": [
        "%%writefile words.txt\n",
        "Python is a popular programming language\n",
        "Python can be used on a server to create web applications."
      ]
    },
    {
      "cell_type": "code",
      "execution_count": null,
      "id": "5cecae96",
      "metadata": {
        "id": "5cecae96",
        "outputId": "74292795-2cff-4f75-ee3f-5e7e668c36a3"
      },
      "outputs": [
        {
          "name": "stdout",
          "output_type": "stream",
          "text": [
            "The most frequent words are:\n",
            "a\n"
          ]
        }
      ],
      "source": [
        "with open('words.txt','r') as word:\n",
        "    words=word.read()\n",
        "    lists=words.split()\n",
        "    count=[lists.count(x) for x in lists]\n",
        "    dic=dict(zip(lists,count))\n",
        "    a=0\n",
        "    for x in dic.values():\n",
        "        if x>a:\n",
        "            a=x\n",
        "    print('The most frequent words are:')\n",
        "    for x in dic.keys():\n",
        "        if dic[x]==a:\n",
        "            print(x)\n",
        "\n",
        ""
      ]
    },
    {
      "cell_type": "markdown",
      "id": "789762d0",
      "metadata": {
        "id": "789762d0"
      },
      "source": [
        "### 7.Write a Python program to find and replace a particular word in a text file.\n"
      ]
    },
    {
      "cell_type": "code",
      "execution_count": 9,
      "id": "a4b176c4",
      "metadata": {
        "colab": {
          "base_uri": "https://localhost:8080/"
        },
        "id": "a4b176c4",
        "outputId": "53a8a633-ed22-4e15-af1d-81e32f488c7e"
      },
      "outputs": [
        {
          "output_type": "stream",
          "name": "stdout",
          "text": [
            "C is a popular programming language  \n",
            "C can be used on a server to create web applications. \n",
            "\n"
          ]
        }
      ],
      "source": [
        "with open('words.txt','r') as word:\n",
        "    words=word.read()\n",
        "    words=words.replace('Python','C')\n",
        "with open('replace.txt','w') as rep:\n",
        "    rep.writelines(words)\n",
        "with open('replace.txt','r') as rep:\n",
        "    print(rep.read())\n"
      ]
    },
    {
      "cell_type": "markdown",
      "id": "d1287f89",
      "metadata": {
        "id": "d1287f89"
      },
      "source": [
        "### 8.Write a Python program to calculate the total number of words in a file.\n"
      ]
    },
    {
      "cell_type": "code",
      "execution_count": 10,
      "id": "c01e4312",
      "metadata": {
        "colab": {
          "base_uri": "https://localhost:8080/"
        },
        "id": "c01e4312",
        "outputId": "4ff3b67d-ad45-4d95-ae49-0d0be9213ec0"
      },
      "outputs": [
        {
          "output_type": "stream",
          "name": "stdout",
          "text": [
            "['Python', 'is', 'a', 'popular', 'programming', 'language', 'Python', 'can', 'be', 'used', 'on', 'a', 'server', 'to', 'create', 'web', 'applications.']\n",
            "The total number of words in the file is: 17\n"
          ]
        }
      ],
      "source": [
        "with open('words.txt','r') as word:\n",
        "    words=word.read()\n",
        "    lists=words.split()\n",
        "    print(lists)\n",
        "    print('The total number of words in the file is:',len(lists))"
      ]
    },
    {
      "cell_type": "markdown",
      "id": "a70ed6b9",
      "metadata": {
        "id": "a70ed6b9"
      },
      "source": [
        "### 9.Write a Python program to check if a file is empty or not."
      ]
    },
    {
      "cell_type": "code",
      "execution_count": 11,
      "id": "06db3951",
      "metadata": {
        "colab": {
          "base_uri": "https://localhost:8080/"
        },
        "id": "06db3951",
        "outputId": "7cee6783-b4f7-49a4-db28-07245c7fc0d8"
      },
      "outputs": [
        {
          "output_type": "stream",
          "name": "stdout",
          "text": [
            "The file is empty\n"
          ]
        }
      ],
      "source": [
        "x='empty1.txt'\n",
        "with open(x,'w') as f:\n",
        "  pass\n",
        "with open(x,'r') as x:\n",
        "    if len(x.read())!=0:\n",
        "        print('The file is not empty')\n",
        "    else:\n",
        "        print('The file is empty')"
      ]
    },
    {
      "cell_type": "markdown",
      "id": "fd8384df",
      "metadata": {
        "id": "fd8384df"
      },
      "source": [
        "### 10.Write a Python function to count the number of occurrences of a word in a text file."
      ]
    },
    {
      "cell_type": "code",
      "execution_count": 12,
      "id": "7d29f654",
      "metadata": {
        "colab": {
          "base_uri": "https://localhost:8080/"
        },
        "id": "7d29f654",
        "outputId": "0bce45a9-932a-413c-b88f-e45a998268e2"
      },
      "outputs": [
        {
          "output_type": "stream",
          "name": "stdout",
          "text": [
            "{'python': 2, 'is': 1, 'a': 2, 'popular': 1, 'programming': 1, 'language': 1, 'can': 1, 'be': 1, 'used': 1, 'on': 1, 'server': 1, 'to': 1, 'create': 1, 'web': 1, 'applications': 1}\n"
          ]
        }
      ],
      "source": [
        "lists=[]\n",
        "with open('words.txt','r') as word:\n",
        "    words=word.read()\n",
        "    for x in '!@#$%^&*''()_-,{}.\":*':\n",
        "        words=words.replace(x,'')\n",
        "    list1=words.split()\n",
        "    for x in list1:\n",
        "        x=x.lower()\n",
        "        lists.append(x)\n",
        "    count=[lists.count(x) for x in lists]\n",
        "    print(dict(zip(lists,count)))"
      ]
    },
    {
      "cell_type": "markdown",
      "id": "559758fe",
      "metadata": {
        "id": "559758fe"
      },
      "source": [
        "### 11.Write a Python function to remove duplicate lines from a text file.\n"
      ]
    },
    {
      "cell_type": "code",
      "execution_count": 13,
      "id": "ef4cc193",
      "metadata": {
        "colab": {
          "base_uri": "https://localhost:8080/"
        },
        "id": "ef4cc193",
        "outputId": "634f41e1-7554-4eca-d663-ebacf7bc85b9"
      },
      "outputs": [
        {
          "output_type": "stream",
          "name": "stdout",
          "text": [
            "Writing text3.txt\n"
          ]
        }
      ],
      "source": [
        "%%writefile text3.txt\n",
        "this is first line\n",
        "this is second line\n",
        "this is second line\n",
        "this is first line\n",
        "this is third line\n",
        "this is third line\n",
        "this is first line\n",
        "this is third line\n",
        "this is fourth line"
      ]
    },
    {
      "cell_type": "code",
      "execution_count": 14,
      "id": "ebfcbcda",
      "metadata": {
        "colab": {
          "base_uri": "https://localhost:8080/"
        },
        "id": "ebfcbcda",
        "outputId": "388585f3-087f-4eb3-a054-99165abce9af"
      },
      "outputs": [
        {
          "output_type": "stream",
          "name": "stdout",
          "text": [
            "this is first line\n",
            "this is second line\n",
            "this is third line\n",
            "this is fourth line\n",
            "\n"
          ]
        }
      ],
      "source": [
        "a=[]\n",
        "with open('text3.txt','r') as tex:\n",
        "    for x in tex.readlines():\n",
        "        if x not in a:\n",
        "            a.append(x)\n",
        "with open('duplicates','w') as dup:\n",
        "    dup.writelines(a)\n",
        "with open('duplicates','r') as dup:\n",
        "    print(dup.read())\n",
        ""
      ]
    },
    {
      "cell_type": "markdown",
      "id": "5352fdf9",
      "metadata": {
        "id": "5352fdf9"
      },
      "source": [
        "### 12.Write a Python function to find the average length of words in a text file."
      ]
    },
    {
      "cell_type": "code",
      "execution_count": 15,
      "id": "8836b57f",
      "metadata": {
        "colab": {
          "base_uri": "https://localhost:8080/"
        },
        "id": "8836b57f",
        "outputId": "f01902eb-142d-4db6-c5af-f9e0543690aa"
      },
      "outputs": [
        {
          "output_type": "stream",
          "name": "stdout",
          "text": [
            "Writing text2.txt\n"
          ]
        }
      ],
      "source": [
        "%%writefile text2.txt\n",
        "sudeshna\n",
        "mousumi\n",
        "ritwik\n",
        "sunny\n",
        "sampad\n",
        "biswajit\n",
        "suvojit\n",
        "apurba"
      ]
    },
    {
      "cell_type": "code",
      "execution_count": 16,
      "id": "23cd5b58",
      "metadata": {
        "colab": {
          "base_uri": "https://localhost:8080/"
        },
        "id": "23cd5b58",
        "outputId": "87d335c4-da20-4732-e1f6-be1d52c03f60"
      },
      "outputs": [
        {
          "output_type": "stream",
          "name": "stdout",
          "text": [
            "The average length of words in the file is: 6.625\n"
          ]
        }
      ],
      "source": [
        "sum1=0\n",
        "with open('text2.txt','r') as text:\n",
        "    word=text.read()\n",
        "    for x in '!@#$%^&*''()_-,{}.\":*':\n",
        "        words=words.replace(x,'')\n",
        "    lists=word.split()\n",
        "    n=len(lists)\n",
        "    for x in lists:\n",
        "        sum1+=len(x)\n",
        "    avg=sum1/n\n",
        "    print('The average length of words in the file is:',avg)\n",
        ""
      ]
    },
    {
      "cell_type": "markdown",
      "id": "d53bc32c",
      "metadata": {
        "id": "d53bc32c"
      },
      "source": [
        "### 13.Write a Python program to encrypt the contents of a text file using a Caesar cipher. Also, write the decryption function.\n"
      ]
    },
    {
      "cell_type": "code",
      "execution_count": 17,
      "id": "114c8793",
      "metadata": {
        "colab": {
          "base_uri": "https://localhost:8080/"
        },
        "id": "114c8793",
        "outputId": "a294b095-6576-42fd-86b1-e41aab1678e8"
      },
      "outputs": [
        {
          "output_type": "stream",
          "name": "stdout",
          "text": [
            "Writing plaintext.txt\n"
          ]
        }
      ],
      "source": [
        "%%writefile plaintext.txt\n",
        "sudeshna\n",
        "mousumi\n",
        "ritwik\n",
        "sunny\n",
        "sampad\n",
        "biswajit\n",
        "suvojit\n",
        "apurba"
      ]
    },
    {
      "cell_type": "code",
      "execution_count": 18,
      "id": "6ae7d45f",
      "metadata": {
        "colab": {
          "base_uri": "https://localhost:8080/"
        },
        "id": "6ae7d45f",
        "outputId": "3995bb96-61ae-4f40-e435-a006eb06a0c4"
      },
      "outputs": [
        {
          "output_type": "stream",
          "name": "stdout",
          "text": [
            "xzijxmsf\n",
            "rtzxzrn\n",
            "wnybnp\n",
            "xzssd\n",
            "xfrufi\n",
            "gnxbfony\n",
            "xzatony\n",
            "fuzwgf\n",
            "\n"
          ]
        }
      ],
      "source": [
        "n=5\n",
        "a=[]\n",
        "with open('plaintext.txt','r') as plain:\n",
        "    for x in plain:\n",
        "        encr=''\n",
        "        for y in x[:-1]:\n",
        "            encr=encr+chr(((ord(y)-97+n)%26)+97)\n",
        "        a.append(encr+'\\n')\n",
        "with open('encrypted.txt','w') as out:\n",
        "    out.writelines(a)\n",
        "with open('encrypted.txt','r') as out:\n",
        "    print(out.read())\n",
        ""
      ]
    },
    {
      "cell_type": "code",
      "execution_count": 19,
      "id": "ba97f591",
      "metadata": {
        "colab": {
          "base_uri": "https://localhost:8080/"
        },
        "id": "ba97f591",
        "outputId": "a3ed589f-c7ae-4d56-b630-75fe76f4edec"
      },
      "outputs": [
        {
          "output_type": "stream",
          "name": "stdout",
          "text": [
            " sudeshna mousumi ritwik sunny sampad biswajit suvojit apurba\n"
          ]
        }
      ],
      "source": [
        "a=[]\n",
        "with open('encrypted.txt','r') as enc, open('decrypted.txt','w') as dec:\n",
        "        for x in enc.readlines():\n",
        "            plaintext=' '\n",
        "            for y in x[:-1]:\n",
        "                plaintext=plaintext+chr(((ord(y)-97-5)%26)+97)\n",
        "            a.append(plaintext+'\\n')\n",
        "            dec.write(plaintext)\n",
        "with open('decrypted.txt','r') as dec:\n",
        "    print(dec.read())"
      ]
    },
    {
      "cell_type": "markdown",
      "id": "b6b4a340",
      "metadata": {
        "id": "b6b4a340"
      },
      "source": [
        "### 14.Write a Python program to convert the contents of a text file to uppercase.\n"
      ]
    },
    {
      "cell_type": "code",
      "execution_count": 20,
      "id": "da8c2ded",
      "metadata": {
        "colab": {
          "base_uri": "https://localhost:8080/"
        },
        "id": "da8c2ded",
        "outputId": "536c1037-00df-47c2-cf8a-3490f8ffaf4f"
      },
      "outputs": [
        {
          "output_type": "stream",
          "name": "stdout",
          "text": [
            "Writing data.txt\n"
          ]
        }
      ],
      "source": [
        "%%writefile data.txt\n",
        "sudeshna\n",
        "mousumi\n",
        "ritwik\n",
        "sunny\n",
        "sampad\n",
        "biswajit\n",
        "suvojit\n",
        "apurba"
      ]
    },
    {
      "cell_type": "code",
      "execution_count": 21,
      "id": "7ddeb038",
      "metadata": {
        "colab": {
          "base_uri": "https://localhost:8080/"
        },
        "id": "7ddeb038",
        "outputId": "dc4fddd2-f258-4cee-dd17-0111ffb1cf4a"
      },
      "outputs": [
        {
          "output_type": "stream",
          "name": "stdout",
          "text": [
            "SUDESHNA\n",
            "MOUSUMI\n",
            "RITWIK\n",
            "SUNNY\n",
            "SAMPAD\n",
            "BISWAJIT\n",
            "SUVOJIT\n",
            "APURBA\n",
            "\n"
          ]
        }
      ],
      "source": [
        "with open('upper.txt','w') as upp, open ('data.txt','r') as dat:\n",
        "    upp.writelines(dat.read().upper())\n",
        "with open('upper.txt','r') as upp:\n",
        "    print(upp.read())"
      ]
    },
    {
      "cell_type": "markdown",
      "id": "a7b0d545",
      "metadata": {
        "id": "a7b0d545"
      },
      "source": [
        "### 15.Create a script that accepts a text file as input and checks if it contains any palindromic words. Write the palindromic words to a new file called \"palindromes.txt\".\n"
      ]
    },
    {
      "cell_type": "code",
      "execution_count": 41,
      "id": "4c0bb022",
      "metadata": {
        "colab": {
          "base_uri": "https://localhost:8080/"
        },
        "id": "4c0bb022",
        "outputId": "790641c8-b83b-4d75-85e0-26c735a8b713"
      },
      "outputs": [
        {
          "output_type": "stream",
          "name": "stdout",
          "text": [
            "Overwriting text1.txt\n"
          ]
        }
      ],
      "source": [
        "%%writefile text1.txt\n",
        "First on our list of palindrome examples is the word civic.\n",
        "the word level is pretty common and self-explanatory,\n",
        "noon is basically morning."
      ]
    },
    {
      "cell_type": "code",
      "execution_count": 23,
      "id": "6b32d833",
      "metadata": {
        "colab": {
          "base_uri": "https://localhost:8080/"
        },
        "id": "6b32d833",
        "outputId": "dc776d25-442d-4a4c-f5ef-94f3a73ab609"
      },
      "outputs": [
        {
          "output_type": "stream",
          "name": "stdout",
          "text": [
            "civic\n",
            "level\n",
            "noon\n",
            "\n"
          ]
        }
      ],
      "source": [
        "a=[]\n",
        "with open('text1.txt','r') as text:\n",
        "    word=text.read()\n",
        "    for x in '!@#$%^&*''()_-,{}.\":*':\n",
        "        word=word.replace(x,'')\n",
        "    lists=word.split()\n",
        "    for x in lists:\n",
        "        y=x[::-1]\n",
        "        if y==x:\n",
        "            a.append(x+'\\n')\n",
        "with open('palindromes.txt','w') as pal:\n",
        "    pal.writelines(a)\n",
        "with open('palindromes.txt','r') as pal:\n",
        "    print(pal.read())"
      ]
    },
    {
      "cell_type": "markdown",
      "id": "5c2c9617",
      "metadata": {
        "id": "5c2c9617"
      },
      "source": [
        "### 16.Write a program that prompts the user for a directory path. The program should traverse all text files within that directory (and its subdirectories) and count the total number of words across all files.\n"
      ]
    },
    {
      "cell_type": "code",
      "execution_count": null,
      "id": "3f526552",
      "metadata": {
        "id": "3f526552"
      },
      "outputs": [],
      "source": []
    },
    {
      "cell_type": "markdown",
      "id": "d00fb4c4",
      "metadata": {
        "id": "d00fb4c4"
      },
      "source": [
        "### 17.Create a program that reads a text file and identifies the most frequent letter in its content. Prompt the user to enter the file name and display the most frequent letter along with its count.\n"
      ]
    },
    {
      "cell_type": "code",
      "execution_count": 24,
      "id": "c999f313",
      "metadata": {
        "colab": {
          "base_uri": "https://localhost:8080/"
        },
        "id": "c999f313",
        "outputId": "6c6918d7-a78b-4a13-9ff9-79e7d21729cb"
      },
      "outputs": [
        {
          "output_type": "stream",
          "name": "stdout",
          "text": [
            "Enter the file name:text1.txt\n",
            "The most frequent letters are:\n",
            "o\n",
            "And its count is: 12\n"
          ]
        }
      ],
      "source": [
        "letter=[]\n",
        "with open(input('Enter the file name:')) as open:\n",
        "    words=open.read().lower()\n",
        "    for x in '!@#$%^&*''()_-,{}.\":*':\n",
        "        words=words.replace(x,'')\n",
        "    lists=words.split()\n",
        "    for x in lists:\n",
        "        for y in x:\n",
        "            letter.append(y)\n",
        "    count=[letter.count(x) for x in letter]\n",
        "    dic=dict(zip(letter,count))\n",
        "    a=0\n",
        "    for x in dic.values():\n",
        "        if x>a:\n",
        "            a=x\n",
        "    print('The most frequent letters are:')\n",
        "    for x in dic.keys():\n",
        "        if dic[x]==a:\n",
        "            print(x)\n",
        "    print('And its count is:',a)\n",
        ""
      ]
    },
    {
      "cell_type": "markdown",
      "id": "d41bf2ef",
      "metadata": {
        "id": "d41bf2ef"
      },
      "source": [
        "### 18.Create a program that reads a text file and identifies all the unique words in its content. Prompt the user to enter the file name and display the unique words in alphabetical order.\n"
      ]
    },
    {
      "cell_type": "code",
      "execution_count": 1,
      "id": "14e52597",
      "metadata": {
        "colab": {
          "base_uri": "https://localhost:8080/"
        },
        "id": "14e52597",
        "outputId": "d22b0339-3e26-4611-bbe3-69524139259b"
      },
      "outputs": [
        {
          "output_type": "stream",
          "name": "stdout",
          "text": [
            "Enter the file name:data.txt\n",
            "data.txt\n",
            "The unique words are:\n",
            "apurba\n",
            "biswajit\n",
            "mousumi\n",
            "ritwik\n",
            "sampad\n",
            "sudeshna\n",
            "sunny\n",
            "suvojit\n"
          ]
        }
      ],
      "source": [
        "filename = input(\"Enter the file name:\")\n",
        "print(filename)\n",
        "with open(filename,) as f:\n",
        "    words=f.read()\n",
        "    for x in '!@#$%^&*''()_-,{}.\":*':\n",
        "        words=words.replace(x,'')\n",
        "    lists=words.split()\n",
        "    lists.sort()\n",
        "    count=[lists.count(x) for x in lists]\n",
        "    dic=dict(zip(lists,count))\n",
        "    print('The unique words are:')\n",
        "    for x in dic.keys():\n",
        "        if dic[x]==1:\n",
        "            print(x)\n",
        ""
      ]
    },
    {
      "cell_type": "markdown",
      "id": "b244e028",
      "metadata": {
        "id": "b244e028"
      },
      "source": [
        "### 19.Create a program that prompts the user for a file name and searches for a specific word within the file. The program should display the line numbers where the word occurs, along with the corresponding lines of text.\n"
      ]
    },
    {
      "cell_type": "code",
      "execution_count": 2,
      "id": "7265eccb",
      "metadata": {
        "scrolled": false,
        "colab": {
          "base_uri": "https://localhost:8080/"
        },
        "id": "7265eccb",
        "outputId": "1caad545-650e-4405-cb3f-553548c34e20"
      },
      "outputs": [
        {
          "output_type": "stream",
          "name": "stdout",
          "text": [
            "Enter the file name:data.txt\n",
            "[['sudeshna'], ['mousumi'], ['ritwik'], ['sunny'], ['sampad'], ['biswajit'], ['suvojit'], ['apurba']]\n",
            "Enter the specific word searching for:sunny\n",
            "The line number is: 4 \n",
            " And the line is:\n",
            " sunny\n"
          ]
        }
      ],
      "source": [
        "a=[]\n",
        "with open(input('Enter the file name:')) as open:\n",
        "    for x in open:\n",
        "        a.append(x.split())\n",
        "    print(a)\n",
        "word=input('Enter the specific word searching for:')\n",
        "for i in range(len(a)):\n",
        "    for x in a[i]:\n",
        "        if x==word:\n",
        "            print('The line number is:',i+1,'\\n And the line is:\\n',' '.join(a[i]))\n",
        "\n",
        ""
      ]
    },
    {
      "cell_type": "markdown",
      "id": "094240bb",
      "metadata": {
        "id": "094240bb"
      },
      "source": [
        "### 20.Write a Python program to shuffle the words in a text file and save it to a new file.\n"
      ]
    },
    {
      "cell_type": "code",
      "execution_count": 1,
      "id": "0b1c78ea",
      "metadata": {
        "scrolled": true,
        "colab": {
          "base_uri": "https://localhost:8080/"
        },
        "id": "0b1c78ea",
        "outputId": "62188c89-2453-46de-baa5-255598af71c8"
      },
      "outputs": [
        {
          "output_type": "stream",
          "name": "stdout",
          "text": [
            "ritwik apurba suvojit sunny biswajit sampad sudeshna mousumi\n"
          ]
        }
      ],
      "source": [
        "import random\n",
        "a=[]\n",
        "with open('data.txt','r') as text:\n",
        "    word=text.read()\n",
        "    lists=word.split()\n",
        "    random.shuffle(lists)\n",
        "    list1=' '.join(lists)\n",
        "with open('shuffled.txt','w') as text:\n",
        "    text.writelines(list1)\n",
        "with open('shuffled.txt','r') as text:\n",
        "    print(text.read())"
      ]
    },
    {
      "cell_type": "code",
      "execution_count": null,
      "id": "a3ea29df",
      "metadata": {
        "id": "a3ea29df"
      },
      "outputs": [],
      "source": []
    }
  ],
  "metadata": {
    "kernelspec": {
      "display_name": "Python 3 (ipykernel)",
      "language": "python",
      "name": "python3"
    },
    "language_info": {
      "codemirror_mode": {
        "name": "ipython",
        "version": 3
      },
      "file_extension": ".py",
      "mimetype": "text/x-python",
      "name": "python",
      "nbconvert_exporter": "python",
      "pygments_lexer": "ipython3",
      "version": "3.10.9"
    },
    "colab": {
      "provenance": [],
      "include_colab_link": true
    }
  },
  "nbformat": 4,
  "nbformat_minor": 5
}