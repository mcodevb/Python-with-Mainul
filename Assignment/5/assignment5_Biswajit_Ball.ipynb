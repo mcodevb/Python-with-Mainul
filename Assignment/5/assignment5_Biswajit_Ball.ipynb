{
  "cells": [
    {
      "cell_type": "markdown",
      "id": "ec6ab646",
      "metadata": {
        "id": "ec6ab646"
      },
      "source": [
        "Q1. Given a list of strings, use map to convert each string to uppercase."
      ]
    },
    {
      "cell_type": "code",
      "execution_count": null,
      "id": "15bcd9a1",
      "metadata": {
        "id": "15bcd9a1"
      },
      "outputs": [],
      "source": [
        "def string_upper(name):\n",
        "    name=name.upper()\n",
        "    return name"
      ]
    },
    {
      "cell_type": "code",
      "execution_count": null,
      "id": "210dce0e",
      "metadata": {
        "scrolled": true,
        "id": "210dce0e",
        "outputId": "3b614f6b-6c93-4a82-97b1-5698c087440d"
      },
      "outputs": [
        {
          "name": "stdout",
          "output_type": "stream",
          "text": [
            "['BISWAJIT', 'SAMPAD', 'MAINUL', 'APURBA', 'MOUSAMI', 'SUDESHNA', 'RITWIK', 'ABDUL']\n"
          ]
        }
      ],
      "source": [
        "#string_upper('biswajit ball')\n",
        "name_list=['biswajit', 'sampad', 'mainul', 'apurba', 'mousami', 'sudeshna', 'ritwik', 'abdul']\n",
        "print(list(map(string_upper, name_list)))"
      ]
    },
    {
      "cell_type": "markdown",
      "id": "1adb4994",
      "metadata": {
        "id": "1adb4994"
      },
      "source": [
        "Q2. Given a list of numbers, use filter to find all multiples of 3."
      ]
    },
    {
      "cell_type": "code",
      "execution_count": null,
      "id": "3c424546",
      "metadata": {
        "id": "3c424546"
      },
      "outputs": [],
      "source": [
        "def multiple_three(n):\n",
        "    if (n%3==0):\n",
        "        return True\n",
        "    else:\n",
        "        return False"
      ]
    },
    {
      "cell_type": "code",
      "execution_count": null,
      "id": "37f1ca22",
      "metadata": {
        "id": "37f1ca22",
        "outputId": "0dc13903-4449-4866-9299-96a2a1957435"
      },
      "outputs": [
        {
          "name": "stdout",
          "output_type": "stream",
          "text": [
            "[3, 9, 12, 15, 21, 27]\n"
          ]
        }
      ],
      "source": [
        "#multiple_three(7)\n",
        "multiple3_checklist=[3, 9, 12, 13, 15, 21, 20, 27]\n",
        "print(list(filter(multiple_three, multiple3_checklist)))"
      ]
    },
    {
      "cell_type": "markdown",
      "id": "cc1b73f8",
      "metadata": {
        "id": "cc1b73f8"
      },
      "source": [
        "Q3. Given a list of strings, use filter to find all the strings that have more than 5 characters.\n"
      ]
    },
    {
      "cell_type": "code",
      "execution_count": null,
      "id": "99f42eaa",
      "metadata": {
        "id": "99f42eaa"
      },
      "outputs": [],
      "source": [
        "def string_chrc_filter(string):\n",
        "    return len(string)>5"
      ]
    },
    {
      "cell_type": "code",
      "execution_count": null,
      "id": "6ee9c1bf",
      "metadata": {
        "id": "6ee9c1bf",
        "outputId": "3554bcb9-eb36-4ac5-aff6-47ff4c454d16"
      },
      "outputs": [
        {
          "name": "stdout",
          "output_type": "stream",
          "text": [
            "['biswajit', 'sampad', 'mainul', 'apurba', 'mousami', 'sudeshna', 'ritwik']\n"
          ]
        }
      ],
      "source": [
        "string_list=['biswajit', 'sampad', 'mainul', 'apurba', 'mousami', 'sudeshna', 'ritwik', 'abdul', 'roy', 'ball']\n",
        "print(list(filter(string_chrc_filter, string_list)))"
      ]
    },
    {
      "cell_type": "markdown",
      "id": "16245519",
      "metadata": {
        "id": "16245519"
      },
      "source": [
        "Q4. Given a list of tuples (name, age), use map and filter to find the names of people who are above 18 years old."
      ]
    },
    {
      "cell_type": "code",
      "execution_count": null,
      "id": "3998d7ff",
      "metadata": {
        "id": "3998d7ff"
      },
      "outputs": [],
      "source": [
        "def age_checker(tuple_in_List):\n",
        "    return tuple_in_List[1]>18"
      ]
    },
    {
      "cell_type": "code",
      "execution_count": null,
      "id": "b0013610",
      "metadata": {
        "id": "b0013610",
        "outputId": "d639281f-abb3-4398-f4f9-557443b43b76"
      },
      "outputs": [
        {
          "name": "stdout",
          "output_type": "stream",
          "text": [
            "[True, True, True, False, False, False]\n",
            "Names of the people having age above 18 are: Ramen, Rahul, Rohit\n"
          ]
        }
      ],
      "source": [
        "peoples=[('Ramen', 20), ('Rahul', 31), ('Rohit', 50), ('Rajib', 12), ('Madan', 8), ('Nayan', 2)]\n",
        "print(list(map(age_checker, peoples)))\n",
        "#print(list(filter(age_checker, peoples)))\n",
        "print(f\"Names of the people having age above 18 are: {', '.join([i[0] for i in list(filter(age_checker, peoples))])}\")"
      ]
    },
    {
      "cell_type": "markdown",
      "id": "c1101fef",
      "metadata": {
        "id": "c1101fef"
      },
      "source": [
        "Q5. Given a list of dictionaries representing people (each dictionary contains keys 'name' and 'age'), use filter to find all the people whose age is above 30."
      ]
    },
    {
      "cell_type": "code",
      "execution_count": null,
      "id": "ad6c5701",
      "metadata": {
        "id": "ad6c5701"
      },
      "outputs": [],
      "source": [
        "def age_checker_dict(dict_in_List):\n",
        "    return dict_in_List['age']>30"
      ]
    },
    {
      "cell_type": "code",
      "execution_count": null,
      "id": "44fe5239",
      "metadata": {
        "id": "44fe5239",
        "outputId": "7c855779-effe-43c8-df0c-44f6a44b157d"
      },
      "outputs": [
        {
          "name": "stdout",
          "output_type": "stream",
          "text": [
            "Name of the peoples having age above 30 are: Rahul, Rajib\n"
          ]
        }
      ],
      "source": [
        "peoples_dict=[{'name': 'Ramen', 'age': 21 }, {'name': 'Rahul', 'age': 31 }, {'name': 'Rajib', 'age': 61 }]\n",
        "print( f\"Name of the peoples having age above 30 are: {', '.join([i['name'] for i in list(filter(age_checker_dict, peoples_dict))])}\")"
      ]
    },
    {
      "cell_type": "markdown",
      "id": "82ba0446",
      "metadata": {
        "id": "82ba0446"
      },
      "source": [
        "Q6. Given a list of strings, use map to convert each string to its length."
      ]
    },
    {
      "cell_type": "code",
      "execution_count": null,
      "id": "ce6762b8",
      "metadata": {
        "id": "ce6762b8"
      },
      "outputs": [],
      "source": [
        "def str_to_len(strng):\n",
        "    return len(strng)"
      ]
    },
    {
      "cell_type": "code",
      "execution_count": null,
      "id": "73e57c77",
      "metadata": {
        "id": "73e57c77",
        "outputId": "24a46157-df60-476c-f9ac-2ef4bddfb755"
      },
      "outputs": [
        {
          "name": "stdout",
          "output_type": "stream",
          "text": [
            "[8, 6, 6, 6, 7, 8, 6, 5, 3, 4]\n"
          ]
        }
      ],
      "source": [
        "lst_of_strng=['biswajit', 'sampad', 'mainul', 'apurba', 'mousami', 'sudeshna', 'ritwik', 'abdul', 'roy', 'ball']\n",
        "print(list(map(str_to_len, lst_of_strng)))"
      ]
    },
    {
      "cell_type": "markdown",
      "id": "3e1bceef",
      "metadata": {
        "id": "3e1bceef"
      },
      "source": [
        "Q7. Given a list of integers, use filter to find all the numbers which are one less than some prime numbers."
      ]
    },
    {
      "cell_type": "code",
      "execution_count": null,
      "id": "ce426edd",
      "metadata": {
        "id": "ce426edd"
      },
      "outputs": [],
      "source": []
    },
    {
      "cell_type": "markdown",
      "id": "f8b7598d",
      "metadata": {
        "id": "f8b7598d"
      },
      "source": [
        "Q8.Given a list of dictionaries representing products (each dictionary contains keys 'name' and 'price'), use filter to find all the products with a price less than $10.\n"
      ]
    },
    {
      "cell_type": "code",
      "execution_count": null,
      "id": "5f72acf3",
      "metadata": {
        "id": "5f72acf3"
      },
      "outputs": [],
      "source": [
        "def pdt_checker(dict_in_lst):\n",
        "    return dict_in_lst['price']>10"
      ]
    },
    {
      "cell_type": "code",
      "execution_count": null,
      "id": "5fcf2cfd",
      "metadata": {
        "id": "5fcf2cfd",
        "outputId": "8abcc21c-ec00-48f1-f63a-5e43eca456e0"
      },
      "outputs": [
        {
          "name": "stdout",
          "output_type": "stream",
          "text": [
            "Name of pdts having price above 10 are: Apple\n"
          ]
        }
      ],
      "source": [
        "pdt_dict=[{'name': 'Mango', 'price': 3 }, {'name': 'bananna', 'price': 4 }, {'name': 'Apple', 'price': 13 }]\n",
        "print( f\"Name of pdts having price above 10 are: {', '.join([i['name'] for i in list(filter(pdt_checker, pdt_dict))])}\")"
      ]
    },
    {
      "cell_type": "markdown",
      "id": "81a34069",
      "metadata": {
        "id": "81a34069"
      },
      "source": [
        "Q9. Given a list of strings, use filter to find all the strings that start with the letter 'A'."
      ]
    },
    {
      "cell_type": "code",
      "execution_count": null,
      "id": "4e87d795",
      "metadata": {
        "id": "4e87d795"
      },
      "outputs": [],
      "source": [
        "def str_check(my_string):\n",
        "    #my_string=my_string.upper()\n",
        "    result=my_string.startswith(\"A\")\n",
        "    return result"
      ]
    },
    {
      "cell_type": "code",
      "execution_count": null,
      "id": "eaaa393b",
      "metadata": {
        "id": "eaaa393b",
        "outputId": "ea8958bc-dbf6-438b-aa92-603f35258427"
      },
      "outputs": [
        {
          "name": "stdout",
          "output_type": "stream",
          "text": [
            "['Apurba', 'Abdul']\n"
          ]
        }
      ],
      "source": [
        "string_list=['Biswajit', 'Sampad', 'Mainul', 'Apurba', 'Mousami', 'Sudeshna', 'Ritwik', 'Abdul', 'Roy', 'Ball']\n",
        "print(list(filter(str_check, string_list)))"
      ]
    },
    {
      "cell_type": "markdown",
      "id": "9b989d05",
      "metadata": {
        "id": "9b989d05"
      },
      "source": [
        "Q10. Given a list of numbers, use map to calculate the cubes of the even numbers within the list of numbers."
      ]
    },
    {
      "cell_type": "code",
      "execution_count": null,
      "id": "22bfbd57",
      "metadata": {
        "id": "22bfbd57"
      },
      "outputs": [],
      "source": [
        "def cube_maker(my_num):\n",
        "    if (my_num%2==0):\n",
        "        return my_num**3\n",
        "    else:\n",
        "         return False"
      ]
    },
    {
      "cell_type": "code",
      "execution_count": null,
      "id": "db577e00",
      "metadata": {
        "id": "db577e00",
        "outputId": "f10ff33c-8163-4535-c992-c98a7be0cbee"
      },
      "outputs": [
        {
          "name": "stdout",
          "output_type": "stream",
          "text": [
            "[8, 64, None, None, None, 216, 1000]\n"
          ]
        }
      ],
      "source": [
        "num_list=[2, 4, 5, 7, 9, 6, 10]\n",
        "print(list(map(cube_maker, num_list)))"
      ]
    },
    {
      "cell_type": "markdown",
      "id": "ecb4ac6e",
      "metadata": {
        "id": "ecb4ac6e"
      },
      "source": [
        "Q11. Given a list of tuples (name, score), use map and filter to find the names of students who have scored above 80."
      ]
    },
    {
      "cell_type": "code",
      "execution_count": null,
      "id": "778d219a",
      "metadata": {
        "id": "778d219a"
      },
      "outputs": [],
      "source": [
        "def check_score(tuple_in_list):\n",
        "    return tuple_in_list[1] > 80"
      ]
    },
    {
      "cell_type": "code",
      "execution_count": null,
      "id": "c89ba590",
      "metadata": {
        "id": "c89ba590",
        "outputId": "2018cace-2c9b-4b2b-bf80-055f6bcc733e"
      },
      "outputs": [
        {
          "name": "stdout",
          "output_type": "stream",
          "text": [
            "[('Rahul', 95), ('Rohit', 82), ('Nayan', 85)]\n"
          ]
        }
      ],
      "source": [
        "students=[('Ramen', 65), ('Rahul', 95), ('Rohit', 82), ('Rajib', 56), ('Madan', 75), ('Nayan', 85)]\n",
        "print(list(filter(check_score, students)))"
      ]
    },
    {
      "cell_type": "markdown",
      "id": "3726bf00",
      "metadata": {
        "id": "3726bf00"
      },
      "source": [
        "Q12. Given a list of strings, use map to reverse each string."
      ]
    },
    {
      "cell_type": "code",
      "execution_count": null,
      "id": "b60a92c1",
      "metadata": {
        "id": "b60a92c1"
      },
      "outputs": [],
      "source": [
        "def rev_str(string):\n",
        "    result=string[::-1]\n",
        "    return result"
      ]
    },
    {
      "cell_type": "code",
      "execution_count": null,
      "id": "53de7be5",
      "metadata": {
        "scrolled": true,
        "id": "53de7be5",
        "outputId": "601685c6-9372-478a-85ae-513bf2b227c9"
      },
      "outputs": [
        {
          "name": "stdout",
          "output_type": "stream",
          "text": [
            "['tijawsiB', 'dapmaS', 'luniaM', 'abrupA', 'imasuoM', 'anhseduS', 'kiwtiR', 'ludbA', 'yoR', 'llaB']\n"
          ]
        }
      ],
      "source": [
        "string_list=['Biswajit', 'Sampad', 'Mainul', 'Apurba', 'Mousami', 'Sudeshna', 'Ritwik', 'Abdul', 'Roy', 'Ball']\n",
        "print(list(map(rev_str, string_list)))"
      ]
    },
    {
      "cell_type": "markdown",
      "id": "cabc579a",
      "metadata": {
        "id": "cabc579a"
      },
      "source": [
        "Q13. Given a list of integers, use filter to find all the numbers that are divisible by 7 and 9."
      ]
    },
    {
      "cell_type": "code",
      "execution_count": null,
      "id": "5c64abac",
      "metadata": {
        "id": "5c64abac"
      },
      "outputs": [],
      "source": [
        "def div(n):\n",
        "    return (n%7==0 and n%9==0)"
      ]
    },
    {
      "cell_type": "code",
      "execution_count": null,
      "id": "9c7df44d",
      "metadata": {
        "id": "9c7df44d",
        "outputId": "c65c392a-b2c6-4ec5-a115-7d4a4d23412f"
      },
      "outputs": [
        {
          "name": "stdout",
          "output_type": "stream",
          "text": [
            "[63, 630, 6300]\n"
          ]
        }
      ],
      "source": [
        "num_list=[2, 4, 5, 7, 9, 6, 18, 14, 21, 27, 63, 630, 6300]\n",
        "print(list(filter(div, num_list)))"
      ]
    },
    {
      "cell_type": "markdown",
      "id": "5e86db57",
      "metadata": {
        "id": "5e86db57"
      },
      "source": [
        "Q14. Given a list of dictionaries representing books (each dictionary contains keys 'title' and 'author'), use map to extract the titles of the books."
      ]
    },
    {
      "cell_type": "code",
      "execution_count": null,
      "id": "97b8f46e",
      "metadata": {
        "id": "97b8f46e"
      },
      "outputs": [],
      "source": [
        "def title_extract(dictionary):\n",
        "    return dictionary['title']"
      ]
    },
    {
      "cell_type": "code",
      "execution_count": null,
      "id": "7bc1178e",
      "metadata": {
        "id": "7bc1178e",
        "outputId": "8fce8e62-e9b8-40ac-cbdb-2299b700c56f"
      },
      "outputs": [
        {
          "name": "stdout",
          "output_type": "stream",
          "text": [
            "['Inorganic', 'Organic', 'Physical']\n"
          ]
        }
      ],
      "source": [
        "book_dict=[{'title': 'Inorganic', 'author': 'AKD' }, {'title': 'Organic', 'author': 'N Tewari' }, {'title': 'Physical', 'author': 'PCR' }]\n",
        "print(list(map(title_extract, book_dict)))"
      ]
    },
    {
      "cell_type": "markdown",
      "id": "31d535e8",
      "metadata": {
        "id": "31d535e8"
      },
      "source": [
        "Q15. Given a list of strings, use filter to find all the strings that contain the letter 'e'."
      ]
    },
    {
      "cell_type": "code",
      "execution_count": null,
      "id": "aaf152d7",
      "metadata": {
        "id": "aaf152d7"
      },
      "outputs": [],
      "source": [
        "def letter_check(string):\n",
        "    return 'e' in string"
      ]
    },
    {
      "cell_type": "code",
      "execution_count": null,
      "id": "c24ea317",
      "metadata": {
        "id": "c24ea317",
        "outputId": "6afda71b-007a-400c-f716-7c1a0005645c"
      },
      "outputs": [
        {
          "name": "stdout",
          "output_type": "stream",
          "text": [
            "['Sudeshna', 'Reka']\n"
          ]
        }
      ],
      "source": [
        "string_list=['Biswajit', 'Sampad', 'Mainul', 'Apurba', 'Mousami', 'Sudeshna', 'Ritwik', 'Abdul', 'Roy', 'Ball', 'Reka']\n",
        "print(list(filter(letter_check, string_list)))"
      ]
    },
    {
      "cell_type": "markdown",
      "id": "d4aaaffe",
      "metadata": {
        "id": "d4aaaffe"
      },
      "source": [
        "Q16. Given a list of tuples (name, salary), use filter to find all the employees whose salary is above the average salary."
      ]
    },
    {
      "cell_type": "code",
      "execution_count": null,
      "id": "195f1b77",
      "metadata": {
        "id": "195f1b77"
      },
      "outputs": [],
      "source": [
        "# def check_salary(employees):\n",
        "#     av_salary=0\n",
        "#     for name, salary in employees:\n",
        "#         av_salary +=salary/(len(employees))\n",
        "#     #print(av_salary)\n",
        "#     for name, salary in employees:\n",
        "#         if (salary>av_salary):\n",
        "#             print(name)\n",
        "employees=[('Ramen', 2000), ('Rahul', 3000), ('Rohit', 5000), ('Rajib', 2000), ('Madan', 6000), ('Nayan', 10000)]\n",
        "names=[i[0] for i in employees]\n",
        "salary=[i[1] for i in employees]\n",
        "average_salary=sum(salary)/len(salary)\n",
        "\n",
        "def check_salary(tuple_in_list):\n",
        "    return tuple_in_list[1] > average_salary\n"
      ]
    },
    {
      "cell_type": "code",
      "execution_count": null,
      "id": "220ac4b8",
      "metadata": {
        "colab": {
          "base_uri": "https://localhost:8080/"
        },
        "id": "220ac4b8",
        "outputId": "6355d9a3-bb6b-4c2d-81a3-d9b8d155fac3"
      },
      "outputs": [
        {
          "output_type": "stream",
          "name": "stdout",
          "text": [
            "Avg salary of employees is 4666.666666666667\n",
            "Name of employees having salary above avg salary are: Rohit, Madan, Nayan\n"
          ]
        }
      ],
      "source": [
        "\n",
        "\n",
        "#check_salary(employees)\n",
        "\n",
        "print(f\"Avg salary of employees is {average_salary}\")\n",
        "#print(list(filter(check_salary, employees)))\n",
        "print(f\"Name of employees having salary above avg salary are: {', '.join([i[0] for i in list(filter(check_salary, employees))])}\")"
      ]
    },
    {
      "cell_type": "code",
      "execution_count": null,
      "id": "16ffddc9",
      "metadata": {
        "id": "16ffddc9"
      },
      "outputs": [],
      "source": []
    }
  ],
  "metadata": {
    "kernelspec": {
      "display_name": "Python 3 (ipykernel)",
      "language": "python",
      "name": "python3"
    },
    "language_info": {
      "codemirror_mode": {
        "name": "ipython",
        "version": 3
      },
      "file_extension": ".py",
      "mimetype": "text/x-python",
      "name": "python",
      "nbconvert_exporter": "python",
      "pygments_lexer": "ipython3",
      "version": "3.11.1"
    },
    "colab": {
      "provenance": []
    }
  },
  "nbformat": 4,
  "nbformat_minor": 5
}