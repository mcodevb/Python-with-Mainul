{
 "cells": [
  {
   "cell_type": "markdown",
   "id": "3f3d1516",
   "metadata": {},
   "source": [
    "### 1.Given a list of strings, use map to convert each string to uppercase.\n"
   ]
  },
  {
   "cell_type": "code",
   "execution_count": 1,
   "id": "10cb3c7c",
   "metadata": {},
   "outputs": [
    {
     "data": {
      "text/plain": [
       "['MJKUL', 'KUYVLI', 'MJYTSY', 'JHYCBJ']"
      ]
     },
     "execution_count": 1,
     "metadata": {},
     "output_type": "execute_result"
    }
   ],
   "source": [
    "def uppercase(x):\n",
    "    return x.upper()\n",
    "list(map(uppercase,['mjkul','kuyvli','mjytsy','jhycbj']))"
   ]
  },
  {
   "cell_type": "markdown",
   "id": "7f13a4bc",
   "metadata": {},
   "source": [
    "### 2.Given a list of numbers, use filter to find all multiples of 3.\n"
   ]
  },
  {
   "cell_type": "code",
   "execution_count": 5,
   "id": "fb52b5f9",
   "metadata": {},
   "outputs": [
    {
     "data": {
      "text/plain": [
       "[3, 3, 6, 9]"
      ]
     },
     "execution_count": 5,
     "metadata": {},
     "output_type": "execute_result"
    }
   ],
   "source": [
    "def multiples_of_three(x):\n",
    "    return x%3==0\n",
    "list(filter(multiples_of_three,[1,2,3,3,4,5,6,7,8,9]))"
   ]
  },
  {
   "cell_type": "markdown",
   "id": "09fca92d",
   "metadata": {},
   "source": [
    "### 3.Given a list of strings, use filter to find all the strings that have more than 5 characters.\n"
   ]
  },
  {
   "cell_type": "code",
   "execution_count": 6,
   "id": "87050da6",
   "metadata": {},
   "outputs": [
    {
     "data": {
      "text/plain": [
       "['sudeshna', 'mousumi', 'ritwik', 'bikram']"
      ]
     },
     "execution_count": 6,
     "metadata": {},
     "output_type": "execute_result"
    }
   ],
   "source": [
    "def length_more_than_5(x):\n",
    "    return (len(x))>5\n",
    "list(filter(length_more_than_5,['sudeshna','mousumi','ritwik','bikram','sunny']))"
   ]
  },
  {
   "cell_type": "markdown",
   "id": "8f1f03d0",
   "metadata": {},
   "source": [
    "### 4.Given a list of tuples (name, age), use map and filter to find the names of people who are above 18 years old.\n"
   ]
  },
  {
   "cell_type": "code",
   "execution_count": 7,
   "id": "911aa1ac",
   "metadata": {},
   "outputs": [
    {
     "data": {
      "text/plain": [
       "[('sudeshna', 23), ('mousumi', 22), ('ritwik', 21)]"
      ]
     },
     "execution_count": 7,
     "metadata": {},
     "output_type": "execute_result"
    }
   ],
   "source": [
    "def age_above_18(x):\n",
    "    return (x[1])>18\n",
    "list(filter(age_above_18,[('sudeshna',23),('mousumi',22),('ritwik',21),('sunny',18)]))"
   ]
  },
  {
   "cell_type": "markdown",
   "id": "a86e2347",
   "metadata": {},
   "source": [
    "### 5.Given a list of dictionaries representing people (each dictionary contains keys 'name' and 'age'), use filter to find all the people whose age is above 30.\n"
   ]
  },
  {
   "cell_type": "code",
   "execution_count": 60,
   "id": "1930b0d1",
   "metadata": {},
   "outputs": [
    {
     "data": {
      "text/plain": [
       "[{'yhjiji': 34}, {'hgfkuy': 56}]"
      ]
     },
     "execution_count": 60,
     "metadata": {},
     "output_type": "execute_result"
    }
   ],
   "source": [
    "def age_above_30(x):\n",
    "    return (list(x.values())[0]>30)\n",
    "list(filter(age_above_30,[{'sudeshna':30},{'yhjiji':34},{'liyiy':29},{'hgfkuy':56}]))"
   ]
  },
  {
   "cell_type": "markdown",
   "id": "a00810fb",
   "metadata": {},
   "source": [
    "### 6.Given a list of strings, use map to convert each string to its length.\n"
   ]
  },
  {
   "cell_type": "code",
   "execution_count": 17,
   "id": "4984f36f",
   "metadata": {},
   "outputs": [
    {
     "data": {
      "text/plain": [
       "[8, 5, 7, 6]"
      ]
     },
     "execution_count": 17,
     "metadata": {},
     "output_type": "execute_result"
    }
   ],
   "source": [
    "def length_of_string(x):\n",
    "    return (len(x))\n",
    "list(map(length_of_string,['sudeshna','sunny','mousumi','ritwik']))"
   ]
  },
  {
   "cell_type": "markdown",
   "id": "7b5d0627",
   "metadata": {},
   "source": [
    "### 7.Given a list of integers, use filter to find all the numbers which are one less than some prime numbers.\n"
   ]
  },
  {
   "cell_type": "code",
   "execution_count": 4,
   "id": "43913658",
   "metadata": {},
   "outputs": [
    {
     "data": {
      "text/plain": [
       "[1, 2, 4, 6, 10]"
      ]
     },
     "execution_count": 4,
     "metadata": {},
     "output_type": "execute_result"
    }
   ],
   "source": [
    "def one_less_than_primes(n):\n",
    "    x=0\n",
    "    if((n+1)<=1):\n",
    "        x=1\n",
    "    else:\n",
    "        for c in range(2,n):\n",
    "            if((n+1)%c==0):\n",
    "                x=1\n",
    "    return(x)==0\n",
    "list(filter(one_less_than_primes,[1,2,3,4,5,6,7,8,10]))\n",
    "        "
   ]
  },
  {
   "cell_type": "markdown",
   "id": "20627f04",
   "metadata": {},
   "source": [
    "### 8.Given a list of dictionaries representing products (each dictionary contains keys 'name' and 'price'), use filter to find all the products with a price less than $10."
   ]
  },
  {
   "cell_type": "code",
   "execution_count": 53,
   "id": "1e9dd7b8",
   "metadata": {},
   "outputs": [
    {
     "data": {
      "text/plain": [
       "[{'pulse': 1}, {'gems': 5}]"
      ]
     },
     "execution_count": 53,
     "metadata": {},
     "output_type": "execute_result"
    }
   ],
   "source": [
    "def price_less_than_10(x):\n",
    "    price_list=list(x.values())\n",
    "    return(price_list[0]<10)\n",
    "list(filter(price_less_than_10,[{'kurkure':10},{'dairy milk':20},{'pulse':1},{'gems':5}]))\n"
   ]
  },
  {
   "cell_type": "markdown",
   "id": "e47ffd70",
   "metadata": {},
   "source": [
    "### 9.Given a list of strings, use filter to find all the strings that start with the letter 'A'."
   ]
  },
  {
   "cell_type": "code",
   "execution_count": 15,
   "id": "395f314c",
   "metadata": {},
   "outputs": [
    {
     "data": {
      "text/plain": [
       "['Aritra', 'Arka']"
      ]
     },
     "execution_count": 15,
     "metadata": {},
     "output_type": "execute_result"
    }
   ],
   "source": [
    "def begins_with_A(x):\n",
    "    return(x.startswith('A'))\n",
    "list(filter(begins_with_A,['Aritra','Arka','Sudeshna','Mousumi']))"
   ]
  },
  {
   "cell_type": "markdown",
   "id": "d8ae4d28",
   "metadata": {},
   "source": [
    "### 10.Given a list of numbers, use map to calculate the cubes of the even numbers within the list of numbers.\n"
   ]
  },
  {
   "cell_type": "code",
   "execution_count": 32,
   "id": "5ba93eec",
   "metadata": {},
   "outputs": [
    {
     "data": {
      "text/plain": [
       "[8, 64, 216, 512]"
      ]
     },
     "execution_count": 32,
     "metadata": {},
     "output_type": "execute_result"
    }
   ],
   "source": [
    "def even_numbers(x):\n",
    "    return(x%2==0)\n",
    "def cubes(x):\n",
    "    return (x**3)\n",
    "evens=list(filter(even_numbers,[1,2,3,4,5,6,7,8]))\n",
    "    \n",
    "list(map(cubes,evens))"
   ]
  },
  {
   "cell_type": "markdown",
   "id": "47648c1e",
   "metadata": {},
   "source": [
    "### 11.Given a list of tuples (name, score), use map and filter to find the names of students who have scored above 80.\n"
   ]
  },
  {
   "cell_type": "code",
   "execution_count": 36,
   "id": "cdacab8a",
   "metadata": {},
   "outputs": [
    {
     "data": {
      "text/plain": [
       "[('sudeshna', 85), ('mou', 90), ('rtk', 95)]"
      ]
     },
     "execution_count": 36,
     "metadata": {},
     "output_type": "execute_result"
    }
   ],
   "source": [
    "def scored_above_80(x):\n",
    "    return (x[1]>80)\n",
    "list(filter(scored_above_80,[('sudeshna',85),('mou',90),('rtk',95),('sunny',80)]))"
   ]
  },
  {
   "cell_type": "markdown",
   "id": "0ebe4e6f",
   "metadata": {},
   "source": [
    "### 12.Given a list of strings, use map to reverse each string.\n"
   ]
  },
  {
   "cell_type": "code",
   "execution_count": 39,
   "id": "5d5df2d7",
   "metadata": {},
   "outputs": [
    {
     "data": {
      "text/plain": [
       "['anhsedus', 'ynnus', 'imusuom', 'kiwtir']"
      ]
     },
     "execution_count": 39,
     "metadata": {},
     "output_type": "execute_result"
    }
   ],
   "source": [
    "def reverse(x):\n",
    "    return (x[::-1])\n",
    "list(map(reverse,['sudeshna','sunny','mousumi','ritwik']))"
   ]
  },
  {
   "cell_type": "markdown",
   "id": "dad14af7",
   "metadata": {},
   "source": [
    "### 13.Given a list of integers, use filter to find all the numbers that are divisible by 7 and 9.\n"
   ]
  },
  {
   "cell_type": "code",
   "execution_count": 40,
   "id": "a0b6bd8d",
   "metadata": {},
   "outputs": [
    {
     "data": {
      "text/plain": [
       "[63, 126]"
      ]
     },
     "execution_count": 40,
     "metadata": {},
     "output_type": "execute_result"
    }
   ],
   "source": [
    "def divisible_by_7_and_9(x):\n",
    "    return(x%7==0 and x%9==0)\n",
    "list(filter(divisible_by_7_and_9,[7,8,9,63,126,125]))"
   ]
  },
  {
   "cell_type": "markdown",
   "id": "3a3b69d3",
   "metadata": {},
   "source": [
    "### 14.Given a list of dictionaries representing books (each dictionary contains keys 'title' and 'author'), use map to extract the titles of the books."
   ]
  },
  {
   "cell_type": "code",
   "execution_count": 64,
   "id": "d3c0098d",
   "metadata": {},
   "outputs": [
    {
     "data": {
      "text/plain": [
       "[['Abstract algebra'], ['real analysis'], ['introduction to coding theory']]"
      ]
     },
     "execution_count": 64,
     "metadata": {},
     "output_type": "execute_result"
    }
   ],
   "source": [
    "def title_of_books(x):\n",
    "    return(list(x.keys()))\n",
    "list(map(title_of_books,[{'Abstract algebra':'malik moderson'},{'real analysis':'s.k.mapa'},{'introduction to coding theory':'c musilli'}]))"
   ]
  },
  {
   "cell_type": "markdown",
   "id": "81c0229a",
   "metadata": {},
   "source": [
    "### 15.Given a list of strings, use filter to find all the strings that contain the letter 'e'.\n"
   ]
  },
  {
   "cell_type": "code",
   "execution_count": 65,
   "id": "901e138d",
   "metadata": {},
   "outputs": [
    {
     "data": {
      "text/plain": [
       "['kytierfd', 'gyyertfsy', 'jhtedje']"
      ]
     },
     "execution_count": 65,
     "metadata": {},
     "output_type": "execute_result"
    }
   ],
   "source": [
    "def containing_e(x):\n",
    "    return ('e' in x)\n",
    "list(filter(containing_e,['kytierfd','gyyertfsy','yytyh','huyhji','jhtedje']))"
   ]
  },
  {
   "cell_type": "markdown",
   "id": "2c3f1fad",
   "metadata": {},
   "source": [
    "### 16.Given a list of tuples (name, salary), use filter to find all the employees whose salary is above the average salary.\n"
   ]
  },
  {
   "cell_type": "code",
   "execution_count": 45,
   "id": "45682665",
   "metadata": {},
   "outputs": [
    {
     "data": {
      "text/plain": [
       "[('jtkuyiu', 300), ('htryry', 400)]"
      ]
     },
     "execution_count": 45,
     "metadata": {},
     "output_type": "execute_result"
    }
   ],
   "source": [
    "list1=[('kjyg',100),('yiyo',200),('jtkuyiu',300),('htryry',400)]\n",
    "n=len(list1)\n",
    "sum=0\n",
    "for x in list1:\n",
    "    sum+=x[1]\n",
    "avg=sum//n\n",
    "def salary_above_avg(x):\n",
    "    return(x[1]>avg)\n",
    "list(filter(salary_above_avg,list1))\n",
    "    "
   ]
  },
  {
   "cell_type": "code",
   "execution_count": null,
   "id": "18c684f3",
   "metadata": {},
   "outputs": [],
   "source": []
  }
 ],
 "metadata": {
  "kernelspec": {
   "display_name": "Python 3 (ipykernel)",
   "language": "python",
   "name": "python3"
  },
  "language_info": {
   "codemirror_mode": {
    "name": "ipython",
    "version": 3
   },
   "file_extension": ".py",
   "mimetype": "text/x-python",
   "name": "python",
   "nbconvert_exporter": "python",
   "pygments_lexer": "ipython3",
   "version": "3.10.9"
  }
 },
 "nbformat": 4,
 "nbformat_minor": 5
}
