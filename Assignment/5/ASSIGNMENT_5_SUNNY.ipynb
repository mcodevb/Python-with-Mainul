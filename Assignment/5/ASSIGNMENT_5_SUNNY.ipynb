{
  "cells": [
    {
      "cell_type": "markdown",
      "metadata": {
        "id": "view-in-github",
        "colab_type": "text"
      },
      "source": [
        "<a href=\"https://colab.research.google.com/github/mcodevb/Python-with-Mainul/blob/master/Assignment/5/ASSIGNMENT_5_SUNNY.ipynb\" target=\"_parent\"><img src=\"https://colab.research.google.com/assets/colab-badge.svg\" alt=\"Open In Colab\"/></a>"
      ]
    },
    {
      "cell_type": "markdown",
      "id": "798956ff",
      "metadata": {
        "id": "798956ff"
      },
      "source": [
        "Q1. Given a list of strings, use map to convert each string to uppercase."
      ]
    },
    {
      "cell_type": "code",
      "execution_count": 1,
      "id": "b262c731",
      "metadata": {
        "id": "b262c731",
        "outputId": "15913cee-6584-4552-e9ea-6860f7944a34",
        "colab": {
          "base_uri": "https://localhost:8080/"
        }
      },
      "outputs": [
        {
          "output_type": "execute_result",
          "data": {
            "text/plain": [
              "['SUNNY', 'RTK', 'MOU', 'BIKU', 'SUDESHNA']"
            ]
          },
          "metadata": {},
          "execution_count": 1
        }
      ],
      "source": [
        "def uppercase(x):\n",
        "    return x.upper()\n",
        "list(map(uppercase,['sunny','rtk','mou','biku','sudeshna']))"
      ]
    },
    {
      "cell_type": "markdown",
      "id": "d572fcdd",
      "metadata": {
        "id": "d572fcdd"
      },
      "source": []
    },
    {
      "cell_type": "markdown",
      "id": "7e28a110",
      "metadata": {
        "id": "7e28a110"
      },
      "source": [
        "Q2. Given a list of numbers, use filter to find all multiples of 3."
      ]
    },
    {
      "cell_type": "code",
      "execution_count": 9,
      "id": "5b4d4c8a",
      "metadata": {
        "id": "5b4d4c8a",
        "outputId": "d63509a2-78ee-428f-9da2-35737cd60387",
        "colab": {
          "base_uri": "https://localhost:8080/"
        }
      },
      "outputs": [
        {
          "output_type": "stream",
          "name": "stdout",
          "text": [
            "[96, 80, 57, 6, 90]\n"
          ]
        },
        {
          "output_type": "execute_result",
          "data": {
            "text/plain": [
              "[96, 57, 6, 90]"
            ]
          },
          "metadata": {},
          "execution_count": 9
        }
      ],
      "source": [
        "from random import *\n",
        "def mult_3(x):\n",
        "    return x%3==0\n",
        "\n",
        "lst=[randint(1,100) for i in range(5)]\n",
        "print(lst)\n",
        "list(filter(mult_3,lst))"
      ]
    },
    {
      "cell_type": "markdown",
      "id": "43fe0fbe",
      "metadata": {
        "id": "43fe0fbe"
      },
      "source": [
        "Q3. Given a list of strings, use filter to find all the strings that have more than 5 characters."
      ]
    },
    {
      "cell_type": "code",
      "execution_count": 10,
      "id": "dad39306",
      "metadata": {
        "id": "dad39306",
        "outputId": "40cecb2f-8c9e-48ae-97cc-80191230fee6",
        "colab": {
          "base_uri": "https://localhost:8080/"
        }
      },
      "outputs": [
        {
          "output_type": "execute_result",
          "data": {
            "text/plain": [
              "['jhsfjh', 'hfbjhf']"
            ]
          },
          "metadata": {},
          "execution_count": 10
        }
      ],
      "source": [
        "def char_5(x):\n",
        "    return len(x)>5\n",
        "\n",
        "lst=['hjvf','jgflj','jhsfjh','hfbjhf']\n",
        "list(filter(char_5,lst))"
      ]
    },
    {
      "cell_type": "markdown",
      "id": "7489e8ca",
      "metadata": {
        "id": "7489e8ca"
      },
      "source": []
    },
    {
      "cell_type": "markdown",
      "id": "16116d1e",
      "metadata": {
        "id": "16116d1e"
      },
      "source": [
        "Q4. Given a list of tuples (name, age), use map and filter to find the names of people who are above 18 years old."
      ]
    },
    {
      "cell_type": "code",
      "execution_count": 11,
      "id": "5a296f33",
      "metadata": {
        "id": "5a296f33",
        "outputId": "8b0b138c-12a6-4fee-95f6-0b8f077b314e",
        "colab": {
          "base_uri": "https://localhost:8080/"
        }
      },
      "outputs": [
        {
          "output_type": "execute_result",
          "data": {
            "text/plain": [
              "[('sunny', 23), ('jhf', 19)]"
            ]
          },
          "metadata": {},
          "execution_count": 11
        }
      ],
      "source": [
        "def adult(x):\n",
        "    return x[1]>18\n",
        "\n",
        "lst=[('sunny',23),('hjgf',11),('jhf',19)]\n",
        "list(filter(adult,lst))"
      ]
    },
    {
      "cell_type": "markdown",
      "id": "dc7d844e",
      "metadata": {
        "id": "dc7d844e"
      },
      "source": []
    },
    {
      "cell_type": "markdown",
      "id": "4c37b9d5",
      "metadata": {
        "id": "4c37b9d5"
      },
      "source": [
        "Q5. Given a list of dictionaries representing people (each dictionary contains keys 'name' and 'age'), use filter to find all the people whose age is above 30."
      ]
    },
    {
      "cell_type": "code",
      "execution_count": 18,
      "id": "7f51fb10",
      "metadata": {
        "id": "7f51fb10",
        "outputId": "092b1885-d6da-421a-a4d1-85817c7d0d44",
        "colab": {
          "base_uri": "https://localhost:8080/"
        }
      },
      "outputs": [
        {
          "output_type": "stream",
          "name": "stdout",
          "text": [
            "sun\n",
            "11\n",
            "hgc\n",
            "31\n",
            "gfxnb\n",
            "45\n"
          ]
        },
        {
          "output_type": "execute_result",
          "data": {
            "text/plain": [
              "['hgc', 'gfxnb']"
            ]
          },
          "metadata": {},
          "execution_count": 18
        }
      ],
      "source": [
        "def upmiddle(x):\n",
        "    print(x)\n",
        "    a = dict3[x]\n",
        "    print(a)\n",
        "    return dict[x]>30\n",
        "\n",
        "dict3={'sun':11,'hgc':31,'gfxnb':45}\n",
        "list(filter(upmiddle,dict3))\n"
      ]
    },
    {
      "cell_type": "markdown",
      "id": "a6aa07e7",
      "metadata": {
        "id": "a6aa07e7"
      },
      "source": []
    },
    {
      "cell_type": "code",
      "source": [],
      "metadata": {
        "id": "KeXETbsD7ZuL"
      },
      "id": "KeXETbsD7ZuL",
      "execution_count": 18,
      "outputs": []
    },
    {
      "cell_type": "markdown",
      "id": "690f77ed",
      "metadata": {
        "id": "690f77ed"
      },
      "source": [
        "Q6. Given a list of strings, use map to convert each string to its length."
      ]
    },
    {
      "cell_type": "code",
      "execution_count": 19,
      "id": "7bc59125",
      "metadata": {
        "id": "7bc59125",
        "outputId": "af82a1b6-6aa2-4c20-eeb1-9c1f667807a4",
        "colab": {
          "base_uri": "https://localhost:8080/"
        }
      },
      "outputs": [
        {
          "output_type": "execute_result",
          "data": {
            "text/plain": [
              "[4, 6, 3, 7]"
            ]
          },
          "metadata": {},
          "execution_count": 19
        }
      ],
      "source": [
        "def length(x):\n",
        "    return len(x)\n",
        "\n",
        "lst=['dkhg','khdkty','fxj','kytdtky']\n",
        "list(map(length,lst))\n"
      ]
    },
    {
      "cell_type": "markdown",
      "id": "9392a626",
      "metadata": {
        "id": "9392a626"
      },
      "source": []
    },
    {
      "cell_type": "markdown",
      "id": "81f52cc2",
      "metadata": {
        "id": "81f52cc2"
      },
      "source": [
        "Q7. Given a list of integers, use filter to find all the numbers which are one less than some prime numbers."
      ]
    },
    {
      "cell_type": "code",
      "execution_count": 22,
      "id": "2fa83ae8",
      "metadata": {
        "id": "2fa83ae8",
        "outputId": "52aef721-3628-4162-b3d5-c14ebe4b2244",
        "colab": {
          "base_uri": "https://localhost:8080/"
        }
      },
      "outputs": [
        {
          "output_type": "stream",
          "name": "stdout",
          "text": [
            "[51, 83, 94, 80, 10, 78, 42, 95, 15, 34, 19, 73, 35, 35, 70, 67, 55, 60, 61, 10]\n"
          ]
        },
        {
          "output_type": "execute_result",
          "data": {
            "text/plain": [
              "[10, 78, 42, 70, 60, 10]"
            ]
          },
          "metadata": {},
          "execution_count": 22
        }
      ],
      "source": [
        "def one_less_prime(y):\n",
        "    x=y+1\n",
        "    if x<=1:\n",
        "        return False\n",
        "    else:\n",
        "        sqrt=x**0.5\n",
        "        for a in range(2,int(sqrt)+1):\n",
        "          if(x%a==0):\n",
        "              return False\n",
        "        else:\n",
        "          return True\n",
        "\n",
        "lst=[randint(1,100) for i in range(20)]\n",
        "print(lst)\n",
        "list(filter(one_less_prime,lst))"
      ]
    },
    {
      "cell_type": "markdown",
      "id": "5106b987",
      "metadata": {
        "id": "5106b987"
      },
      "source": []
    },
    {
      "cell_type": "markdown",
      "id": "9c5e9e2e",
      "metadata": {
        "id": "9c5e9e2e"
      },
      "source": [
        "Q8. Given a list of dictionaries representing products (each dictionary contains keys 'name' and 'price'), use filter to find all the products with a price less than $10."
      ]
    },
    {
      "cell_type": "code",
      "execution_count": null,
      "id": "43e81efe",
      "metadata": {
        "id": "43e81efe",
        "outputId": "e9055bc4-e58b-4f26-c14e-a2374e7aa317"
      },
      "outputs": [
        {
          "data": {
            "text/plain": [
              "['jdhv', 'jhjhfs']"
            ]
          },
          "execution_count": 8,
          "metadata": {},
          "output_type": "execute_result"
        }
      ],
      "source": [
        "def less_10(x):\n",
        "    return dict[x]<10\n",
        "\n",
        "dict={'jdhv':2,'hgc':31,'gfxnb':45,'jhjhfs':9}\n",
        "list(filter(less_10,dict))"
      ]
    },
    {
      "cell_type": "markdown",
      "id": "e634ee53",
      "metadata": {
        "id": "e634ee53"
      },
      "source": []
    },
    {
      "cell_type": "markdown",
      "id": "0fd95f77",
      "metadata": {
        "id": "0fd95f77"
      },
      "source": [
        "Q9. Given a list of strings, use filter to find all the strings that start with the letter 'A'."
      ]
    },
    {
      "cell_type": "code",
      "execution_count": null,
      "id": "d1b7a102",
      "metadata": {
        "id": "d1b7a102",
        "outputId": "a3c3d560-fefb-418a-de65-94c07c88954f"
      },
      "outputs": [
        {
          "data": {
            "text/plain": [
              "['Achg', 'Atrsj']"
            ]
          },
          "execution_count": 9,
          "metadata": {},
          "output_type": "execute_result"
        }
      ],
      "source": [
        "def star_A(x):\n",
        "    return x.startswith('A')\n",
        "lst=['Achg','ahvhd','Atrsj','jhch']\n",
        "list(filter(star_A,lst))"
      ]
    },
    {
      "cell_type": "markdown",
      "id": "e755c3da",
      "metadata": {
        "id": "e755c3da"
      },
      "source": []
    },
    {
      "cell_type": "markdown",
      "id": "9daae81e",
      "metadata": {
        "id": "9daae81e"
      },
      "source": [
        "Q10. Given a list of numbers, use map to calculate the cubes of the even numbers within the list of numbers."
      ]
    },
    {
      "cell_type": "code",
      "execution_count": null,
      "id": "ad15fe7e",
      "metadata": {
        "id": "ad15fe7e",
        "outputId": "42142aba-2566-473e-84f5-6ef07af7f8b7"
      },
      "outputs": [
        {
          "name": "stdout",
          "output_type": "stream",
          "text": [
            "[100, 59, 90, 86, 89, 100, 90, 83]\n"
          ]
        },
        {
          "data": {
            "text/plain": [
              "[1000000, None, 729000, 636056, None, 1000000, 729000, None]"
            ]
          },
          "execution_count": 10,
          "metadata": {},
          "output_type": "execute_result"
        }
      ],
      "source": [
        "def cube_even(x):\n",
        "    if x%2==0:\n",
        "        return x**3\n",
        "\n",
        "lst=[randint(1,100) for i in range(8)]\n",
        "print(lst)\n",
        "list(map(cube_even,lst))"
      ]
    },
    {
      "cell_type": "code",
      "execution_count": 26,
      "id": "7f2d9f58",
      "metadata": {
        "id": "7f2d9f58",
        "outputId": "40db97b1-4d89-43a6-b9f0-b2a402a0c7d6",
        "colab": {
          "base_uri": "https://localhost:8080/"
        }
      },
      "outputs": [
        {
          "output_type": "stream",
          "name": "stdout",
          "text": [
            "[85, 52, 86, 97, 85, 4, 21, 55]\n"
          ]
        },
        {
          "output_type": "execute_result",
          "data": {
            "text/plain": [
              "[140608, 636056, 64]"
            ]
          },
          "metadata": {},
          "execution_count": 26
        }
      ],
      "source": [
        "def even(x):\n",
        "    return x%2==0\n",
        "def cube(x):\n",
        "    return x**3\n",
        "\n",
        "lst=[randint(1,100) for i in range(8)]\n",
        "print(lst)\n",
        "list(map(cube,(filter(even,lst))))"
      ]
    },
    {
      "cell_type": "markdown",
      "id": "19a998c9",
      "metadata": {
        "id": "19a998c9"
      },
      "source": []
    },
    {
      "cell_type": "markdown",
      "id": "30dd3e2c",
      "metadata": {
        "id": "30dd3e2c"
      },
      "source": [
        "Q11. Given a list of tuples (name, score), use map and filter to find the names of students who have scored above 80."
      ]
    },
    {
      "cell_type": "code",
      "execution_count": null,
      "id": "1f83544b",
      "metadata": {
        "id": "1f83544b",
        "outputId": "de699619-a9e8-44a8-d5e2-40df39657e99"
      },
      "outputs": [
        {
          "data": {
            "text/plain": [
              "['hjgf', 'jhf']"
            ]
          },
          "execution_count": 12,
          "metadata": {},
          "output_type": "execute_result"
        }
      ],
      "source": [
        "def letter(x):\n",
        "    return x[1]>80\n",
        "def name(x):\n",
        "    return x[0]\n",
        "\n",
        "lst=[('sunny',43),('hjgf',87),('jhf',97),('gffjg',55)]\n",
        "list(map(name,list(filter(letter,lst))))"
      ]
    },
    {
      "cell_type": "markdown",
      "id": "940fb9c0",
      "metadata": {
        "id": "940fb9c0"
      },
      "source": []
    },
    {
      "cell_type": "markdown",
      "id": "d4d43b65",
      "metadata": {
        "id": "d4d43b65"
      },
      "source": [
        "Q12. Given a list of strings, use map to reverse each string."
      ]
    },
    {
      "cell_type": "code",
      "execution_count": null,
      "id": "cc6ca79d",
      "metadata": {
        "id": "cc6ca79d",
        "outputId": "cec28eed-ff41-4ed2-c42e-40bfd290b218"
      },
      "outputs": [
        {
          "data": {
            "text/plain": [
              "['ynnus', 'ktr', 'uom', 'ukib', 'anhsedus']"
            ]
          },
          "execution_count": 13,
          "metadata": {},
          "output_type": "execute_result"
        }
      ],
      "source": [
        "def reverse(x):\n",
        "    return x[::-1]\n",
        "list(map(reverse,['sunny','rtk','mou','biku','sudeshna']))"
      ]
    },
    {
      "cell_type": "markdown",
      "id": "a81d560f",
      "metadata": {
        "id": "a81d560f"
      },
      "source": []
    },
    {
      "cell_type": "markdown",
      "id": "f5205840",
      "metadata": {
        "id": "f5205840"
      },
      "source": [
        "Q13. Given a list of integers, use filter to find all the numbers that are divisible by 7 and 9."
      ]
    },
    {
      "cell_type": "code",
      "execution_count": null,
      "id": "b8064484",
      "metadata": {
        "id": "b8064484",
        "outputId": "99b09a13-e0e7-412f-8f15-a0a6ecb8acad"
      },
      "outputs": [
        {
          "name": "stdout",
          "output_type": "stream",
          "text": [
            "[61, 21, 83, 64, 70, 64, 37, 10, 49, 45, 54, 34, 34, 72, 29, 59, 78, 40, 85, 29]\n"
          ]
        },
        {
          "data": {
            "text/plain": [
              "[21, 70, 49, 45, 54, 72]"
            ]
          },
          "execution_count": 14,
          "metadata": {},
          "output_type": "execute_result"
        }
      ],
      "source": [
        "def div_7_9(x):\n",
        "    return x%7==0 or x%9==0\n",
        "\n",
        "lst=[randint(1,100) for i in range(20)]\n",
        "print(lst)\n",
        "list(filter(div_7_9,lst))"
      ]
    },
    {
      "cell_type": "markdown",
      "id": "3b23e8d0",
      "metadata": {
        "id": "3b23e8d0"
      },
      "source": []
    },
    {
      "cell_type": "markdown",
      "id": "a85e7c2f",
      "metadata": {
        "id": "a85e7c2f"
      },
      "source": [
        "Q14. Given a list of dictionaries representing books (each dictionary contains keys 'title' and 'author'), use map to extract the titles of the books."
      ]
    },
    {
      "cell_type": "code",
      "execution_count": null,
      "id": "fd023556",
      "metadata": {
        "id": "fd023556",
        "outputId": "bc03ac01-67e1-4938-84b7-d5b86bfad2dd"
      },
      "outputs": [
        {
          "data": {
            "text/plain": [
              "['hhgf', 'hgfg', 'fhg']"
            ]
          },
          "execution_count": 15,
          "metadata": {},
          "output_type": "execute_result"
        }
      ],
      "source": [
        "def titles(x):\n",
        "    return x[0]\n",
        "\n",
        "dic={'hhgf':'gcgf','hgfg':'hdt','fhg':'gfgc'}\n",
        "list(map(titles,dic.items()))"
      ]
    },
    {
      "cell_type": "markdown",
      "id": "86989e64",
      "metadata": {
        "id": "86989e64"
      },
      "source": []
    },
    {
      "cell_type": "markdown",
      "id": "646ff0f5",
      "metadata": {
        "id": "646ff0f5"
      },
      "source": [
        "Q15. Given a list of strings, use filter to find all the strings that contain the letter 'e'."
      ]
    },
    {
      "cell_type": "code",
      "execution_count": null,
      "id": "d3f5e89d",
      "metadata": {
        "id": "d3f5e89d",
        "outputId": "7422bb5f-d73f-4270-a83a-9ead64d1d295"
      },
      "outputs": [
        {
          "data": {
            "text/plain": [
              "['nfdres', '.kufrser']"
            ]
          },
          "execution_count": 16,
          "metadata": {},
          "output_type": "execute_result"
        }
      ],
      "source": [
        "def contain_e(x):\n",
        "    return 'e' in x\n",
        "\n",
        "lst=['nfdres','djjhkl','.kufrser','gdsrsfgh']\n",
        "list(filter(contain_e,lst))"
      ]
    },
    {
      "cell_type": "markdown",
      "id": "e695ffcd",
      "metadata": {
        "id": "e695ffcd"
      },
      "source": []
    },
    {
      "cell_type": "markdown",
      "id": "533f1162",
      "metadata": {
        "id": "533f1162"
      },
      "source": [
        "Q16. Given a list of tuples (name, salary), use filter to find all the employees whose salary is above the average salary."
      ]
    },
    {
      "cell_type": "code",
      "execution_count": null,
      "id": "eeb8b812",
      "metadata": {
        "id": "eeb8b812",
        "outputId": "9fd19800-cd32-46e4-a12a-16caa6c8dc83"
      },
      "outputs": [
        {
          "name": "stdout",
          "output_type": "stream",
          "text": [
            "average salary= 446.6666666666667\n"
          ]
        },
        {
          "data": {
            "text/plain": [
              "[('hjszjh', 633)]"
            ]
          },
          "execution_count": 17,
          "metadata": {},
          "output_type": "execute_result"
        }
      ],
      "source": [
        "lst=[('sdkjb',344),('hjszjh',633),('skjs',363)]\n",
        "sum1=0\n",
        "for c in lst:\n",
        "    sum1+=c[1]\n",
        "av=sum1/len(lst)\n",
        "print('average salary=',av)\n",
        "\n",
        "def av_sal(x):\n",
        "    return x[1]>av\n",
        "\n",
        "list(filter(av_sal,lst))"
      ]
    }
  ],
  "metadata": {
    "kernelspec": {
      "display_name": "Python 3 (ipykernel)",
      "language": "python",
      "name": "python3"
    },
    "language_info": {
      "codemirror_mode": {
        "name": "ipython",
        "version": 3
      },
      "file_extension": ".py",
      "mimetype": "text/x-python",
      "name": "python",
      "nbconvert_exporter": "python",
      "pygments_lexer": "ipython3",
      "version": "3.10.9"
    },
    "colab": {
      "provenance": [],
      "include_colab_link": true
    }
  },
  "nbformat": 4,
  "nbformat_minor": 5
}