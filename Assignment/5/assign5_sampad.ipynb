{
  "cells": [
    {
      "cell_type": "markdown",
      "id": "fc1456af-811a-4548-8865-011dbb5d6696",
      "metadata": {
        "id": "fc1456af-811a-4548-8865-011dbb5d6696"
      },
      "source": [
        "**Q1. Given a list of strings, use map to convert each string to uppercase.**"
      ]
    },
    {
      "cell_type": "code",
      "execution_count": null,
      "id": "b2595227-2fd5-414c-9006-5cf1c6b94a5e",
      "metadata": {
        "id": "b2595227-2fd5-414c-9006-5cf1c6b94a5e",
        "outputId": "2a1aebac-084e-43f0-b6ac-422758ea7a61"
      },
      "outputs": [
        {
          "data": {
            "text/plain": [
              "['BOOK', 'PEN', 'PENCIL', 'Not a string']"
            ]
          },
          "execution_count": 1,
          "metadata": {},
          "output_type": "execute_result"
        }
      ],
      "source": [
        "def upcase(obj):\n",
        "    if type(obj) == str:\n",
        "        return obj.upper()\n",
        "    else:\n",
        "        return 'Not a string'\n",
        "\n",
        "\n",
        "my_strings = ['book', 'Pen', 'pencil', 300]\n",
        "list(map(upcase, my_strings))"
      ]
    },
    {
      "cell_type": "markdown",
      "id": "4beedeea-f7a0-4bac-a9ef-3c2da5b569e1",
      "metadata": {
        "id": "4beedeea-f7a0-4bac-a9ef-3c2da5b569e1"
      },
      "source": [
        "**Q2. Given a list of numbers, use filter to find all multiples of 3.**"
      ]
    },
    {
      "cell_type": "code",
      "execution_count": null,
      "id": "a8a21b2c-9642-412c-9c5d-8a5c269b844a",
      "metadata": {
        "colab": {
          "base_uri": "https://localhost:8080/"
        },
        "id": "a8a21b2c-9642-412c-9c5d-8a5c269b844a",
        "outputId": "a26301eb-e640-4597-a0eb-be5d942c457e"
      },
      "outputs": [
        {
          "output_type": "stream",
          "name": "stdout",
          "text": [
            "[False, True, False, True, True, False, True, False]\n",
            "[3, 6.0, 9, 27]\n"
          ]
        }
      ],
      "source": [
        "def three_mult(n):\n",
        "    if type(n) == int or type(n)== float:\n",
        "        if n%3 == 0:\n",
        "            return True\n",
        "        else:\n",
        "            return False\n",
        "    else:\n",
        "        return False\n",
        "\n",
        "\n",
        "num_lst = [2, 3, 4, 6.0, 9, 8, 27, 'str']\n",
        "print(list(map(three_mult, num_lst)))\n",
        "print(list(filter(three_mult, num_lst)))"
      ]
    },
    {
      "cell_type": "markdown",
      "id": "3bf7e62f-3bf9-4a74-8001-c995b97131de",
      "metadata": {
        "id": "3bf7e62f-3bf9-4a74-8001-c995b97131de"
      },
      "source": [
        "**Q3. Given a list of strings, use filter to find all the strings that have more than 5 characters.**"
      ]
    },
    {
      "cell_type": "code",
      "execution_count": null,
      "id": "e80aaa99-8c66-43bd-9d1b-3d6b12c1e1f7",
      "metadata": {
        "colab": {
          "base_uri": "https://localhost:8080/"
        },
        "id": "e80aaa99-8c66-43bd-9d1b-3d6b12c1e1f7",
        "outputId": "78457df6-19a3-497b-be6d-49287ef9b0e4"
      },
      "outputs": [
        {
          "output_type": "stream",
          "name": "stdout",
          "text": [
            "[False, True, True, False, False, True, True, True, False]\n",
            "['Ananda', 'Tanmoy', 'Tushar', 'Debraj', 'Debasis']\n"
          ]
        }
      ],
      "source": [
        "def len_check(obj):\n",
        "    if type(obj) == str:\n",
        "        return 5 < len(obj) <= 7\n",
        "    else:\n",
        "        return False\n",
        "\n",
        "string_lst = [300,'Ananda', 'Tanmoy', 'Santu', 'Saheb', 'Tushar', 'Debraj', 'Debasis', 'Ramprasad']\n",
        "print(list(map(len_check, string_lst)))\n",
        "print(list(filter(len_check, string_lst)))"
      ]
    },
    {
      "cell_type": "markdown",
      "id": "9cc52d65-5ba2-46c4-b4ac-3759beede095",
      "metadata": {
        "id": "9cc52d65-5ba2-46c4-b4ac-3759beede095"
      },
      "source": [
        "**Q4. Given a list of tuples (name, age), use map and filter to find the names of people who are above 18 years old.**"
      ]
    },
    {
      "cell_type": "code",
      "execution_count": null,
      "id": "bacfd355-97d2-4f16-98ed-81392adb000f",
      "metadata": {
        "colab": {
          "base_uri": "https://localhost:8080/"
        },
        "id": "bacfd355-97d2-4f16-98ed-81392adb000f",
        "outputId": "6b1e2f30-37a5-4342-a197-a8ab13f9d54d"
      },
      "outputs": [
        {
          "output_type": "stream",
          "name": "stdout",
          "text": [
            "[('p2', 19), ('p3', 27), ('p5', 28)]\n",
            "['p2', 'p3', 'p5']\n"
          ]
        }
      ],
      "source": [
        "def age_check(i):\n",
        "    return i[1] > 18\n",
        "\n",
        "my_lst = [('p1', 17), ('p2', 19), ('p3', 27), ('p4', 18), ('p5', 28)]\n",
        "#print(list(map(age_check, my_lst)))\n",
        "list_of_adults = list(filter(age_check, my_lst))\n",
        "print(list_of_adults)\n",
        "print([i for i,_ in list_of_adults])"
      ]
    },
    {
      "cell_type": "code",
      "execution_count": null,
      "id": "4f9f3934-8778-4773-874a-72ad67f40331",
      "metadata": {
        "id": "4f9f3934-8778-4773-874a-72ad67f40331",
        "outputId": "0d557ac6-4562-40af-dc90-9f3e405ae7ba"
      },
      "outputs": [
        {
          "name": "stdout",
          "output_type": "stream",
          "text": [
            "[19, 27, 28]\n",
            "['p2', 'p3', 'p5']\n"
          ]
        }
      ],
      "source": [
        "def age_check(n):\n",
        "    if n > 18:\n",
        "        return True\n",
        "    else:\n",
        "        return False\n",
        "\n",
        "lst = [('p1', 17), ('p2', 19), ('p3', 27), ('p4', 18), ('p5', 28)]\n",
        "\n",
        "#print(list(map(age_check, [j for i,j in lst])))\n",
        "above_18_ages = list(filter(age_check, [j for i,j in lst]))\n",
        "print(above_18_ages)\n",
        "\n",
        "above_18_persons = []\n",
        "for i,j in lst:\n",
        "    if j in above_18_ages:\n",
        "        above_18_persons += [i]\n",
        "\n",
        "print(above_18_persons)"
      ]
    },
    {
      "cell_type": "markdown",
      "id": "b4066c28-7ec6-454b-974b-fff5a3e7805a",
      "metadata": {
        "id": "b4066c28-7ec6-454b-974b-fff5a3e7805a"
      },
      "source": [
        "**Q5. Given a list of dictionaries representing people (each dictionary contains keys 'name' and 'age'), use filter to find all the people whose age is above 30.**"
      ]
    },
    {
      "cell_type": "code",
      "execution_count": null,
      "id": "cc75bdf3-2e8d-4c18-9091-74ad9501885a",
      "metadata": {
        "id": "cc75bdf3-2e8d-4c18-9091-74ad9501885a",
        "outputId": "74408fbe-50fd-4e8c-c10b-a40904cdb15b"
      },
      "outputs": [
        {
          "name": "stdout",
          "output_type": "stream",
          "text": [
            "[{'p2': 52}, {'p5': 35}]\n",
            "['p2', 'p5']\n"
          ]
        }
      ],
      "source": [
        "def age_check2(k):\n",
        "    if list(k.values())[0] > 30:\n",
        "        return True\n",
        "    else:\n",
        "        return False\n",
        "\n",
        "\n",
        "my_lst = [{'p1': 30}, {'p2': 52}, {'p3': 27}, {'p4': 18}, {'p5': 35}]\n",
        "#print(list(map(age_check2, my_lst)))\n",
        "print(list(filter(age_check2, my_lst)))\n",
        "\n",
        "above_30_persons = []\n",
        "for m in list(filter(age_check2, my_lst)):\n",
        "    for p in m:\n",
        "        above_30_persons += [p]\n",
        "\n",
        "print(above_30_persons)"
      ]
    },
    {
      "cell_type": "markdown",
      "id": "8cbe6d4d-d11a-48a6-b7b0-6eec3ba7a9aa",
      "metadata": {
        "id": "8cbe6d4d-d11a-48a6-b7b0-6eec3ba7a9aa"
      },
      "source": [
        "**Q6. Given a list of strings, use map to convert each string to its length.**"
      ]
    },
    {
      "cell_type": "code",
      "execution_count": null,
      "id": "f50f8fb2-9331-402d-9ec3-540199fdc695",
      "metadata": {
        "id": "f50f8fb2-9331-402d-9ec3-540199fdc695",
        "outputId": "ccfb0e69-7a33-44aa-c272-74c9d22319b5"
      },
      "outputs": [
        {
          "data": {
            "text/plain": [
              "[6, 6, 5, 5, 6, 6, 8, 9]"
            ]
          },
          "execution_count": 7,
          "metadata": {},
          "output_type": "execute_result"
        }
      ],
      "source": [
        "def str_len(obj):\n",
        "    return len(obj)\n",
        "\n",
        "string_lst = ['Ananda', 'Tanmoy', 'Santu', 'Saheb', 'Tushar', 'Debraj', 'Debasish', 'Ramprasad']\n",
        "list(map(str_len, string_lst))"
      ]
    },
    {
      "cell_type": "code",
      "execution_count": null,
      "id": "f88dad21-9c48-435a-a361-ba2620410a7a",
      "metadata": {
        "id": "f88dad21-9c48-435a-a361-ba2620410a7a",
        "outputId": "668d5b88-1d28-47a6-dc3b-9099af8e61e1"
      },
      "outputs": [
        {
          "data": {
            "text/plain": [
              "['Not a string', 6, 6, 5, 5, 6, 6, 8, 9]"
            ]
          },
          "execution_count": 8,
          "metadata": {},
          "output_type": "execute_result"
        }
      ],
      "source": [
        "def str_len(obj):\n",
        "    if type(obj) == str:\n",
        "        return len(obj)\n",
        "    else:\n",
        "        return 'Not a string'\n",
        "\n",
        "string_lst = [300,'Ananda', 'Tanmoy', 'Santu', 'Saheb', 'Tushar', 'Debraj', 'Debasish', 'Ramprasad']\n",
        "list(map(str_len, string_lst))"
      ]
    },
    {
      "cell_type": "markdown",
      "id": "f14d161e-e687-4ac2-9fe5-eb05625b6f4e",
      "metadata": {
        "id": "f14d161e-e687-4ac2-9fe5-eb05625b6f4e"
      },
      "source": [
        "**Q7. Given a list of integers, use filter to find all the numbers which are one less than some prime numbers.**"
      ]
    },
    {
      "cell_type": "code",
      "execution_count": null,
      "id": "9e3dfd40-20dc-4fba-a001-a48456dee429",
      "metadata": {
        "colab": {
          "base_uri": "https://localhost:8080/"
        },
        "id": "9e3dfd40-20dc-4fba-a001-a48456dee429",
        "outputId": "1250fbed-17b9-40db-b541-fab19e0cd6d6"
      },
      "outputs": [
        {
          "output_type": "execute_result",
          "data": {
            "text/plain": [
              "[2, 4, 6, 10]"
            ]
          },
          "metadata": {},
          "execution_count": 9
        }
      ],
      "source": [
        "def prime_check(n):\n",
        "    if n+1 > 1:\n",
        "        for i in range(2, n+1):\n",
        "            if (n+1)%i == 0:\n",
        "                return False\n",
        "        else:\n",
        "                return True\n",
        "    else:\n",
        "        return False\n",
        "\n",
        "\n",
        "\n",
        "num_lst = [2, 3, 4, 5, 6, 7, 8, 9, 10]\n",
        "\n",
        "list(filter(prime_check, num_lst))"
      ]
    },
    {
      "cell_type": "markdown",
      "id": "5c957ac3-22c4-4969-a257-e28c56ff22eb",
      "metadata": {
        "id": "5c957ac3-22c4-4969-a257-e28c56ff22eb"
      },
      "source": [
        "**Q8. Given a list of dictionaries representing products (each dictionary contains keys 'name' and 'price'), use filter to find all the products with a price less than $10.**"
      ]
    },
    {
      "cell_type": "code",
      "execution_count": null,
      "id": "07c6d405-c24a-4a0b-a750-ed66048940a9",
      "metadata": {
        "id": "07c6d405-c24a-4a0b-a750-ed66048940a9",
        "outputId": "57abe0d3-1fd0-43ca-f92d-5bf064d97e32"
      },
      "outputs": [
        {
          "name": "stdout",
          "output_type": "stream",
          "text": [
            "[True, True, True, True, False, True]\n",
            "[{'pt1': '$9'}, {'pt2': 'Rs8500'}, {'pt3': '€9'}, {'pt4': 'Rs.50'}, {'pt6': '$5'}]\n",
            "['pt1', 'pt2', 'pt3', 'pt4', 'pt6']\n"
          ]
        }
      ],
      "source": [
        "def price_chk(price):\n",
        "    if list(price.values())[0].startswith('$'):\n",
        "        if int(list(price.values())[0][1:]) < 10:\n",
        "            return True\n",
        "        else:\n",
        "            return False\n",
        "    if list(price.values())[0].startswith('Rs'):\n",
        "        if int(list(price.values())[0][3:])/82 < 10:\n",
        "            return True\n",
        "        else:\n",
        "            return False\n",
        "\n",
        "    if list(price.values())[0].startswith('€'):\n",
        "        if int(list(price.values())[0][1:])*1.09 < 10:\n",
        "            return True\n",
        "        else:\n",
        "            return False\n",
        "\n",
        "\n",
        "\n",
        "price_lst = [{'pt1': '$9'}, {'pt2': 'Rs8500'}, {'pt3': '€9'}, {'pt4': 'Rs.50'}, {'pt5': '$10'}, {'pt6': '$5'}]\n",
        "\n",
        "print(list(map(price_chk, price_lst)))\n",
        "print(list(filter(price_chk, price_lst)))\n",
        "\n",
        "below_10_pdt = []\n",
        "for pr in list(filter(price_chk, price_lst)):\n",
        "    for pt in pr:\n",
        "        below_10_pdt += [pt]\n",
        "\n",
        "print(below_10_pdt)"
      ]
    },
    {
      "cell_type": "markdown",
      "id": "f9aacc3c-e37f-483b-b71d-1c10de0af6b2",
      "metadata": {
        "id": "f9aacc3c-e37f-483b-b71d-1c10de0af6b2"
      },
      "source": [
        "**Q9. Given a list of strings, use filter to find all the strings that start with the letter 'A' or 'a'.**"
      ]
    },
    {
      "cell_type": "code",
      "execution_count": null,
      "id": "793dce50-286e-45ef-81e8-393fa2d8efc6",
      "metadata": {
        "colab": {
          "base_uri": "https://localhost:8080/"
        },
        "id": "793dce50-286e-45ef-81e8-393fa2d8efc6",
        "outputId": "87b5eb2c-0faf-454a-d0b2-d2f6d2939fe6"
      },
      "outputs": [
        {
          "output_type": "execute_result",
          "data": {
            "text/plain": [
              "['ananda', 'Ajay', 'Amal']"
            ]
          },
          "metadata": {},
          "execution_count": 12
        }
      ],
      "source": [
        "def str_chk(string):\n",
        "    string = string.upper()\n",
        "    return string.startswith('A')\n",
        "\n",
        "string_lst = ['ananda', 'Tanmoy', 'Ajay', 'Saheb', 'Tushar', 'Amal', 'Debasish', 'Ramprasad']\n",
        "list(filter(str_chk, string_lst))"
      ]
    },
    {
      "cell_type": "markdown",
      "id": "a067068c-23db-48e4-9934-76f37cc77173",
      "metadata": {
        "id": "a067068c-23db-48e4-9934-76f37cc77173"
      },
      "source": [
        "**Q10. Given a list of numbers, use map to calculate the cubes of the even numbers within the list of numbers.**"
      ]
    },
    {
      "cell_type": "code",
      "execution_count": null,
      "id": "59a25056-cda6-4ab0-8a3c-3647cd512c5c",
      "metadata": {
        "colab": {
          "base_uri": "https://localhost:8080/"
        },
        "id": "59a25056-cda6-4ab0-8a3c-3647cd512c5c",
        "outputId": "dd2ff419-2ea6-4886-d734-6ed507f011b6"
      },
      "outputs": [
        {
          "output_type": "execute_result",
          "data": {
            "text/plain": [
              "[8, 64, 216, 512]"
            ]
          },
          "metadata": {},
          "execution_count": 16
        }
      ],
      "source": [
        "def Even_cube(lst):\n",
        "    return [n**3 for n in lst if n%2 ==0]\n",
        "\n",
        "\n",
        "num_lst = [[1, 2, 3, 4, 5, 6, 7, 8]]\n",
        "list(map(Even_cube, num_lst))[0]"
      ]
    },
    {
      "cell_type": "code",
      "execution_count": null,
      "id": "ec59f8be-6eca-4368-abb9-6655b0faafd8",
      "metadata": {
        "id": "ec59f8be-6eca-4368-abb9-6655b0faafd8",
        "outputId": "48ad6ed0-1d53-4873-b3db-a77b35f6f98c"
      },
      "outputs": [
        {
          "data": {
            "text/plain": [
              "[8, 64, 216, 512]"
            ]
          },
          "execution_count": 13,
          "metadata": {},
          "output_type": "execute_result"
        }
      ],
      "source": [
        "def Even_cube(lst):\n",
        "    cube = []\n",
        "    for n in lst:\n",
        "        if n%2 == 0:\n",
        "            cube += [n**3]\n",
        "    return cube\n",
        "\n",
        "num_lst = [1, 2, 3, 4, 5, 6, 7, 8],\n",
        "list(map(Even_cube, num_lst))[0]"
      ]
    },
    {
      "cell_type": "code",
      "execution_count": null,
      "id": "ec20aefe-00ad-4a49-a47d-9168ab6d8e84",
      "metadata": {
        "id": "ec20aefe-00ad-4a49-a47d-9168ab6d8e84",
        "outputId": "4b489b12-a181-4ffd-ad31-706ce03e489c"
      },
      "outputs": [
        {
          "data": {
            "text/plain": [
              "[[], [8], [], [64], [], [216], [], [512]]"
            ]
          },
          "execution_count": 14,
          "metadata": {},
          "output_type": "execute_result"
        }
      ],
      "source": [
        "def Even_cube(n):\n",
        "    cube = []\n",
        "    if n%2 == 0:\n",
        "        cube += [n**3]\n",
        "    return cube\n",
        "\n",
        "\n",
        "num_lst = [1, 2, 3, 4, 5, 6, 7, 8]\n",
        "list(map(Even_cube, num_lst))"
      ]
    },
    {
      "cell_type": "code",
      "execution_count": null,
      "id": "85b04b5a-94e3-43b5-a3c7-fb971feb61b2",
      "metadata": {
        "id": "85b04b5a-94e3-43b5-a3c7-fb971feb61b2",
        "outputId": "485397ba-cce8-4607-e627-ac007b089beb"
      },
      "outputs": [
        {
          "name": "stdout",
          "output_type": "stream",
          "text": [
            "[2, 4, 6, 8]\n",
            "[8, 64, 216, 512]\n"
          ]
        }
      ],
      "source": [
        "def Even_cube(n):\n",
        "    if n%2 == 0:\n",
        "        return True\n",
        "    else:\n",
        "        return False\n",
        "\n",
        "\n",
        "def cube(e):\n",
        "    return e**3\n",
        "\n",
        "num_lst = [1, 2, 3, 4, 5, 6, 7, 8]\n",
        "print(list(filter(Even_cube, num_lst)))\n",
        "\n",
        "print(list(map(cube, list(filter(Even_cube, num_lst)))))"
      ]
    },
    {
      "cell_type": "code",
      "execution_count": null,
      "id": "8c07eba8-e7d5-46ee-b737-d8a374f6f745",
      "metadata": {
        "id": "8c07eba8-e7d5-46ee-b737-d8a374f6f745",
        "outputId": "27a97be7-5fe9-4bc5-dc10-dde60cdce2c0"
      },
      "outputs": [
        {
          "name": "stdout",
          "output_type": "stream",
          "text": [
            "8\n",
            "64\n",
            "216\n",
            "512\n"
          ]
        },
        {
          "data": {
            "text/plain": [
              "[None]"
            ]
          },
          "execution_count": 16,
          "metadata": {},
          "output_type": "execute_result"
        }
      ],
      "source": [
        "def Even_cube(lst):\n",
        "    for n in lst:\n",
        "        if n%2 == 0:\n",
        "            print(n**3)\n",
        "\n",
        "num_lst = [1, 2, 3, 4, 5, 6, 7, 8],\n",
        "list(map(Even_cube, num_lst))"
      ]
    },
    {
      "cell_type": "code",
      "execution_count": null,
      "id": "11897d23-d988-4583-81ed-b2f25efd77e1",
      "metadata": {
        "id": "11897d23-d988-4583-81ed-b2f25efd77e1",
        "outputId": "64c5d362-fb7b-4e0e-8a1f-fd7a8f7f0846"
      },
      "outputs": [
        {
          "name": "stdout",
          "output_type": "stream",
          "text": [
            "8\n",
            "64\n",
            "216\n",
            "512\n"
          ]
        },
        {
          "data": {
            "text/plain": [
              "[None, None, None, None, None, None, None, None]"
            ]
          },
          "execution_count": 17,
          "metadata": {},
          "output_type": "execute_result"
        }
      ],
      "source": [
        "def Even_cube(n):\n",
        "    if n%2 == 0:\n",
        "        print(n**3)\n",
        "\n",
        "num_lst = [1, 2, 3, 4, 5, 6, 7, 8]\n",
        "list(map(Even_cube, num_lst))"
      ]
    },
    {
      "cell_type": "markdown",
      "id": "6b342083-fa08-4eeb-91ff-fe10b2d69709",
      "metadata": {
        "id": "6b342083-fa08-4eeb-91ff-fe10b2d69709"
      },
      "source": [
        "**Q11. Given a list of tuples (name, score), use map and filter to find the names of students who have scored above 80.**"
      ]
    },
    {
      "cell_type": "code",
      "execution_count": null,
      "id": "5fd49b30-8260-4059-9885-e07cdd63a9fa",
      "metadata": {
        "id": "5fd49b30-8260-4059-9885-e07cdd63a9fa",
        "outputId": "e346bec0-509b-4979-fae3-342d296ae919",
        "colab": {
          "base_uri": "https://localhost:8080/"
        }
      },
      "outputs": [
        {
          "output_type": "stream",
          "name": "stdout",
          "text": [
            "[('std1', 85), ('std2', 80), ('std3', 75), ('std4', 77), ('std5', 72), ('std6', 81)]\n",
            "['std1', 'std2', 'std3', 'std4', 'std5', 'std6']\n"
          ]
        }
      ],
      "source": [
        "# def score_check(n):\n",
        "#     def f(s):\n",
        "#       return s[1]>n\n",
        "#     return f\n",
        "def score_check(n):\n",
        "    return lambda s : s[1] > n\n",
        "\n",
        "def student_name(s):\n",
        "    return s[0]\n",
        "score_lst = [('std1', 85), ('std2', 80), ('std3', 75), ('std4', 77), ('std5', 72), ('std6', 81)]\n",
        "#print(list(map(age_check, my_lst)))\n",
        "\n",
        "above_80 = list(filter(score_check(70), score_lst))\n",
        "print(above_80)\n",
        "print(list(map(student_name, above_80)))"
      ]
    },
    {
      "cell_type": "code",
      "source": [
        "def score_check(n):\n",
        "    def f(s):\n",
        "      return s[1]>n\n",
        "    return f"
      ],
      "metadata": {
        "id": "ZkeuKAC3httj"
      },
      "id": "ZkeuKAC3httj",
      "execution_count": null,
      "outputs": []
    },
    {
      "cell_type": "code",
      "source": [
        "def score_check(n):\n",
        "    return lambda s : s[1] > n"
      ],
      "metadata": {
        "id": "NloU2O0niL3q"
      },
      "id": "NloU2O0niL3q",
      "execution_count": null,
      "outputs": []
    },
    {
      "cell_type": "code",
      "source": [
        "m = score_check(555)"
      ],
      "metadata": {
        "id": "qZGBkGpwhv7j"
      },
      "id": "qZGBkGpwhv7j",
      "execution_count": null,
      "outputs": []
    },
    {
      "cell_type": "code",
      "source": [
        "m(('sdfad',556))"
      ],
      "metadata": {
        "colab": {
          "base_uri": "https://localhost:8080/"
        },
        "id": "9BdxJrlwh0G0",
        "outputId": "1cf67740-b467-4ef0-c882-685b5dfe5d48"
      },
      "id": "9BdxJrlwh0G0",
      "execution_count": null,
      "outputs": [
        {
          "output_type": "execute_result",
          "data": {
            "text/plain": [
              "True"
            ]
          },
          "metadata": {},
          "execution_count": 24
        }
      ]
    },
    {
      "cell_type": "markdown",
      "id": "bfc58321-2f70-406f-ab84-0f2e98272bd2",
      "metadata": {
        "id": "bfc58321-2f70-406f-ab84-0f2e98272bd2"
      },
      "source": [
        "**Q12. Given a list of strings, use map to reverse each string.**"
      ]
    },
    {
      "cell_type": "code",
      "execution_count": null,
      "id": "d6322e6d-264e-4206-bf01-fe4181b933df",
      "metadata": {
        "id": "d6322e6d-264e-4206-bf01-fe4181b933df",
        "outputId": "c8a12a92-cc79-46ff-d0e5-e3ae3923fa85"
      },
      "outputs": [
        {
          "name": "stdout",
          "output_type": "stream",
          "text": [
            "['adnanA', 'yomnaT', 'utnaS', 'behaS', 'rahsuT', 'jarbeD', 'hsisabeD', 'dasarpmaR']\n"
          ]
        }
      ],
      "source": [
        "def rev_str(string):\n",
        "    return string[::-1]\n",
        "\n",
        "string_lst = ['Ananda', 'Tanmoy', 'Santu', 'Saheb', 'Tushar', 'Debraj', 'Debasish', 'Ramprasad']\n",
        "print(list(map(rev_str, string_lst)))"
      ]
    },
    {
      "cell_type": "markdown",
      "id": "da17b46d-2a39-433d-b844-de20f08c5fb5",
      "metadata": {
        "id": "da17b46d-2a39-433d-b844-de20f08c5fb5"
      },
      "source": [
        "**Q13. Given a list of integers, use filter to find all the numbers that are divisible by both 7 and 9.**"
      ]
    },
    {
      "cell_type": "code",
      "execution_count": null,
      "id": "073fd73c-9d6f-438f-b3d3-49a25a97219a",
      "metadata": {
        "id": "073fd73c-9d6f-438f-b3d3-49a25a97219a",
        "outputId": "d3170cf2-7b9d-4fb1-c106-42532badc5ce",
        "colab": {
          "base_uri": "https://localhost:8080/"
        }
      },
      "outputs": [
        {
          "output_type": "execute_result",
          "data": {
            "text/plain": [
              "[7, 9, 63, 126, 189, 252]"
            ]
          },
          "metadata": {},
          "execution_count": 27
        }
      ],
      "source": [
        "def div_check(n):\n",
        "    if n % 7 ==0 or n %9 == 0:\n",
        "        return True\n",
        "    else:\n",
        "        return False\n",
        "\n",
        "int_lst = [5, 7, 9, 63, 126, 127, 189, 190, 250, 252]\n",
        "list(filter(lambda n : (n % 7 == 0) or (n % 9 == 0) , int_lst))"
      ]
    },
    {
      "cell_type": "markdown",
      "id": "d70c04fb-ce58-48bb-85bd-3c9422522edf",
      "metadata": {
        "id": "d70c04fb-ce58-48bb-85bd-3c9422522edf"
      },
      "source": [
        "**Q14. Given a list of dictionaries representing books (each dictionary contains keys 'title' and 'author'), use map to extract the titles of the books.**"
      ]
    },
    {
      "cell_type": "code",
      "execution_count": null,
      "id": "52117096-f355-4729-84b6-62515b63d956",
      "metadata": {
        "id": "52117096-f355-4729-84b6-62515b63d956",
        "outputId": "eab2c0d6-9057-4639-e9b1-22e4b7496b60",
        "colab": {
          "base_uri": "https://localhost:8080/"
        }
      },
      "outputs": [
        {
          "output_type": "execute_result",
          "data": {
            "text/plain": [
              "['t1', 't2', 't3', 't4', 't5', 't6']"
            ]
          },
          "metadata": {},
          "execution_count": 29
        }
      ],
      "source": [
        "def title_extract(b):\n",
        "    return list(b.keys())[0]\n",
        "\n",
        "\n",
        "book_lst = [{'t1': 'a1'}, {'t2': 'a2'}, {'t3': 'a3'}, {'t4': 'a4'}, {'t5': 'a5'}, {'t6': 'a6'}]\n",
        "list(map(title_extract, book_lst))"
      ]
    },
    {
      "cell_type": "code",
      "execution_count": null,
      "id": "726d375c-2bf1-4189-901d-31573ff9c4ce",
      "metadata": {
        "id": "726d375c-2bf1-4189-901d-31573ff9c4ce",
        "outputId": "a17aad24-aa75-4482-ba77-ded9746946cb"
      },
      "outputs": [
        {
          "data": {
            "text/plain": [
              "['t1', 't2', 't3', 't4', 't5', 't6']"
            ]
          },
          "execution_count": 22,
          "metadata": {},
          "output_type": "execute_result"
        }
      ],
      "source": [
        "def title_extract(book):\n",
        "    return [list(b.keys())[0] for b in book]\n",
        "\n",
        "\n",
        "book_lst = [{'t1': 'a1'}, {'t2': 'a2'}, {'t3': 'a3'}, {'t4': 'a4'}, {'t5': 'a5'}, {'t6': 'a6'}],\n",
        "list(map(title_extract, book_lst))[0]"
      ]
    },
    {
      "cell_type": "markdown",
      "id": "80d99380-18cd-48ad-9bfe-51ec38b551af",
      "metadata": {
        "id": "80d99380-18cd-48ad-9bfe-51ec38b551af"
      },
      "source": [
        "**Q16. Given a list of tuples (name, salary), use filter to find all the employees whose salary is above the average salary.**"
      ]
    },
    {
      "cell_type": "code",
      "execution_count": null,
      "id": "91ecf49d-d2f4-4b7f-be80-b3260ae02816",
      "metadata": {
        "id": "91ecf49d-d2f4-4b7f-be80-b3260ae02816",
        "outputId": "e91658e8-ab71-4141-a512-44c7ccd7fb94",
        "colab": {
          "base_uri": "https://localhost:8080/"
        }
      },
      "outputs": [
        {
          "output_type": "stream",
          "name": "stdout",
          "text": [
            "48.0\n",
            "[('p1', 100), ('p5', 50)]\n",
            "['p1', 'p5']\n"
          ]
        }
      ],
      "source": [
        "salary = [('p1', 100), ('p2', 20), ('p3', 30), ('p4', 40), ('p5', 50)]\n",
        "avg_sal = sum([j for i,j in salary])/len(salary)\n",
        "def extract(n):\n",
        "    return n[1] > avg_sal\n",
        "\n",
        "salary = [('p1', 100), ('p2', 20), ('p3', 30), ('p4', 40), ('p5', 50)]\n",
        "print(avg_sal)\n",
        "print(list(filter(extract, salary)))\n",
        "print([i for i,j in list(filter(extract, salary))])"
      ]
    },
    {
      "cell_type": "code",
      "execution_count": null,
      "id": "92c4db99-72e2-445e-b962-f68408f4c622",
      "metadata": {
        "id": "92c4db99-72e2-445e-b962-f68408f4c622",
        "outputId": "380f09e4-7056-4c88-ae01-bb56e36a3983"
      },
      "outputs": [
        {
          "name": "stdout",
          "output_type": "stream",
          "text": [
            "48.0\n",
            "[True, False, False, False, True]\n",
            "['p1', 'p5']\n"
          ]
        }
      ],
      "source": [
        "def avg_salary(sal):\n",
        "        avg_sal2 = sum([j for i,j in sal])/len(sal)\n",
        "        return avg_sal2\n",
        "\n",
        "salary = [('p1', 100), ('p2', 20), ('p3', 30), ('p4', 40), ('p5', 50)]\n",
        "print(avg_salary(salary))\n",
        "\n",
        "def extract(k):\n",
        "    if k[1] > avg_salary(salary):\n",
        "        return True\n",
        "    else:\n",
        "        return False\n",
        "\n",
        "\n",
        "#print(avg_salary(salary))\n",
        "print(list(map(extract, salary)))\n",
        "print([i for i,j in list(filter(extract, salary))])"
      ]
    },
    {
      "cell_type": "code",
      "execution_count": null,
      "id": "5c0fa624-e72c-4a32-aaca-461a61853fa1",
      "metadata": {
        "id": "5c0fa624-e72c-4a32-aaca-461a61853fa1",
        "outputId": "c9e04d7e-af66-40e8-987a-86f4b4b9f663"
      },
      "outputs": [
        {
          "name": "stdout",
          "output_type": "stream",
          "text": [
            "[True]\n",
            "[[('p1', 100), ('p2', 20), ('p3', 30), ('p4', 40), ('p5', 50)]]\n"
          ]
        }
      ],
      "source": [
        "def extract2(sal):\n",
        "    avg_sal1 = sum([j for i,j in sal])/len(sal)\n",
        "    for m in sal:\n",
        "        if m[1] > avg_sal1:\n",
        "            return True\n",
        "        else:\n",
        "            return False\n",
        "\n",
        "salary = [('p1', 100), ('p2', 20), ('p3', 30), ('p4', 40), ('p5', 50)],\n",
        "print(list(map(extract2, salary)))\n",
        "print(list(filter(extract2, salary)))\n",
        "#print([i for i,j in list(filter(extract, salary))])"
      ]
    },
    {
      "cell_type": "code",
      "execution_count": null,
      "id": "b8fa16c0-cfeb-4cfe-ac2c-524abce9a6bb",
      "metadata": {
        "id": "b8fa16c0-cfeb-4cfe-ac2c-524abce9a6bb",
        "outputId": "3c09ae54-8ff7-4465-9803-938336ae332a"
      },
      "outputs": [
        {
          "name": "stdout",
          "output_type": "stream",
          "text": [
            "48.0\n",
            "['p1', 'p5']\n"
          ]
        }
      ],
      "source": [
        "# using map\n",
        "def extract2(sal):\n",
        "    avg_sal1 = sum([j for i,j in sal])/len(sal)\n",
        "    print(avg_sal1)\n",
        "    above_avg = []\n",
        "    for m in sal:\n",
        "        if m[1] > avg_sal1:\n",
        "            above_avg += [m[0]]\n",
        "    return above_avg\n",
        "\n",
        "\n",
        "salary = [('p1', 100), ('p2', 20), ('p3', 30), ('p4', 40), ('p5', 50)],\n",
        "print(list(map(extract2, salary))[0])"
      ]
    },
    {
      "cell_type": "code",
      "execution_count": null,
      "id": "a378106f-a6cf-4550-8bcd-b1d53561a79a",
      "metadata": {
        "id": "a378106f-a6cf-4550-8bcd-b1d53561a79a",
        "outputId": "c305b7e7-c49e-4cae-8fcd-da5095805275"
      },
      "outputs": [
        {
          "name": "stdout",
          "output_type": "stream",
          "text": [
            "48.0\n",
            "['p1', 'p5']\n"
          ]
        }
      ],
      "source": [
        "def extract2(sal):\n",
        "    avg_sal1 = sum([j for i,j in sal])/len(sal)\n",
        "    print(avg_sal1)\n",
        "    above_avg = []\n",
        "    for m in sal:\n",
        "        if m[1] > avg_sal1:\n",
        "            above_avg += [m[0]]\n",
        "    return above_avg\n",
        "\n",
        "\n",
        "salary = [('p1', 100), ('p2', 20), ('p3', 30), ('p4', 40), ('p5', 50)]\n",
        "print(extract2(salary))"
      ]
    },
    {
      "cell_type": "code",
      "execution_count": null,
      "id": "d5e620dd-0588-42d8-8569-cac5733c3de9",
      "metadata": {
        "id": "d5e620dd-0588-42d8-8569-cac5733c3de9"
      },
      "outputs": [],
      "source": [
        "f = lambda  x, y,z = 4 : x + y + z"
      ]
    },
    {
      "cell_type": "code",
      "source": [
        "f(4,5,1)"
      ],
      "metadata": {
        "colab": {
          "base_uri": "https://localhost:8080/"
        },
        "id": "Ln-nlSkmqrE7",
        "outputId": "60765aa2-e1dc-4a35-cebc-21d4483f2dfc"
      },
      "id": "Ln-nlSkmqrE7",
      "execution_count": null,
      "outputs": [
        {
          "output_type": "execute_result",
          "data": {
            "text/plain": [
              "10"
            ]
          },
          "metadata": {},
          "execution_count": 50
        }
      ]
    },
    {
      "cell_type": "code",
      "source": [
        "def g(x,y,z):\n",
        "  return x*y/z"
      ],
      "metadata": {
        "id": "aLPHfG5TqvZd"
      },
      "id": "aLPHfG5TqvZd",
      "execution_count": null,
      "outputs": []
    },
    {
      "cell_type": "code",
      "source": [
        "g(4,5,2)"
      ],
      "metadata": {
        "colab": {
          "base_uri": "https://localhost:8080/"
        },
        "id": "U-y_RH2dq1XZ",
        "outputId": "11155884-c9f0-4a69-b903-2c28cd7dac6d"
      },
      "id": "U-y_RH2dq1XZ",
      "execution_count": null,
      "outputs": [
        {
          "output_type": "execute_result",
          "data": {
            "text/plain": [
              "10.0"
            ]
          },
          "metadata": {},
          "execution_count": 40
        }
      ]
    },
    {
      "cell_type": "code",
      "source": [
        "from random import *\n",
        "a = ['date', 'cherry', 'banana', 'apple', 1,6,2]\n",
        "shuffle(a)\n",
        "print(a)\n",
        "\n",
        "sorted(a,reverse = True, key = lambda x: str(x))"
      ],
      "metadata": {
        "colab": {
          "base_uri": "https://localhost:8080/"
        },
        "id": "uMKTJJUzq2Wt",
        "outputId": "a3adde8d-17cb-4d3d-d7be-0f2fd26aa4ae"
      },
      "id": "uMKTJJUzq2Wt",
      "execution_count": null,
      "outputs": [
        {
          "output_type": "stream",
          "name": "stdout",
          "text": [
            "['apple', 'date', 'cherry', 'banana', 6, 1, 2]\n"
          ]
        },
        {
          "output_type": "execute_result",
          "data": {
            "text/plain": [
              "['date', 'cherry', 'banana', 'apple', 6, 2, 1]"
            ]
          },
          "metadata": {},
          "execution_count": 64
        }
      ]
    },
    {
      "cell_type": "code",
      "source": [],
      "metadata": {
        "id": "2ROAIC9rwhDH"
      },
      "id": "2ROAIC9rwhDH",
      "execution_count": null,
      "outputs": []
    }
  ],
  "metadata": {
    "kernelspec": {
      "display_name": "Python 3 (ipykernel)",
      "language": "python",
      "name": "python3"
    },
    "language_info": {
      "codemirror_mode": {
        "name": "ipython",
        "version": 3
      },
      "file_extension": ".py",
      "mimetype": "text/x-python",
      "name": "python",
      "nbconvert_exporter": "python",
      "pygments_lexer": "ipython3",
      "version": "3.7.9"
    },
    "colab": {
      "provenance": []
    }
  },
  "nbformat": 4,
  "nbformat_minor": 5
}