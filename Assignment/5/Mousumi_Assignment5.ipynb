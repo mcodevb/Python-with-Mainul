{
  "nbformat": 4,
  "nbformat_minor": 0,
  "metadata": {
    "colab": {
      "provenance": []
    },
    "kernelspec": {
      "name": "python3",
      "display_name": "Python 3"
    },
    "language_info": {
      "name": "python"
    }
  },
  "cells": [
    {
      "cell_type": "markdown",
      "source": [
        "Q.1)Given a List of Strings, use map to convert each string to uppercase."
      ],
      "metadata": {
        "id": "-XQqpPo27XfW"
      }
    },
    {
      "cell_type": "code",
      "source": [
        "def upper(str):\n",
        "   return str.upper()\n",
        "str=['Tom and Jerry','Oggy and the Cockroches','Chota Bheem']\n",
        "a=list(map(upper,str))\n",
        "print(a)\n"
      ],
      "metadata": {
        "colab": {
          "base_uri": "https://localhost:8080/"
        },
        "id": "_r2u76Oe7kWj",
        "outputId": "15634105-cecb-422c-a66a-9a151621629c"
      },
      "execution_count": null,
      "outputs": [
        {
          "output_type": "stream",
          "name": "stdout",
          "text": [
            "['TOM AND JERRY', 'OGGY AND THE COCKROCHES', 'CHOTA BHEEM']\n"
          ]
        }
      ]
    },
    {
      "cell_type": "markdown",
      "source": [
        "Q.2)Use filter to find multiple of 3 from a given list of numbers"
      ],
      "metadata": {
        "id": "VsdBNYxN9dQS"
      }
    },
    {
      "cell_type": "code",
      "source": [
        "def multiple_of_3(n):\n",
        "   if n%3==0:\n",
        "       return True\n",
        "   else:\n",
        "       return False\n",
        "lis=[1,2,3,4,5,6,7,88,99]\n",
        "print(list(filter(multiple_of_3,lis)))\n"
      ],
      "metadata": {
        "colab": {
          "base_uri": "https://localhost:8080/"
        },
        "id": "LOuvt17Z9kmm",
        "outputId": "c805c591-7be2-412b-95f1-33393ef231a7"
      },
      "execution_count": null,
      "outputs": [
        {
          "output_type": "stream",
          "name": "stdout",
          "text": [
            "[3, 6, 99]\n"
          ]
        }
      ]
    },
    {
      "cell_type": "markdown",
      "source": [
        "Q.3)Given a list of string, use filter to find all strings that have more than five characters."
      ],
      "metadata": {
        "id": "Sg5CP0gC9qd8"
      }
    },
    {
      "cell_type": "code",
      "source": [
        "def function(str):\n",
        "   if len(str)>5:\n",
        "      return True\n",
        "   else:\n",
        "      return False\n",
        "lis=['Hibiscus','lotus','sun_flower','lily','rose']\n",
        "print(list(filter(function,lis)))\n"
      ],
      "metadata": {
        "colab": {
          "base_uri": "https://localhost:8080/"
        },
        "id": "fqS-wI_B92ui",
        "outputId": "780b70e6-c7ff-4fd4-c287-29cf5f04e3ec"
      },
      "execution_count": null,
      "outputs": [
        {
          "output_type": "stream",
          "name": "stdout",
          "text": [
            "['Hibiscus', 'sun_flower']\n"
          ]
        }
      ]
    },
    {
      "cell_type": "markdown",
      "source": [
        "Q.4)Given a list of tuples(name,age),use map and filters to find the name of peoples who are above 18 years old."
      ],
      "metadata": {
        "id": "aPMFjkZ-RUQG"
      }
    },
    {
      "cell_type": "code",
      "source": [
        "def people_above_18(n):\n",
        "   if n[1]>18:\n",
        "     return True\n",
        "   else:\n",
        "     return False\n",
        "people_above_18(('mou',23))\n",
        "lis=[('mou',23),('ayan',14),('manika',40),('nirmala',90),('mintu',9)]\n",
        "a=list(map(people_above_18,lis))\n",
        "b=list(filter(people_above_18,lis))\n",
        "print(a)\n",
        "print(b)\n",
        "lis2=[]\n",
        "for i in b:\n",
        "   lis2.append(i[0])\n",
        "print(lis2)\n"
      ],
      "metadata": {
        "colab": {
          "base_uri": "https://localhost:8080/"
        },
        "id": "n_cSxHlmRjXd",
        "outputId": "542c19dd-c9c4-41cd-8f8a-764bec175e3b"
      },
      "execution_count": null,
      "outputs": [
        {
          "output_type": "stream",
          "name": "stdout",
          "text": [
            "[True, False, True, True, False]\n",
            "[('mou', 23), ('manika', 40), ('nirmala', 90)]\n",
            "['mou', 'manika', 'nirmala']\n"
          ]
        }
      ]
    },
    {
      "cell_type": "markdown",
      "source": [
        "Q.5)Given a list of dictionaries representing people (each dictionary contain keys 'name' and 'age').Use filter to find all the people whose age is above 30."
      ],
      "metadata": {
        "id": "OCNHvDgbRp24"
      }
    },
    {
      "cell_type": "code",
      "source": [
        "def people_above_30(n):\n",
        "  a=list(n.keys())\n",
        "  b=list(n.values())\n",
        "  return b[0]>30\n",
        "lis=[{'mou':23},{'ayan':14},{'nimu':90},{'subha':35}]\n",
        "lis2=list(filter(people_above_30,lis))\n",
        "print(lis2)\n",
        "lis3=[]\n",
        "for item in lis2:\n",
        "  lis3.append(item.keys())\n",
        "print(lis3)"
      ],
      "metadata": {
        "id": "rz-k8NkoSExt",
        "colab": {
          "base_uri": "https://localhost:8080/"
        },
        "outputId": "13691f9d-a4ef-46e2-b74e-435a431c5210"
      },
      "execution_count": null,
      "outputs": [
        {
          "output_type": "stream",
          "name": "stdout",
          "text": [
            "[{'nimu': 90}, {'subha': 35}]\n",
            "[dict_keys(['nimu']), dict_keys(['subha'])]\n"
          ]
        }
      ]
    },
    {
      "cell_type": "markdown",
      "source": [
        "Q.6)Given a list of strings, Use map to convert each string to its length."
      ],
      "metadata": {
        "id": "koksk_e9SKqp"
      }
    },
    {
      "cell_type": "code",
      "source": [
        "def length(str):\n",
        "  return len(str)\n",
        "str=input(\"Give string: \")\n",
        "print(length(str))\n",
        "lis=['manika','tusu','nimu','nehabati','anu is a good girl']\n",
        "a=list(map(length,lis))\n",
        "print(a)"
      ],
      "metadata": {
        "colab": {
          "base_uri": "https://localhost:8080/"
        },
        "id": "LwahfvkeScGG",
        "outputId": "62cec85e-2f8f-407b-88ea-273119764586"
      },
      "execution_count": null,
      "outputs": [
        {
          "output_type": "stream",
          "name": "stdout",
          "text": [
            "Give string: today is friday\n",
            "15\n",
            "[6, 4, 4, 8, 18]\n"
          ]
        }
      ]
    },
    {
      "cell_type": "markdown",
      "source": [
        "Q.7)Given a list of integers,use filter to find all the numbers which are one less than some prime numbers."
      ],
      "metadata": {
        "id": "MXjxi_wLgK6A"
      }
    },
    {
      "cell_type": "code",
      "source": [
        "def is_prime(n):\n",
        "  m = n+1\n",
        "  if m>1:\n",
        "    for i in range(2,int(m**0.5)+1):\n",
        "      if m%i==0:\n",
        "         return False\n",
        "    else:\n",
        "      return True\n",
        "  else:\n",
        "    return False\n",
        "#print(is_prime(7))\n",
        "def test(n):\n",
        "   return is_prime(n+1)\n",
        "#print(test(36))\n",
        "\n",
        "\n",
        "lis=[1,2,3,4,5,6,7,8,9,10,11,12,13,14]\n",
        "result=list(filter(is_prime,lis))\n",
        "print(result)\n",
        "\n",
        "\n"
      ],
      "metadata": {
        "colab": {
          "base_uri": "https://localhost:8080/"
        },
        "id": "pzOh5jw4U6c0",
        "outputId": "cdad3ce6-c6d5-4bea-fe64-a2c44c9a64ed"
      },
      "execution_count": null,
      "outputs": [
        {
          "output_type": "stream",
          "name": "stdout",
          "text": [
            "[1, 2, 4, 6, 10, 12]\n"
          ]
        }
      ]
    },
    {
      "cell_type": "markdown",
      "source": [
        "Q.8)Given a list of dictionaries representing products (each dictionary contain keys 'name' and 'price').Use filter to find all the products with price less than 10$."
      ],
      "metadata": {
        "id": "11BL5Tt7laD4"
      }
    },
    {
      "cell_type": "code",
      "source": [
        "def products(name_and_price):\n",
        "  a=list(name_and_price.keys())\n",
        "  b=list(name_and_price.values())\n",
        "  if  b[0]<10:\n",
        "    return b[0]\n",
        "lis=[{'Math Book':9},{'English Book':15},{'Note Book':20},{'Chemistry Book':7}]\n",
        "lis2=list(filter(products,lis))\n",
        "print(lis2)\n",
        "lis3=[]\n",
        "for x in lis2:\n",
        "  lis3.append(x.keys())\n",
        "print(lis3)\n",
        "\n",
        "\n",
        "\n"
      ],
      "metadata": {
        "id": "HfFrQ_4Vl9R2",
        "colab": {
          "base_uri": "https://localhost:8080/"
        },
        "outputId": "70464677-17e3-4a5a-dfca-9a394ea65278"
      },
      "execution_count": null,
      "outputs": [
        {
          "output_type": "stream",
          "name": "stdout",
          "text": [
            "[{'Math Book': 9}, {'Chemistry Book': 7}]\n",
            "[dict_keys(['Math Book']), dict_keys(['Chemistry Book'])]\n"
          ]
        }
      ]
    },
    {
      "cell_type": "markdown",
      "source": [
        "Q.9)Given a list of strings,using filter to find all the strings that start with the letter 'A'."
      ],
      "metadata": {
        "id": "f_Bhq8nDmV0b"
      }
    },
    {
      "cell_type": "code",
      "source": [
        "def starts_with_A(str):\n",
        "  if str[0]=='A':\n",
        "     return True\n",
        "  else:\n",
        "     return False\n",
        "starts_with_A('Aman')\n",
        "\n",
        "lis=['Ayan','asim','sude','tusu','Aditi']\n",
        "result=list(filter(starts_with_A,lis))\n",
        "print(result)"
      ],
      "metadata": {
        "colab": {
          "base_uri": "https://localhost:8080/"
        },
        "id": "lQomkTuPmgSt",
        "outputId": "9b00c998-cc5b-46e9-bb07-d447b6802846"
      },
      "execution_count": null,
      "outputs": [
        {
          "output_type": "stream",
          "name": "stdout",
          "text": [
            "['Ayan', 'Aditi']\n"
          ]
        }
      ]
    },
    {
      "cell_type": "markdown",
      "source": [
        "Q.10)Given a list of numbers ,use map to calculate the cubes of even numbers within the list of numbers."
      ],
      "metadata": {
        "id": "FMGDAWhioPoZ"
      }
    },
    {
      "cell_type": "code",
      "source": [
        "def is_Even(n):\n",
        "  if n%2==0:\n",
        "    return True\n",
        "  else:\n",
        "    return False\n",
        "def cube(n):\n",
        "  return n*n*n\n",
        "lis=[1,2,3,4,5,6,7,8,9,10]\n",
        "lis2=list(filter(is_Even,lis))\n",
        "print(lis2)\n",
        "lis3=list(map(cube,lis2))\n",
        "print(lis3)\n",
        "\n"
      ],
      "metadata": {
        "colab": {
          "base_uri": "https://localhost:8080/"
        },
        "id": "QrnZ9NK7oggk",
        "outputId": "f2a070fd-9319-4a78-b91d-49322f10e63e"
      },
      "execution_count": null,
      "outputs": [
        {
          "output_type": "stream",
          "name": "stdout",
          "text": [
            "[2, 4, 6, 8, 10]\n",
            "[8, 64, 216, 512, 1000]\n"
          ]
        }
      ]
    },
    {
      "cell_type": "markdown",
      "source": [
        "Q.11)Given a list of tuples(name,score), use map and filter to find the name of students who have scored above 80.\n"
      ],
      "metadata": {
        "id": "MFUa5O6sreN2"
      }
    },
    {
      "cell_type": "code",
      "source": [
        "def score_above_80(n):\n",
        "   if n[1]>80:\n",
        "      return True\n",
        "   else:\n",
        "      return False\n",
        "score_above_80(('Tusu',90))\n",
        "lis=[('np',89),('ayan',78),('anu',99)]\n",
        "lis2=list(filter(score_above_80,lis))\n",
        "print(lis2)\n",
        "lis3=[]\n",
        "for item in lis2:\n",
        "  lis3.append(item[0])\n",
        "print(lis3)"
      ],
      "metadata": {
        "colab": {
          "base_uri": "https://localhost:8080/"
        },
        "id": "opeaktoxrw7Y",
        "outputId": "c9b71cca-c9c0-409a-aea6-fd790194764d"
      },
      "execution_count": null,
      "outputs": [
        {
          "output_type": "stream",
          "name": "stdout",
          "text": [
            "[('np', 89), ('anu', 99)]\n",
            "['np', 'anu']\n"
          ]
        }
      ]
    },
    {
      "cell_type": "markdown",
      "source": [
        "Q.12)Given a list of strings,use map to reverse each string."
      ],
      "metadata": {
        "id": "ROrpkPBzvGI3"
      }
    },
    {
      "cell_type": "code",
      "source": [
        "def reverse(str):\n",
        "  return str[::-1]\n",
        "lis=['Redmi Y2','One Plus 7','Samsung Galaxy M30','Vivo V 15 Pro']\n",
        "result=list(map(reverse,lis))\n",
        "print(result)"
      ],
      "metadata": {
        "colab": {
          "base_uri": "https://localhost:8080/"
        },
        "id": "_gWUE_HyvRBU",
        "outputId": "7f1c2d69-152f-47e8-b47a-e4298fc82efa"
      },
      "execution_count": null,
      "outputs": [
        {
          "output_type": "stream",
          "name": "stdout",
          "text": [
            "['2Y imdeR', '7 sulP enO', '03M yxalaG gnusmaS', 'orP 51 V oviV']\n"
          ]
        }
      ]
    },
    {
      "cell_type": "code",
      "source": [],
      "metadata": {
        "id": "bIGXeHQIwVIM"
      },
      "execution_count": null,
      "outputs": []
    },
    {
      "cell_type": "markdown",
      "source": [
        "Q.13)Given a list of integers,use filter to find all the numbers that are divisible by 7 and 9."
      ],
      "metadata": {
        "id": "T4L7ABRZwdt5"
      }
    },
    {
      "cell_type": "code",
      "source": [
        "def test(n):\n",
        "  if n%7==0 and n%9==0:\n",
        "    return True\n",
        "  else:\n",
        "    return False\n",
        "lis=[63,123,126,45,49]\n",
        "result=list(filter(test,lis))\n",
        "print(result)"
      ],
      "metadata": {
        "colab": {
          "base_uri": "https://localhost:8080/"
        },
        "id": "xg6uE5Qhwp46",
        "outputId": "241b0799-bac9-4552-c78b-3302b8923e2c"
      },
      "execution_count": null,
      "outputs": [
        {
          "output_type": "stream",
          "name": "stdout",
          "text": [
            "[63, 126]\n"
          ]
        }
      ]
    },
    {
      "cell_type": "markdown",
      "source": [
        " Q.14)Given a list of dictionaries representing books(each dictionary contain keys 'title' and 'author').Use map to extract title of books."
      ],
      "metadata": {
        "id": "3YFtjYqjyYJ8"
      }
    },
    {
      "cell_type": "code",
      "source": [
        "def dict(title_and_author):\n",
        "  a=list(title_and_author.keys())\n",
        "  b=list(title_and_author.values())\n",
        "  return a[0]\n",
        "dict({'tim':'abc'})\n",
        "lis=[{'Anandamath':'Bankim Chandra Chat.'},{'Pather Panchali':'Bibhutibhusan ban'},{'Gora':'Tagore'}]\n",
        "result=list(map(dict,lis))\n",
        "print(result)"
      ],
      "metadata": {
        "id": "h1fMbhU9yZW_",
        "colab": {
          "base_uri": "https://localhost:8080/"
        },
        "outputId": "388ec2b4-33e1-404b-b274-10ea9a86f4f0"
      },
      "execution_count": null,
      "outputs": [
        {
          "output_type": "stream",
          "name": "stdout",
          "text": [
            "['Anandamath', 'Pather Panchali', 'Gora']\n"
          ]
        }
      ]
    },
    {
      "cell_type": "markdown",
      "source": [
        "Q.15)Given a list of string, use filter to find all the strings that contains the letter 'e'"
      ],
      "metadata": {
        "id": "7TFwVmmpy5GU"
      }
    },
    {
      "cell_type": "code",
      "source": [
        "def test(str):\n",
        "   return 'e' in str\n",
        "lis=['A red colour book','a black colour shirt','a blue pen']\n",
        "result=list(filter(test,lis))\n",
        "print(result)\n"
      ],
      "metadata": {
        "id": "sSzB4-kpy6FI",
        "colab": {
          "base_uri": "https://localhost:8080/"
        },
        "outputId": "63bc3440-aacb-454a-b33f-09e48fe1d9a4"
      },
      "execution_count": null,
      "outputs": [
        {
          "output_type": "stream",
          "name": "stdout",
          "text": [
            "['A red colour book', 'a blue pen']\n"
          ]
        }
      ]
    },
    {
      "cell_type": "code",
      "source": [],
      "metadata": {
        "id": "_Scd8T5T74to"
      },
      "execution_count": null,
      "outputs": []
    },
    {
      "cell_type": "markdown",
      "source": [
        "Q.16)Given a list of tuples(name,salary),use filter to find all the employees whose salary is above the average salary."
      ],
      "metadata": {
        "id": "WznrEW_x_4GY"
      }
    },
    {
      "cell_type": "code",
      "source": [
        "def avg_salary(name_and_salary):\n",
        "   salary=[]\n",
        "   for i in name_and_salary:\n",
        "    salary.append(i[1])\n",
        "   l=len(salary)\n",
        "   sum=0\n",
        "   for x in salary:\n",
        "      sum+=x\n",
        "   average_salary=sum/l\n",
        "   return average_salary\n",
        "\n",
        "lis=[('tusu',31000),('monu',32000),('arup',40000),('mou',25000)]\n",
        "average_salary=avg_salary(lis)\n",
        "print(average_salary)\n",
        "lis2=[]\n",
        "for x in lis:\n",
        "  if x[1]>average_salary:\n",
        "    lis2.append(x[0])\n",
        "print(lis2)\n",
        "\n"
      ],
      "metadata": {
        "id": "PbyqisxKANPV",
        "colab": {
          "base_uri": "https://localhost:8080/"
        },
        "outputId": "843f2ea7-aa64-4f7c-a258-107cea1b69b5"
      },
      "execution_count": null,
      "outputs": [
        {
          "output_type": "stream",
          "name": "stdout",
          "text": [
            "32000.0\n",
            "['arup']\n"
          ]
        }
      ]
    },
    {
      "cell_type": "code",
      "source": [],
      "metadata": {
        "id": "d5YX-aTublwB"
      },
      "execution_count": null,
      "outputs": []
    }
  ]
}